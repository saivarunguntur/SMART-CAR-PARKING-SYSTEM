{
  "nbformat": 4,
  "nbformat_minor": 0,
  "metadata": {
    "colab": {
      "provenance": [],
      "gpuType": "T4"
    },
    "kernelspec": {
      "name": "python3",
      "display_name": "Python 3"
    },
    "language_info": {
      "name": "python"
    },
    "accelerator": "GPU"
  },
  "cells": [
    {
      "cell_type": "code",
      "execution_count": null,
      "metadata": {
        "colab": {
          "base_uri": "https://localhost:8080/"
        },
        "id": "_zFwutNlBwR_",
        "outputId": "b111d100-8f9f-4b7c-9b29-f064cce28108"
      },
      "outputs": [
        {
          "output_type": "stream",
          "name": "stdout",
          "text": [
            "Drive already mounted at /content/drive; to attempt to forcibly remount, call drive.mount(\"/content/drive\", force_remount=True).\n"
          ]
        }
      ],
      "source": [
        "from google.colab import drive\n",
        "drive.mount('/content/drive')\n"
      ]
    },
    {
      "cell_type": "code",
      "source": [
        "dataset_path = \"/content/drive/My Drive/YOUR_FOLDER\"\n"
      ],
      "metadata": {
        "id": "0PF6qLdtCFYU"
      },
      "execution_count": null,
      "outputs": []
    },
    {
      "cell_type": "code",
      "source": [
        "!pip install -q ultralytics roboflow\n"
      ],
      "metadata": {
        "colab": {
          "base_uri": "https://localhost:8080/"
        },
        "id": "4ZN6h3cjCN4l",
        "outputId": "acb1bc70-04a8-4d9a-9b50-3e4cf038ece9"
      },
      "execution_count": null,
      "outputs": [
        {
          "output_type": "stream",
          "name": "stdout",
          "text": [
            "\u001b[2K   \u001b[90m━━━━━━━━━━━━━━━━━━━━━━━━━━━━━━━━━━━━━━━━\u001b[0m \u001b[32m949.8/949.8 kB\u001b[0m \u001b[31m15.7 MB/s\u001b[0m eta \u001b[36m0:00:00\u001b[0m\n",
            "\u001b[2K   \u001b[90m━━━━━━━━━━━━━━━━━━━━━━━━━━━━━━━━━━━━━━━━\u001b[0m \u001b[32m84.5/84.5 kB\u001b[0m \u001b[31m4.9 MB/s\u001b[0m eta \u001b[36m0:00:00\u001b[0m\n",
            "\u001b[2K   \u001b[90m━━━━━━━━━━━━━━━━━━━━━━━━━━━━━━━━━━━━━━━━\u001b[0m \u001b[32m66.8/66.8 kB\u001b[0m \u001b[31m4.6 MB/s\u001b[0m eta \u001b[36m0:00:00\u001b[0m\n",
            "\u001b[2K   \u001b[90m━━━━━━━━━━━━━━━━━━━━━━━━━━━━━━━━━━━━━━━━\u001b[0m \u001b[32m49.9/49.9 MB\u001b[0m \u001b[31m18.1 MB/s\u001b[0m eta \u001b[36m0:00:00\u001b[0m\n",
            "\u001b[2K   \u001b[90m━━━━━━━━━━━━━━━━━━━━━━━━━━━━━━━━━━━━━━━━\u001b[0m \u001b[32m7.8/7.8 MB\u001b[0m \u001b[31m70.9 MB/s\u001b[0m eta \u001b[36m0:00:00\u001b[0m\n",
            "\u001b[2K   \u001b[90m━━━━━━━━━━━━━━━━━━━━━━━━━━━━━━━━━━━━━━━━\u001b[0m \u001b[32m363.4/363.4 MB\u001b[0m \u001b[31m4.6 MB/s\u001b[0m eta \u001b[36m0:00:00\u001b[0m\n",
            "\u001b[2K   \u001b[90m━━━━━━━━━━━━━━━━━━━━━━━━━━━━━━━━━━━━━━━━\u001b[0m \u001b[32m13.8/13.8 MB\u001b[0m \u001b[31m62.2 MB/s\u001b[0m eta \u001b[36m0:00:00\u001b[0m\n",
            "\u001b[2K   \u001b[90m━━━━━━━━━━━━━━━━━━━━━━━━━━━━━━━━━━━━━━━━\u001b[0m \u001b[32m24.6/24.6 MB\u001b[0m \u001b[31m34.1 MB/s\u001b[0m eta \u001b[36m0:00:00\u001b[0m\n",
            "\u001b[2K   \u001b[90m━━━━━━━━━━━━━━━━━━━━━━━━━━━━━━━━━━━━━━━━\u001b[0m \u001b[32m883.7/883.7 kB\u001b[0m \u001b[31m38.7 MB/s\u001b[0m eta \u001b[36m0:00:00\u001b[0m\n",
            "\u001b[2K   \u001b[90m━━━━━━━━━━━━━━━━━━━━━━━━━━━━━━━━━━━━━━━━\u001b[0m \u001b[32m664.8/664.8 MB\u001b[0m \u001b[31m889.5 kB/s\u001b[0m eta \u001b[36m0:00:00\u001b[0m\n",
            "\u001b[2K   \u001b[90m━━━━━━━━━━━━━━━━━━━━━━━━━━━━━━━━━━━━━━━━\u001b[0m \u001b[32m211.5/211.5 MB\u001b[0m \u001b[31m6.6 MB/s\u001b[0m eta \u001b[36m0:00:00\u001b[0m\n",
            "\u001b[2K   \u001b[90m━━━━━━━━━━━━━━━━━━━━━━━━━━━━━━━━━━━━━━━━\u001b[0m \u001b[32m56.3/56.3 MB\u001b[0m \u001b[31m11.0 MB/s\u001b[0m eta \u001b[36m0:00:00\u001b[0m\n",
            "\u001b[2K   \u001b[90m━━━━━━━━━━━━━━━━━━━━━━━━━━━━━━━━━━━━━━━━\u001b[0m \u001b[32m127.9/127.9 MB\u001b[0m \u001b[31m7.5 MB/s\u001b[0m eta \u001b[36m0:00:00\u001b[0m\n",
            "\u001b[2K   \u001b[90m━━━━━━━━━━━━━━━━━━━━━━━━━━━━━━━━━━━━━━━━\u001b[0m \u001b[32m207.5/207.5 MB\u001b[0m \u001b[31m6.2 MB/s\u001b[0m eta \u001b[36m0:00:00\u001b[0m\n",
            "\u001b[2K   \u001b[90m━━━━━━━━━━━━━━━━━━━━━━━━━━━━━━━━━━━━━━━━\u001b[0m \u001b[32m21.1/21.1 MB\u001b[0m \u001b[31m75.9 MB/s\u001b[0m eta \u001b[36m0:00:00\u001b[0m\n",
            "\u001b[?25h"
          ]
        }
      ]
    },
    {
      "cell_type": "code",
      "source": [
        "from roboflow import Roboflow\n",
        "\n",
        "rf = Roboflow(api_key=\"AumELyYm1a0bp3eb2ooS\")  # Replace with your API key\n",
        "project = rf.workspace(\"gvs-jvseq\").project(\"number-bie44\")\n",
        "dataset = project.version(1).download(\"yolov12\")\n"
      ],
      "metadata": {
        "colab": {
          "base_uri": "https://localhost:8080/"
        },
        "id": "nyuqbiZ8Dght",
        "outputId": "87faf84b-93aa-42b5-cbfc-e3c7eda8b941"
      },
      "execution_count": null,
      "outputs": [
        {
          "output_type": "stream",
          "name": "stdout",
          "text": [
            "loading Roboflow workspace...\n",
            "loading Roboflow project...\n",
            "Exporting format yolov12 in progress : 85.0%\n",
            "Version export complete for yolov12 format\n"
          ]
        },
        {
          "output_type": "stream",
          "name": "stderr",
          "text": [
            "Downloading Dataset Version Zip in Number-1 to yolov12:: 100%|██████████| 9168/9168 [00:00<00:00, 27078.74it/s]"
          ]
        },
        {
          "output_type": "stream",
          "name": "stdout",
          "text": [
            "\n"
          ]
        },
        {
          "output_type": "stream",
          "name": "stderr",
          "text": [
            "\n",
            "Extracting Dataset Version Zip to Number-1 in yolov12:: 100%|██████████| 340/340 [00:00<00:00, 5579.26it/s]\n"
          ]
        }
      ]
    },
    {
      "cell_type": "code",
      "source": [
        "yaml_path = \"/content/drive/My Drive/YOUR_FOLDER/data.yaml\"\n"
      ],
      "metadata": {
        "id": "6KIXXaGOFAZE"
      },
      "execution_count": null,
      "outputs": []
    },
    {
      "cell_type": "code",
      "source": [
        "!ls \"/content/drive/My Drive/\"\n"
      ],
      "metadata": {
        "colab": {
          "base_uri": "https://localhost:8080/"
        },
        "id": "lcZE8sVyGKMW",
        "outputId": "1f1a6cd1-7b01-4dc4-fb3b-27c5633571c9"
      },
      "execution_count": null,
      "outputs": [
        {
          "output_type": "stream",
          "name": "stdout",
          "text": [
            "'Colab Notebooks'\t   Hm\t\t\t       'My Song 2.band'   zentrades_video\n",
            " Coursera_copy.pdf\t   KA\t\t\t        project\n",
            "'exam fee recipt 90.pdf'   major-project-videos-train   YOUR_FOLDER\n"
          ]
        }
      ]
    },
    {
      "cell_type": "code",
      "source": [
        "!ls \"/content/drive/My Drive/YOUR_FOLDER\"\n"
      ],
      "metadata": {
        "id": "77WlJzNzGbHy"
      },
      "execution_count": null,
      "outputs": []
    },
    {
      "cell_type": "code",
      "source": [
        "!ls /content/runs/train/\n"
      ],
      "metadata": {
        "colab": {
          "base_uri": "https://localhost:8080/"
        },
        "id": "vC8Hrp_EGmB3",
        "outputId": "f3b5dd51-5eaf-4615-d282-0fc03d7bd09d"
      },
      "execution_count": null,
      "outputs": [
        {
          "output_type": "stream",
          "name": "stdout",
          "text": [
            "ls: cannot access '/content/runs/train/': No such file or directory\n"
          ]
        }
      ]
    },
    {
      "cell_type": "code",
      "source": [
        "!ls \"/content/drive/My Drive/YOUR_FOLDER\"\n"
      ],
      "metadata": {
        "id": "yczEsGVwGxlU"
      },
      "execution_count": null,
      "outputs": []
    },
    {
      "cell_type": "code",
      "source": [
        "import yaml\n",
        "\n",
        "# Define your dataset paths\n",
        "data_yaml = {\n",
        "    \"train\": \"/content/drive/My Drive/YOUR_FOLDER/train/images\",  # Path to training images\n",
        "    \"val\": \"/content/drive/My Drive/YOUR_FOLDER/valid/images\",    # Path to validation images\n",
        "    \"nc\": 1,  # Number of classes (change if needed)\n",
        "    \"names\": [\"your_class_name\"]  # Replace with actual class names\n",
        "}\n",
        "\n",
        "# Set the save path in Google Drive\n",
        "yaml_path = \"/content/drive/My Drive/YOUR_FOLDER/data.yaml\"\n",
        "\n",
        "# Save the YAML file\n",
        "with open(yaml_path, \"w\") as file:\n",
        "    yaml.dump(data_yaml, file, default_flow_style=False)\n",
        "\n",
        "print(f\"✅ data.yaml saved at: {yaml_path}\")\n"
      ],
      "metadata": {
        "colab": {
          "base_uri": "https://localhost:8080/"
        },
        "id": "YD2rLBdUHATk",
        "outputId": "67a11a64-e1c3-41c4-880b-d8d896d8782b"
      },
      "execution_count": null,
      "outputs": [
        {
          "output_type": "stream",
          "name": "stdout",
          "text": [
            "✅ data.yaml saved at: /content/drive/My Drive/YOUR_FOLDER/data.yaml\n"
          ]
        }
      ]
    },
    {
      "cell_type": "code",
      "source": [
        "!ls \"/content/drive/My Drive/YOUR_FOLDER\"\n"
      ],
      "metadata": {
        "colab": {
          "base_uri": "https://localhost:8080/"
        },
        "id": "KKCUgCZVHC92",
        "outputId": "191625ae-50c4-4d1e-ac58-1560f089a97d"
      },
      "execution_count": null,
      "outputs": [
        {
          "output_type": "stream",
          "name": "stdout",
          "text": [
            "data.yaml\n"
          ]
        }
      ]
    },
    {
      "cell_type": "code",
      "source": [
        "!cat \"/content/drive/My Drive/YOUR_FOLDER/data.yaml\"\n"
      ],
      "metadata": {
        "colab": {
          "base_uri": "https://localhost:8080/"
        },
        "id": "cVryud8UHOke",
        "outputId": "d7c659bf-1b8e-4fea-f509-6694b960de83"
      },
      "execution_count": null,
      "outputs": [
        {
          "output_type": "stream",
          "name": "stdout",
          "text": [
            "names:\n",
            "- your_class_name\n",
            "nc: 1\n",
            "train: /content/drive/My Drive/YOUR_FOLDER/train/images\n",
            "val: /content/drive/My Drive/YOUR_FOLDER/valid/images\n"
          ]
        }
      ]
    },
    {
      "cell_type": "code",
      "source": [
        "import yaml\n",
        "\n",
        "data_yaml = {\n",
        "    \"names\": [\"your_class_name\"],  # Replace with actual class names\n",
        "    \"nc\": 1,  # Number of classes\n",
        "    \"train\": \"/content/drive/My Drive/YOUR_FOLDER/train/images\",  # Training images path\n",
        "    \"val\": \"/content/drive/My Drive/YOUR_FOLDER/valid/images\"   # Validation images path\n",
        "}\n",
        "\n",
        "yaml_path = \"/content/drive/My Drive/YOUR_FOLDER/data.yaml\"\n",
        "\n",
        "with open(yaml_path, \"w\") as file:\n",
        "    yaml.dump(data_yaml, file, default_flow_style=False)\n",
        "\n",
        "print(f\"✅ data.yaml saved at: {yaml_path}\")\n"
      ],
      "metadata": {
        "colab": {
          "base_uri": "https://localhost:8080/"
        },
        "id": "4Yz8CzPOHeDS",
        "outputId": "f4bf427b-44e2-473f-e58d-090327c3548e"
      },
      "execution_count": null,
      "outputs": [
        {
          "output_type": "stream",
          "name": "stdout",
          "text": [
            "✅ data.yaml saved at: /content/drive/My Drive/YOUR_FOLDER/data.yaml\n"
          ]
        }
      ]
    },
    {
      "cell_type": "code",
      "source": [
        "!cat \"/content/drive/My Drive/YOUR_FOLDER/data.yaml\"\n"
      ],
      "metadata": {
        "colab": {
          "base_uri": "https://localhost:8080/"
        },
        "id": "WOZyORhvHgqH",
        "outputId": "cda9b3e1-e7dd-4daf-85be-6cbd878f6328"
      },
      "execution_count": null,
      "outputs": [
        {
          "output_type": "stream",
          "name": "stdout",
          "text": [
            "names:\n",
            "- your_class_name\n",
            "nc: 1\n",
            "train: /content/drive/My Drive/YOUR_FOLDER/train/images\n",
            "val: /content/drive/My Drive/YOUR_FOLDER/valid/images\n"
          ]
        }
      ]
    },
    {
      "cell_type": "code",
      "source": [
        "!pip install ultralytics\n"
      ],
      "metadata": {
        "colab": {
          "base_uri": "https://localhost:8080/"
        },
        "id": "JGpaUumNHpl0",
        "outputId": "558eea35-cd1c-4e50-b677-e3ea15a0e4cf"
      },
      "execution_count": null,
      "outputs": [
        {
          "output_type": "stream",
          "name": "stdout",
          "text": [
            "Requirement already satisfied: ultralytics in /usr/local/lib/python3.11/dist-packages (8.3.94)\n",
            "Requirement already satisfied: numpy<=2.1.1,>=1.23.0 in /usr/local/lib/python3.11/dist-packages (from ultralytics) (2.0.2)\n",
            "Requirement already satisfied: matplotlib>=3.3.0 in /usr/local/lib/python3.11/dist-packages (from ultralytics) (3.10.0)\n",
            "Requirement already satisfied: opencv-python>=4.6.0 in /usr/local/lib/python3.11/dist-packages (from ultralytics) (4.11.0.86)\n",
            "Requirement already satisfied: pillow>=7.1.2 in /usr/local/lib/python3.11/dist-packages (from ultralytics) (11.1.0)\n",
            "Requirement already satisfied: pyyaml>=5.3.1 in /usr/local/lib/python3.11/dist-packages (from ultralytics) (6.0.2)\n",
            "Requirement already satisfied: requests>=2.23.0 in /usr/local/lib/python3.11/dist-packages (from ultralytics) (2.32.3)\n",
            "Requirement already satisfied: scipy>=1.4.1 in /usr/local/lib/python3.11/dist-packages (from ultralytics) (1.14.1)\n",
            "Requirement already satisfied: torch>=1.8.0 in /usr/local/lib/python3.11/dist-packages (from ultralytics) (2.6.0+cu124)\n",
            "Requirement already satisfied: torchvision>=0.9.0 in /usr/local/lib/python3.11/dist-packages (from ultralytics) (0.21.0+cu124)\n",
            "Requirement already satisfied: tqdm>=4.64.0 in /usr/local/lib/python3.11/dist-packages (from ultralytics) (4.67.1)\n",
            "Requirement already satisfied: psutil in /usr/local/lib/python3.11/dist-packages (from ultralytics) (5.9.5)\n",
            "Requirement already satisfied: py-cpuinfo in /usr/local/lib/python3.11/dist-packages (from ultralytics) (9.0.0)\n",
            "Requirement already satisfied: pandas>=1.1.4 in /usr/local/lib/python3.11/dist-packages (from ultralytics) (2.2.2)\n",
            "Requirement already satisfied: seaborn>=0.11.0 in /usr/local/lib/python3.11/dist-packages (from ultralytics) (0.13.2)\n",
            "Requirement already satisfied: ultralytics-thop>=2.0.0 in /usr/local/lib/python3.11/dist-packages (from ultralytics) (2.0.14)\n",
            "Requirement already satisfied: contourpy>=1.0.1 in /usr/local/lib/python3.11/dist-packages (from matplotlib>=3.3.0->ultralytics) (1.3.1)\n",
            "Requirement already satisfied: cycler>=0.10 in /usr/local/lib/python3.11/dist-packages (from matplotlib>=3.3.0->ultralytics) (0.12.1)\n",
            "Requirement already satisfied: fonttools>=4.22.0 in /usr/local/lib/python3.11/dist-packages (from matplotlib>=3.3.0->ultralytics) (4.56.0)\n",
            "Requirement already satisfied: kiwisolver>=1.3.1 in /usr/local/lib/python3.11/dist-packages (from matplotlib>=3.3.0->ultralytics) (1.4.8)\n",
            "Requirement already satisfied: packaging>=20.0 in /usr/local/lib/python3.11/dist-packages (from matplotlib>=3.3.0->ultralytics) (24.2)\n",
            "Requirement already satisfied: pyparsing>=2.3.1 in /usr/local/lib/python3.11/dist-packages (from matplotlib>=3.3.0->ultralytics) (3.2.1)\n",
            "Requirement already satisfied: python-dateutil>=2.7 in /usr/local/lib/python3.11/dist-packages (from matplotlib>=3.3.0->ultralytics) (2.8.2)\n",
            "Requirement already satisfied: pytz>=2020.1 in /usr/local/lib/python3.11/dist-packages (from pandas>=1.1.4->ultralytics) (2025.1)\n",
            "Requirement already satisfied: tzdata>=2022.7 in /usr/local/lib/python3.11/dist-packages (from pandas>=1.1.4->ultralytics) (2025.1)\n",
            "Requirement already satisfied: charset-normalizer<4,>=2 in /usr/local/lib/python3.11/dist-packages (from requests>=2.23.0->ultralytics) (3.4.1)\n",
            "Requirement already satisfied: idna<4,>=2.5 in /usr/local/lib/python3.11/dist-packages (from requests>=2.23.0->ultralytics) (3.7)\n",
            "Requirement already satisfied: urllib3<3,>=1.21.1 in /usr/local/lib/python3.11/dist-packages (from requests>=2.23.0->ultralytics) (2.3.0)\n",
            "Requirement already satisfied: certifi>=2017.4.17 in /usr/local/lib/python3.11/dist-packages (from requests>=2.23.0->ultralytics) (2025.1.31)\n",
            "Requirement already satisfied: filelock in /usr/local/lib/python3.11/dist-packages (from torch>=1.8.0->ultralytics) (3.18.0)\n",
            "Requirement already satisfied: typing-extensions>=4.10.0 in /usr/local/lib/python3.11/dist-packages (from torch>=1.8.0->ultralytics) (4.12.2)\n",
            "Requirement already satisfied: networkx in /usr/local/lib/python3.11/dist-packages (from torch>=1.8.0->ultralytics) (3.4.2)\n",
            "Requirement already satisfied: jinja2 in /usr/local/lib/python3.11/dist-packages (from torch>=1.8.0->ultralytics) (3.1.6)\n",
            "Requirement already satisfied: fsspec in /usr/local/lib/python3.11/dist-packages (from torch>=1.8.0->ultralytics) (2025.3.0)\n",
            "Requirement already satisfied: nvidia-cuda-nvrtc-cu12==12.4.127 in /usr/local/lib/python3.11/dist-packages (from torch>=1.8.0->ultralytics) (12.4.127)\n",
            "Requirement already satisfied: nvidia-cuda-runtime-cu12==12.4.127 in /usr/local/lib/python3.11/dist-packages (from torch>=1.8.0->ultralytics) (12.4.127)\n",
            "Requirement already satisfied: nvidia-cuda-cupti-cu12==12.4.127 in /usr/local/lib/python3.11/dist-packages (from torch>=1.8.0->ultralytics) (12.4.127)\n",
            "Requirement already satisfied: nvidia-cudnn-cu12==9.1.0.70 in /usr/local/lib/python3.11/dist-packages (from torch>=1.8.0->ultralytics) (9.1.0.70)\n",
            "Requirement already satisfied: nvidia-cublas-cu12==12.4.5.8 in /usr/local/lib/python3.11/dist-packages (from torch>=1.8.0->ultralytics) (12.4.5.8)\n",
            "Requirement already satisfied: nvidia-cufft-cu12==11.2.1.3 in /usr/local/lib/python3.11/dist-packages (from torch>=1.8.0->ultralytics) (11.2.1.3)\n",
            "Requirement already satisfied: nvidia-curand-cu12==10.3.5.147 in /usr/local/lib/python3.11/dist-packages (from torch>=1.8.0->ultralytics) (10.3.5.147)\n",
            "Requirement already satisfied: nvidia-cusolver-cu12==11.6.1.9 in /usr/local/lib/python3.11/dist-packages (from torch>=1.8.0->ultralytics) (11.6.1.9)\n",
            "Requirement already satisfied: nvidia-cusparse-cu12==12.3.1.170 in /usr/local/lib/python3.11/dist-packages (from torch>=1.8.0->ultralytics) (12.3.1.170)\n",
            "Requirement already satisfied: nvidia-cusparselt-cu12==0.6.2 in /usr/local/lib/python3.11/dist-packages (from torch>=1.8.0->ultralytics) (0.6.2)\n",
            "Requirement already satisfied: nvidia-nccl-cu12==2.21.5 in /usr/local/lib/python3.11/dist-packages (from torch>=1.8.0->ultralytics) (2.21.5)\n",
            "Requirement already satisfied: nvidia-nvtx-cu12==12.4.127 in /usr/local/lib/python3.11/dist-packages (from torch>=1.8.0->ultralytics) (12.4.127)\n",
            "Requirement already satisfied: nvidia-nvjitlink-cu12==12.4.127 in /usr/local/lib/python3.11/dist-packages (from torch>=1.8.0->ultralytics) (12.4.127)\n",
            "Requirement already satisfied: triton==3.2.0 in /usr/local/lib/python3.11/dist-packages (from torch>=1.8.0->ultralytics) (3.2.0)\n",
            "Requirement already satisfied: sympy==1.13.1 in /usr/local/lib/python3.11/dist-packages (from torch>=1.8.0->ultralytics) (1.13.1)\n",
            "Requirement already satisfied: mpmath<1.4,>=1.1.0 in /usr/local/lib/python3.11/dist-packages (from sympy==1.13.1->torch>=1.8.0->ultralytics) (1.3.0)\n",
            "Requirement already satisfied: six>=1.5 in /usr/local/lib/python3.11/dist-packages (from python-dateutil>=2.7->matplotlib>=3.3.0->ultralytics) (1.17.0)\n",
            "Requirement already satisfied: MarkupSafe>=2.0 in /usr/local/lib/python3.11/dist-packages (from jinja2->torch>=1.8.0->ultralytics) (3.0.2)\n"
          ]
        }
      ]
    },
    {
      "cell_type": "code",
      "source": [
        "!pip install roboflow\n",
        "\n",
        "from roboflow import Roboflow\n",
        "rf = Roboflow(api_key=\"AumELyYm1a0bp3eb2ooS\")\n",
        "project = rf.workspace(\"gvs-jvseq\").project(\"number-bie44\")\n",
        "version = project.version(8)\n",
        "dataset = version.download(\"yolov7\")\n"
      ],
      "metadata": {
        "colab": {
          "base_uri": "https://localhost:8080/"
        },
        "id": "Lk-Ap2InJRTQ",
        "outputId": "8f098e02-6148-40fd-97ea-354ad396a5aa"
      },
      "execution_count": null,
      "outputs": [
        {
          "output_type": "stream",
          "name": "stdout",
          "text": [
            "Requirement already satisfied: roboflow in /usr/local/lib/python3.11/dist-packages (1.1.58)\n",
            "Requirement already satisfied: certifi in /usr/local/lib/python3.11/dist-packages (from roboflow) (2025.1.31)\n",
            "Requirement already satisfied: idna==3.7 in /usr/local/lib/python3.11/dist-packages (from roboflow) (3.7)\n",
            "Requirement already satisfied: cycler in /usr/local/lib/python3.11/dist-packages (from roboflow) (0.12.1)\n",
            "Requirement already satisfied: kiwisolver>=1.3.1 in /usr/local/lib/python3.11/dist-packages (from roboflow) (1.4.8)\n",
            "Requirement already satisfied: matplotlib in /usr/local/lib/python3.11/dist-packages (from roboflow) (3.10.0)\n",
            "Requirement already satisfied: numpy>=1.18.5 in /usr/local/lib/python3.11/dist-packages (from roboflow) (2.0.2)\n",
            "Requirement already satisfied: opencv-python-headless==4.10.0.84 in /usr/local/lib/python3.11/dist-packages (from roboflow) (4.10.0.84)\n",
            "Requirement already satisfied: Pillow>=7.1.2 in /usr/local/lib/python3.11/dist-packages (from roboflow) (11.1.0)\n",
            "Requirement already satisfied: pillow-heif>=0.18.0 in /usr/local/lib/python3.11/dist-packages (from roboflow) (0.22.0)\n",
            "Requirement already satisfied: python-dateutil in /usr/local/lib/python3.11/dist-packages (from roboflow) (2.8.2)\n",
            "Requirement already satisfied: python-dotenv in /usr/local/lib/python3.11/dist-packages (from roboflow) (1.0.1)\n",
            "Requirement already satisfied: requests in /usr/local/lib/python3.11/dist-packages (from roboflow) (2.32.3)\n",
            "Requirement already satisfied: six in /usr/local/lib/python3.11/dist-packages (from roboflow) (1.17.0)\n",
            "Requirement already satisfied: urllib3>=1.26.6 in /usr/local/lib/python3.11/dist-packages (from roboflow) (2.3.0)\n",
            "Requirement already satisfied: tqdm>=4.41.0 in /usr/local/lib/python3.11/dist-packages (from roboflow) (4.67.1)\n",
            "Requirement already satisfied: PyYAML>=5.3.1 in /usr/local/lib/python3.11/dist-packages (from roboflow) (6.0.2)\n",
            "Requirement already satisfied: requests-toolbelt in /usr/local/lib/python3.11/dist-packages (from roboflow) (1.0.0)\n",
            "Requirement already satisfied: filetype in /usr/local/lib/python3.11/dist-packages (from roboflow) (1.2.0)\n",
            "Requirement already satisfied: contourpy>=1.0.1 in /usr/local/lib/python3.11/dist-packages (from matplotlib->roboflow) (1.3.1)\n",
            "Requirement already satisfied: fonttools>=4.22.0 in /usr/local/lib/python3.11/dist-packages (from matplotlib->roboflow) (4.56.0)\n",
            "Requirement already satisfied: packaging>=20.0 in /usr/local/lib/python3.11/dist-packages (from matplotlib->roboflow) (24.2)\n",
            "Requirement already satisfied: pyparsing>=2.3.1 in /usr/local/lib/python3.11/dist-packages (from matplotlib->roboflow) (3.2.1)\n",
            "Requirement already satisfied: charset-normalizer<4,>=2 in /usr/local/lib/python3.11/dist-packages (from requests->roboflow) (3.4.1)\n",
            "loading Roboflow workspace...\n",
            "loading Roboflow project...\n"
          ]
        },
        {
          "output_type": "stream",
          "name": "stderr",
          "text": [
            "Downloading Dataset Version Zip in Number-8 to yolov7pytorch:: 100%|██████████| 9169/9169 [00:00<00:00, 26864.14it/s]"
          ]
        },
        {
          "output_type": "stream",
          "name": "stdout",
          "text": [
            "\n"
          ]
        },
        {
          "output_type": "stream",
          "name": "stderr",
          "text": [
            "\n",
            "Extracting Dataset Version Zip to Number-8 in yolov7pytorch:: 100%|██████████| 346/346 [00:00<00:00, 6432.70it/s]\n"
          ]
        }
      ]
    },
    {
      "cell_type": "code",
      "source": [
        "!ls /content\n"
      ],
      "metadata": {
        "colab": {
          "base_uri": "https://localhost:8080/"
        },
        "id": "I7QjTVzBJWZx",
        "outputId": "3eed1e9c-e995-428d-9960-737fc0db423c"
      },
      "execution_count": null,
      "outputs": [
        {
          "output_type": "stream",
          "name": "stdout",
          "text": [
            "drive  Number-1  Number-8  sample_data\tyolov8n.pt\n"
          ]
        }
      ]
    },
    {
      "cell_type": "code",
      "source": [
        "import shutil\n",
        "\n",
        "src = \"/content/Number-8\"  # Change if the folder name is different\n",
        "dst = \"/content/drive/My Drive/YOUR_FOLDER/dataset\"\n",
        "\n",
        "shutil.move(src, dst)\n"
      ],
      "metadata": {
        "colab": {
          "base_uri": "https://localhost:8080/",
          "height": 35
        },
        "id": "F5OOlt7GJbiD",
        "outputId": "2ca0ba35-7536-41d7-e9fe-9081fb1c875b"
      },
      "execution_count": null,
      "outputs": [
        {
          "output_type": "execute_result",
          "data": {
            "text/plain": [
              "'/content/drive/My Drive/YOUR_FOLDER/dataset'"
            ],
            "application/vnd.google.colaboratory.intrinsic+json": {
              "type": "string"
            }
          },
          "metadata": {},
          "execution_count": 41
        }
      ]
    },
    {
      "cell_type": "code",
      "source": [
        "import yaml\n",
        "\n",
        "# Define the YAML data\n",
        "data = {\n",
        "    \"path\": \"/content/drive/My Drive/YOUR_FOLDER/dataset\",  # Base dataset path\n",
        "    \"train\": \"train/images\",\n",
        "    \"val\": \"valid/images\",\n",
        "    \"nc\": 1,  # Number of classes\n",
        "    \"names\": [\"your_class_name\"]  # Change to your actual class name\n",
        "}\n",
        "\n",
        "# Save the YAML file in Google Drive\n",
        "yaml_path = \"/content/drive/My Drive/YOUR_FOLDER/data.yaml\"\n",
        "\n",
        "with open(yaml_path, \"w\") as file:\n",
        "    yaml.dump(data, file, default_flow_style=False)\n",
        "\n",
        "print(f\"✅ data.yaml saved at: {yaml_path}\")\n"
      ],
      "metadata": {
        "colab": {
          "base_uri": "https://localhost:8080/"
        },
        "id": "n4CjAQaJJuBq",
        "outputId": "f71b145d-7fab-4054-cb3a-edd97910d971"
      },
      "execution_count": null,
      "outputs": [
        {
          "output_type": "stream",
          "name": "stdout",
          "text": [
            "✅ data.yaml saved at: /content/drive/My Drive/YOUR_FOLDER/data.yaml\n"
          ]
        }
      ]
    },
    {
      "cell_type": "code",
      "source": [
        "import os\n",
        "\n",
        "print(\"File exists:\", os.path.exists(yaml_path))\n"
      ],
      "metadata": {
        "colab": {
          "base_uri": "https://localhost:8080/"
        },
        "id": "X6-wNuN9J17j",
        "outputId": "0c993e9f-262e-4ee8-ec76-e64844c5dccc"
      },
      "execution_count": null,
      "outputs": [
        {
          "output_type": "stream",
          "name": "stdout",
          "text": [
            "File exists: True\n"
          ]
        }
      ]
    },
    {
      "cell_type": "code",
      "source": [
        "import os\n",
        "\n",
        "dataset_path = \"/content/drive/My Drive/YOUR_FOLDER/dataset\"\n",
        "\n",
        "if os.path.exists(dataset_path):\n",
        "    print(\"✅ Dataset folder exists!\")\n",
        "    print(\"Train images:\", os.listdir(f\"{dataset_path}/train/images\")[:5])  # Check first 5 images\n",
        "    print(\"Valid images:\", os.listdir(f\"{dataset_path}/valid/images\")[:5])  # Check first 5 images\n",
        "else:\n",
        "    print(\"❌ Dataset folder is missing! Re-download it.\")\n"
      ],
      "metadata": {
        "colab": {
          "base_uri": "https://localhost:8080/"
        },
        "id": "fr8GLKwTJ6zl",
        "outputId": "56e1e76d-4478-4dff-8dbd-4ef979316712"
      },
      "execution_count": null,
      "outputs": [
        {
          "output_type": "stream",
          "name": "stdout",
          "text": [
            "✅ Dataset folder exists!\n",
            "Train images: ['frame_490_jpg.rf.fbab4190cd5046511bfef9a30a6104bf.jpg', 'frame_780_jpg.rf.3f86e06376e47e5d08a0b4d758bda1d8.jpg', 'frame_1060_jpg.rf.1b7dc935a18597d958932f28020cd639.jpg', 'frame_770_jpg.rf.ba8b037df5377d6ee938f4a0c3a29b88.jpg', 'frame_920_jpg.rf.8f0e6854af2e9b08dc7ace476bf0b611.jpg']\n",
            "Valid images: ['frame_1510_jpg.rf.9b12942f53845a3eded9810a622f0fc3.jpg', 'frame_810_jpg.rf.bc95a6d2a0c1ed5e6027d2c05aa8c8bf.jpg', 'frame_1590_jpg.rf.e49feb524a059cc6e852c032ff4205d6.jpg', 'frame_1600_jpg.rf.9e203683ddf58b18113c8f7ce61fa4ca.jpg', 'frame_760_jpg.rf.46947cd9050d7078b7d19ebd24341603.jpg']\n"
          ]
        }
      ]
    },
    {
      "cell_type": "code",
      "source": [
        "!pip install ultralytics\n",
        "from ultralytics import YOLO\n",
        "import torch\n"
      ],
      "metadata": {
        "colab": {
          "base_uri": "https://localhost:8080/"
        },
        "id": "VCYL_1vtKL1b",
        "outputId": "a715b436-f7a1-454b-f46b-786b19ed5ede"
      },
      "execution_count": null,
      "outputs": [
        {
          "output_type": "stream",
          "name": "stdout",
          "text": [
            "Requirement already satisfied: ultralytics in /usr/local/lib/python3.11/dist-packages (8.3.94)\n",
            "Requirement already satisfied: numpy<=2.1.1,>=1.23.0 in /usr/local/lib/python3.11/dist-packages (from ultralytics) (2.0.2)\n",
            "Requirement already satisfied: matplotlib>=3.3.0 in /usr/local/lib/python3.11/dist-packages (from ultralytics) (3.10.0)\n",
            "Requirement already satisfied: opencv-python>=4.6.0 in /usr/local/lib/python3.11/dist-packages (from ultralytics) (4.11.0.86)\n",
            "Requirement already satisfied: pillow>=7.1.2 in /usr/local/lib/python3.11/dist-packages (from ultralytics) (11.1.0)\n",
            "Requirement already satisfied: pyyaml>=5.3.1 in /usr/local/lib/python3.11/dist-packages (from ultralytics) (6.0.2)\n",
            "Requirement already satisfied: requests>=2.23.0 in /usr/local/lib/python3.11/dist-packages (from ultralytics) (2.32.3)\n",
            "Requirement already satisfied: scipy>=1.4.1 in /usr/local/lib/python3.11/dist-packages (from ultralytics) (1.14.1)\n",
            "Requirement already satisfied: torch>=1.8.0 in /usr/local/lib/python3.11/dist-packages (from ultralytics) (2.6.0+cu124)\n",
            "Requirement already satisfied: torchvision>=0.9.0 in /usr/local/lib/python3.11/dist-packages (from ultralytics) (0.21.0+cu124)\n",
            "Requirement already satisfied: tqdm>=4.64.0 in /usr/local/lib/python3.11/dist-packages (from ultralytics) (4.67.1)\n",
            "Requirement already satisfied: psutil in /usr/local/lib/python3.11/dist-packages (from ultralytics) (5.9.5)\n",
            "Requirement already satisfied: py-cpuinfo in /usr/local/lib/python3.11/dist-packages (from ultralytics) (9.0.0)\n",
            "Requirement already satisfied: pandas>=1.1.4 in /usr/local/lib/python3.11/dist-packages (from ultralytics) (2.2.2)\n",
            "Requirement already satisfied: seaborn>=0.11.0 in /usr/local/lib/python3.11/dist-packages (from ultralytics) (0.13.2)\n",
            "Requirement already satisfied: ultralytics-thop>=2.0.0 in /usr/local/lib/python3.11/dist-packages (from ultralytics) (2.0.14)\n",
            "Requirement already satisfied: contourpy>=1.0.1 in /usr/local/lib/python3.11/dist-packages (from matplotlib>=3.3.0->ultralytics) (1.3.1)\n",
            "Requirement already satisfied: cycler>=0.10 in /usr/local/lib/python3.11/dist-packages (from matplotlib>=3.3.0->ultralytics) (0.12.1)\n",
            "Requirement already satisfied: fonttools>=4.22.0 in /usr/local/lib/python3.11/dist-packages (from matplotlib>=3.3.0->ultralytics) (4.56.0)\n",
            "Requirement already satisfied: kiwisolver>=1.3.1 in /usr/local/lib/python3.11/dist-packages (from matplotlib>=3.3.0->ultralytics) (1.4.8)\n",
            "Requirement already satisfied: packaging>=20.0 in /usr/local/lib/python3.11/dist-packages (from matplotlib>=3.3.0->ultralytics) (24.2)\n",
            "Requirement already satisfied: pyparsing>=2.3.1 in /usr/local/lib/python3.11/dist-packages (from matplotlib>=3.3.0->ultralytics) (3.2.1)\n",
            "Requirement already satisfied: python-dateutil>=2.7 in /usr/local/lib/python3.11/dist-packages (from matplotlib>=3.3.0->ultralytics) (2.8.2)\n",
            "Requirement already satisfied: pytz>=2020.1 in /usr/local/lib/python3.11/dist-packages (from pandas>=1.1.4->ultralytics) (2025.1)\n",
            "Requirement already satisfied: tzdata>=2022.7 in /usr/local/lib/python3.11/dist-packages (from pandas>=1.1.4->ultralytics) (2025.1)\n",
            "Requirement already satisfied: charset-normalizer<4,>=2 in /usr/local/lib/python3.11/dist-packages (from requests>=2.23.0->ultralytics) (3.4.1)\n",
            "Requirement already satisfied: idna<4,>=2.5 in /usr/local/lib/python3.11/dist-packages (from requests>=2.23.0->ultralytics) (3.7)\n",
            "Requirement already satisfied: urllib3<3,>=1.21.1 in /usr/local/lib/python3.11/dist-packages (from requests>=2.23.0->ultralytics) (2.3.0)\n",
            "Requirement already satisfied: certifi>=2017.4.17 in /usr/local/lib/python3.11/dist-packages (from requests>=2.23.0->ultralytics) (2025.1.31)\n",
            "Requirement already satisfied: filelock in /usr/local/lib/python3.11/dist-packages (from torch>=1.8.0->ultralytics) (3.18.0)\n",
            "Requirement already satisfied: typing-extensions>=4.10.0 in /usr/local/lib/python3.11/dist-packages (from torch>=1.8.0->ultralytics) (4.12.2)\n",
            "Requirement already satisfied: networkx in /usr/local/lib/python3.11/dist-packages (from torch>=1.8.0->ultralytics) (3.4.2)\n",
            "Requirement already satisfied: jinja2 in /usr/local/lib/python3.11/dist-packages (from torch>=1.8.0->ultralytics) (3.1.6)\n",
            "Requirement already satisfied: fsspec in /usr/local/lib/python3.11/dist-packages (from torch>=1.8.0->ultralytics) (2025.3.0)\n",
            "Requirement already satisfied: nvidia-cuda-nvrtc-cu12==12.4.127 in /usr/local/lib/python3.11/dist-packages (from torch>=1.8.0->ultralytics) (12.4.127)\n",
            "Requirement already satisfied: nvidia-cuda-runtime-cu12==12.4.127 in /usr/local/lib/python3.11/dist-packages (from torch>=1.8.0->ultralytics) (12.4.127)\n",
            "Requirement already satisfied: nvidia-cuda-cupti-cu12==12.4.127 in /usr/local/lib/python3.11/dist-packages (from torch>=1.8.0->ultralytics) (12.4.127)\n",
            "Requirement already satisfied: nvidia-cudnn-cu12==9.1.0.70 in /usr/local/lib/python3.11/dist-packages (from torch>=1.8.0->ultralytics) (9.1.0.70)\n",
            "Requirement already satisfied: nvidia-cublas-cu12==12.4.5.8 in /usr/local/lib/python3.11/dist-packages (from torch>=1.8.0->ultralytics) (12.4.5.8)\n",
            "Requirement already satisfied: nvidia-cufft-cu12==11.2.1.3 in /usr/local/lib/python3.11/dist-packages (from torch>=1.8.0->ultralytics) (11.2.1.3)\n",
            "Requirement already satisfied: nvidia-curand-cu12==10.3.5.147 in /usr/local/lib/python3.11/dist-packages (from torch>=1.8.0->ultralytics) (10.3.5.147)\n",
            "Requirement already satisfied: nvidia-cusolver-cu12==11.6.1.9 in /usr/local/lib/python3.11/dist-packages (from torch>=1.8.0->ultralytics) (11.6.1.9)\n",
            "Requirement already satisfied: nvidia-cusparse-cu12==12.3.1.170 in /usr/local/lib/python3.11/dist-packages (from torch>=1.8.0->ultralytics) (12.3.1.170)\n",
            "Requirement already satisfied: nvidia-cusparselt-cu12==0.6.2 in /usr/local/lib/python3.11/dist-packages (from torch>=1.8.0->ultralytics) (0.6.2)\n",
            "Requirement already satisfied: nvidia-nccl-cu12==2.21.5 in /usr/local/lib/python3.11/dist-packages (from torch>=1.8.0->ultralytics) (2.21.5)\n",
            "Requirement already satisfied: nvidia-nvtx-cu12==12.4.127 in /usr/local/lib/python3.11/dist-packages (from torch>=1.8.0->ultralytics) (12.4.127)\n",
            "Requirement already satisfied: nvidia-nvjitlink-cu12==12.4.127 in /usr/local/lib/python3.11/dist-packages (from torch>=1.8.0->ultralytics) (12.4.127)\n",
            "Requirement already satisfied: triton==3.2.0 in /usr/local/lib/python3.11/dist-packages (from torch>=1.8.0->ultralytics) (3.2.0)\n",
            "Requirement already satisfied: sympy==1.13.1 in /usr/local/lib/python3.11/dist-packages (from torch>=1.8.0->ultralytics) (1.13.1)\n",
            "Requirement already satisfied: mpmath<1.4,>=1.1.0 in /usr/local/lib/python3.11/dist-packages (from sympy==1.13.1->torch>=1.8.0->ultralytics) (1.3.0)\n",
            "Requirement already satisfied: six>=1.5 in /usr/local/lib/python3.11/dist-packages (from python-dateutil>=2.7->matplotlib>=3.3.0->ultralytics) (1.17.0)\n",
            "Requirement already satisfied: MarkupSafe>=2.0 in /usr/local/lib/python3.11/dist-packages (from jinja2->torch>=1.8.0->ultralytics) (3.0.2)\n"
          ]
        }
      ]
    },
    {
      "cell_type": "code",
      "source": [
        "device = \"cuda\" if torch.cuda.is_available() else \"cpu\"\n",
        "print(f\"Using device: {device}\")  # Should print \"cpu\"\n"
      ],
      "metadata": {
        "colab": {
          "base_uri": "https://localhost:8080/"
        },
        "id": "PNKDViJTKN7e",
        "outputId": "2c9649ec-c9eb-4979-8058-893c215d8871"
      },
      "execution_count": null,
      "outputs": [
        {
          "output_type": "stream",
          "name": "stdout",
          "text": [
            "Using device: cpu\n"
          ]
        }
      ]
    },
    {
      "cell_type": "code",
      "source": [
        "model = YOLO(\"yolov8n.pt\")  # Using YOLOv8 nano (lightweight model for CPU)\n",
        "\n",
        "# Start training\n",
        "model.train(\n",
        "    data=\"/content/drive/My Drive/YOUR_FOLDER/data.yaml\",  # Path to data.yaml\n",
        "    epochs=50,  # Adjust based on need\n",
        "    batch=8,  # Adjust for CPU performance\n",
        "    imgsz=640,  # Image size\n",
        "    device=\"cpu\",  # Ensures training on CPU\n",
        "    project=\"/content/drive/My Drive/YOUR_FOLDER\",  # Save results in Drive\n",
        "    name=\"yolov8_training\",\n",
        ")\n"
      ],
      "metadata": {
        "colab": {
          "base_uri": "https://localhost:8080/"
        },
        "id": "djDwGOSQKShe",
        "outputId": "881cae1b-22a7-45ec-b7bb-0bf4ba4c52a5"
      },
      "execution_count": null,
      "outputs": [
        {
          "output_type": "stream",
          "name": "stdout",
          "text": [
            "Ultralytics 8.3.94 🚀 Python-3.11.11 torch-2.6.0+cu124 CPU (Intel Xeon 2.20GHz)\n",
            "\u001b[34m\u001b[1mengine/trainer: \u001b[0mtask=detect, mode=train, model=yolov8n.pt, data=/content/drive/My Drive/YOUR_FOLDER/data.yaml, epochs=50, time=None, patience=100, batch=8, imgsz=640, save=True, save_period=-1, cache=False, device=cpu, workers=8, project=/content/drive/My Drive/YOUR_FOLDER, name=yolov8_training2, exist_ok=False, pretrained=True, optimizer=auto, verbose=True, seed=0, deterministic=True, single_cls=False, rect=False, cos_lr=False, close_mosaic=10, resume=False, amp=True, fraction=1.0, profile=False, freeze=None, multi_scale=False, overlap_mask=True, mask_ratio=4, dropout=0.0, val=True, split=val, save_json=False, save_hybrid=False, conf=None, iou=0.7, max_det=300, half=False, dnn=False, plots=True, source=None, vid_stride=1, stream_buffer=False, visualize=False, augment=False, agnostic_nms=False, classes=None, retina_masks=False, embed=None, show=False, save_frames=False, save_txt=False, save_conf=False, save_crop=False, show_labels=True, show_conf=True, show_boxes=True, line_width=None, format=torchscript, keras=False, optimize=False, int8=False, dynamic=False, simplify=True, opset=None, workspace=None, nms=False, lr0=0.01, lrf=0.01, momentum=0.937, weight_decay=0.0005, warmup_epochs=3.0, warmup_momentum=0.8, warmup_bias_lr=0.1, box=7.5, cls=0.5, dfl=1.5, pose=12.0, kobj=1.0, nbs=64, hsv_h=0.015, hsv_s=0.7, hsv_v=0.4, degrees=0.0, translate=0.1, scale=0.5, shear=0.0, perspective=0.0, flipud=0.0, fliplr=0.5, bgr=0.0, mosaic=1.0, mixup=0.0, copy_paste=0.0, copy_paste_mode=flip, auto_augment=randaugment, erasing=0.4, crop_fraction=1.0, cfg=None, tracker=botsort.yaml, save_dir=/content/drive/My Drive/YOUR_FOLDER/yolov8_training2\n",
            "Downloading https://ultralytics.com/assets/Arial.ttf to '/root/.config/Ultralytics/Arial.ttf'...\n"
          ]
        },
        {
          "output_type": "stream",
          "name": "stderr",
          "text": [
            "100%|██████████| 755k/755k [00:00<00:00, 12.9MB/s]\n"
          ]
        },
        {
          "output_type": "stream",
          "name": "stdout",
          "text": [
            "Overriding model.yaml nc=80 with nc=1\n",
            "\n",
            "                   from  n    params  module                                       arguments                     \n",
            "  0                  -1  1       464  ultralytics.nn.modules.conv.Conv             [3, 16, 3, 2]                 \n",
            "  1                  -1  1      4672  ultralytics.nn.modules.conv.Conv             [16, 32, 3, 2]                \n",
            "  2                  -1  1      7360  ultralytics.nn.modules.block.C2f             [32, 32, 1, True]             \n",
            "  3                  -1  1     18560  ultralytics.nn.modules.conv.Conv             [32, 64, 3, 2]                \n",
            "  4                  -1  2     49664  ultralytics.nn.modules.block.C2f             [64, 64, 2, True]             \n",
            "  5                  -1  1     73984  ultralytics.nn.modules.conv.Conv             [64, 128, 3, 2]               \n",
            "  6                  -1  2    197632  ultralytics.nn.modules.block.C2f             [128, 128, 2, True]           \n",
            "  7                  -1  1    295424  ultralytics.nn.modules.conv.Conv             [128, 256, 3, 2]              \n",
            "  8                  -1  1    460288  ultralytics.nn.modules.block.C2f             [256, 256, 1, True]           \n",
            "  9                  -1  1    164608  ultralytics.nn.modules.block.SPPF            [256, 256, 5]                 \n",
            " 10                  -1  1         0  torch.nn.modules.upsampling.Upsample         [None, 2, 'nearest']          \n",
            " 11             [-1, 6]  1         0  ultralytics.nn.modules.conv.Concat           [1]                           \n",
            " 12                  -1  1    148224  ultralytics.nn.modules.block.C2f             [384, 128, 1]                 \n",
            " 13                  -1  1         0  torch.nn.modules.upsampling.Upsample         [None, 2, 'nearest']          \n",
            " 14             [-1, 4]  1         0  ultralytics.nn.modules.conv.Concat           [1]                           \n",
            " 15                  -1  1     37248  ultralytics.nn.modules.block.C2f             [192, 64, 1]                  \n",
            " 16                  -1  1     36992  ultralytics.nn.modules.conv.Conv             [64, 64, 3, 2]                \n",
            " 17            [-1, 12]  1         0  ultralytics.nn.modules.conv.Concat           [1]                           \n",
            " 18                  -1  1    123648  ultralytics.nn.modules.block.C2f             [192, 128, 1]                 \n",
            " 19                  -1  1    147712  ultralytics.nn.modules.conv.Conv             [128, 128, 3, 2]              \n",
            " 20             [-1, 9]  1         0  ultralytics.nn.modules.conv.Concat           [1]                           \n",
            " 21                  -1  1    493056  ultralytics.nn.modules.block.C2f             [384, 256, 1]                 \n",
            " 22        [15, 18, 21]  1    751507  ultralytics.nn.modules.head.Detect           [1, [64, 128, 256]]           \n",
            "Model summary: 129 layers, 3,011,043 parameters, 3,011,027 gradients, 8.2 GFLOPs\n",
            "\n",
            "Transferred 319/355 items from pretrained weights\n",
            "\u001b[34m\u001b[1mTensorBoard: \u001b[0mStart with 'tensorboard --logdir /content/drive/My Drive/YOUR_FOLDER/yolov8_training2', view at http://localhost:6006/\n",
            "Freezing layer 'model.22.dfl.conv.weight'\n"
          ]
        },
        {
          "output_type": "stream",
          "name": "stderr",
          "text": [
            "\u001b[34m\u001b[1mtrain: \u001b[0mScanning /content/drive/My Drive/YOUR_FOLDER/dataset/train/labels... 117 images, 61 backgrounds, 0 corrupt: 100%|██████████| 117/117 [00:01<00:00, 72.63it/s]\n"
          ]
        },
        {
          "output_type": "stream",
          "name": "stdout",
          "text": [
            "\u001b[34m\u001b[1mtrain: \u001b[0mNew cache created: /content/drive/My Drive/YOUR_FOLDER/dataset/train/labels.cache\n",
            "\u001b[34m\u001b[1malbumentations: \u001b[0mBlur(p=0.01, blur_limit=(3, 7)), MedianBlur(p=0.01, blur_limit=(3, 7)), ToGray(p=0.01, num_output_channels=3, method='weighted_average'), CLAHE(p=0.01, clip_limit=(1.0, 4.0), tile_grid_size=(8, 8))\n"
          ]
        },
        {
          "output_type": "stream",
          "name": "stderr",
          "text": [
            "\u001b[34m\u001b[1mval: \u001b[0mScanning /content/drive/My Drive/YOUR_FOLDER/dataset/valid/labels... 27 images, 13 backgrounds, 0 corrupt: 100%|██████████| 27/27 [00:00<00:00, 95.63it/s]\n"
          ]
        },
        {
          "output_type": "stream",
          "name": "stdout",
          "text": [
            "\u001b[34m\u001b[1mval: \u001b[0mNew cache created: /content/drive/My Drive/YOUR_FOLDER/dataset/valid/labels.cache\n",
            "Plotting labels to /content/drive/My Drive/YOUR_FOLDER/yolov8_training2/labels.jpg... \n",
            "\u001b[34m\u001b[1moptimizer:\u001b[0m 'optimizer=auto' found, ignoring 'lr0=0.01' and 'momentum=0.937' and determining best 'optimizer', 'lr0' and 'momentum' automatically... \n",
            "\u001b[34m\u001b[1moptimizer:\u001b[0m AdamW(lr=0.002, momentum=0.9) with parameter groups 57 weight(decay=0.0), 64 weight(decay=0.0005), 63 bias(decay=0.0)\n",
            "\u001b[34m\u001b[1mTensorBoard: \u001b[0mmodel graph visualization added ✅\n",
            "Image sizes 640 train, 640 val\n",
            "Using 0 dataloader workers\n",
            "Logging results to \u001b[1m/content/drive/My Drive/YOUR_FOLDER/yolov8_training2\u001b[0m\n",
            "Starting training for 50 epochs...\n",
            "\n",
            "      Epoch    GPU_mem   box_loss   cls_loss   dfl_loss  Instances       Size\n"
          ]
        },
        {
          "output_type": "stream",
          "name": "stderr",
          "text": [
            "       1/50         0G      1.578      11.61       1.22          5        640: 100%|██████████| 15/15 [01:45<00:00,  7.05s/it]\n",
            "                 Class     Images  Instances      Box(P          R      mAP50  mAP50-95): 100%|██████████| 2/2 [00:09<00:00,  4.80s/it]"
          ]
        },
        {
          "output_type": "stream",
          "name": "stdout",
          "text": [
            "                   all         27         14   0.000864        0.5    0.00102   0.000653\n"
          ]
        },
        {
          "output_type": "stream",
          "name": "stderr",
          "text": [
            "\n"
          ]
        },
        {
          "output_type": "stream",
          "name": "stdout",
          "text": [
            "\n",
            "      Epoch    GPU_mem   box_loss   cls_loss   dfl_loss  Instances       Size\n"
          ]
        },
        {
          "output_type": "stream",
          "name": "stderr",
          "text": [
            "       2/50         0G      1.281      5.517      1.046          6        640: 100%|██████████| 15/15 [01:41<00:00,  6.79s/it]\n",
            "                 Class     Images  Instances      Box(P          R      mAP50  mAP50-95): 100%|██████████| 2/2 [00:09<00:00,  4.57s/it]"
          ]
        },
        {
          "output_type": "stream",
          "name": "stdout",
          "text": [
            "                   all         27         14    0.00123      0.714    0.00187    0.00125\n"
          ]
        },
        {
          "output_type": "stream",
          "name": "stderr",
          "text": [
            "\n"
          ]
        },
        {
          "output_type": "stream",
          "name": "stdout",
          "text": [
            "\n",
            "      Epoch    GPU_mem   box_loss   cls_loss   dfl_loss  Instances       Size\n"
          ]
        },
        {
          "output_type": "stream",
          "name": "stderr",
          "text": [
            "       3/50         0G      1.033      5.041      1.017          2        640: 100%|██████████| 15/15 [01:39<00:00,  6.63s/it]\n",
            "                 Class     Images  Instances      Box(P          R      mAP50  mAP50-95): 100%|██████████| 2/2 [00:07<00:00,  3.89s/it]"
          ]
        },
        {
          "output_type": "stream",
          "name": "stdout",
          "text": [
            "                   all         27         14   0.000864        0.5      0.004    0.00293\n"
          ]
        },
        {
          "output_type": "stream",
          "name": "stderr",
          "text": [
            "\n"
          ]
        },
        {
          "output_type": "stream",
          "name": "stdout",
          "text": [
            "\n",
            "      Epoch    GPU_mem   box_loss   cls_loss   dfl_loss  Instances       Size\n"
          ]
        },
        {
          "output_type": "stream",
          "name": "stderr",
          "text": [
            "       4/50         0G      1.257      4.385      1.122          2        640: 100%|██████████| 15/15 [01:39<00:00,  6.66s/it]\n",
            "                 Class     Images  Instances      Box(P          R      mAP50  mAP50-95): 100%|██████████| 2/2 [00:08<00:00,  4.39s/it]"
          ]
        },
        {
          "output_type": "stream",
          "name": "stdout",
          "text": [
            "                   all         27         14     0.0168     0.0714    0.00616    0.00465\n"
          ]
        },
        {
          "output_type": "stream",
          "name": "stderr",
          "text": [
            "\n"
          ]
        },
        {
          "output_type": "stream",
          "name": "stdout",
          "text": [
            "\n",
            "      Epoch    GPU_mem   box_loss   cls_loss   dfl_loss  Instances       Size\n"
          ]
        },
        {
          "output_type": "stream",
          "name": "stderr",
          "text": [
            "       5/50         0G      1.105      4.362      1.052          4        640: 100%|██████████| 15/15 [01:39<00:00,  6.64s/it]\n",
            "                 Class     Images  Instances      Box(P          R      mAP50  mAP50-95): 100%|██████████| 2/2 [00:08<00:00,  4.33s/it]"
          ]
        },
        {
          "output_type": "stream",
          "name": "stdout",
          "text": [
            "                   all         27         14    0.00136      0.786      0.071     0.0491\n"
          ]
        },
        {
          "output_type": "stream",
          "name": "stderr",
          "text": [
            "\n"
          ]
        },
        {
          "output_type": "stream",
          "name": "stdout",
          "text": [
            "\n",
            "      Epoch    GPU_mem   box_loss   cls_loss   dfl_loss  Instances       Size\n"
          ]
        },
        {
          "output_type": "stream",
          "name": "stderr",
          "text": [
            "       6/50         0G      1.075      2.773     0.9846          2        640: 100%|██████████| 15/15 [01:40<00:00,  6.73s/it]\n",
            "                 Class     Images  Instances      Box(P          R      mAP50  mAP50-95): 100%|██████████| 2/2 [00:07<00:00,  3.90s/it]"
          ]
        },
        {
          "output_type": "stream",
          "name": "stdout",
          "text": [
            "                   all         27         14      0.793      0.275      0.364      0.296\n"
          ]
        },
        {
          "output_type": "stream",
          "name": "stderr",
          "text": [
            "\n"
          ]
        },
        {
          "output_type": "stream",
          "name": "stdout",
          "text": [
            "\n",
            "      Epoch    GPU_mem   box_loss   cls_loss   dfl_loss  Instances       Size\n"
          ]
        },
        {
          "output_type": "stream",
          "name": "stderr",
          "text": [
            "       7/50         0G      1.156      3.549      1.027          1        640: 100%|██████████| 15/15 [01:39<00:00,  6.64s/it]\n",
            "                 Class     Images  Instances      Box(P          R      mAP50  mAP50-95): 100%|██████████| 2/2 [00:09<00:00,  4.54s/it]"
          ]
        },
        {
          "output_type": "stream",
          "name": "stdout",
          "text": [
            "                   all         27         14    0.00742      0.143    0.00543    0.00365\n"
          ]
        },
        {
          "output_type": "stream",
          "name": "stderr",
          "text": [
            "\n"
          ]
        },
        {
          "output_type": "stream",
          "name": "stdout",
          "text": [
            "\n",
            "      Epoch    GPU_mem   box_loss   cls_loss   dfl_loss  Instances       Size\n"
          ]
        },
        {
          "output_type": "stream",
          "name": "stderr",
          "text": [
            "       8/50         0G      1.102      3.091      1.057          5        640: 100%|██████████| 15/15 [01:40<00:00,  6.67s/it]\n",
            "                 Class     Images  Instances      Box(P          R      mAP50  mAP50-95): 100%|██████████| 2/2 [00:08<00:00,  4.13s/it]"
          ]
        },
        {
          "output_type": "stream",
          "name": "stdout",
          "text": [
            "                   all         27         14      0.746      0.211       0.62      0.366\n"
          ]
        },
        {
          "output_type": "stream",
          "name": "stderr",
          "text": [
            "\n"
          ]
        },
        {
          "output_type": "stream",
          "name": "stdout",
          "text": [
            "\n",
            "      Epoch    GPU_mem   box_loss   cls_loss   dfl_loss  Instances       Size\n"
          ]
        },
        {
          "output_type": "stream",
          "name": "stderr",
          "text": [
            "       9/50         0G        1.1      3.243        1.1          3        640: 100%|██████████| 15/15 [01:39<00:00,  6.65s/it]\n",
            "                 Class     Images  Instances      Box(P          R      mAP50  mAP50-95): 100%|██████████| 2/2 [00:07<00:00,  3.84s/it]"
          ]
        },
        {
          "output_type": "stream",
          "name": "stdout",
          "text": [
            "                   all         27         14      0.809      0.429      0.514      0.375\n"
          ]
        },
        {
          "output_type": "stream",
          "name": "stderr",
          "text": [
            "\n"
          ]
        },
        {
          "output_type": "stream",
          "name": "stdout",
          "text": [
            "\n",
            "      Epoch    GPU_mem   box_loss   cls_loss   dfl_loss  Instances       Size\n"
          ]
        },
        {
          "output_type": "stream",
          "name": "stderr",
          "text": [
            "      10/50         0G     0.9588      3.036      1.052          1        640: 100%|██████████| 15/15 [01:38<00:00,  6.59s/it]\n",
            "                 Class     Images  Instances      Box(P          R      mAP50  mAP50-95): 100%|██████████| 2/2 [00:09<00:00,  4.50s/it]"
          ]
        },
        {
          "output_type": "stream",
          "name": "stdout",
          "text": [
            "                   all         27         14      0.741      0.613      0.626      0.472\n"
          ]
        },
        {
          "output_type": "stream",
          "name": "stderr",
          "text": [
            "\n"
          ]
        },
        {
          "output_type": "stream",
          "name": "stdout",
          "text": [
            "\n",
            "      Epoch    GPU_mem   box_loss   cls_loss   dfl_loss  Instances       Size\n"
          ]
        },
        {
          "output_type": "stream",
          "name": "stderr",
          "text": [
            "      11/50         0G     0.9244      4.666     0.9557          0        640: 100%|██████████| 15/15 [01:39<00:00,  6.66s/it]\n",
            "                 Class     Images  Instances      Box(P          R      mAP50  mAP50-95): 100%|██████████| 2/2 [00:07<00:00,  3.98s/it]"
          ]
        },
        {
          "output_type": "stream",
          "name": "stdout",
          "text": [
            "                   all         27         14      0.796      0.558      0.589      0.438\n"
          ]
        },
        {
          "output_type": "stream",
          "name": "stderr",
          "text": [
            "\n"
          ]
        },
        {
          "output_type": "stream",
          "name": "stdout",
          "text": [
            "\n",
            "      Epoch    GPU_mem   box_loss   cls_loss   dfl_loss  Instances       Size\n"
          ]
        },
        {
          "output_type": "stream",
          "name": "stderr",
          "text": [
            "      12/50         0G     0.9655      2.708     0.9993          6        640: 100%|██████████| 15/15 [01:39<00:00,  6.60s/it]\n",
            "                 Class     Images  Instances      Box(P          R      mAP50  mAP50-95): 100%|██████████| 2/2 [00:08<00:00,  4.01s/it]"
          ]
        },
        {
          "output_type": "stream",
          "name": "stdout",
          "text": [
            "                   all         27         14      0.862        0.5      0.623      0.436\n"
          ]
        },
        {
          "output_type": "stream",
          "name": "stderr",
          "text": [
            "\n"
          ]
        },
        {
          "output_type": "stream",
          "name": "stdout",
          "text": [
            "\n",
            "      Epoch    GPU_mem   box_loss   cls_loss   dfl_loss  Instances       Size\n"
          ]
        },
        {
          "output_type": "stream",
          "name": "stderr",
          "text": [
            "      13/50         0G     0.9716      2.381     0.9923          3        640: 100%|██████████| 15/15 [01:38<00:00,  6.58s/it]\n",
            "                 Class     Images  Instances      Box(P          R      mAP50  mAP50-95): 100%|██████████| 2/2 [00:11<00:00,  5.96s/it]"
          ]
        },
        {
          "output_type": "stream",
          "name": "stdout",
          "text": [
            "                   all         27         14      0.887      0.561      0.655      0.453\n"
          ]
        },
        {
          "output_type": "stream",
          "name": "stderr",
          "text": [
            "\n"
          ]
        },
        {
          "output_type": "stream",
          "name": "stdout",
          "text": [
            "\n",
            "      Epoch    GPU_mem   box_loss   cls_loss   dfl_loss  Instances       Size\n"
          ]
        },
        {
          "output_type": "stream",
          "name": "stderr",
          "text": [
            "      14/50         0G       1.04      2.984       1.09          6        640: 100%|██████████| 15/15 [01:40<00:00,  6.68s/it]\n",
            "                 Class     Images  Instances      Box(P          R      mAP50  mAP50-95): 100%|██████████| 2/2 [00:07<00:00,  3.87s/it]"
          ]
        },
        {
          "output_type": "stream",
          "name": "stdout",
          "text": [
            "                   all         27         14      0.745      0.628      0.662      0.501\n"
          ]
        },
        {
          "output_type": "stream",
          "name": "stderr",
          "text": [
            "\n"
          ]
        },
        {
          "output_type": "stream",
          "name": "stdout",
          "text": [
            "\n",
            "      Epoch    GPU_mem   box_loss   cls_loss   dfl_loss  Instances       Size\n"
          ]
        },
        {
          "output_type": "stream",
          "name": "stderr",
          "text": [
            "      15/50         0G      1.031      2.881     0.9727          5        640: 100%|██████████| 15/15 [01:40<00:00,  6.67s/it]\n",
            "                 Class     Images  Instances      Box(P          R      mAP50  mAP50-95): 100%|██████████| 2/2 [00:08<00:00,  4.18s/it]"
          ]
        },
        {
          "output_type": "stream",
          "name": "stdout",
          "text": [
            "                   all         27         14       0.72      0.643      0.707      0.537\n"
          ]
        },
        {
          "output_type": "stream",
          "name": "stderr",
          "text": [
            "\n"
          ]
        },
        {
          "output_type": "stream",
          "name": "stdout",
          "text": [
            "\n",
            "      Epoch    GPU_mem   box_loss   cls_loss   dfl_loss  Instances       Size\n"
          ]
        },
        {
          "output_type": "stream",
          "name": "stderr",
          "text": [
            "      16/50         0G      1.037      2.642     0.9957          3        640: 100%|██████████| 15/15 [01:41<00:00,  6.73s/it]\n",
            "                 Class     Images  Instances      Box(P          R      mAP50  mAP50-95): 100%|██████████| 2/2 [00:09<00:00,  4.54s/it]"
          ]
        },
        {
          "output_type": "stream",
          "name": "stdout",
          "text": [
            "                   all         27         14      0.863      0.571      0.742      0.529\n"
          ]
        },
        {
          "output_type": "stream",
          "name": "stderr",
          "text": [
            "\n"
          ]
        },
        {
          "output_type": "stream",
          "name": "stdout",
          "text": [
            "\n",
            "      Epoch    GPU_mem   box_loss   cls_loss   dfl_loss  Instances       Size\n"
          ]
        },
        {
          "output_type": "stream",
          "name": "stderr",
          "text": [
            "      17/50         0G     0.9541      2.147      1.016          4        640: 100%|██████████| 15/15 [01:40<00:00,  6.67s/it]\n",
            "                 Class     Images  Instances      Box(P          R      mAP50  mAP50-95): 100%|██████████| 2/2 [00:07<00:00,  3.87s/it]"
          ]
        },
        {
          "output_type": "stream",
          "name": "stdout",
          "text": [
            "                   all         27         14      0.815       0.63      0.705      0.528\n"
          ]
        },
        {
          "output_type": "stream",
          "name": "stderr",
          "text": [
            "\n"
          ]
        },
        {
          "output_type": "stream",
          "name": "stdout",
          "text": [
            "\n",
            "      Epoch    GPU_mem   box_loss   cls_loss   dfl_loss  Instances       Size\n"
          ]
        },
        {
          "output_type": "stream",
          "name": "stderr",
          "text": [
            "      18/50         0G     0.9803      2.089     0.9899          2        640: 100%|██████████| 15/15 [01:40<00:00,  6.71s/it]\n",
            "                 Class     Images  Instances      Box(P          R      mAP50  mAP50-95): 100%|██████████| 2/2 [00:07<00:00,  3.99s/it]"
          ]
        },
        {
          "output_type": "stream",
          "name": "stdout",
          "text": [
            "                   all         27         14      0.873      0.571      0.712        0.5\n"
          ]
        },
        {
          "output_type": "stream",
          "name": "stderr",
          "text": [
            "\n"
          ]
        },
        {
          "output_type": "stream",
          "name": "stdout",
          "text": [
            "\n",
            "      Epoch    GPU_mem   box_loss   cls_loss   dfl_loss  Instances       Size\n"
          ]
        },
        {
          "output_type": "stream",
          "name": "stderr",
          "text": [
            "      19/50         0G      1.113      3.958      1.056          3        640: 100%|██████████| 15/15 [01:39<00:00,  6.61s/it]\n",
            "                 Class     Images  Instances      Box(P          R      mAP50  mAP50-95): 100%|██████████| 2/2 [00:09<00:00,  4.50s/it]"
          ]
        },
        {
          "output_type": "stream",
          "name": "stdout",
          "text": [
            "                   all         27         14      0.881      0.571      0.745      0.537\n"
          ]
        },
        {
          "output_type": "stream",
          "name": "stderr",
          "text": [
            "\n"
          ]
        },
        {
          "output_type": "stream",
          "name": "stdout",
          "text": [
            "\n",
            "      Epoch    GPU_mem   box_loss   cls_loss   dfl_loss  Instances       Size\n"
          ]
        },
        {
          "output_type": "stream",
          "name": "stderr",
          "text": [
            "      20/50         0G     0.9369      3.307     0.9317          5        640: 100%|██████████| 15/15 [01:40<00:00,  6.72s/it]\n",
            "                 Class     Images  Instances      Box(P          R      mAP50  mAP50-95): 100%|██████████| 2/2 [00:08<00:00,  4.14s/it]"
          ]
        },
        {
          "output_type": "stream",
          "name": "stdout",
          "text": [
            "                   all         27         14      0.799      0.567      0.723      0.533\n"
          ]
        },
        {
          "output_type": "stream",
          "name": "stderr",
          "text": [
            "\n"
          ]
        },
        {
          "output_type": "stream",
          "name": "stdout",
          "text": [
            "\n",
            "      Epoch    GPU_mem   box_loss   cls_loss   dfl_loss  Instances       Size\n"
          ]
        },
        {
          "output_type": "stream",
          "name": "stderr",
          "text": [
            "      21/50         0G      1.002      2.374     0.9607          5        640: 100%|██████████| 15/15 [01:39<00:00,  6.64s/it]\n",
            "                 Class     Images  Instances      Box(P          R      mAP50  mAP50-95): 100%|██████████| 2/2 [00:07<00:00,  3.84s/it]"
          ]
        },
        {
          "output_type": "stream",
          "name": "stdout",
          "text": [
            "                   all         27         14      0.691      0.643      0.721      0.544\n"
          ]
        },
        {
          "output_type": "stream",
          "name": "stderr",
          "text": [
            "\n"
          ]
        },
        {
          "output_type": "stream",
          "name": "stdout",
          "text": [
            "\n",
            "      Epoch    GPU_mem   box_loss   cls_loss   dfl_loss  Instances       Size\n"
          ]
        },
        {
          "output_type": "stream",
          "name": "stderr",
          "text": [
            "      22/50         0G      1.062      1.824     0.9934          2        640: 100%|██████████| 15/15 [01:41<00:00,  6.74s/it]\n",
            "                 Class     Images  Instances      Box(P          R      mAP50  mAP50-95): 100%|██████████| 2/2 [00:09<00:00,  4.54s/it]"
          ]
        },
        {
          "output_type": "stream",
          "name": "stdout",
          "text": [
            "                   all         27         14       0.72      0.643      0.716      0.565\n"
          ]
        },
        {
          "output_type": "stream",
          "name": "stderr",
          "text": [
            "\n"
          ]
        },
        {
          "output_type": "stream",
          "name": "stdout",
          "text": [
            "\n",
            "      Epoch    GPU_mem   box_loss   cls_loss   dfl_loss  Instances       Size\n"
          ]
        },
        {
          "output_type": "stream",
          "name": "stderr",
          "text": [
            "      23/50         0G     0.9597      2.264      1.002          5        640: 100%|██████████| 15/15 [01:39<00:00,  6.63s/it]\n",
            "                 Class     Images  Instances      Box(P          R      mAP50  mAP50-95): 100%|██████████| 2/2 [00:08<00:00,  4.43s/it]"
          ]
        },
        {
          "output_type": "stream",
          "name": "stdout",
          "text": [
            "                   all         27         14      0.788      0.643      0.715      0.475\n"
          ]
        },
        {
          "output_type": "stream",
          "name": "stderr",
          "text": [
            "\n"
          ]
        },
        {
          "output_type": "stream",
          "name": "stdout",
          "text": [
            "\n",
            "      Epoch    GPU_mem   box_loss   cls_loss   dfl_loss  Instances       Size\n"
          ]
        },
        {
          "output_type": "stream",
          "name": "stderr",
          "text": [
            "      24/50         0G     0.8486      1.683     0.8937          5        640: 100%|██████████| 15/15 [01:40<00:00,  6.69s/it]\n",
            "                 Class     Images  Instances      Box(P          R      mAP50  mAP50-95): 100%|██████████| 2/2 [00:07<00:00,  3.77s/it]"
          ]
        },
        {
          "output_type": "stream",
          "name": "stdout",
          "text": [
            "                   all         27         14      0.869      0.571      0.708      0.522\n"
          ]
        },
        {
          "output_type": "stream",
          "name": "stderr",
          "text": [
            "\n"
          ]
        },
        {
          "output_type": "stream",
          "name": "stdout",
          "text": [
            "\n",
            "      Epoch    GPU_mem   box_loss   cls_loss   dfl_loss  Instances       Size\n"
          ]
        },
        {
          "output_type": "stream",
          "name": "stderr",
          "text": [
            "      25/50         0G     0.9902      1.599      1.028          5        640: 100%|██████████| 15/15 [01:40<00:00,  6.69s/it]\n",
            "                 Class     Images  Instances      Box(P          R      mAP50  mAP50-95): 100%|██████████| 2/2 [00:07<00:00,  3.99s/it]"
          ]
        },
        {
          "output_type": "stream",
          "name": "stdout",
          "text": [
            "                   all         27         14       0.88      0.571       0.72      0.556\n"
          ]
        },
        {
          "output_type": "stream",
          "name": "stderr",
          "text": [
            "\n"
          ]
        },
        {
          "output_type": "stream",
          "name": "stdout",
          "text": [
            "\n",
            "      Epoch    GPU_mem   box_loss   cls_loss   dfl_loss  Instances       Size\n"
          ]
        },
        {
          "output_type": "stream",
          "name": "stderr",
          "text": [
            "      26/50         0G     0.9007      1.915     0.9359          6        640: 100%|██████████| 15/15 [01:38<00:00,  6.58s/it]\n",
            "                 Class     Images  Instances      Box(P          R      mAP50  mAP50-95): 100%|██████████| 2/2 [00:09<00:00,  4.58s/it]"
          ]
        },
        {
          "output_type": "stream",
          "name": "stdout",
          "text": [
            "                   all         27         14      0.888      0.568      0.715       0.51\n"
          ]
        },
        {
          "output_type": "stream",
          "name": "stderr",
          "text": [
            "\n"
          ]
        },
        {
          "output_type": "stream",
          "name": "stdout",
          "text": [
            "\n",
            "      Epoch    GPU_mem   box_loss   cls_loss   dfl_loss  Instances       Size\n"
          ]
        },
        {
          "output_type": "stream",
          "name": "stderr",
          "text": [
            "      27/50         0G      0.876      1.545     0.9466          3        640: 100%|██████████| 15/15 [01:41<00:00,  6.78s/it]\n",
            "                 Class     Images  Instances      Box(P          R      mAP50  mAP50-95): 100%|██████████| 2/2 [00:08<00:00,  4.40s/it]"
          ]
        },
        {
          "output_type": "stream",
          "name": "stdout",
          "text": [
            "                   all         27         14      0.646      0.714      0.681      0.492\n"
          ]
        },
        {
          "output_type": "stream",
          "name": "stderr",
          "text": [
            "\n"
          ]
        },
        {
          "output_type": "stream",
          "name": "stdout",
          "text": [
            "\n",
            "      Epoch    GPU_mem   box_loss   cls_loss   dfl_loss  Instances       Size\n"
          ]
        },
        {
          "output_type": "stream",
          "name": "stderr",
          "text": [
            "      28/50         0G     0.8414      1.508     0.9633          5        640: 100%|██████████| 15/15 [01:38<00:00,  6.59s/it]\n",
            "                 Class     Images  Instances      Box(P          R      mAP50  mAP50-95): 100%|██████████| 2/2 [00:07<00:00,  3.82s/it]"
          ]
        },
        {
          "output_type": "stream",
          "name": "stdout",
          "text": [
            "                   all         27         14      0.657      0.714      0.709      0.543\n"
          ]
        },
        {
          "output_type": "stream",
          "name": "stderr",
          "text": [
            "\n"
          ]
        },
        {
          "output_type": "stream",
          "name": "stdout",
          "text": [
            "\n",
            "      Epoch    GPU_mem   box_loss   cls_loss   dfl_loss  Instances       Size\n"
          ]
        },
        {
          "output_type": "stream",
          "name": "stderr",
          "text": [
            "      29/50         0G     0.7843      1.627     0.9104          6        640: 100%|██████████| 15/15 [01:39<00:00,  6.61s/it]\n",
            "                 Class     Images  Instances      Box(P          R      mAP50  mAP50-95): 100%|██████████| 2/2 [00:08<00:00,  4.36s/it]"
          ]
        },
        {
          "output_type": "stream",
          "name": "stdout",
          "text": [
            "                   all         27         14      0.706      0.714      0.698      0.536\n"
          ]
        },
        {
          "output_type": "stream",
          "name": "stderr",
          "text": [
            "\n"
          ]
        },
        {
          "output_type": "stream",
          "name": "stdout",
          "text": [
            "\n",
            "      Epoch    GPU_mem   box_loss   cls_loss   dfl_loss  Instances       Size\n"
          ]
        },
        {
          "output_type": "stream",
          "name": "stderr",
          "text": [
            "      30/50         0G     0.8828      1.864     0.9715          3        640: 100%|██████████| 15/15 [01:39<00:00,  6.64s/it]\n",
            "                 Class     Images  Instances      Box(P          R      mAP50  mAP50-95): 100%|██████████| 2/2 [00:09<00:00,  4.55s/it]"
          ]
        },
        {
          "output_type": "stream",
          "name": "stdout",
          "text": [
            "                   all         27         14      0.704      0.714      0.697      0.548\n"
          ]
        },
        {
          "output_type": "stream",
          "name": "stderr",
          "text": [
            "\n"
          ]
        },
        {
          "output_type": "stream",
          "name": "stdout",
          "text": [
            "\n",
            "      Epoch    GPU_mem   box_loss   cls_loss   dfl_loss  Instances       Size\n"
          ]
        },
        {
          "output_type": "stream",
          "name": "stderr",
          "text": [
            "      31/50         0G     0.8312       1.43     0.9505          4        640: 100%|██████████| 15/15 [01:39<00:00,  6.64s/it]\n",
            "                 Class     Images  Instances      Box(P          R      mAP50  mAP50-95): 100%|██████████| 2/2 [00:07<00:00,  3.67s/it]"
          ]
        },
        {
          "output_type": "stream",
          "name": "stdout",
          "text": [
            "                   all         27         14      0.873      0.643      0.726      0.567\n"
          ]
        },
        {
          "output_type": "stream",
          "name": "stderr",
          "text": [
            "\n"
          ]
        },
        {
          "output_type": "stream",
          "name": "stdout",
          "text": [
            "\n",
            "      Epoch    GPU_mem   box_loss   cls_loss   dfl_loss  Instances       Size\n"
          ]
        },
        {
          "output_type": "stream",
          "name": "stderr",
          "text": [
            "      32/50         0G     0.7381      2.491     0.8077          3        640: 100%|██████████| 15/15 [01:41<00:00,  6.80s/it]\n",
            "                 Class     Images  Instances      Box(P          R      mAP50  mAP50-95): 100%|██████████| 2/2 [00:08<00:00,  4.06s/it]"
          ]
        },
        {
          "output_type": "stream",
          "name": "stdout",
          "text": [
            "                   all         27         14      0.883      0.643      0.731      0.571\n"
          ]
        },
        {
          "output_type": "stream",
          "name": "stderr",
          "text": [
            "\n"
          ]
        },
        {
          "output_type": "stream",
          "name": "stdout",
          "text": [
            "\n",
            "      Epoch    GPU_mem   box_loss   cls_loss   dfl_loss  Instances       Size\n"
          ]
        },
        {
          "output_type": "stream",
          "name": "stderr",
          "text": [
            "      33/50         0G      0.686      1.513     0.8361          5        640: 100%|██████████| 15/15 [01:39<00:00,  6.61s/it]\n",
            "                 Class     Images  Instances      Box(P          R      mAP50  mAP50-95): 100%|██████████| 2/2 [00:08<00:00,  4.40s/it]"
          ]
        },
        {
          "output_type": "stream",
          "name": "stdout",
          "text": [
            "                   all         27         14      0.884      0.643      0.696      0.534\n"
          ]
        },
        {
          "output_type": "stream",
          "name": "stderr",
          "text": [
            "\n"
          ]
        },
        {
          "output_type": "stream",
          "name": "stdout",
          "text": [
            "\n",
            "      Epoch    GPU_mem   box_loss   cls_loss   dfl_loss  Instances       Size\n"
          ]
        },
        {
          "output_type": "stream",
          "name": "stderr",
          "text": [
            "      34/50         0G     0.7849      1.551     0.9528          5        640: 100%|██████████| 15/15 [01:40<00:00,  6.71s/it]\n",
            "                 Class     Images  Instances      Box(P          R      mAP50  mAP50-95): 100%|██████████| 2/2 [00:08<00:00,  4.20s/it]"
          ]
        },
        {
          "output_type": "stream",
          "name": "stdout",
          "text": [
            "                   all         27         14        0.9      0.641      0.762      0.568\n"
          ]
        },
        {
          "output_type": "stream",
          "name": "stderr",
          "text": [
            "\n"
          ]
        },
        {
          "output_type": "stream",
          "name": "stdout",
          "text": [
            "\n",
            "      Epoch    GPU_mem   box_loss   cls_loss   dfl_loss  Instances       Size\n"
          ]
        },
        {
          "output_type": "stream",
          "name": "stderr",
          "text": [
            "      35/50         0G     0.8376       1.51     0.9402          5        640: 100%|██████████| 15/15 [01:39<00:00,  6.65s/it]\n",
            "                 Class     Images  Instances      Box(P          R      mAP50  mAP50-95): 100%|██████████| 2/2 [00:07<00:00,  3.69s/it]"
          ]
        },
        {
          "output_type": "stream",
          "name": "stdout",
          "text": [
            "                   all         27         14      0.814      0.628      0.781      0.566\n"
          ]
        },
        {
          "output_type": "stream",
          "name": "stderr",
          "text": [
            "\n"
          ]
        },
        {
          "output_type": "stream",
          "name": "stdout",
          "text": [
            "\n",
            "      Epoch    GPU_mem   box_loss   cls_loss   dfl_loss  Instances       Size\n"
          ]
        },
        {
          "output_type": "stream",
          "name": "stderr",
          "text": [
            "      36/50         0G     0.8365      1.359     0.9089          5        640: 100%|██████████| 15/15 [01:40<00:00,  6.68s/it]\n",
            "                 Class     Images  Instances      Box(P          R      mAP50  mAP50-95): 100%|██████████| 2/2 [00:08<00:00,  4.44s/it]"
          ]
        },
        {
          "output_type": "stream",
          "name": "stdout",
          "text": [
            "                   all         27         14      0.727       0.76      0.788      0.585\n"
          ]
        },
        {
          "output_type": "stream",
          "name": "stderr",
          "text": [
            "\n"
          ]
        },
        {
          "output_type": "stream",
          "name": "stdout",
          "text": [
            "\n",
            "      Epoch    GPU_mem   box_loss   cls_loss   dfl_loss  Instances       Size\n"
          ]
        },
        {
          "output_type": "stream",
          "name": "stderr",
          "text": [
            "      37/50         0G     0.6815      3.085     0.8682          4        640: 100%|██████████| 15/15 [01:40<00:00,  6.67s/it]\n",
            "                 Class     Images  Instances      Box(P          R      mAP50  mAP50-95): 100%|██████████| 2/2 [00:08<00:00,  4.40s/it]"
          ]
        },
        {
          "output_type": "stream",
          "name": "stdout",
          "text": [
            "                   all         27         14      0.873      0.643      0.785      0.587\n"
          ]
        },
        {
          "output_type": "stream",
          "name": "stderr",
          "text": [
            "\n"
          ]
        },
        {
          "output_type": "stream",
          "name": "stdout",
          "text": [
            "\n",
            "      Epoch    GPU_mem   box_loss   cls_loss   dfl_loss  Instances       Size\n"
          ]
        },
        {
          "output_type": "stream",
          "name": "stderr",
          "text": [
            "      38/50         0G     0.7749      1.389     0.9099          5        640: 100%|██████████| 15/15 [01:40<00:00,  6.68s/it]\n",
            "                 Class     Images  Instances      Box(P          R      mAP50  mAP50-95): 100%|██████████| 2/2 [00:07<00:00,  3.83s/it]"
          ]
        },
        {
          "output_type": "stream",
          "name": "stdout",
          "text": [
            "                   all         27         14      0.881      0.643      0.763      0.585\n"
          ]
        },
        {
          "output_type": "stream",
          "name": "stderr",
          "text": [
            "\n"
          ]
        },
        {
          "output_type": "stream",
          "name": "stdout",
          "text": [
            "\n",
            "      Epoch    GPU_mem   box_loss   cls_loss   dfl_loss  Instances       Size\n"
          ]
        },
        {
          "output_type": "stream",
          "name": "stderr",
          "text": [
            "      39/50         0G     0.8944      1.782     0.9774          4        640: 100%|██████████| 15/15 [01:41<00:00,  6.74s/it]\n",
            "                 Class     Images  Instances      Box(P          R      mAP50  mAP50-95): 100%|██████████| 2/2 [00:08<00:00,  4.05s/it]"
          ]
        },
        {
          "output_type": "stream",
          "name": "stdout",
          "text": [
            "                   all         27         14      0.883      0.643      0.771      0.613\n"
          ]
        },
        {
          "output_type": "stream",
          "name": "stderr",
          "text": [
            "\n"
          ]
        },
        {
          "output_type": "stream",
          "name": "stdout",
          "text": [
            "\n",
            "      Epoch    GPU_mem   box_loss   cls_loss   dfl_loss  Instances       Size\n"
          ]
        },
        {
          "output_type": "stream",
          "name": "stderr",
          "text": [
            "      40/50         0G     0.7484      1.411      0.928          4        640: 100%|██████████| 15/15 [01:40<00:00,  6.69s/it]\n",
            "                 Class     Images  Instances      Box(P          R      mAP50  mAP50-95): 100%|██████████| 2/2 [00:09<00:00,  4.59s/it]"
          ]
        },
        {
          "output_type": "stream",
          "name": "stdout",
          "text": [
            "                   all         27         14      0.847      0.643      0.808      0.627\n"
          ]
        },
        {
          "output_type": "stream",
          "name": "stderr",
          "text": [
            "\n"
          ]
        },
        {
          "output_type": "stream",
          "name": "stdout",
          "text": [
            "Closing dataloader mosaic\n",
            "\u001b[34m\u001b[1malbumentations: \u001b[0mBlur(p=0.01, blur_limit=(3, 7)), MedianBlur(p=0.01, blur_limit=(3, 7)), ToGray(p=0.01, num_output_channels=3, method='weighted_average'), CLAHE(p=0.01, clip_limit=(1.0, 4.0), tile_grid_size=(8, 8))\n",
            "\n",
            "      Epoch    GPU_mem   box_loss   cls_loss   dfl_loss  Instances       Size\n"
          ]
        },
        {
          "output_type": "stream",
          "name": "stderr",
          "text": [
            "      41/50         0G     0.8047       1.79     0.9133          3        640: 100%|██████████| 15/15 [01:40<00:00,  6.72s/it]\n",
            "                 Class     Images  Instances      Box(P          R      mAP50  mAP50-95): 100%|██████████| 2/2 [00:08<00:00,  4.45s/it]"
          ]
        },
        {
          "output_type": "stream",
          "name": "stdout",
          "text": [
            "                   all         27         14      0.801      0.643      0.787      0.633\n"
          ]
        },
        {
          "output_type": "stream",
          "name": "stderr",
          "text": [
            "\n"
          ]
        },
        {
          "output_type": "stream",
          "name": "stdout",
          "text": [
            "\n",
            "      Epoch    GPU_mem   box_loss   cls_loss   dfl_loss  Instances       Size\n"
          ]
        },
        {
          "output_type": "stream",
          "name": "stderr",
          "text": [
            "      42/50         0G     0.7305       1.32     0.9268          3        640: 100%|██████████| 15/15 [01:40<00:00,  6.68s/it]\n",
            "                 Class     Images  Instances      Box(P          R      mAP50  mAP50-95): 100%|██████████| 2/2 [00:07<00:00,  3.85s/it]"
          ]
        },
        {
          "output_type": "stream",
          "name": "stdout",
          "text": [
            "                   all         27         14      0.899      0.636      0.785      0.643\n"
          ]
        },
        {
          "output_type": "stream",
          "name": "stderr",
          "text": [
            "\n"
          ]
        },
        {
          "output_type": "stream",
          "name": "stdout",
          "text": [
            "\n",
            "      Epoch    GPU_mem   box_loss   cls_loss   dfl_loss  Instances       Size\n"
          ]
        },
        {
          "output_type": "stream",
          "name": "stderr",
          "text": [
            "      43/50         0G     0.5992      1.331     0.8857          1        640: 100%|██████████| 15/15 [01:45<00:00,  7.01s/it]\n",
            "                 Class     Images  Instances      Box(P          R      mAP50  mAP50-95): 100%|██████████| 2/2 [00:07<00:00,  3.92s/it]"
          ]
        },
        {
          "output_type": "stream",
          "name": "stdout",
          "text": [
            "                   all         27         14      0.839      0.643      0.768      0.628\n"
          ]
        },
        {
          "output_type": "stream",
          "name": "stderr",
          "text": [
            "\n"
          ]
        },
        {
          "output_type": "stream",
          "name": "stdout",
          "text": [
            "\n",
            "      Epoch    GPU_mem   box_loss   cls_loss   dfl_loss  Instances       Size\n"
          ]
        },
        {
          "output_type": "stream",
          "name": "stderr",
          "text": [
            "      44/50         0G     0.6352      1.413     0.9117          2        640: 100%|██████████| 15/15 [01:42<00:00,  6.86s/it]\n",
            "                 Class     Images  Instances      Box(P          R      mAP50  mAP50-95): 100%|██████████| 2/2 [00:08<00:00,  4.02s/it]"
          ]
        },
        {
          "output_type": "stream",
          "name": "stdout",
          "text": [
            "                   all         27         14      0.712      0.707      0.757      0.638\n"
          ]
        },
        {
          "output_type": "stream",
          "name": "stderr",
          "text": [
            "\n"
          ]
        },
        {
          "output_type": "stream",
          "name": "stdout",
          "text": [
            "\n",
            "      Epoch    GPU_mem   box_loss   cls_loss   dfl_loss  Instances       Size\n"
          ]
        },
        {
          "output_type": "stream",
          "name": "stderr",
          "text": [
            "      45/50         0G     0.6395      2.174     0.9164          3        640: 100%|██████████| 15/15 [01:38<00:00,  6.59s/it]\n",
            "                 Class     Images  Instances      Box(P          R      mAP50  mAP50-95): 100%|██████████| 2/2 [00:08<00:00,  4.39s/it]"
          ]
        },
        {
          "output_type": "stream",
          "name": "stdout",
          "text": [
            "                   all         27         14      0.708      0.693       0.77      0.642\n"
          ]
        },
        {
          "output_type": "stream",
          "name": "stderr",
          "text": [
            "\n"
          ]
        },
        {
          "output_type": "stream",
          "name": "stdout",
          "text": [
            "\n",
            "      Epoch    GPU_mem   box_loss   cls_loss   dfl_loss  Instances       Size\n"
          ]
        },
        {
          "output_type": "stream",
          "name": "stderr",
          "text": [
            "      46/50         0G     0.6438      1.229      0.908          1        640: 100%|██████████| 15/15 [01:42<00:00,  6.83s/it]\n",
            "                 Class     Images  Instances      Box(P          R      mAP50  mAP50-95): 100%|██████████| 2/2 [00:09<00:00,  4.70s/it]"
          ]
        },
        {
          "output_type": "stream",
          "name": "stdout",
          "text": [
            "                   all         27         14      0.706      0.687       0.77      0.627\n"
          ]
        },
        {
          "output_type": "stream",
          "name": "stderr",
          "text": [
            "\n"
          ]
        },
        {
          "output_type": "stream",
          "name": "stdout",
          "text": [
            "\n",
            "      Epoch    GPU_mem   box_loss   cls_loss   dfl_loss  Instances       Size\n"
          ]
        },
        {
          "output_type": "stream",
          "name": "stderr",
          "text": [
            "      47/50         0G     0.6065      1.338     0.9076          3        640: 100%|██████████| 15/15 [01:41<00:00,  6.80s/it]\n",
            "                 Class     Images  Instances      Box(P          R      mAP50  mAP50-95): 100%|██████████| 2/2 [00:08<00:00,  4.04s/it]"
          ]
        },
        {
          "output_type": "stream",
          "name": "stdout",
          "text": [
            "                   all         27         14      0.707      0.691      0.766      0.624\n"
          ]
        },
        {
          "output_type": "stream",
          "name": "stderr",
          "text": [
            "\n"
          ]
        },
        {
          "output_type": "stream",
          "name": "stdout",
          "text": [
            "\n",
            "      Epoch    GPU_mem   box_loss   cls_loss   dfl_loss  Instances       Size\n"
          ]
        },
        {
          "output_type": "stream",
          "name": "stderr",
          "text": [
            "      48/50         0G     0.6239      1.567     0.9047          2        640: 100%|██████████| 15/15 [01:41<00:00,  6.73s/it]\n",
            "                 Class     Images  Instances      Box(P          R      mAP50  mAP50-95): 100%|██████████| 2/2 [00:07<00:00,  4.00s/it]"
          ]
        },
        {
          "output_type": "stream",
          "name": "stdout",
          "text": [
            "                   all         27         14      0.702      0.676      0.741      0.615\n"
          ]
        },
        {
          "output_type": "stream",
          "name": "stderr",
          "text": [
            "\n"
          ]
        },
        {
          "output_type": "stream",
          "name": "stdout",
          "text": [
            "\n",
            "      Epoch    GPU_mem   box_loss   cls_loss   dfl_loss  Instances       Size\n"
          ]
        },
        {
          "output_type": "stream",
          "name": "stderr",
          "text": [
            "      49/50         0G     0.5769      1.857     0.8567          4        640: 100%|██████████| 15/15 [01:39<00:00,  6.64s/it]\n",
            "                 Class     Images  Instances      Box(P          R      mAP50  mAP50-95): 100%|██████████| 2/2 [00:09<00:00,  4.70s/it]"
          ]
        },
        {
          "output_type": "stream",
          "name": "stdout",
          "text": [
            "                   all         27         14      0.711      0.714      0.751      0.626\n"
          ]
        },
        {
          "output_type": "stream",
          "name": "stderr",
          "text": [
            "\n"
          ]
        },
        {
          "output_type": "stream",
          "name": "stdout",
          "text": [
            "\n",
            "      Epoch    GPU_mem   box_loss   cls_loss   dfl_loss  Instances       Size\n"
          ]
        },
        {
          "output_type": "stream",
          "name": "stderr",
          "text": [
            "      50/50         0G     0.5677      1.325     0.9064          4        640: 100%|██████████| 15/15 [01:39<00:00,  6.64s/it]\n",
            "                 Class     Images  Instances      Box(P          R      mAP50  mAP50-95): 100%|██████████| 2/2 [00:08<00:00,  4.39s/it]"
          ]
        },
        {
          "output_type": "stream",
          "name": "stdout",
          "text": [
            "                   all         27         14      0.767      0.706      0.752      0.617\n"
          ]
        },
        {
          "output_type": "stream",
          "name": "stderr",
          "text": [
            "\n"
          ]
        },
        {
          "output_type": "stream",
          "name": "stdout",
          "text": [
            "\n",
            "50 epochs completed in 1.520 hours.\n",
            "Optimizer stripped from /content/drive/My Drive/YOUR_FOLDER/yolov8_training2/weights/last.pt, 6.2MB\n",
            "Optimizer stripped from /content/drive/My Drive/YOUR_FOLDER/yolov8_training2/weights/best.pt, 6.2MB\n",
            "\n",
            "Validating /content/drive/My Drive/YOUR_FOLDER/yolov8_training2/weights/best.pt...\n",
            "Ultralytics 8.3.94 🚀 Python-3.11.11 torch-2.6.0+cu124 CPU (Intel Xeon 2.20GHz)\n",
            "Model summary (fused): 72 layers, 3,005,843 parameters, 0 gradients, 8.1 GFLOPs\n"
          ]
        },
        {
          "output_type": "stream",
          "name": "stderr",
          "text": [
            "                 Class     Images  Instances      Box(P          R      mAP50  mAP50-95): 100%|██████████| 2/2 [00:07<00:00,  3.57s/it]\n"
          ]
        },
        {
          "output_type": "stream",
          "name": "stdout",
          "text": [
            "                   all         27         14      0.899      0.635      0.785      0.643\n",
            "Speed: 2.8ms preprocess, 241.4ms inference, 0.0ms loss, 1.0ms postprocess per image\n",
            "Results saved to \u001b[1m/content/drive/My Drive/YOUR_FOLDER/yolov8_training2\u001b[0m\n"
          ]
        },
        {
          "output_type": "execute_result",
          "data": {
            "text/plain": [
              "ultralytics.utils.metrics.DetMetrics object with attributes:\n",
              "\n",
              "ap_class_index: array([0])\n",
              "box: ultralytics.utils.metrics.Metric object\n",
              "confusion_matrix: <ultralytics.utils.metrics.ConfusionMatrix object at 0x78d810d7bc10>\n",
              "curves: ['Precision-Recall(B)', 'F1-Confidence(B)', 'Precision-Confidence(B)', 'Recall-Confidence(B)']\n",
              "curves_results: [[array([          0,    0.001001,    0.002002,    0.003003,    0.004004,    0.005005,    0.006006,    0.007007,    0.008008,    0.009009,     0.01001,    0.011011,    0.012012,    0.013013,    0.014014,    0.015015,    0.016016,    0.017017,    0.018018,    0.019019,     0.02002,    0.021021,    0.022022,    0.023023,\n",
              "          0.024024,    0.025025,    0.026026,    0.027027,    0.028028,    0.029029,     0.03003,    0.031031,    0.032032,    0.033033,    0.034034,    0.035035,    0.036036,    0.037037,    0.038038,    0.039039,     0.04004,    0.041041,    0.042042,    0.043043,    0.044044,    0.045045,    0.046046,    0.047047,\n",
              "          0.048048,    0.049049,     0.05005,    0.051051,    0.052052,    0.053053,    0.054054,    0.055055,    0.056056,    0.057057,    0.058058,    0.059059,     0.06006,    0.061061,    0.062062,    0.063063,    0.064064,    0.065065,    0.066066,    0.067067,    0.068068,    0.069069,     0.07007,    0.071071,\n",
              "          0.072072,    0.073073,    0.074074,    0.075075,    0.076076,    0.077077,    0.078078,    0.079079,     0.08008,    0.081081,    0.082082,    0.083083,    0.084084,    0.085085,    0.086086,    0.087087,    0.088088,    0.089089,     0.09009,    0.091091,    0.092092,    0.093093,    0.094094,    0.095095,\n",
              "          0.096096,    0.097097,    0.098098,    0.099099,      0.1001,      0.1011,      0.1021,      0.1031,      0.1041,     0.10511,     0.10611,     0.10711,     0.10811,     0.10911,     0.11011,     0.11111,     0.11211,     0.11311,     0.11411,     0.11512,     0.11612,     0.11712,     0.11812,     0.11912,\n",
              "           0.12012,     0.12112,     0.12212,     0.12312,     0.12412,     0.12513,     0.12613,     0.12713,     0.12813,     0.12913,     0.13013,     0.13113,     0.13213,     0.13313,     0.13413,     0.13514,     0.13614,     0.13714,     0.13814,     0.13914,     0.14014,     0.14114,     0.14214,     0.14314,\n",
              "           0.14414,     0.14515,     0.14615,     0.14715,     0.14815,     0.14915,     0.15015,     0.15115,     0.15215,     0.15315,     0.15415,     0.15516,     0.15616,     0.15716,     0.15816,     0.15916,     0.16016,     0.16116,     0.16216,     0.16316,     0.16416,     0.16517,     0.16617,     0.16717,\n",
              "           0.16817,     0.16917,     0.17017,     0.17117,     0.17217,     0.17317,     0.17417,     0.17518,     0.17618,     0.17718,     0.17818,     0.17918,     0.18018,     0.18118,     0.18218,     0.18318,     0.18418,     0.18519,     0.18619,     0.18719,     0.18819,     0.18919,     0.19019,     0.19119,\n",
              "           0.19219,     0.19319,     0.19419,      0.1952,      0.1962,      0.1972,      0.1982,      0.1992,      0.2002,      0.2012,      0.2022,      0.2032,      0.2042,     0.20521,     0.20621,     0.20721,     0.20821,     0.20921,     0.21021,     0.21121,     0.21221,     0.21321,     0.21421,     0.21522,\n",
              "           0.21622,     0.21722,     0.21822,     0.21922,     0.22022,     0.22122,     0.22222,     0.22322,     0.22422,     0.22523,     0.22623,     0.22723,     0.22823,     0.22923,     0.23023,     0.23123,     0.23223,     0.23323,     0.23423,     0.23524,     0.23624,     0.23724,     0.23824,     0.23924,\n",
              "           0.24024,     0.24124,     0.24224,     0.24324,     0.24424,     0.24525,     0.24625,     0.24725,     0.24825,     0.24925,     0.25025,     0.25125,     0.25225,     0.25325,     0.25425,     0.25526,     0.25626,     0.25726,     0.25826,     0.25926,     0.26026,     0.26126,     0.26226,     0.26326,\n",
              "           0.26426,     0.26527,     0.26627,     0.26727,     0.26827,     0.26927,     0.27027,     0.27127,     0.27227,     0.27327,     0.27427,     0.27528,     0.27628,     0.27728,     0.27828,     0.27928,     0.28028,     0.28128,     0.28228,     0.28328,     0.28428,     0.28529,     0.28629,     0.28729,\n",
              "           0.28829,     0.28929,     0.29029,     0.29129,     0.29229,     0.29329,     0.29429,      0.2953,      0.2963,      0.2973,      0.2983,      0.2993,      0.3003,      0.3013,      0.3023,      0.3033,      0.3043,     0.30531,     0.30631,     0.30731,     0.30831,     0.30931,     0.31031,     0.31131,\n",
              "           0.31231,     0.31331,     0.31431,     0.31532,     0.31632,     0.31732,     0.31832,     0.31932,     0.32032,     0.32132,     0.32232,     0.32332,     0.32432,     0.32533,     0.32633,     0.32733,     0.32833,     0.32933,     0.33033,     0.33133,     0.33233,     0.33333,     0.33433,     0.33534,\n",
              "           0.33634,     0.33734,     0.33834,     0.33934,     0.34034,     0.34134,     0.34234,     0.34334,     0.34434,     0.34535,     0.34635,     0.34735,     0.34835,     0.34935,     0.35035,     0.35135,     0.35235,     0.35335,     0.35435,     0.35536,     0.35636,     0.35736,     0.35836,     0.35936,\n",
              "           0.36036,     0.36136,     0.36236,     0.36336,     0.36436,     0.36537,     0.36637,     0.36737,     0.36837,     0.36937,     0.37037,     0.37137,     0.37237,     0.37337,     0.37437,     0.37538,     0.37638,     0.37738,     0.37838,     0.37938,     0.38038,     0.38138,     0.38238,     0.38338,\n",
              "           0.38438,     0.38539,     0.38639,     0.38739,     0.38839,     0.38939,     0.39039,     0.39139,     0.39239,     0.39339,     0.39439,      0.3954,      0.3964,      0.3974,      0.3984,      0.3994,      0.4004,      0.4014,      0.4024,      0.4034,      0.4044,     0.40541,     0.40641,     0.40741,\n",
              "           0.40841,     0.40941,     0.41041,     0.41141,     0.41241,     0.41341,     0.41441,     0.41542,     0.41642,     0.41742,     0.41842,     0.41942,     0.42042,     0.42142,     0.42242,     0.42342,     0.42442,     0.42543,     0.42643,     0.42743,     0.42843,     0.42943,     0.43043,     0.43143,\n",
              "           0.43243,     0.43343,     0.43443,     0.43544,     0.43644,     0.43744,     0.43844,     0.43944,     0.44044,     0.44144,     0.44244,     0.44344,     0.44444,     0.44545,     0.44645,     0.44745,     0.44845,     0.44945,     0.45045,     0.45145,     0.45245,     0.45345,     0.45445,     0.45546,\n",
              "           0.45646,     0.45746,     0.45846,     0.45946,     0.46046,     0.46146,     0.46246,     0.46346,     0.46446,     0.46547,     0.46647,     0.46747,     0.46847,     0.46947,     0.47047,     0.47147,     0.47247,     0.47347,     0.47447,     0.47548,     0.47648,     0.47748,     0.47848,     0.47948,\n",
              "           0.48048,     0.48148,     0.48248,     0.48348,     0.48448,     0.48549,     0.48649,     0.48749,     0.48849,     0.48949,     0.49049,     0.49149,     0.49249,     0.49349,     0.49449,      0.4955,      0.4965,      0.4975,      0.4985,      0.4995,      0.5005,      0.5015,      0.5025,      0.5035,\n",
              "            0.5045,     0.50551,     0.50651,     0.50751,     0.50851,     0.50951,     0.51051,     0.51151,     0.51251,     0.51351,     0.51451,     0.51552,     0.51652,     0.51752,     0.51852,     0.51952,     0.52052,     0.52152,     0.52252,     0.52352,     0.52452,     0.52553,     0.52653,     0.52753,\n",
              "           0.52853,     0.52953,     0.53053,     0.53153,     0.53253,     0.53353,     0.53453,     0.53554,     0.53654,     0.53754,     0.53854,     0.53954,     0.54054,     0.54154,     0.54254,     0.54354,     0.54454,     0.54555,     0.54655,     0.54755,     0.54855,     0.54955,     0.55055,     0.55155,\n",
              "           0.55255,     0.55355,     0.55455,     0.55556,     0.55656,     0.55756,     0.55856,     0.55956,     0.56056,     0.56156,     0.56256,     0.56356,     0.56456,     0.56557,     0.56657,     0.56757,     0.56857,     0.56957,     0.57057,     0.57157,     0.57257,     0.57357,     0.57457,     0.57558,\n",
              "           0.57658,     0.57758,     0.57858,     0.57958,     0.58058,     0.58158,     0.58258,     0.58358,     0.58458,     0.58559,     0.58659,     0.58759,     0.58859,     0.58959,     0.59059,     0.59159,     0.59259,     0.59359,     0.59459,      0.5956,      0.5966,      0.5976,      0.5986,      0.5996,\n",
              "            0.6006,      0.6016,      0.6026,      0.6036,      0.6046,     0.60561,     0.60661,     0.60761,     0.60861,     0.60961,     0.61061,     0.61161,     0.61261,     0.61361,     0.61461,     0.61562,     0.61662,     0.61762,     0.61862,     0.61962,     0.62062,     0.62162,     0.62262,     0.62362,\n",
              "           0.62462,     0.62563,     0.62663,     0.62763,     0.62863,     0.62963,     0.63063,     0.63163,     0.63263,     0.63363,     0.63463,     0.63564,     0.63664,     0.63764,     0.63864,     0.63964,     0.64064,     0.64164,     0.64264,     0.64364,     0.64464,     0.64565,     0.64665,     0.64765,\n",
              "           0.64865,     0.64965,     0.65065,     0.65165,     0.65265,     0.65365,     0.65465,     0.65566,     0.65666,     0.65766,     0.65866,     0.65966,     0.66066,     0.66166,     0.66266,     0.66366,     0.66466,     0.66567,     0.66667,     0.66767,     0.66867,     0.66967,     0.67067,     0.67167,\n",
              "           0.67267,     0.67367,     0.67467,     0.67568,     0.67668,     0.67768,     0.67868,     0.67968,     0.68068,     0.68168,     0.68268,     0.68368,     0.68468,     0.68569,     0.68669,     0.68769,     0.68869,     0.68969,     0.69069,     0.69169,     0.69269,     0.69369,     0.69469,      0.6957,\n",
              "            0.6967,      0.6977,      0.6987,      0.6997,      0.7007,      0.7017,      0.7027,      0.7037,      0.7047,     0.70571,     0.70671,     0.70771,     0.70871,     0.70971,     0.71071,     0.71171,     0.71271,     0.71371,     0.71471,     0.71572,     0.71672,     0.71772,     0.71872,     0.71972,\n",
              "           0.72072,     0.72172,     0.72272,     0.72372,     0.72472,     0.72573,     0.72673,     0.72773,     0.72873,     0.72973,     0.73073,     0.73173,     0.73273,     0.73373,     0.73473,     0.73574,     0.73674,     0.73774,     0.73874,     0.73974,     0.74074,     0.74174,     0.74274,     0.74374,\n",
              "           0.74474,     0.74575,     0.74675,     0.74775,     0.74875,     0.74975,     0.75075,     0.75175,     0.75275,     0.75375,     0.75475,     0.75576,     0.75676,     0.75776,     0.75876,     0.75976,     0.76076,     0.76176,     0.76276,     0.76376,     0.76476,     0.76577,     0.76677,     0.76777,\n",
              "           0.76877,     0.76977,     0.77077,     0.77177,     0.77277,     0.77377,     0.77477,     0.77578,     0.77678,     0.77778,     0.77878,     0.77978,     0.78078,     0.78178,     0.78278,     0.78378,     0.78478,     0.78579,     0.78679,     0.78779,     0.78879,     0.78979,     0.79079,     0.79179,\n",
              "           0.79279,     0.79379,     0.79479,      0.7958,      0.7968,      0.7978,      0.7988,      0.7998,      0.8008,      0.8018,      0.8028,      0.8038,      0.8048,     0.80581,     0.80681,     0.80781,     0.80881,     0.80981,     0.81081,     0.81181,     0.81281,     0.81381,     0.81481,     0.81582,\n",
              "           0.81682,     0.81782,     0.81882,     0.81982,     0.82082,     0.82182,     0.82282,     0.82382,     0.82482,     0.82583,     0.82683,     0.82783,     0.82883,     0.82983,     0.83083,     0.83183,     0.83283,     0.83383,     0.83483,     0.83584,     0.83684,     0.83784,     0.83884,     0.83984,\n",
              "           0.84084,     0.84184,     0.84284,     0.84384,     0.84484,     0.84585,     0.84685,     0.84785,     0.84885,     0.84985,     0.85085,     0.85185,     0.85285,     0.85385,     0.85485,     0.85586,     0.85686,     0.85786,     0.85886,     0.85986,     0.86086,     0.86186,     0.86286,     0.86386,\n",
              "           0.86486,     0.86587,     0.86687,     0.86787,     0.86887,     0.86987,     0.87087,     0.87187,     0.87287,     0.87387,     0.87487,     0.87588,     0.87688,     0.87788,     0.87888,     0.87988,     0.88088,     0.88188,     0.88288,     0.88388,     0.88488,     0.88589,     0.88689,     0.88789,\n",
              "           0.88889,     0.88989,     0.89089,     0.89189,     0.89289,     0.89389,     0.89489,      0.8959,      0.8969,      0.8979,      0.8989,      0.8999,      0.9009,      0.9019,      0.9029,      0.9039,      0.9049,     0.90591,     0.90691,     0.90791,     0.90891,     0.90991,     0.91091,     0.91191,\n",
              "           0.91291,     0.91391,     0.91491,     0.91592,     0.91692,     0.91792,     0.91892,     0.91992,     0.92092,     0.92192,     0.92292,     0.92392,     0.92492,     0.92593,     0.92693,     0.92793,     0.92893,     0.92993,     0.93093,     0.93193,     0.93293,     0.93393,     0.93493,     0.93594,\n",
              "           0.93694,     0.93794,     0.93894,     0.93994,     0.94094,     0.94194,     0.94294,     0.94394,     0.94494,     0.94595,     0.94695,     0.94795,     0.94895,     0.94995,     0.95095,     0.95195,     0.95295,     0.95395,     0.95495,     0.95596,     0.95696,     0.95796,     0.95896,     0.95996,\n",
              "           0.96096,     0.96196,     0.96296,     0.96396,     0.96496,     0.96597,     0.96697,     0.96797,     0.96897,     0.96997,     0.97097,     0.97197,     0.97297,     0.97397,     0.97497,     0.97598,     0.97698,     0.97798,     0.97898,     0.97998,     0.98098,     0.98198,     0.98298,     0.98398,\n",
              "           0.98498,     0.98599,     0.98699,     0.98799,     0.98899,     0.98999,     0.99099,     0.99199,     0.99299,     0.99399,     0.99499,       0.996,       0.997,       0.998,       0.999,           1]), array([[          1,           1,           1,           1,           1,           1,           1,           1,           1,           1,           1,           1,           1,           1,           1,           1,           1,           1,           1,           1,           1,           1,           1,\n",
              "                  1,           1,           1,           1,           1,           1,           1,           1,           1,           1,           1,           1,           1,           1,           1,           1,           1,           1,           1,           1,           1,           1,           1,\n",
              "                  1,           1,           1,           1,           1,           1,           1,           1,           1,           1,           1,           1,           1,           1,           1,           1,           1,           1,           1,           1,           1,           1,           1,\n",
              "                  1,           1,           1,           1,           1,           1,           1,           1,           1,           1,           1,           1,           1,           1,           1,           1,           1,           1,           1,           1,           1,           1,           1,\n",
              "                  1,           1,           1,           1,           1,           1,           1,           1,           1,           1,           1,           1,           1,           1,           1,           1,           1,           1,           1,           1,           1,           1,           1,\n",
              "                  1,           1,           1,           1,           1,           1,           1,           1,           1,           1,           1,           1,           1,           1,           1,           1,           1,           1,           1,           1,           1,           1,           1,\n",
              "                  1,           1,           1,           1,           1,           1,           1,           1,           1,           1,           1,           1,           1,           1,           1,           1,           1,           1,           1,           1,           1,           1,           1,\n",
              "                  1,           1,           1,           1,           1,           1,           1,           1,           1,           1,           1,           1,           1,           1,           1,           1,           1,           1,           1,           1,           1,           1,           1,\n",
              "                  1,           1,           1,           1,           1,           1,           1,           1,           1,           1,           1,           1,           1,           1,           1,           1,           1,           1,           1,           1,           1,           1,           1,\n",
              "                  1,           1,           1,           1,           1,           1,           1,           1,         0.9,         0.9,         0.9,         0.9,         0.9,         0.9,         0.9,         0.9,         0.9,         0.9,         0.9,         0.9,         0.9,         0.9,         0.9,\n",
              "                0.9,         0.9,         0.9,         0.9,         0.9,         0.9,         0.9,         0.9,         0.9,         0.9,         0.9,         0.9,         0.9,         0.9,         0.9,         0.9,         0.9,         0.9,         0.9,         0.9,         0.9,         0.9,         0.9,\n",
              "                0.9,         0.9,         0.9,         0.9,         0.9,         0.9,         0.9,         0.9,         0.9,         0.9,         0.9,         0.9,         0.9,         0.9,         0.9,         0.9,         0.9,         0.9,         0.9,         0.9,         0.9,         0.9,         0.9,\n",
              "                0.9,         0.9,         0.9,         0.9,         0.9,         0.9,         0.9,         0.9,         0.9,         0.9,         0.9,         0.9,         0.9,         0.9,         0.9,         0.9,         0.9,         0.9,         0.9,         0.9,         0.9,         0.9,         0.9,\n",
              "                0.9,         0.9,         0.9,         0.9,         0.9,         0.9,         0.9,         0.9,         0.9,         0.9,         0.9,         0.9,         0.9,         0.9,         0.9,         0.9,         0.9,         0.9,         0.9,         0.9,         0.9,         0.9,         0.9,\n",
              "                0.9,         0.9,         0.9,         0.9,         0.9,         0.9,         0.9,         0.9,         0.9,         0.9,         0.9,         0.9,         0.9,         0.9,         0.9,         0.9,         0.9,         0.9,         0.9,         0.9,         0.9,         0.9,         0.9,\n",
              "                0.9,         0.9,         0.9,         0.9,         0.9,         0.9,         0.9,         0.9,         0.9,         0.9,         0.9,         0.9,         0.9,         0.9,         0.9,         0.9,         0.9,         0.9,         0.9,         0.9,         0.9,         0.9,         0.9,\n",
              "                0.9,         0.9,         0.9,         0.9,         0.9,         0.9,         0.9,         0.9,         0.9,         0.9,         0.9,         0.9,         0.9,         0.9,         0.9,         0.9,         0.9,         0.9,         0.9,         0.9,         0.9,         0.9,         0.9,\n",
              "                0.9,         0.9,         0.9,         0.9,         0.9,         0.9,         0.9,         0.9,         0.9,         0.9,         0.9,         0.9,         0.9,         0.9,         0.9,         0.9,         0.9,         0.9,         0.9,         0.9,         0.9,         0.9,         0.9,\n",
              "                0.9,         0.9,         0.9,         0.9,         0.9,         0.9,         0.9,         0.9,         0.9,         0.9,         0.9,         0.9,         0.9,         0.9,         0.9,         0.9,         0.9,         0.9,         0.9,         0.9,         0.9,         0.9,         0.9,\n",
              "                0.9,         0.9,         0.9,         0.9,         0.9,         0.9,         0.9,         0.9,         0.9,         0.9,         0.9,         0.9,         0.9,         0.9,         0.9,         0.9,         0.9,         0.9,         0.9,         0.9,         0.9,         0.9,         0.9,\n",
              "                0.9,         0.9,         0.9,         0.9,         0.9,         0.9,         0.9,         0.9,         0.9,         0.9,         0.9,         0.9,         0.9,         0.9,         0.9,         0.9,         0.9,         0.9,         0.9,         0.9,         0.9,         0.9,         0.9,\n",
              "                0.9,         0.9,         0.9,         0.9,         0.9,         0.9,         0.9,         0.9,         0.9,         0.9,         0.9,         0.9,         0.9,         0.9,         0.9,         0.9,         0.9,         0.9,         0.9,         0.9,         0.9,         0.9,         0.9,\n",
              "                0.9,         0.9,         0.9,         0.9,         0.9,         0.9,         0.9,         0.9,         0.9,         0.9,         0.9,         0.9,         0.9,         0.9,         0.9,         0.9,         0.9,         0.9,         0.9,         0.9,         0.9,         0.9,         0.9,\n",
              "                0.9,         0.9,         0.9,         0.9,         0.9,         0.9,         0.9,         0.9,         0.9,         0.9,         0.9,         0.9,         0.9,         0.9,         0.9,         0.9,         0.9,         0.9,         0.9,         0.9,         0.9,         0.9,         0.9,\n",
              "                0.9,         0.9,         0.9,         0.9,         0.9,         0.9,         0.9,         0.9,         0.9,         0.9,         0.9,         0.9,         0.9,         0.9,         0.9,         0.9,         0.9,         0.9,         0.9,         0.9,         0.9,         0.9,         0.9,\n",
              "                0.9,         0.9,         0.9,         0.9,         0.9,         0.9,         0.9,         0.9,         0.9,         0.9,         0.9,         0.9,         0.9,         0.9,         0.9,         0.9,         0.9,         0.9,         0.9,         0.9,         0.9,         0.9,         0.9,\n",
              "                0.9,         0.9,         0.9,         0.9,         0.9,         0.9,         0.9,         0.9,         0.9,         0.9,         0.9,         0.9,         0.9,         0.9,         0.9,         0.9,         0.9,         0.9,         0.9,         0.9,         0.9,         0.9,         0.9,\n",
              "                0.9,         0.9,         0.9,         0.9,         0.9,         0.9,         0.9,         0.9,         0.9,         0.9,         0.9,         0.9,         0.9,         0.9,         0.9,         0.9,         0.9,         0.9,         0.9,         0.9,         0.9,         0.9,     0.71429,\n",
              "            0.71429,     0.71429,     0.71429,     0.71429,     0.71429,     0.71429,     0.71429,     0.71429,     0.71429,     0.71429,     0.71429,     0.71429,     0.71429,     0.71429,     0.71429,     0.71429,     0.71429,     0.71429,     0.71429,     0.71429,     0.71429,     0.71429,     0.71429,\n",
              "            0.71429,     0.71429,     0.71429,     0.71429,     0.71429,     0.71429,     0.71429,     0.71429,     0.71429,     0.71429,     0.71429,     0.71429,     0.71429,     0.71429,     0.71429,     0.71429,     0.71429,     0.71429,     0.71429,     0.71429,     0.71429,     0.71429,     0.71429,\n",
              "            0.71429,     0.71429,     0.71429,     0.71429,     0.71429,     0.71429,     0.71429,     0.71429,     0.71429,     0.71429,     0.71429,     0.71429,     0.71429,     0.71429,     0.71429,     0.71429,     0.71429,     0.71429,     0.71429,     0.71429,     0.71429,     0.71429,     0.71429,\n",
              "            0.71429,      0.6875,      0.6875,      0.6875,      0.6875,      0.6875,      0.6875,      0.6875,      0.6875,      0.6875,      0.6875,      0.6875,      0.6875,      0.6875,      0.6875,      0.6875,      0.6875,      0.6875,      0.6875,      0.6875,      0.6875,      0.6875,      0.6875,\n",
              "             0.6875,      0.6875,      0.6875,      0.6875,      0.6875,      0.6875,      0.6875,      0.6875,      0.6875,      0.6875,      0.6875,      0.6875,      0.6875,      0.6875,      0.6875,      0.6875,      0.6875,      0.6875,      0.6875,      0.6875,      0.6875,      0.6875,      0.6875,\n",
              "             0.6875,      0.6875,      0.6875,      0.6875,      0.6875,      0.6875,      0.6875,      0.6875,      0.6875,      0.6875,      0.6875,      0.6875,      0.6875,      0.6875,      0.6875,      0.6875,      0.6875,      0.6875,      0.6875,      0.6875,      0.6875,      0.6875,      0.6875,\n",
              "             0.6875,      0.6875,      0.6875,     0.57143,     0.57143,     0.57143,     0.57143,     0.57143,     0.57143,     0.57143,     0.57143,     0.57143,     0.57143,     0.57143,     0.57143,     0.57143,     0.57143,     0.57143,     0.57143,     0.57143,     0.57143,     0.57143,     0.57143,\n",
              "            0.57143,     0.57143,     0.57143,     0.57143,     0.57143,     0.57143,     0.57143,     0.57143,     0.57143,     0.57143,     0.57143,     0.57143,     0.57143,     0.57143,     0.57143,     0.57143,     0.57143,     0.57143,     0.57143,     0.57143,     0.57143,     0.57143,     0.57143,\n",
              "            0.57143,     0.57143,     0.57143,     0.57143,     0.57143,     0.57143,     0.57143,     0.57143,     0.57143,     0.57143,     0.57143,     0.57143,     0.57143,     0.57143,     0.57143,     0.57143,     0.57143,     0.57143,     0.57143,     0.57143,     0.57143,     0.57143,     0.57143,\n",
              "            0.57143,     0.57143,     0.57143,     0.57143,     0.57143,     0.57143,     0.43333,     0.43333,     0.43333,     0.43333,     0.43333,     0.43333,     0.43333,     0.43333,     0.43333,     0.43333,     0.43333,     0.43333,     0.43333,     0.43333,     0.43333,     0.43333,     0.43333,\n",
              "            0.43333,     0.43333,     0.43333,     0.43333,     0.43333,     0.43333,     0.43333,     0.43333,     0.43333,     0.43333,     0.43333,     0.43333,     0.43333,     0.43333,     0.43333,     0.43333,     0.43333,     0.43333,     0.43333,     0.43333,     0.43333,     0.43333,     0.43333,\n",
              "            0.43333,     0.43333,     0.43333,     0.43333,     0.43333,     0.43333,     0.43333,     0.43333,     0.43333,     0.43333,     0.43333,     0.43333,     0.43333,     0.43333,     0.43333,     0.43333,     0.43333,     0.43333,     0.43333,     0.43333,     0.43333,     0.43333,     0.43333,\n",
              "            0.43333,     0.43333,     0.43333,     0.43333,     0.43333,     0.43333,     0.43333,     0.43333,     0.21212,     0.21212,     0.21212,     0.21212,     0.21212,     0.21212,     0.21212,     0.21212,     0.21212,     0.21212,     0.21212,     0.21212,     0.21212,     0.21212,     0.21212,\n",
              "            0.21212,     0.21212,     0.21212,     0.21212,     0.21212,     0.21212,     0.21212,     0.21212,     0.21212,     0.21212,     0.21212,     0.21212,     0.21212,     0.21212,     0.21212,     0.21212,     0.21212,     0.21212,     0.21212,     0.21212,     0.21212,     0.21212,     0.21212,\n",
              "            0.21212,     0.21212,     0.21212,     0.21212,     0.21212,     0.21212,     0.21212,     0.21212,     0.21212,     0.21212,     0.21212,     0.21212,     0.21212,     0.21212,     0.21212,     0.21212,     0.21212,     0.21212,     0.21212,     0.21212,     0.21212,     0.21212,     0.21212,\n",
              "            0.21212,     0.21212,     0.21212,     0.21212,     0.21212,     0.21212,     0.21212,     0.21212,     0.21212,     0.21212,           0]]), 'Recall', 'Precision'], [array([          0,    0.001001,    0.002002,    0.003003,    0.004004,    0.005005,    0.006006,    0.007007,    0.008008,    0.009009,     0.01001,    0.011011,    0.012012,    0.013013,    0.014014,    0.015015,    0.016016,    0.017017,    0.018018,    0.019019,     0.02002,    0.021021,    0.022022,    0.023023,\n",
              "          0.024024,    0.025025,    0.026026,    0.027027,    0.028028,    0.029029,     0.03003,    0.031031,    0.032032,    0.033033,    0.034034,    0.035035,    0.036036,    0.037037,    0.038038,    0.039039,     0.04004,    0.041041,    0.042042,    0.043043,    0.044044,    0.045045,    0.046046,    0.047047,\n",
              "          0.048048,    0.049049,     0.05005,    0.051051,    0.052052,    0.053053,    0.054054,    0.055055,    0.056056,    0.057057,    0.058058,    0.059059,     0.06006,    0.061061,    0.062062,    0.063063,    0.064064,    0.065065,    0.066066,    0.067067,    0.068068,    0.069069,     0.07007,    0.071071,\n",
              "          0.072072,    0.073073,    0.074074,    0.075075,    0.076076,    0.077077,    0.078078,    0.079079,     0.08008,    0.081081,    0.082082,    0.083083,    0.084084,    0.085085,    0.086086,    0.087087,    0.088088,    0.089089,     0.09009,    0.091091,    0.092092,    0.093093,    0.094094,    0.095095,\n",
              "          0.096096,    0.097097,    0.098098,    0.099099,      0.1001,      0.1011,      0.1021,      0.1031,      0.1041,     0.10511,     0.10611,     0.10711,     0.10811,     0.10911,     0.11011,     0.11111,     0.11211,     0.11311,     0.11411,     0.11512,     0.11612,     0.11712,     0.11812,     0.11912,\n",
              "           0.12012,     0.12112,     0.12212,     0.12312,     0.12412,     0.12513,     0.12613,     0.12713,     0.12813,     0.12913,     0.13013,     0.13113,     0.13213,     0.13313,     0.13413,     0.13514,     0.13614,     0.13714,     0.13814,     0.13914,     0.14014,     0.14114,     0.14214,     0.14314,\n",
              "           0.14414,     0.14515,     0.14615,     0.14715,     0.14815,     0.14915,     0.15015,     0.15115,     0.15215,     0.15315,     0.15415,     0.15516,     0.15616,     0.15716,     0.15816,     0.15916,     0.16016,     0.16116,     0.16216,     0.16316,     0.16416,     0.16517,     0.16617,     0.16717,\n",
              "           0.16817,     0.16917,     0.17017,     0.17117,     0.17217,     0.17317,     0.17417,     0.17518,     0.17618,     0.17718,     0.17818,     0.17918,     0.18018,     0.18118,     0.18218,     0.18318,     0.18418,     0.18519,     0.18619,     0.18719,     0.18819,     0.18919,     0.19019,     0.19119,\n",
              "           0.19219,     0.19319,     0.19419,      0.1952,      0.1962,      0.1972,      0.1982,      0.1992,      0.2002,      0.2012,      0.2022,      0.2032,      0.2042,     0.20521,     0.20621,     0.20721,     0.20821,     0.20921,     0.21021,     0.21121,     0.21221,     0.21321,     0.21421,     0.21522,\n",
              "           0.21622,     0.21722,     0.21822,     0.21922,     0.22022,     0.22122,     0.22222,     0.22322,     0.22422,     0.22523,     0.22623,     0.22723,     0.22823,     0.22923,     0.23023,     0.23123,     0.23223,     0.23323,     0.23423,     0.23524,     0.23624,     0.23724,     0.23824,     0.23924,\n",
              "           0.24024,     0.24124,     0.24224,     0.24324,     0.24424,     0.24525,     0.24625,     0.24725,     0.24825,     0.24925,     0.25025,     0.25125,     0.25225,     0.25325,     0.25425,     0.25526,     0.25626,     0.25726,     0.25826,     0.25926,     0.26026,     0.26126,     0.26226,     0.26326,\n",
              "           0.26426,     0.26527,     0.26627,     0.26727,     0.26827,     0.26927,     0.27027,     0.27127,     0.27227,     0.27327,     0.27427,     0.27528,     0.27628,     0.27728,     0.27828,     0.27928,     0.28028,     0.28128,     0.28228,     0.28328,     0.28428,     0.28529,     0.28629,     0.28729,\n",
              "           0.28829,     0.28929,     0.29029,     0.29129,     0.29229,     0.29329,     0.29429,      0.2953,      0.2963,      0.2973,      0.2983,      0.2993,      0.3003,      0.3013,      0.3023,      0.3033,      0.3043,     0.30531,     0.30631,     0.30731,     0.30831,     0.30931,     0.31031,     0.31131,\n",
              "           0.31231,     0.31331,     0.31431,     0.31532,     0.31632,     0.31732,     0.31832,     0.31932,     0.32032,     0.32132,     0.32232,     0.32332,     0.32432,     0.32533,     0.32633,     0.32733,     0.32833,     0.32933,     0.33033,     0.33133,     0.33233,     0.33333,     0.33433,     0.33534,\n",
              "           0.33634,     0.33734,     0.33834,     0.33934,     0.34034,     0.34134,     0.34234,     0.34334,     0.34434,     0.34535,     0.34635,     0.34735,     0.34835,     0.34935,     0.35035,     0.35135,     0.35235,     0.35335,     0.35435,     0.35536,     0.35636,     0.35736,     0.35836,     0.35936,\n",
              "           0.36036,     0.36136,     0.36236,     0.36336,     0.36436,     0.36537,     0.36637,     0.36737,     0.36837,     0.36937,     0.37037,     0.37137,     0.37237,     0.37337,     0.37437,     0.37538,     0.37638,     0.37738,     0.37838,     0.37938,     0.38038,     0.38138,     0.38238,     0.38338,\n",
              "           0.38438,     0.38539,     0.38639,     0.38739,     0.38839,     0.38939,     0.39039,     0.39139,     0.39239,     0.39339,     0.39439,      0.3954,      0.3964,      0.3974,      0.3984,      0.3994,      0.4004,      0.4014,      0.4024,      0.4034,      0.4044,     0.40541,     0.40641,     0.40741,\n",
              "           0.40841,     0.40941,     0.41041,     0.41141,     0.41241,     0.41341,     0.41441,     0.41542,     0.41642,     0.41742,     0.41842,     0.41942,     0.42042,     0.42142,     0.42242,     0.42342,     0.42442,     0.42543,     0.42643,     0.42743,     0.42843,     0.42943,     0.43043,     0.43143,\n",
              "           0.43243,     0.43343,     0.43443,     0.43544,     0.43644,     0.43744,     0.43844,     0.43944,     0.44044,     0.44144,     0.44244,     0.44344,     0.44444,     0.44545,     0.44645,     0.44745,     0.44845,     0.44945,     0.45045,     0.45145,     0.45245,     0.45345,     0.45445,     0.45546,\n",
              "           0.45646,     0.45746,     0.45846,     0.45946,     0.46046,     0.46146,     0.46246,     0.46346,     0.46446,     0.46547,     0.46647,     0.46747,     0.46847,     0.46947,     0.47047,     0.47147,     0.47247,     0.47347,     0.47447,     0.47548,     0.47648,     0.47748,     0.47848,     0.47948,\n",
              "           0.48048,     0.48148,     0.48248,     0.48348,     0.48448,     0.48549,     0.48649,     0.48749,     0.48849,     0.48949,     0.49049,     0.49149,     0.49249,     0.49349,     0.49449,      0.4955,      0.4965,      0.4975,      0.4985,      0.4995,      0.5005,      0.5015,      0.5025,      0.5035,\n",
              "            0.5045,     0.50551,     0.50651,     0.50751,     0.50851,     0.50951,     0.51051,     0.51151,     0.51251,     0.51351,     0.51451,     0.51552,     0.51652,     0.51752,     0.51852,     0.51952,     0.52052,     0.52152,     0.52252,     0.52352,     0.52452,     0.52553,     0.52653,     0.52753,\n",
              "           0.52853,     0.52953,     0.53053,     0.53153,     0.53253,     0.53353,     0.53453,     0.53554,     0.53654,     0.53754,     0.53854,     0.53954,     0.54054,     0.54154,     0.54254,     0.54354,     0.54454,     0.54555,     0.54655,     0.54755,     0.54855,     0.54955,     0.55055,     0.55155,\n",
              "           0.55255,     0.55355,     0.55455,     0.55556,     0.55656,     0.55756,     0.55856,     0.55956,     0.56056,     0.56156,     0.56256,     0.56356,     0.56456,     0.56557,     0.56657,     0.56757,     0.56857,     0.56957,     0.57057,     0.57157,     0.57257,     0.57357,     0.57457,     0.57558,\n",
              "           0.57658,     0.57758,     0.57858,     0.57958,     0.58058,     0.58158,     0.58258,     0.58358,     0.58458,     0.58559,     0.58659,     0.58759,     0.58859,     0.58959,     0.59059,     0.59159,     0.59259,     0.59359,     0.59459,      0.5956,      0.5966,      0.5976,      0.5986,      0.5996,\n",
              "            0.6006,      0.6016,      0.6026,      0.6036,      0.6046,     0.60561,     0.60661,     0.60761,     0.60861,     0.60961,     0.61061,     0.61161,     0.61261,     0.61361,     0.61461,     0.61562,     0.61662,     0.61762,     0.61862,     0.61962,     0.62062,     0.62162,     0.62262,     0.62362,\n",
              "           0.62462,     0.62563,     0.62663,     0.62763,     0.62863,     0.62963,     0.63063,     0.63163,     0.63263,     0.63363,     0.63463,     0.63564,     0.63664,     0.63764,     0.63864,     0.63964,     0.64064,     0.64164,     0.64264,     0.64364,     0.64464,     0.64565,     0.64665,     0.64765,\n",
              "           0.64865,     0.64965,     0.65065,     0.65165,     0.65265,     0.65365,     0.65465,     0.65566,     0.65666,     0.65766,     0.65866,     0.65966,     0.66066,     0.66166,     0.66266,     0.66366,     0.66466,     0.66567,     0.66667,     0.66767,     0.66867,     0.66967,     0.67067,     0.67167,\n",
              "           0.67267,     0.67367,     0.67467,     0.67568,     0.67668,     0.67768,     0.67868,     0.67968,     0.68068,     0.68168,     0.68268,     0.68368,     0.68468,     0.68569,     0.68669,     0.68769,     0.68869,     0.68969,     0.69069,     0.69169,     0.69269,     0.69369,     0.69469,      0.6957,\n",
              "            0.6967,      0.6977,      0.6987,      0.6997,      0.7007,      0.7017,      0.7027,      0.7037,      0.7047,     0.70571,     0.70671,     0.70771,     0.70871,     0.70971,     0.71071,     0.71171,     0.71271,     0.71371,     0.71471,     0.71572,     0.71672,     0.71772,     0.71872,     0.71972,\n",
              "           0.72072,     0.72172,     0.72272,     0.72372,     0.72472,     0.72573,     0.72673,     0.72773,     0.72873,     0.72973,     0.73073,     0.73173,     0.73273,     0.73373,     0.73473,     0.73574,     0.73674,     0.73774,     0.73874,     0.73974,     0.74074,     0.74174,     0.74274,     0.74374,\n",
              "           0.74474,     0.74575,     0.74675,     0.74775,     0.74875,     0.74975,     0.75075,     0.75175,     0.75275,     0.75375,     0.75475,     0.75576,     0.75676,     0.75776,     0.75876,     0.75976,     0.76076,     0.76176,     0.76276,     0.76376,     0.76476,     0.76577,     0.76677,     0.76777,\n",
              "           0.76877,     0.76977,     0.77077,     0.77177,     0.77277,     0.77377,     0.77477,     0.77578,     0.77678,     0.77778,     0.77878,     0.77978,     0.78078,     0.78178,     0.78278,     0.78378,     0.78478,     0.78579,     0.78679,     0.78779,     0.78879,     0.78979,     0.79079,     0.79179,\n",
              "           0.79279,     0.79379,     0.79479,      0.7958,      0.7968,      0.7978,      0.7988,      0.7998,      0.8008,      0.8018,      0.8028,      0.8038,      0.8048,     0.80581,     0.80681,     0.80781,     0.80881,     0.80981,     0.81081,     0.81181,     0.81281,     0.81381,     0.81481,     0.81582,\n",
              "           0.81682,     0.81782,     0.81882,     0.81982,     0.82082,     0.82182,     0.82282,     0.82382,     0.82482,     0.82583,     0.82683,     0.82783,     0.82883,     0.82983,     0.83083,     0.83183,     0.83283,     0.83383,     0.83483,     0.83584,     0.83684,     0.83784,     0.83884,     0.83984,\n",
              "           0.84084,     0.84184,     0.84284,     0.84384,     0.84484,     0.84585,     0.84685,     0.84785,     0.84885,     0.84985,     0.85085,     0.85185,     0.85285,     0.85385,     0.85485,     0.85586,     0.85686,     0.85786,     0.85886,     0.85986,     0.86086,     0.86186,     0.86286,     0.86386,\n",
              "           0.86486,     0.86587,     0.86687,     0.86787,     0.86887,     0.86987,     0.87087,     0.87187,     0.87287,     0.87387,     0.87487,     0.87588,     0.87688,     0.87788,     0.87888,     0.87988,     0.88088,     0.88188,     0.88288,     0.88388,     0.88488,     0.88589,     0.88689,     0.88789,\n",
              "           0.88889,     0.88989,     0.89089,     0.89189,     0.89289,     0.89389,     0.89489,      0.8959,      0.8969,      0.8979,      0.8989,      0.8999,      0.9009,      0.9019,      0.9029,      0.9039,      0.9049,     0.90591,     0.90691,     0.90791,     0.90891,     0.90991,     0.91091,     0.91191,\n",
              "           0.91291,     0.91391,     0.91491,     0.91592,     0.91692,     0.91792,     0.91892,     0.91992,     0.92092,     0.92192,     0.92292,     0.92392,     0.92492,     0.92593,     0.92693,     0.92793,     0.92893,     0.92993,     0.93093,     0.93193,     0.93293,     0.93393,     0.93493,     0.93594,\n",
              "           0.93694,     0.93794,     0.93894,     0.93994,     0.94094,     0.94194,     0.94294,     0.94394,     0.94494,     0.94595,     0.94695,     0.94795,     0.94895,     0.94995,     0.95095,     0.95195,     0.95295,     0.95395,     0.95495,     0.95596,     0.95696,     0.95796,     0.95896,     0.95996,\n",
              "           0.96096,     0.96196,     0.96296,     0.96396,     0.96496,     0.96597,     0.96697,     0.96797,     0.96897,     0.96997,     0.97097,     0.97197,     0.97297,     0.97397,     0.97497,     0.97598,     0.97698,     0.97798,     0.97898,     0.97998,     0.98098,     0.98198,     0.98298,     0.98398,\n",
              "           0.98498,     0.98599,     0.98699,     0.98799,     0.98899,     0.98999,     0.99099,     0.99199,     0.99299,     0.99399,     0.99499,       0.996,       0.997,       0.998,       0.999,           1]), array([[  0.0035389,    0.003539,    0.003575,      0.2158,     0.45572,     0.47379,     0.49402,     0.52349,     0.55373,     0.55578,     0.55783,     0.55987,      0.5619,     0.56392,     0.56752,     0.57392,     0.58217,     0.58682,     0.56766,     0.56725,     0.59315,     0.61822,     0.62272,\n",
              "            0.62718,     0.63395,      0.6676,     0.66925,      0.6709,     0.67253,     0.67417,      0.6758,     0.67742,     0.67904,     0.68065,     0.68226,     0.68386,     0.68546,     0.68089,     0.67515,     0.66939,     0.66361,     0.65782,     0.65201,     0.64766,     0.65164,     0.65559,\n",
              "            0.65951,     0.66339,     0.66699,     0.66915,      0.6713,     0.67344,     0.67557,      0.6777,     0.67981,     0.68191,       0.684,     0.68608,      0.6876,     0.68791,     0.68821,     0.68852,     0.68883,     0.68914,     0.68944,     0.68975,     0.69006,     0.69036,     0.69067,\n",
              "            0.69098,     0.69128,     0.69159,     0.69189,      0.6922,      0.6925,     0.69281,     0.69311,     0.69342,     0.69372,     0.69402,     0.69433,     0.69463,     0.69494,     0.69524,     0.69554,     0.69584,     0.69615,     0.69645,     0.69675,     0.69705,     0.69735,     0.69766,\n",
              "            0.69796,     0.69826,     0.69856,     0.69886,     0.69916,     0.69946,     0.69976,     0.70006,     0.70036,     0.70066,     0.70096,     0.70126,     0.70156,     0.70185,     0.70215,     0.70245,     0.70275,     0.70305,     0.70334,     0.70364,     0.70394,     0.70424,     0.70453,\n",
              "            0.70483,     0.70512,     0.70542,     0.70572,     0.70601,     0.70631,      0.7066,      0.7069,     0.70719,     0.70749,     0.70778,     0.70808,     0.70837,     0.70866,     0.70896,     0.70925,     0.70955,     0.72328,     0.72971,     0.72347,      0.7172,      0.7109,     0.70457,\n",
              "             0.6982,     0.69181,     0.69062,     0.69206,      0.6935,     0.69494,     0.69637,     0.69779,     0.69921,     0.70062,     0.70203,     0.70343,     0.70482,     0.70621,      0.7076,     0.70898,     0.71035,     0.71172,     0.71308,     0.71421,      0.7136,     0.71298,     0.71237,\n",
              "            0.71175,     0.71114,     0.71052,      0.7099,     0.70929,     0.70867,     0.70805,     0.70743,     0.70681,     0.70619,     0.70558,     0.70496,     0.70434,     0.70372,      0.7031,     0.70248,     0.70186,     0.70123,     0.70061,     0.69999,     0.69937,     0.69875,     0.69812,\n",
              "             0.6975,     0.69688,     0.69625,     0.69563,       0.695,     0.69438,     0.69376,     0.69313,      0.6925,     0.69188,     0.69125,     0.69063,        0.69,     0.68937,     0.68874,     0.68812,     0.68749,     0.68686,     0.68623,      0.6856,     0.68497,     0.68434,     0.68371,\n",
              "            0.68308,     0.68245,     0.68182,     0.68119,     0.68055,     0.67992,     0.67929,     0.67866,     0.67802,     0.67739,     0.67675,     0.67612,     0.67549,     0.67485,     0.67422,     0.67358,     0.67294,     0.67231,     0.67167,     0.67103,      0.6704,     0.66976,     0.66912,\n",
              "            0.66848,     0.66784,      0.6672,     0.66673,     0.66708,     0.66744,      0.6678,     0.66816,     0.66852,     0.66887,     0.66923,     0.66958,     0.66994,     0.67029,     0.67065,       0.671,     0.67136,     0.67171,     0.67206,     0.67242,     0.67277,     0.67312,     0.67347,\n",
              "            0.67382,     0.67417,     0.67452,     0.67487,     0.67522,     0.67557,     0.67592,     0.67627,     0.67662,     0.67696,     0.67731,     0.67766,       0.678,     0.67835,      0.6787,     0.67904,     0.67939,     0.67973,     0.68007,     0.68042,     0.68076,      0.6811,     0.68145,\n",
              "            0.68179,     0.68213,     0.68247,     0.68281,     0.68315,     0.68349,     0.68383,     0.68417,     0.68451,     0.68485,     0.68519,     0.68552,     0.68586,      0.6862,     0.68654,     0.68687,     0.68721,     0.68754,     0.68788,     0.68821,     0.68855,     0.68888,     0.68921,\n",
              "            0.68955,     0.68988,     0.69021,     0.69055,     0.69088,     0.69121,     0.69154,     0.69187,      0.6922,     0.69253,     0.69285,     0.69317,     0.69349,     0.69381,     0.69413,     0.69446,     0.69478,      0.6951,     0.69542,     0.69574,     0.69605,     0.69637,     0.69669,\n",
              "            0.69701,     0.69733,     0.69765,     0.69796,     0.69828,      0.6986,     0.69891,     0.69923,     0.69954,     0.69986,     0.70017,     0.70049,      0.7008,     0.70111,     0.70143,     0.70174,     0.70205,     0.70237,     0.70268,     0.70299,      0.7033,     0.70361,     0.70392,\n",
              "            0.70423,     0.70454,     0.70485,     0.70516,     0.70547,     0.70578,     0.70609,      0.7064,      0.7067,     0.70701,     0.70732,     0.70762,     0.70793,     0.70824,     0.70854,     0.70885,     0.70915,     0.70946,     0.70976,     0.71007,     0.71037,     0.71067,     0.71098,\n",
              "            0.71128,     0.71158,     0.71189,     0.71219,     0.71249,     0.71279,     0.71309,     0.71339,     0.71369,     0.71399,     0.71429,     0.71459,     0.71489,     0.71519,     0.71549,     0.71579,     0.71608,     0.71638,     0.71668,     0.71697,     0.71727,     0.71757,     0.71786,\n",
              "            0.71816,     0.71845,     0.71875,     0.71904,     0.71934,     0.71963,     0.71993,     0.72213,     0.72494,     0.72773,     0.73048,     0.73321,     0.73592,     0.73859,     0.74124,     0.74387,     0.74647,     0.74905,     0.74959,     0.74894,     0.74829,     0.74764,     0.74699,\n",
              "            0.74634,     0.74568,     0.74503,     0.74438,     0.74372,     0.74307,     0.74241,     0.74175,      0.7411,     0.74044,     0.73978,     0.73912,     0.73846,     0.73781,     0.73714,     0.73648,     0.73582,     0.73516,      0.7345,     0.73384,     0.73317,     0.73251,     0.73184,\n",
              "            0.73118,     0.73051,     0.72985,     0.72918,     0.72851,     0.72784,     0.72717,      0.7265,     0.72583,     0.72516,     0.72449,     0.72382,     0.72315,     0.72248,      0.7218,     0.72113,     0.72045,     0.71978,      0.7191,     0.71843,     0.71775,     0.71707,     0.71639,\n",
              "            0.71571,     0.71503,     0.71435,     0.71367,     0.71299,     0.71231,     0.71163,     0.71094,     0.71026,     0.70958,     0.70889,     0.70821,     0.70752,     0.70683,     0.70615,     0.70546,     0.70477,     0.70408,     0.70339,      0.7027,     0.70201,     0.70132,     0.70062,\n",
              "            0.69993,     0.69924,     0.69854,     0.69785,     0.69715,     0.69645,     0.69576,     0.69248,     0.68872,     0.68495,     0.68116,     0.67736,     0.67353,     0.66969,     0.66583,     0.66195,     0.65805,     0.65414,      0.6502,     0.64625,     0.64227,     0.63828,     0.63615,\n",
              "            0.63574,     0.63533,     0.63491,      0.6345,     0.63409,     0.63368,     0.63327,     0.63285,     0.63244,     0.63203,     0.63161,      0.6312,     0.63079,     0.63037,     0.62996,     0.62955,     0.62913,     0.62872,      0.6283,     0.62789,     0.62747,     0.62706,     0.62664,\n",
              "            0.62623,     0.62581,     0.62539,     0.62498,     0.62456,     0.62414,     0.62373,     0.62331,     0.62289,     0.62247,     0.62206,     0.62164,     0.62122,      0.6208,     0.62038,     0.61997,     0.61955,     0.61913,     0.61871,     0.61829,     0.61787,     0.61745,     0.61703,\n",
              "            0.61661,     0.61619,     0.61577,     0.61535,     0.61493,      0.6145,     0.61408,     0.61366,     0.61324,     0.61282,     0.61239,     0.61197,     0.61155,     0.61113,      0.6107,     0.61028,     0.60986,     0.60943,     0.60901,     0.60858,     0.60816,     0.60773,     0.60731,\n",
              "            0.60689,     0.60646,     0.60603,     0.60561,     0.60518,     0.60476,     0.60433,      0.6039,     0.60348,     0.60305,     0.60262,      0.6022,     0.60177,     0.60134,     0.60091,     0.60048,     0.60006,     0.59963,      0.5992,     0.59877,     0.59834,     0.59791,     0.59748,\n",
              "            0.59705,     0.59662,     0.59619,     0.59576,     0.59533,      0.5949,     0.59447,     0.59404,      0.5936,     0.59317,     0.59274,     0.59231,     0.59188,     0.59144,     0.59101,     0.59058,     0.59014,     0.58971,     0.58928,     0.58884,     0.58841,     0.58797,     0.58754,\n",
              "             0.5871,     0.58667,     0.58623,      0.5858,     0.58536,     0.58492,     0.58449,     0.58405,     0.58362,     0.58318,     0.58274,      0.5823,     0.58187,     0.58143,     0.58099,     0.58055,     0.58011,     0.57967,     0.57924,      0.5788,     0.57836,     0.57792,     0.57748,\n",
              "            0.57704,      0.5766,     0.57616,     0.57572,     0.57527,     0.57483,     0.57439,     0.57395,     0.57351,     0.57307,     0.57262,     0.57218,     0.57174,     0.56985,      0.5646,     0.55933,     0.55402,     0.54868,     0.54331,     0.53792,     0.53249,     0.52702,     0.52153,\n",
              "              0.516,     0.51044,     0.50484,     0.49992,     0.49937,     0.49882,     0.49826,     0.49771,     0.49716,      0.4966,     0.49605,     0.49549,     0.49494,     0.49438,     0.49383,     0.49327,     0.49272,     0.49216,      0.4916,     0.49105,     0.49049,     0.48993,     0.48937,\n",
              "            0.48882,     0.48826,      0.4877,     0.48714,     0.48658,     0.48602,     0.48546,      0.4849,     0.48434,     0.48378,     0.48322,     0.48266,      0.4821,     0.48153,     0.48097,     0.48041,     0.47985,     0.47928,     0.47872,     0.47816,     0.47759,     0.47703,     0.47646,\n",
              "             0.4759,     0.47533,     0.47477,      0.4742,     0.47364,     0.47307,      0.4725,     0.47193,     0.47137,      0.4708,     0.47023,     0.46966,     0.46909,     0.46852,     0.46796,     0.46739,     0.46682,     0.46625,     0.46567,      0.4651,     0.46453,     0.46396,     0.46339,\n",
              "            0.46282,     0.46224,     0.46167,      0.4611,     0.46052,     0.45995,     0.45938,      0.4588,     0.45823,     0.45765,     0.45708,      0.4565,     0.45592,     0.45535,     0.45477,     0.45419,     0.45362,     0.45304,     0.45246,     0.45188,      0.4513,     0.45072,     0.45014,\n",
              "            0.44956,     0.44898,      0.4484,     0.44782,     0.44724,     0.44666,     0.44608,     0.44549,     0.44491,     0.44433,     0.44375,     0.44316,     0.44258,     0.44199,     0.44141,     0.44082,     0.44024,     0.43965,     0.43907,     0.43848,     0.43789,     0.43731,     0.43672,\n",
              "            0.43613,     0.43554,     0.43495,     0.43437,     0.43378,     0.43319,      0.4326,     0.43201,     0.43142,     0.43082,     0.43023,     0.42964,     0.42905,     0.42846,     0.42786,     0.42727,     0.42668,     0.42608,     0.42549,     0.42489,      0.4243,      0.4237,     0.42311,\n",
              "            0.42251,     0.42191,     0.42132,     0.42047,     0.41943,     0.41838,     0.41734,     0.41629,     0.41524,     0.41419,     0.41314,     0.41209,     0.41104,     0.40999,     0.40894,     0.40788,     0.40683,     0.40577,     0.40472,     0.40366,      0.4026,     0.40154,     0.40048,\n",
              "            0.39942,     0.39836,     0.39729,     0.39623,     0.39516,      0.3941,     0.39303,     0.39196,     0.39089,     0.38982,     0.38875,     0.38768,      0.3866,     0.38553,     0.38445,     0.38338,      0.3823,     0.38122,     0.38014,     0.37906,     0.37798,      0.3769,     0.37581,\n",
              "            0.37473,     0.37364,     0.37256,     0.37147,     0.37038,     0.36929,      0.3682,     0.36711,     0.36602,     0.36492,     0.36383,     0.36273,     0.36163,     0.36053,     0.35943,     0.35833,     0.35723,     0.35613,     0.35502,     0.35392,     0.35281,      0.3517,     0.35059,\n",
              "            0.34948,     0.34837,     0.34726,     0.34615,     0.34503,     0.34392,      0.3428,     0.34168,     0.34056,     0.33944,     0.33832,      0.3372,     0.33607,     0.33495,     0.33382,     0.33526,     0.33845,     0.34144,     0.34423,     0.34685,     0.34931,     0.35163,      0.3495,\n",
              "              0.341,     0.33241,     0.32373,     0.31496,     0.30609,     0.29714,     0.28809,     0.27894,     0.26969,     0.26034,     0.25089,     0.24802,     0.24583,     0.24363,     0.24143,     0.23923,     0.23701,      0.2348,     0.23257,     0.23034,     0.22811,     0.22587,     0.22362,\n",
              "            0.22137,     0.21911,     0.21685,     0.21458,     0.21231,     0.21002,     0.20774,     0.20545,     0.20315,     0.20084,     0.19853,     0.19622,      0.1939,     0.19157,     0.18923,     0.18689,     0.18455,      0.1822,     0.17984,     0.17747,      0.1751,     0.17273,     0.17034,\n",
              "            0.16796,     0.16556,     0.16316,     0.16075,     0.15834,     0.15592,     0.15349,     0.15106,     0.14862,     0.14617,     0.14372,     0.14126,     0.13879,     0.13632,     0.13384,           0,           0,           0,           0,           0,           0,           0,           0,\n",
              "                  0,           0,           0,           0,           0,           0,           0,           0,           0,           0,           0,           0,           0,           0,           0,           0,           0,           0,           0,           0,           0,           0,           0,\n",
              "                  0,           0,           0,           0,           0,           0,           0,           0,           0,           0,           0]]), 'Confidence', 'F1'], [array([          0,    0.001001,    0.002002,    0.003003,    0.004004,    0.005005,    0.006006,    0.007007,    0.008008,    0.009009,     0.01001,    0.011011,    0.012012,    0.013013,    0.014014,    0.015015,    0.016016,    0.017017,    0.018018,    0.019019,     0.02002,    0.021021,    0.022022,    0.023023,\n",
              "          0.024024,    0.025025,    0.026026,    0.027027,    0.028028,    0.029029,     0.03003,    0.031031,    0.032032,    0.033033,    0.034034,    0.035035,    0.036036,    0.037037,    0.038038,    0.039039,     0.04004,    0.041041,    0.042042,    0.043043,    0.044044,    0.045045,    0.046046,    0.047047,\n",
              "          0.048048,    0.049049,     0.05005,    0.051051,    0.052052,    0.053053,    0.054054,    0.055055,    0.056056,    0.057057,    0.058058,    0.059059,     0.06006,    0.061061,    0.062062,    0.063063,    0.064064,    0.065065,    0.066066,    0.067067,    0.068068,    0.069069,     0.07007,    0.071071,\n",
              "          0.072072,    0.073073,    0.074074,    0.075075,    0.076076,    0.077077,    0.078078,    0.079079,     0.08008,    0.081081,    0.082082,    0.083083,    0.084084,    0.085085,    0.086086,    0.087087,    0.088088,    0.089089,     0.09009,    0.091091,    0.092092,    0.093093,    0.094094,    0.095095,\n",
              "          0.096096,    0.097097,    0.098098,    0.099099,      0.1001,      0.1011,      0.1021,      0.1031,      0.1041,     0.10511,     0.10611,     0.10711,     0.10811,     0.10911,     0.11011,     0.11111,     0.11211,     0.11311,     0.11411,     0.11512,     0.11612,     0.11712,     0.11812,     0.11912,\n",
              "           0.12012,     0.12112,     0.12212,     0.12312,     0.12412,     0.12513,     0.12613,     0.12713,     0.12813,     0.12913,     0.13013,     0.13113,     0.13213,     0.13313,     0.13413,     0.13514,     0.13614,     0.13714,     0.13814,     0.13914,     0.14014,     0.14114,     0.14214,     0.14314,\n",
              "           0.14414,     0.14515,     0.14615,     0.14715,     0.14815,     0.14915,     0.15015,     0.15115,     0.15215,     0.15315,     0.15415,     0.15516,     0.15616,     0.15716,     0.15816,     0.15916,     0.16016,     0.16116,     0.16216,     0.16316,     0.16416,     0.16517,     0.16617,     0.16717,\n",
              "           0.16817,     0.16917,     0.17017,     0.17117,     0.17217,     0.17317,     0.17417,     0.17518,     0.17618,     0.17718,     0.17818,     0.17918,     0.18018,     0.18118,     0.18218,     0.18318,     0.18418,     0.18519,     0.18619,     0.18719,     0.18819,     0.18919,     0.19019,     0.19119,\n",
              "           0.19219,     0.19319,     0.19419,      0.1952,      0.1962,      0.1972,      0.1982,      0.1992,      0.2002,      0.2012,      0.2022,      0.2032,      0.2042,     0.20521,     0.20621,     0.20721,     0.20821,     0.20921,     0.21021,     0.21121,     0.21221,     0.21321,     0.21421,     0.21522,\n",
              "           0.21622,     0.21722,     0.21822,     0.21922,     0.22022,     0.22122,     0.22222,     0.22322,     0.22422,     0.22523,     0.22623,     0.22723,     0.22823,     0.22923,     0.23023,     0.23123,     0.23223,     0.23323,     0.23423,     0.23524,     0.23624,     0.23724,     0.23824,     0.23924,\n",
              "           0.24024,     0.24124,     0.24224,     0.24324,     0.24424,     0.24525,     0.24625,     0.24725,     0.24825,     0.24925,     0.25025,     0.25125,     0.25225,     0.25325,     0.25425,     0.25526,     0.25626,     0.25726,     0.25826,     0.25926,     0.26026,     0.26126,     0.26226,     0.26326,\n",
              "           0.26426,     0.26527,     0.26627,     0.26727,     0.26827,     0.26927,     0.27027,     0.27127,     0.27227,     0.27327,     0.27427,     0.27528,     0.27628,     0.27728,     0.27828,     0.27928,     0.28028,     0.28128,     0.28228,     0.28328,     0.28428,     0.28529,     0.28629,     0.28729,\n",
              "           0.28829,     0.28929,     0.29029,     0.29129,     0.29229,     0.29329,     0.29429,      0.2953,      0.2963,      0.2973,      0.2983,      0.2993,      0.3003,      0.3013,      0.3023,      0.3033,      0.3043,     0.30531,     0.30631,     0.30731,     0.30831,     0.30931,     0.31031,     0.31131,\n",
              "           0.31231,     0.31331,     0.31431,     0.31532,     0.31632,     0.31732,     0.31832,     0.31932,     0.32032,     0.32132,     0.32232,     0.32332,     0.32432,     0.32533,     0.32633,     0.32733,     0.32833,     0.32933,     0.33033,     0.33133,     0.33233,     0.33333,     0.33433,     0.33534,\n",
              "           0.33634,     0.33734,     0.33834,     0.33934,     0.34034,     0.34134,     0.34234,     0.34334,     0.34434,     0.34535,     0.34635,     0.34735,     0.34835,     0.34935,     0.35035,     0.35135,     0.35235,     0.35335,     0.35435,     0.35536,     0.35636,     0.35736,     0.35836,     0.35936,\n",
              "           0.36036,     0.36136,     0.36236,     0.36336,     0.36436,     0.36537,     0.36637,     0.36737,     0.36837,     0.36937,     0.37037,     0.37137,     0.37237,     0.37337,     0.37437,     0.37538,     0.37638,     0.37738,     0.37838,     0.37938,     0.38038,     0.38138,     0.38238,     0.38338,\n",
              "           0.38438,     0.38539,     0.38639,     0.38739,     0.38839,     0.38939,     0.39039,     0.39139,     0.39239,     0.39339,     0.39439,      0.3954,      0.3964,      0.3974,      0.3984,      0.3994,      0.4004,      0.4014,      0.4024,      0.4034,      0.4044,     0.40541,     0.40641,     0.40741,\n",
              "           0.40841,     0.40941,     0.41041,     0.41141,     0.41241,     0.41341,     0.41441,     0.41542,     0.41642,     0.41742,     0.41842,     0.41942,     0.42042,     0.42142,     0.42242,     0.42342,     0.42442,     0.42543,     0.42643,     0.42743,     0.42843,     0.42943,     0.43043,     0.43143,\n",
              "           0.43243,     0.43343,     0.43443,     0.43544,     0.43644,     0.43744,     0.43844,     0.43944,     0.44044,     0.44144,     0.44244,     0.44344,     0.44444,     0.44545,     0.44645,     0.44745,     0.44845,     0.44945,     0.45045,     0.45145,     0.45245,     0.45345,     0.45445,     0.45546,\n",
              "           0.45646,     0.45746,     0.45846,     0.45946,     0.46046,     0.46146,     0.46246,     0.46346,     0.46446,     0.46547,     0.46647,     0.46747,     0.46847,     0.46947,     0.47047,     0.47147,     0.47247,     0.47347,     0.47447,     0.47548,     0.47648,     0.47748,     0.47848,     0.47948,\n",
              "           0.48048,     0.48148,     0.48248,     0.48348,     0.48448,     0.48549,     0.48649,     0.48749,     0.48849,     0.48949,     0.49049,     0.49149,     0.49249,     0.49349,     0.49449,      0.4955,      0.4965,      0.4975,      0.4985,      0.4995,      0.5005,      0.5015,      0.5025,      0.5035,\n",
              "            0.5045,     0.50551,     0.50651,     0.50751,     0.50851,     0.50951,     0.51051,     0.51151,     0.51251,     0.51351,     0.51451,     0.51552,     0.51652,     0.51752,     0.51852,     0.51952,     0.52052,     0.52152,     0.52252,     0.52352,     0.52452,     0.52553,     0.52653,     0.52753,\n",
              "           0.52853,     0.52953,     0.53053,     0.53153,     0.53253,     0.53353,     0.53453,     0.53554,     0.53654,     0.53754,     0.53854,     0.53954,     0.54054,     0.54154,     0.54254,     0.54354,     0.54454,     0.54555,     0.54655,     0.54755,     0.54855,     0.54955,     0.55055,     0.55155,\n",
              "           0.55255,     0.55355,     0.55455,     0.55556,     0.55656,     0.55756,     0.55856,     0.55956,     0.56056,     0.56156,     0.56256,     0.56356,     0.56456,     0.56557,     0.56657,     0.56757,     0.56857,     0.56957,     0.57057,     0.57157,     0.57257,     0.57357,     0.57457,     0.57558,\n",
              "           0.57658,     0.57758,     0.57858,     0.57958,     0.58058,     0.58158,     0.58258,     0.58358,     0.58458,     0.58559,     0.58659,     0.58759,     0.58859,     0.58959,     0.59059,     0.59159,     0.59259,     0.59359,     0.59459,      0.5956,      0.5966,      0.5976,      0.5986,      0.5996,\n",
              "            0.6006,      0.6016,      0.6026,      0.6036,      0.6046,     0.60561,     0.60661,     0.60761,     0.60861,     0.60961,     0.61061,     0.61161,     0.61261,     0.61361,     0.61461,     0.61562,     0.61662,     0.61762,     0.61862,     0.61962,     0.62062,     0.62162,     0.62262,     0.62362,\n",
              "           0.62462,     0.62563,     0.62663,     0.62763,     0.62863,     0.62963,     0.63063,     0.63163,     0.63263,     0.63363,     0.63463,     0.63564,     0.63664,     0.63764,     0.63864,     0.63964,     0.64064,     0.64164,     0.64264,     0.64364,     0.64464,     0.64565,     0.64665,     0.64765,\n",
              "           0.64865,     0.64965,     0.65065,     0.65165,     0.65265,     0.65365,     0.65465,     0.65566,     0.65666,     0.65766,     0.65866,     0.65966,     0.66066,     0.66166,     0.66266,     0.66366,     0.66466,     0.66567,     0.66667,     0.66767,     0.66867,     0.66967,     0.67067,     0.67167,\n",
              "           0.67267,     0.67367,     0.67467,     0.67568,     0.67668,     0.67768,     0.67868,     0.67968,     0.68068,     0.68168,     0.68268,     0.68368,     0.68468,     0.68569,     0.68669,     0.68769,     0.68869,     0.68969,     0.69069,     0.69169,     0.69269,     0.69369,     0.69469,      0.6957,\n",
              "            0.6967,      0.6977,      0.6987,      0.6997,      0.7007,      0.7017,      0.7027,      0.7037,      0.7047,     0.70571,     0.70671,     0.70771,     0.70871,     0.70971,     0.71071,     0.71171,     0.71271,     0.71371,     0.71471,     0.71572,     0.71672,     0.71772,     0.71872,     0.71972,\n",
              "           0.72072,     0.72172,     0.72272,     0.72372,     0.72472,     0.72573,     0.72673,     0.72773,     0.72873,     0.72973,     0.73073,     0.73173,     0.73273,     0.73373,     0.73473,     0.73574,     0.73674,     0.73774,     0.73874,     0.73974,     0.74074,     0.74174,     0.74274,     0.74374,\n",
              "           0.74474,     0.74575,     0.74675,     0.74775,     0.74875,     0.74975,     0.75075,     0.75175,     0.75275,     0.75375,     0.75475,     0.75576,     0.75676,     0.75776,     0.75876,     0.75976,     0.76076,     0.76176,     0.76276,     0.76376,     0.76476,     0.76577,     0.76677,     0.76777,\n",
              "           0.76877,     0.76977,     0.77077,     0.77177,     0.77277,     0.77377,     0.77477,     0.77578,     0.77678,     0.77778,     0.77878,     0.77978,     0.78078,     0.78178,     0.78278,     0.78378,     0.78478,     0.78579,     0.78679,     0.78779,     0.78879,     0.78979,     0.79079,     0.79179,\n",
              "           0.79279,     0.79379,     0.79479,      0.7958,      0.7968,      0.7978,      0.7988,      0.7998,      0.8008,      0.8018,      0.8028,      0.8038,      0.8048,     0.80581,     0.80681,     0.80781,     0.80881,     0.80981,     0.81081,     0.81181,     0.81281,     0.81381,     0.81481,     0.81582,\n",
              "           0.81682,     0.81782,     0.81882,     0.81982,     0.82082,     0.82182,     0.82282,     0.82382,     0.82482,     0.82583,     0.82683,     0.82783,     0.82883,     0.82983,     0.83083,     0.83183,     0.83283,     0.83383,     0.83483,     0.83584,     0.83684,     0.83784,     0.83884,     0.83984,\n",
              "           0.84084,     0.84184,     0.84284,     0.84384,     0.84484,     0.84585,     0.84685,     0.84785,     0.84885,     0.84985,     0.85085,     0.85185,     0.85285,     0.85385,     0.85485,     0.85586,     0.85686,     0.85786,     0.85886,     0.85986,     0.86086,     0.86186,     0.86286,     0.86386,\n",
              "           0.86486,     0.86587,     0.86687,     0.86787,     0.86887,     0.86987,     0.87087,     0.87187,     0.87287,     0.87387,     0.87487,     0.87588,     0.87688,     0.87788,     0.87888,     0.87988,     0.88088,     0.88188,     0.88288,     0.88388,     0.88488,     0.88589,     0.88689,     0.88789,\n",
              "           0.88889,     0.88989,     0.89089,     0.89189,     0.89289,     0.89389,     0.89489,      0.8959,      0.8969,      0.8979,      0.8989,      0.8999,      0.9009,      0.9019,      0.9029,      0.9039,      0.9049,     0.90591,     0.90691,     0.90791,     0.90891,     0.90991,     0.91091,     0.91191,\n",
              "           0.91291,     0.91391,     0.91491,     0.91592,     0.91692,     0.91792,     0.91892,     0.91992,     0.92092,     0.92192,     0.92292,     0.92392,     0.92492,     0.92593,     0.92693,     0.92793,     0.92893,     0.92993,     0.93093,     0.93193,     0.93293,     0.93393,     0.93493,     0.93594,\n",
              "           0.93694,     0.93794,     0.93894,     0.93994,     0.94094,     0.94194,     0.94294,     0.94394,     0.94494,     0.94595,     0.94695,     0.94795,     0.94895,     0.94995,     0.95095,     0.95195,     0.95295,     0.95395,     0.95495,     0.95596,     0.95696,     0.95796,     0.95896,     0.95996,\n",
              "           0.96096,     0.96196,     0.96296,     0.96396,     0.96496,     0.96597,     0.96697,     0.96797,     0.96897,     0.96997,     0.97097,     0.97197,     0.97297,     0.97397,     0.97497,     0.97598,     0.97698,     0.97798,     0.97898,     0.97998,     0.98098,     0.98198,     0.98298,     0.98398,\n",
              "           0.98498,     0.98599,     0.98699,     0.98799,     0.98899,     0.98999,     0.99099,     0.99199,     0.99299,     0.99399,     0.99499,       0.996,       0.997,       0.998,       0.999,           1]), array([[  0.0017726,   0.0017726,   0.0017907,     0.12095,     0.30196,     0.31803,     0.33653,     0.36448,     0.39449,     0.39657,     0.39866,     0.40074,     0.40283,     0.40491,     0.40864,      0.4153,       0.424,     0.43089,     0.41945,     0.42388,     0.45349,     0.48346,     0.48898,\n",
              "            0.49451,     0.50298,     0.54671,     0.54892,     0.55114,     0.55335,     0.55557,     0.55779,        0.56,     0.56222,     0.56443,     0.56665,     0.56886,     0.57108,     0.56873,     0.56553,     0.56233,     0.55913,     0.55592,     0.55272,     0.55087,     0.55666,     0.56245,\n",
              "            0.56823,     0.57402,     0.57943,      0.5827,     0.58597,     0.58924,     0.59252,     0.59579,     0.59906,     0.60233,      0.6056,     0.60887,     0.61126,     0.61175,     0.61224,     0.61273,     0.61321,      0.6137,     0.61419,     0.61468,     0.61516,     0.61565,     0.61614,\n",
              "            0.61663,     0.61711,      0.6176,     0.61809,     0.61857,     0.61906,     0.61955,     0.62004,     0.62052,     0.62101,      0.6215,     0.62199,     0.62247,     0.62296,     0.62345,     0.62394,     0.62442,     0.62491,      0.6254,     0.62588,     0.62637,     0.62686,     0.62735,\n",
              "            0.62783,     0.62832,     0.62881,      0.6293,     0.62978,     0.63027,     0.63076,     0.63125,     0.63173,     0.63222,     0.63271,     0.63319,     0.63368,     0.63417,     0.63466,     0.63514,     0.63563,     0.63612,     0.63661,     0.63709,     0.63758,     0.63807,     0.63855,\n",
              "            0.63904,     0.63953,     0.64002,      0.6405,     0.64099,     0.64148,     0.64197,     0.64245,     0.64294,     0.64343,     0.64392,      0.6444,     0.64489,     0.64538,     0.64586,     0.64635,     0.64684,     0.67004,     0.68575,     0.68273,     0.67972,     0.67671,      0.6737,\n",
              "            0.67069,     0.66768,     0.66847,     0.67118,      0.6739,     0.67661,     0.67933,     0.68204,     0.68475,     0.68747,     0.69018,     0.69289,     0.69561,     0.69832,     0.70103,     0.70375,     0.70646,     0.70917,     0.71189,     0.71425,     0.71396,     0.71367,     0.71338,\n",
              "            0.71309,     0.71281,     0.71252,     0.71223,     0.71194,     0.71165,     0.71136,     0.71107,     0.71078,     0.71049,      0.7102,     0.70991,     0.70962,     0.70933,     0.70904,     0.70875,     0.70846,     0.70818,     0.70789,      0.7076,     0.70731,     0.70702,     0.70673,\n",
              "            0.70644,     0.70615,     0.70586,     0.70557,     0.70528,     0.70499,      0.7047,     0.70441,     0.70412,     0.70383,     0.70355,     0.70326,     0.70297,     0.70268,     0.70239,      0.7021,     0.70181,     0.70152,     0.70123,     0.70094,     0.70065,     0.70036,     0.70007,\n",
              "            0.69978,     0.69949,     0.69921,     0.69892,     0.69863,     0.69834,     0.69805,     0.69776,     0.69747,     0.69718,     0.69689,      0.6966,     0.69631,     0.69602,     0.69573,     0.69544,     0.69515,     0.69486,     0.69458,     0.69429,       0.694,     0.69371,     0.69342,\n",
              "            0.69313,     0.69284,     0.69255,     0.69243,     0.69321,     0.69398,     0.69476,     0.69553,     0.69631,     0.69708,     0.69786,     0.69863,      0.6994,     0.70018,     0.70095,     0.70173,      0.7025,     0.70328,     0.70405,     0.70483,      0.7056,     0.70638,     0.70715,\n",
              "            0.70792,      0.7087,     0.70947,     0.71025,     0.71102,      0.7118,     0.71257,     0.71335,     0.71412,     0.71489,     0.71567,     0.71644,     0.71722,     0.71799,     0.71877,     0.71954,     0.72032,     0.72109,     0.72187,     0.72264,     0.72341,     0.72419,     0.72496,\n",
              "            0.72574,     0.72651,     0.72729,     0.72806,     0.72884,     0.72961,     0.73038,     0.73116,     0.73193,     0.73271,     0.73348,     0.73426,     0.73503,     0.73581,     0.73658,     0.73736,     0.73813,      0.7389,     0.73968,     0.74045,     0.74123,       0.742,     0.74278,\n",
              "            0.74355,     0.74433,      0.7451,     0.74588,     0.74665,     0.74742,      0.7482,     0.74897,     0.74975,     0.75051,     0.75127,     0.75203,     0.75279,     0.75354,      0.7543,     0.75506,     0.75582,     0.75658,     0.75734,     0.75809,     0.75885,     0.75961,     0.76037,\n",
              "            0.76113,     0.76188,     0.76264,      0.7634,     0.76416,     0.76492,     0.76568,     0.76643,     0.76719,     0.76795,     0.76871,     0.76947,     0.77022,     0.77098,     0.77174,      0.7725,     0.77326,     0.77402,     0.77477,     0.77553,     0.77629,     0.77705,     0.77781,\n",
              "            0.77857,     0.77932,     0.78008,     0.78084,      0.7816,     0.78236,     0.78311,     0.78387,     0.78463,     0.78539,     0.78615,     0.78691,     0.78766,     0.78842,     0.78918,     0.78994,      0.7907,     0.79145,     0.79221,     0.79297,     0.79373,     0.79449,     0.79525,\n",
              "              0.796,     0.79676,     0.79752,     0.79828,     0.79904,      0.7998,     0.80055,     0.80131,     0.80207,     0.80283,     0.80359,     0.80434,      0.8051,     0.80586,     0.80662,     0.80738,     0.80814,     0.80889,     0.80965,     0.81041,     0.81117,     0.81193,     0.81269,\n",
              "            0.81344,      0.8142,     0.81496,     0.81572,     0.81648,     0.81723,     0.81799,      0.8237,     0.83106,     0.83841,     0.84577,     0.85312,     0.86048,     0.86784,     0.87519,     0.88255,      0.8899,     0.89726,     0.89991,     0.89978,     0.89964,      0.8995,     0.89936,\n",
              "            0.89923,     0.89909,     0.89895,     0.89881,     0.89868,     0.89854,      0.8984,     0.89826,     0.89813,     0.89799,     0.89785,     0.89771,     0.89758,     0.89744,      0.8973,     0.89716,     0.89703,     0.89689,     0.89675,     0.89661,     0.89647,     0.89634,      0.8962,\n",
              "            0.89606,     0.89592,     0.89579,     0.89565,     0.89551,     0.89537,     0.89524,      0.8951,     0.89496,     0.89482,     0.89469,     0.89455,     0.89441,     0.89427,     0.89414,       0.894,     0.89386,     0.89372,     0.89359,     0.89345,     0.89331,     0.89317,     0.89304,\n",
              "             0.8929,     0.89276,     0.89262,     0.89249,     0.89235,     0.89221,     0.89207,     0.89194,      0.8918,     0.89166,     0.89152,     0.89139,     0.89125,     0.89111,     0.89097,     0.89084,      0.8907,     0.89056,     0.89042,     0.89029,     0.89015,     0.89001,     0.88987,\n",
              "            0.88973,      0.8896,     0.88946,     0.88932,     0.88918,     0.88905,     0.88891,     0.88812,     0.88721,     0.88631,      0.8854,     0.88449,     0.88359,     0.88268,     0.88178,     0.88087,     0.87996,     0.87906,     0.87815,     0.87724,     0.87634,     0.87543,     0.87494,\n",
              "            0.87482,      0.8747,     0.87459,     0.87447,     0.87435,     0.87423,     0.87412,       0.874,     0.87388,     0.87377,     0.87365,     0.87353,     0.87341,      0.8733,     0.87318,     0.87306,     0.87294,     0.87283,     0.87271,     0.87259,     0.87248,     0.87236,     0.87224,\n",
              "            0.87212,     0.87201,     0.87189,     0.87177,     0.87165,     0.87154,     0.87142,      0.8713,     0.87118,     0.87107,     0.87095,     0.87083,     0.87072,      0.8706,     0.87048,     0.87036,     0.87025,     0.87013,     0.87001,     0.86989,     0.86978,     0.86966,     0.86954,\n",
              "            0.86943,     0.86931,     0.86919,     0.86907,     0.86896,     0.86884,     0.86872,      0.8686,     0.86849,     0.86837,     0.86825,     0.86813,     0.86802,      0.8679,     0.86778,     0.86767,     0.86755,     0.86743,     0.86731,      0.8672,     0.86708,     0.86696,     0.86684,\n",
              "            0.86673,     0.86661,     0.86649,     0.86638,     0.86626,     0.86614,     0.86602,     0.86591,     0.86579,     0.86567,     0.86555,     0.86544,     0.86532,      0.8652,     0.86508,     0.86497,     0.86485,     0.86473,     0.86462,      0.8645,     0.86438,     0.86426,     0.86415,\n",
              "            0.86403,     0.86391,     0.86379,     0.86368,     0.86356,     0.86344,     0.86332,     0.86321,     0.86309,     0.86297,     0.86286,     0.86274,     0.86262,      0.8625,     0.86239,     0.86227,     0.86215,     0.86203,     0.86192,      0.8618,     0.86168,     0.86157,     0.86145,\n",
              "            0.86133,     0.86121,      0.8611,     0.86098,     0.86086,     0.86074,     0.86063,     0.86051,     0.86039,     0.86027,     0.86016,     0.86004,     0.85992,     0.85981,     0.85969,     0.85957,     0.85945,     0.85934,     0.85922,      0.8591,     0.85898,     0.85887,     0.85875,\n",
              "            0.85863,     0.85852,      0.8584,     0.85828,     0.85816,     0.85805,     0.85793,     0.85781,     0.85769,     0.85758,     0.85746,     0.85734,     0.85722,      0.8566,     0.85479,     0.85298,     0.85117,     0.84936,     0.84755,     0.84574,     0.84393,     0.84213,     0.84032,\n",
              "            0.83851,      0.8367,     0.83489,      0.8333,     0.83306,     0.83281,     0.83257,     0.83233,     0.83209,     0.83185,      0.8316,     0.83136,     0.83112,     0.83088,     0.83063,     0.83039,     0.83015,     0.82991,     0.82967,     0.82942,     0.82918,     0.82894,      0.8287,\n",
              "            0.82845,     0.82821,     0.82797,     0.82773,     0.82748,     0.82724,       0.827,     0.82676,     0.82652,     0.82627,     0.82603,     0.82579,     0.82555,      0.8253,     0.82506,     0.82482,     0.82458,     0.82434,     0.82409,     0.82385,     0.82361,     0.82337,     0.82312,\n",
              "            0.82288,     0.82264,      0.8224,     0.82215,     0.82191,     0.82167,     0.82143,     0.82119,     0.82094,      0.8207,     0.82046,     0.82022,     0.81997,     0.81973,     0.81949,     0.81925,     0.81901,     0.81876,     0.81852,     0.81828,     0.81804,     0.81779,     0.81755,\n",
              "            0.81731,     0.81707,     0.81682,     0.81658,     0.81634,      0.8161,     0.81586,     0.81561,     0.81537,     0.81513,     0.81489,     0.81464,      0.8144,     0.81416,     0.81392,     0.81368,     0.81343,     0.81319,     0.81295,     0.81271,     0.81246,     0.81222,     0.81198,\n",
              "            0.81174,     0.81149,     0.81125,     0.81101,     0.81077,     0.81053,     0.81028,     0.81004,      0.8098,     0.80956,     0.80931,     0.80907,     0.80883,     0.80859,     0.80835,      0.8081,     0.80786,     0.80762,     0.80738,     0.80713,     0.80689,     0.80665,     0.80641,\n",
              "            0.80616,     0.80592,     0.80568,     0.80544,      0.8052,     0.80495,     0.80471,     0.80447,     0.80423,     0.80398,     0.80374,      0.8035,     0.80326,     0.80301,     0.80277,     0.80253,     0.80229,     0.80205,      0.8018,     0.80156,     0.80132,     0.80108,     0.80083,\n",
              "            0.80059,     0.80035,     0.80011,     0.79966,     0.79904,     0.79842,      0.7978,     0.79719,     0.79657,     0.79595,     0.79534,     0.79472,      0.7941,     0.79348,     0.79287,     0.79225,     0.79163,     0.79101,      0.7904,     0.78978,     0.78916,     0.78854,     0.78793,\n",
              "            0.78731,     0.78669,     0.78607,     0.78546,     0.78484,     0.78422,      0.7836,     0.78299,     0.78237,     0.78175,     0.78114,     0.78052,      0.7799,     0.77928,     0.77867,     0.77805,     0.77743,     0.77681,      0.7762,     0.77558,     0.77496,     0.77434,     0.77373,\n",
              "            0.77311,     0.77249,     0.77187,     0.77126,     0.77064,     0.77002,      0.7694,     0.76879,     0.76817,     0.76755,     0.76694,     0.76632,      0.7657,     0.76508,     0.76447,     0.76385,     0.76323,     0.76261,       0.762,     0.76138,     0.76076,     0.76014,     0.75953,\n",
              "            0.75891,     0.75829,     0.75767,     0.75706,     0.75644,     0.75582,      0.7552,     0.75459,     0.75397,     0.75335,     0.75274,     0.75212,      0.7515,     0.75088,     0.75027,     0.76989,     0.80479,      0.8397,      0.8746,     0.90951,     0.94441,     0.97932,           1,\n",
              "                  1,           1,           1,           1,           1,           1,           1,           1,           1,           1,           1,           1,           1,           1,           1,           1,           1,           1,           1,           1,           1,           1,           1,\n",
              "                  1,           1,           1,           1,           1,           1,           1,           1,           1,           1,           1,           1,           1,           1,           1,           1,           1,           1,           1,           1,           1,           1,           1,\n",
              "                  1,           1,           1,           1,           1,           1,           1,           1,           1,           1,           1,           1,           1,           1,           1,           1,           1,           1,           1,           1,           1,           1,           1,\n",
              "                  1,           1,           1,           1,           1,           1,           1,           1,           1,           1,           1,           1,           1,           1,           1,           1,           1,           1,           1,           1,           1,           1,           1,\n",
              "                  1,           1,           1,           1,           1,           1,           1,           1,           1,           1,           1]]), 'Confidence', 'Precision'], [array([          0,    0.001001,    0.002002,    0.003003,    0.004004,    0.005005,    0.006006,    0.007007,    0.008008,    0.009009,     0.01001,    0.011011,    0.012012,    0.013013,    0.014014,    0.015015,    0.016016,    0.017017,    0.018018,    0.019019,     0.02002,    0.021021,    0.022022,    0.023023,\n",
              "          0.024024,    0.025025,    0.026026,    0.027027,    0.028028,    0.029029,     0.03003,    0.031031,    0.032032,    0.033033,    0.034034,    0.035035,    0.036036,    0.037037,    0.038038,    0.039039,     0.04004,    0.041041,    0.042042,    0.043043,    0.044044,    0.045045,    0.046046,    0.047047,\n",
              "          0.048048,    0.049049,     0.05005,    0.051051,    0.052052,    0.053053,    0.054054,    0.055055,    0.056056,    0.057057,    0.058058,    0.059059,     0.06006,    0.061061,    0.062062,    0.063063,    0.064064,    0.065065,    0.066066,    0.067067,    0.068068,    0.069069,     0.07007,    0.071071,\n",
              "          0.072072,    0.073073,    0.074074,    0.075075,    0.076076,    0.077077,    0.078078,    0.079079,     0.08008,    0.081081,    0.082082,    0.083083,    0.084084,    0.085085,    0.086086,    0.087087,    0.088088,    0.089089,     0.09009,    0.091091,    0.092092,    0.093093,    0.094094,    0.095095,\n",
              "          0.096096,    0.097097,    0.098098,    0.099099,      0.1001,      0.1011,      0.1021,      0.1031,      0.1041,     0.10511,     0.10611,     0.10711,     0.10811,     0.10911,     0.11011,     0.11111,     0.11211,     0.11311,     0.11411,     0.11512,     0.11612,     0.11712,     0.11812,     0.11912,\n",
              "           0.12012,     0.12112,     0.12212,     0.12312,     0.12412,     0.12513,     0.12613,     0.12713,     0.12813,     0.12913,     0.13013,     0.13113,     0.13213,     0.13313,     0.13413,     0.13514,     0.13614,     0.13714,     0.13814,     0.13914,     0.14014,     0.14114,     0.14214,     0.14314,\n",
              "           0.14414,     0.14515,     0.14615,     0.14715,     0.14815,     0.14915,     0.15015,     0.15115,     0.15215,     0.15315,     0.15415,     0.15516,     0.15616,     0.15716,     0.15816,     0.15916,     0.16016,     0.16116,     0.16216,     0.16316,     0.16416,     0.16517,     0.16617,     0.16717,\n",
              "           0.16817,     0.16917,     0.17017,     0.17117,     0.17217,     0.17317,     0.17417,     0.17518,     0.17618,     0.17718,     0.17818,     0.17918,     0.18018,     0.18118,     0.18218,     0.18318,     0.18418,     0.18519,     0.18619,     0.18719,     0.18819,     0.18919,     0.19019,     0.19119,\n",
              "           0.19219,     0.19319,     0.19419,      0.1952,      0.1962,      0.1972,      0.1982,      0.1992,      0.2002,      0.2012,      0.2022,      0.2032,      0.2042,     0.20521,     0.20621,     0.20721,     0.20821,     0.20921,     0.21021,     0.21121,     0.21221,     0.21321,     0.21421,     0.21522,\n",
              "           0.21622,     0.21722,     0.21822,     0.21922,     0.22022,     0.22122,     0.22222,     0.22322,     0.22422,     0.22523,     0.22623,     0.22723,     0.22823,     0.22923,     0.23023,     0.23123,     0.23223,     0.23323,     0.23423,     0.23524,     0.23624,     0.23724,     0.23824,     0.23924,\n",
              "           0.24024,     0.24124,     0.24224,     0.24324,     0.24424,     0.24525,     0.24625,     0.24725,     0.24825,     0.24925,     0.25025,     0.25125,     0.25225,     0.25325,     0.25425,     0.25526,     0.25626,     0.25726,     0.25826,     0.25926,     0.26026,     0.26126,     0.26226,     0.26326,\n",
              "           0.26426,     0.26527,     0.26627,     0.26727,     0.26827,     0.26927,     0.27027,     0.27127,     0.27227,     0.27327,     0.27427,     0.27528,     0.27628,     0.27728,     0.27828,     0.27928,     0.28028,     0.28128,     0.28228,     0.28328,     0.28428,     0.28529,     0.28629,     0.28729,\n",
              "           0.28829,     0.28929,     0.29029,     0.29129,     0.29229,     0.29329,     0.29429,      0.2953,      0.2963,      0.2973,      0.2983,      0.2993,      0.3003,      0.3013,      0.3023,      0.3033,      0.3043,     0.30531,     0.30631,     0.30731,     0.30831,     0.30931,     0.31031,     0.31131,\n",
              "           0.31231,     0.31331,     0.31431,     0.31532,     0.31632,     0.31732,     0.31832,     0.31932,     0.32032,     0.32132,     0.32232,     0.32332,     0.32432,     0.32533,     0.32633,     0.32733,     0.32833,     0.32933,     0.33033,     0.33133,     0.33233,     0.33333,     0.33433,     0.33534,\n",
              "           0.33634,     0.33734,     0.33834,     0.33934,     0.34034,     0.34134,     0.34234,     0.34334,     0.34434,     0.34535,     0.34635,     0.34735,     0.34835,     0.34935,     0.35035,     0.35135,     0.35235,     0.35335,     0.35435,     0.35536,     0.35636,     0.35736,     0.35836,     0.35936,\n",
              "           0.36036,     0.36136,     0.36236,     0.36336,     0.36436,     0.36537,     0.36637,     0.36737,     0.36837,     0.36937,     0.37037,     0.37137,     0.37237,     0.37337,     0.37437,     0.37538,     0.37638,     0.37738,     0.37838,     0.37938,     0.38038,     0.38138,     0.38238,     0.38338,\n",
              "           0.38438,     0.38539,     0.38639,     0.38739,     0.38839,     0.38939,     0.39039,     0.39139,     0.39239,     0.39339,     0.39439,      0.3954,      0.3964,      0.3974,      0.3984,      0.3994,      0.4004,      0.4014,      0.4024,      0.4034,      0.4044,     0.40541,     0.40641,     0.40741,\n",
              "           0.40841,     0.40941,     0.41041,     0.41141,     0.41241,     0.41341,     0.41441,     0.41542,     0.41642,     0.41742,     0.41842,     0.41942,     0.42042,     0.42142,     0.42242,     0.42342,     0.42442,     0.42543,     0.42643,     0.42743,     0.42843,     0.42943,     0.43043,     0.43143,\n",
              "           0.43243,     0.43343,     0.43443,     0.43544,     0.43644,     0.43744,     0.43844,     0.43944,     0.44044,     0.44144,     0.44244,     0.44344,     0.44444,     0.44545,     0.44645,     0.44745,     0.44845,     0.44945,     0.45045,     0.45145,     0.45245,     0.45345,     0.45445,     0.45546,\n",
              "           0.45646,     0.45746,     0.45846,     0.45946,     0.46046,     0.46146,     0.46246,     0.46346,     0.46446,     0.46547,     0.46647,     0.46747,     0.46847,     0.46947,     0.47047,     0.47147,     0.47247,     0.47347,     0.47447,     0.47548,     0.47648,     0.47748,     0.47848,     0.47948,\n",
              "           0.48048,     0.48148,     0.48248,     0.48348,     0.48448,     0.48549,     0.48649,     0.48749,     0.48849,     0.48949,     0.49049,     0.49149,     0.49249,     0.49349,     0.49449,      0.4955,      0.4965,      0.4975,      0.4985,      0.4995,      0.5005,      0.5015,      0.5025,      0.5035,\n",
              "            0.5045,     0.50551,     0.50651,     0.50751,     0.50851,     0.50951,     0.51051,     0.51151,     0.51251,     0.51351,     0.51451,     0.51552,     0.51652,     0.51752,     0.51852,     0.51952,     0.52052,     0.52152,     0.52252,     0.52352,     0.52452,     0.52553,     0.52653,     0.52753,\n",
              "           0.52853,     0.52953,     0.53053,     0.53153,     0.53253,     0.53353,     0.53453,     0.53554,     0.53654,     0.53754,     0.53854,     0.53954,     0.54054,     0.54154,     0.54254,     0.54354,     0.54454,     0.54555,     0.54655,     0.54755,     0.54855,     0.54955,     0.55055,     0.55155,\n",
              "           0.55255,     0.55355,     0.55455,     0.55556,     0.55656,     0.55756,     0.55856,     0.55956,     0.56056,     0.56156,     0.56256,     0.56356,     0.56456,     0.56557,     0.56657,     0.56757,     0.56857,     0.56957,     0.57057,     0.57157,     0.57257,     0.57357,     0.57457,     0.57558,\n",
              "           0.57658,     0.57758,     0.57858,     0.57958,     0.58058,     0.58158,     0.58258,     0.58358,     0.58458,     0.58559,     0.58659,     0.58759,     0.58859,     0.58959,     0.59059,     0.59159,     0.59259,     0.59359,     0.59459,      0.5956,      0.5966,      0.5976,      0.5986,      0.5996,\n",
              "            0.6006,      0.6016,      0.6026,      0.6036,      0.6046,     0.60561,     0.60661,     0.60761,     0.60861,     0.60961,     0.61061,     0.61161,     0.61261,     0.61361,     0.61461,     0.61562,     0.61662,     0.61762,     0.61862,     0.61962,     0.62062,     0.62162,     0.62262,     0.62362,\n",
              "           0.62462,     0.62563,     0.62663,     0.62763,     0.62863,     0.62963,     0.63063,     0.63163,     0.63263,     0.63363,     0.63463,     0.63564,     0.63664,     0.63764,     0.63864,     0.63964,     0.64064,     0.64164,     0.64264,     0.64364,     0.64464,     0.64565,     0.64665,     0.64765,\n",
              "           0.64865,     0.64965,     0.65065,     0.65165,     0.65265,     0.65365,     0.65465,     0.65566,     0.65666,     0.65766,     0.65866,     0.65966,     0.66066,     0.66166,     0.66266,     0.66366,     0.66466,     0.66567,     0.66667,     0.66767,     0.66867,     0.66967,     0.67067,     0.67167,\n",
              "           0.67267,     0.67367,     0.67467,     0.67568,     0.67668,     0.67768,     0.67868,     0.67968,     0.68068,     0.68168,     0.68268,     0.68368,     0.68468,     0.68569,     0.68669,     0.68769,     0.68869,     0.68969,     0.69069,     0.69169,     0.69269,     0.69369,     0.69469,      0.6957,\n",
              "            0.6967,      0.6977,      0.6987,      0.6997,      0.7007,      0.7017,      0.7027,      0.7037,      0.7047,     0.70571,     0.70671,     0.70771,     0.70871,     0.70971,     0.71071,     0.71171,     0.71271,     0.71371,     0.71471,     0.71572,     0.71672,     0.71772,     0.71872,     0.71972,\n",
              "           0.72072,     0.72172,     0.72272,     0.72372,     0.72472,     0.72573,     0.72673,     0.72773,     0.72873,     0.72973,     0.73073,     0.73173,     0.73273,     0.73373,     0.73473,     0.73574,     0.73674,     0.73774,     0.73874,     0.73974,     0.74074,     0.74174,     0.74274,     0.74374,\n",
              "           0.74474,     0.74575,     0.74675,     0.74775,     0.74875,     0.74975,     0.75075,     0.75175,     0.75275,     0.75375,     0.75475,     0.75576,     0.75676,     0.75776,     0.75876,     0.75976,     0.76076,     0.76176,     0.76276,     0.76376,     0.76476,     0.76577,     0.76677,     0.76777,\n",
              "           0.76877,     0.76977,     0.77077,     0.77177,     0.77277,     0.77377,     0.77477,     0.77578,     0.77678,     0.77778,     0.77878,     0.77978,     0.78078,     0.78178,     0.78278,     0.78378,     0.78478,     0.78579,     0.78679,     0.78779,     0.78879,     0.78979,     0.79079,     0.79179,\n",
              "           0.79279,     0.79379,     0.79479,      0.7958,      0.7968,      0.7978,      0.7988,      0.7998,      0.8008,      0.8018,      0.8028,      0.8038,      0.8048,     0.80581,     0.80681,     0.80781,     0.80881,     0.80981,     0.81081,     0.81181,     0.81281,     0.81381,     0.81481,     0.81582,\n",
              "           0.81682,     0.81782,     0.81882,     0.81982,     0.82082,     0.82182,     0.82282,     0.82382,     0.82482,     0.82583,     0.82683,     0.82783,     0.82883,     0.82983,     0.83083,     0.83183,     0.83283,     0.83383,     0.83483,     0.83584,     0.83684,     0.83784,     0.83884,     0.83984,\n",
              "           0.84084,     0.84184,     0.84284,     0.84384,     0.84484,     0.84585,     0.84685,     0.84785,     0.84885,     0.84985,     0.85085,     0.85185,     0.85285,     0.85385,     0.85485,     0.85586,     0.85686,     0.85786,     0.85886,     0.85986,     0.86086,     0.86186,     0.86286,     0.86386,\n",
              "           0.86486,     0.86587,     0.86687,     0.86787,     0.86887,     0.86987,     0.87087,     0.87187,     0.87287,     0.87387,     0.87487,     0.87588,     0.87688,     0.87788,     0.87888,     0.87988,     0.88088,     0.88188,     0.88288,     0.88388,     0.88488,     0.88589,     0.88689,     0.88789,\n",
              "           0.88889,     0.88989,     0.89089,     0.89189,     0.89289,     0.89389,     0.89489,      0.8959,      0.8969,      0.8979,      0.8989,      0.8999,      0.9009,      0.9019,      0.9029,      0.9039,      0.9049,     0.90591,     0.90691,     0.90791,     0.90891,     0.90991,     0.91091,     0.91191,\n",
              "           0.91291,     0.91391,     0.91491,     0.91592,     0.91692,     0.91792,     0.91892,     0.91992,     0.92092,     0.92192,     0.92292,     0.92392,     0.92492,     0.92593,     0.92693,     0.92793,     0.92893,     0.92993,     0.93093,     0.93193,     0.93293,     0.93393,     0.93493,     0.93594,\n",
              "           0.93694,     0.93794,     0.93894,     0.93994,     0.94094,     0.94194,     0.94294,     0.94394,     0.94494,     0.94595,     0.94695,     0.94795,     0.94895,     0.94995,     0.95095,     0.95195,     0.95295,     0.95395,     0.95495,     0.95596,     0.95696,     0.95796,     0.95896,     0.95996,\n",
              "           0.96096,     0.96196,     0.96296,     0.96396,     0.96496,     0.96597,     0.96697,     0.96797,     0.96897,     0.96997,     0.97097,     0.97197,     0.97297,     0.97397,     0.97497,     0.97598,     0.97698,     0.97798,     0.97898,     0.97998,     0.98098,     0.98198,     0.98298,     0.98398,\n",
              "           0.98498,     0.98599,     0.98699,     0.98799,     0.98899,     0.98999,     0.99099,     0.99199,     0.99299,     0.99399,     0.99499,       0.996,       0.997,       0.998,       0.999,           1]), array([[          1,           1,           1,           1,     0.92857,     0.92857,     0.92857,     0.92857,     0.92857,     0.92857,     0.92857,     0.92857,     0.92857,     0.92857,     0.92857,     0.92857,     0.92857,     0.91963,     0.87782,     0.85714,     0.85714,     0.85714,     0.85714,\n",
              "            0.85714,     0.85714,     0.85714,     0.85714,     0.85714,     0.85714,     0.85714,     0.85714,     0.85714,     0.85714,     0.85714,     0.85714,     0.85714,     0.85714,     0.84816,     0.83749,     0.82681,     0.81613,     0.80546,     0.79478,     0.78571,     0.78571,     0.78571,\n",
              "            0.78571,     0.78571,     0.78571,     0.78571,     0.78571,     0.78571,     0.78571,     0.78571,     0.78571,     0.78571,     0.78571,     0.78571,     0.78571,     0.78571,     0.78571,     0.78571,     0.78571,     0.78571,     0.78571,     0.78571,     0.78571,     0.78571,     0.78571,\n",
              "            0.78571,     0.78571,     0.78571,     0.78571,     0.78571,     0.78571,     0.78571,     0.78571,     0.78571,     0.78571,     0.78571,     0.78571,     0.78571,     0.78571,     0.78571,     0.78571,     0.78571,     0.78571,     0.78571,     0.78571,     0.78571,     0.78571,     0.78571,\n",
              "            0.78571,     0.78571,     0.78571,     0.78571,     0.78571,     0.78571,     0.78571,     0.78571,     0.78571,     0.78571,     0.78571,     0.78571,     0.78571,     0.78571,     0.78571,     0.78571,     0.78571,     0.78571,     0.78571,     0.78571,     0.78571,     0.78571,     0.78571,\n",
              "            0.78571,     0.78571,     0.78571,     0.78571,     0.78571,     0.78571,     0.78571,     0.78571,     0.78571,     0.78571,     0.78571,     0.78571,     0.78571,     0.78571,     0.78571,     0.78571,     0.78571,     0.78571,      0.7797,     0.76938,     0.75905,     0.74872,      0.7384,\n",
              "            0.72807,     0.71774,     0.71429,     0.71429,     0.71429,     0.71429,     0.71429,     0.71429,     0.71429,     0.71429,     0.71429,     0.71429,     0.71429,     0.71429,     0.71429,     0.71429,     0.71429,     0.71429,     0.71429,     0.71418,     0.71324,      0.7123,     0.71135,\n",
              "            0.71041,     0.70947,     0.70853,     0.70759,     0.70665,     0.70571,     0.70477,     0.70383,     0.70289,     0.70195,     0.70101,     0.70007,     0.69913,     0.69819,     0.69725,     0.69631,     0.69537,     0.69443,     0.69349,     0.69255,     0.69161,     0.69067,     0.68973,\n",
              "            0.68878,     0.68784,      0.6869,     0.68596,     0.68502,     0.68408,     0.68314,      0.6822,     0.68126,     0.68032,     0.67938,     0.67844,      0.6775,     0.67656,     0.67562,     0.67468,     0.67374,      0.6728,     0.67186,     0.67092,     0.66998,     0.66904,      0.6681,\n",
              "            0.66715,     0.66621,     0.66527,     0.66433,     0.66339,     0.66245,     0.66151,     0.66057,     0.65963,     0.65869,     0.65775,     0.65681,     0.65587,     0.65493,     0.65399,     0.65305,     0.65211,     0.65117,     0.65023,     0.64929,     0.64835,     0.64741,     0.64647,\n",
              "            0.64552,     0.64458,     0.64364,     0.64286,     0.64286,     0.64286,     0.64286,     0.64286,     0.64286,     0.64286,     0.64286,     0.64286,     0.64286,     0.64286,     0.64286,     0.64286,     0.64286,     0.64286,     0.64286,     0.64286,     0.64286,     0.64286,     0.64286,\n",
              "            0.64286,     0.64286,     0.64286,     0.64286,     0.64286,     0.64286,     0.64286,     0.64286,     0.64286,     0.64286,     0.64286,     0.64286,     0.64286,     0.64286,     0.64286,     0.64286,     0.64286,     0.64286,     0.64286,     0.64286,     0.64286,     0.64286,     0.64286,\n",
              "            0.64286,     0.64286,     0.64286,     0.64286,     0.64286,     0.64286,     0.64286,     0.64286,     0.64286,     0.64286,     0.64286,     0.64286,     0.64286,     0.64286,     0.64286,     0.64286,     0.64286,     0.64286,     0.64286,     0.64286,     0.64286,     0.64286,     0.64286,\n",
              "            0.64286,     0.64286,     0.64286,     0.64286,     0.64286,     0.64286,     0.64286,     0.64286,     0.64286,     0.64286,     0.64286,     0.64286,     0.64286,     0.64286,     0.64286,     0.64286,     0.64286,     0.64286,     0.64286,     0.64286,     0.64286,     0.64286,     0.64286,\n",
              "            0.64286,     0.64286,     0.64286,     0.64286,     0.64286,     0.64286,     0.64286,     0.64286,     0.64286,     0.64286,     0.64286,     0.64286,     0.64286,     0.64286,     0.64286,     0.64286,     0.64286,     0.64286,     0.64286,     0.64286,     0.64286,     0.64286,     0.64286,\n",
              "            0.64286,     0.64286,     0.64286,     0.64286,     0.64286,     0.64286,     0.64286,     0.64286,     0.64286,     0.64286,     0.64286,     0.64286,     0.64286,     0.64286,     0.64286,     0.64286,     0.64286,     0.64286,     0.64286,     0.64286,     0.64286,     0.64286,     0.64286,\n",
              "            0.64286,     0.64286,     0.64286,     0.64286,     0.64286,     0.64286,     0.64286,     0.64286,     0.64286,     0.64286,     0.64286,     0.64286,     0.64286,     0.64286,     0.64286,     0.64286,     0.64286,     0.64286,     0.64286,     0.64286,     0.64286,     0.64286,     0.64286,\n",
              "            0.64286,     0.64286,     0.64286,     0.64286,     0.64286,     0.64286,     0.64286,     0.64286,     0.64286,     0.64286,     0.64286,     0.64286,     0.64286,     0.64286,     0.64286,     0.64286,     0.64286,     0.64286,      0.6423,     0.64142,     0.64053,     0.63965,     0.63877,\n",
              "            0.63788,       0.637,     0.63611,     0.63523,     0.63434,     0.63346,     0.63258,     0.63169,     0.63081,     0.62992,     0.62904,     0.62815,     0.62727,     0.62639,      0.6255,     0.62462,     0.62373,     0.62285,     0.62196,     0.62108,      0.6202,     0.61931,     0.61843,\n",
              "            0.61754,     0.61666,     0.61577,     0.61489,     0.61401,     0.61312,     0.61224,     0.61135,     0.61047,     0.60959,      0.6087,     0.60782,     0.60693,     0.60605,     0.60516,     0.60428,      0.6034,     0.60251,     0.60163,     0.60074,     0.59986,     0.59897,     0.59809,\n",
              "            0.59721,     0.59632,     0.59544,     0.59455,     0.59367,     0.59278,      0.5919,     0.59102,     0.59013,     0.58925,     0.58836,     0.58748,     0.58659,     0.58571,     0.58483,     0.58394,     0.58306,     0.58217,     0.58129,      0.5804,     0.57952,     0.57864,     0.57775,\n",
              "            0.57687,     0.57598,      0.5751,     0.57421,     0.57333,     0.57245,     0.57156,     0.56747,     0.56281,     0.55815,     0.55349,     0.54883,     0.54417,     0.53951,     0.53485,     0.53019,     0.52553,     0.52087,     0.51621,     0.51154,     0.50688,     0.50222,     0.49975,\n",
              "            0.49929,     0.49882,     0.49835,     0.49788,     0.49741,     0.49694,     0.49647,       0.496,     0.49553,     0.49506,     0.49459,     0.49412,     0.49365,     0.49319,     0.49272,     0.49225,     0.49178,     0.49131,     0.49084,     0.49037,      0.4899,     0.48943,     0.48896,\n",
              "            0.48849,     0.48802,     0.48755,     0.48709,     0.48662,     0.48615,     0.48568,     0.48521,     0.48474,     0.48427,      0.4838,     0.48333,     0.48286,     0.48239,     0.48192,     0.48145,     0.48098,     0.48052,     0.48005,     0.47958,     0.47911,     0.47864,     0.47817,\n",
              "             0.4777,     0.47723,     0.47676,     0.47629,     0.47582,     0.47535,     0.47488,     0.47442,     0.47395,     0.47348,     0.47301,     0.47254,     0.47207,      0.4716,     0.47113,     0.47066,     0.47019,     0.46972,     0.46925,     0.46878,     0.46832,     0.46785,     0.46738,\n",
              "            0.46691,     0.46644,     0.46597,      0.4655,     0.46503,     0.46456,     0.46409,     0.46362,     0.46315,     0.46268,     0.46222,     0.46175,     0.46128,     0.46081,     0.46034,     0.45987,      0.4594,     0.45893,     0.45846,     0.45799,     0.45752,     0.45705,     0.45658,\n",
              "            0.45612,     0.45565,     0.45518,     0.45471,     0.45424,     0.45377,      0.4533,     0.45283,     0.45236,     0.45189,     0.45142,     0.45095,     0.45048,     0.45002,     0.44955,     0.44908,     0.44861,     0.44814,     0.44767,      0.4472,     0.44673,     0.44626,     0.44579,\n",
              "            0.44532,     0.44485,     0.44438,     0.44391,     0.44345,     0.44298,     0.44251,     0.44204,     0.44157,      0.4411,     0.44063,     0.44016,     0.43969,     0.43922,     0.43875,     0.43828,     0.43781,     0.43735,     0.43688,     0.43641,     0.43594,     0.43547,       0.435,\n",
              "            0.43453,     0.43406,     0.43359,     0.43312,     0.43265,     0.43218,     0.43171,     0.43125,     0.43078,     0.43031,     0.42984,     0.42937,      0.4289,     0.42694,     0.42151,     0.41608,     0.41065,     0.40523,      0.3998,     0.39437,     0.38895,     0.38352,     0.37809,\n",
              "            0.37267,     0.36724,     0.36181,     0.35707,     0.35655,     0.35603,     0.35551,     0.35499,     0.35447,     0.35396,     0.35344,     0.35292,      0.3524,     0.35188,     0.35136,     0.35084,     0.35032,      0.3498,     0.34928,     0.34876,     0.34824,     0.34773,     0.34721,\n",
              "            0.34669,     0.34617,     0.34565,     0.34513,     0.34461,     0.34409,     0.34357,     0.34305,     0.34253,     0.34201,      0.3415,     0.34098,     0.34046,     0.33994,     0.33942,      0.3389,     0.33838,     0.33786,     0.33734,     0.33682,      0.3363,     0.33578,     0.33527,\n",
              "            0.33475,     0.33423,     0.33371,     0.33319,     0.33267,     0.33215,     0.33163,     0.33111,     0.33059,     0.33007,     0.32955,     0.32904,     0.32852,       0.328,     0.32748,     0.32696,     0.32644,     0.32592,      0.3254,     0.32488,     0.32436,     0.32384,     0.32332,\n",
              "            0.32281,     0.32229,     0.32177,     0.32125,     0.32073,     0.32021,     0.31969,     0.31917,     0.31865,     0.31813,     0.31761,     0.31709,     0.31658,     0.31606,     0.31554,     0.31502,      0.3145,     0.31398,     0.31346,     0.31294,     0.31242,      0.3119,     0.31138,\n",
              "            0.31086,     0.31035,     0.30983,     0.30931,     0.30879,     0.30827,     0.30775,     0.30723,     0.30671,     0.30619,     0.30567,     0.30515,     0.30463,     0.30412,      0.3036,     0.30308,     0.30256,     0.30204,     0.30152,       0.301,     0.30048,     0.29996,     0.29944,\n",
              "            0.29892,      0.2984,     0.29789,     0.29737,     0.29685,     0.29633,     0.29581,     0.29529,     0.29477,     0.29425,     0.29373,     0.29321,     0.29269,     0.29217,     0.29166,     0.29114,     0.29062,      0.2901,     0.28958,     0.28906,     0.28854,     0.28802,      0.2875,\n",
              "            0.28698,     0.28646,     0.28594,     0.28522,     0.28434,     0.28346,     0.28258,      0.2817,     0.28081,     0.27993,     0.27905,     0.27817,     0.27729,      0.2764,     0.27552,     0.27464,     0.27376,     0.27288,     0.27199,     0.27111,     0.27023,     0.26935,     0.26847,\n",
              "            0.26758,      0.2667,     0.26582,     0.26494,     0.26406,     0.26317,     0.26229,     0.26141,     0.26053,     0.25965,     0.25876,     0.25788,       0.257,     0.25612,     0.25524,     0.25435,     0.25347,     0.25259,     0.25171,     0.25083,     0.24994,     0.24906,     0.24818,\n",
              "             0.2473,     0.24642,     0.24553,     0.24465,     0.24377,     0.24289,     0.24201,     0.24112,     0.24024,     0.23936,     0.23848,      0.2376,     0.23671,     0.23583,     0.23495,     0.23407,     0.23319,      0.2323,     0.23142,     0.23054,     0.22966,     0.22878,     0.22789,\n",
              "            0.22701,     0.22613,     0.22525,     0.22437,     0.22349,      0.2226,     0.22172,     0.22084,     0.21996,     0.21908,     0.21819,     0.21731,     0.21643,     0.21555,     0.21467,     0.21429,     0.21429,     0.21429,     0.21429,     0.21429,     0.21429,     0.21429,     0.21176,\n",
              "            0.20554,     0.19933,     0.19312,     0.18691,      0.1807,     0.17449,     0.16828,     0.16207,     0.15586,     0.14965,     0.14344,     0.14157,     0.14014,     0.13871,     0.13729,     0.13586,     0.13444,     0.13301,     0.13159,     0.13016,     0.12874,     0.12731,     0.12589,\n",
              "            0.12446,     0.12304,     0.12161,     0.12018,     0.11876,     0.11733,     0.11591,     0.11448,     0.11306,     0.11163,     0.11021,     0.10878,     0.10736,     0.10593,     0.10451,     0.10308,     0.10165,     0.10023,    0.098804,    0.097378,    0.095953,    0.094527,    0.093102,\n",
              "           0.091677,    0.090251,    0.088826,      0.0874,    0.085975,     0.08455,    0.083124,    0.081699,    0.080273,    0.078848,    0.077423,    0.075997,    0.074572,    0.073146,    0.071721,           0,           0,           0,           0,           0,           0,           0,           0,\n",
              "                  0,           0,           0,           0,           0,           0,           0,           0,           0,           0,           0,           0,           0,           0,           0,           0,           0,           0,           0,           0,           0,           0,           0,\n",
              "                  0,           0,           0,           0,           0,           0,           0,           0,           0,           0,           0]]), 'Confidence', 'Recall']]\n",
              "fitness: np.float64(0.6574262735502658)\n",
              "keys: ['metrics/precision(B)', 'metrics/recall(B)', 'metrics/mAP50(B)', 'metrics/mAP50-95(B)']\n",
              "maps: array([    0.64322])\n",
              "names: {0: 'your_class_name'}\n",
              "plot: True\n",
              "results_dict: {'metrics/precision(B)': np.float64(0.8988133300884683), 'metrics/recall(B)': np.float64(0.6352285505687246), 'metrics/mAP50(B)': np.float64(0.7853068181818181), 'metrics/mAP50-95(B)': np.float64(0.64321732414676), 'fitness': np.float64(0.6574262735502658)}\n",
              "save_dir: PosixPath('/content/drive/My Drive/YOUR_FOLDER/yolov8_training2')\n",
              "speed: {'preprocess': 2.8426057777458618, 'inference': 241.44029200003084, 'loss': 0.00012566670193336904, 'postprocess': 1.00195637036517}\n",
              "task: 'detect'"
            ]
          },
          "metadata": {},
          "execution_count": 49
        }
      ]
    },
    {
      "cell_type": "code",
      "source": [
        "model.val()\n"
      ],
      "metadata": {
        "colab": {
          "base_uri": "https://localhost:8080/"
        },
        "id": "u6uDDrm_gL0h",
        "outputId": "f56ae4ed-14d3-4ffa-a3b6-9373043e0384"
      },
      "execution_count": null,
      "outputs": [
        {
          "output_type": "stream",
          "name": "stdout",
          "text": [
            "Ultralytics 8.3.94 🚀 Python-3.11.11 torch-2.6.0+cu124 CPU (Intel Xeon 2.20GHz)\n",
            "Model summary (fused): 72 layers, 3,005,843 parameters, 0 gradients, 8.1 GFLOPs\n"
          ]
        },
        {
          "output_type": "stream",
          "name": "stderr",
          "text": [
            "\u001b[34m\u001b[1mval: \u001b[0mScanning /content/drive/My Drive/YOUR_FOLDER/dataset/valid/labels.cache... 27 images, 13 backgrounds, 0 corrupt: 100%|██████████| 27/27 [00:00<?, ?it/s]\n",
            "                 Class     Images  Instances      Box(P          R      mAP50  mAP50-95): 100%|██████████| 4/4 [00:07<00:00,  1.92s/it]\n"
          ]
        },
        {
          "output_type": "stream",
          "name": "stdout",
          "text": [
            "                   all         27         14      0.899      0.635      0.785      0.643\n",
            "Speed: 4.1ms preprocess, 251.0ms inference, 0.0ms loss, 1.1ms postprocess per image\n",
            "Results saved to \u001b[1m/content/drive/My Drive/YOUR_FOLDER/yolov8_training22\u001b[0m\n"
          ]
        },
        {
          "output_type": "execute_result",
          "data": {
            "text/plain": [
              "ultralytics.utils.metrics.DetMetrics object with attributes:\n",
              "\n",
              "ap_class_index: array([0])\n",
              "box: ultralytics.utils.metrics.Metric object\n",
              "confusion_matrix: <ultralytics.utils.metrics.ConfusionMatrix object at 0x78d89ad0e490>\n",
              "curves: ['Precision-Recall(B)', 'F1-Confidence(B)', 'Precision-Confidence(B)', 'Recall-Confidence(B)']\n",
              "curves_results: [[array([          0,    0.001001,    0.002002,    0.003003,    0.004004,    0.005005,    0.006006,    0.007007,    0.008008,    0.009009,     0.01001,    0.011011,    0.012012,    0.013013,    0.014014,    0.015015,    0.016016,    0.017017,    0.018018,    0.019019,     0.02002,    0.021021,    0.022022,    0.023023,\n",
              "          0.024024,    0.025025,    0.026026,    0.027027,    0.028028,    0.029029,     0.03003,    0.031031,    0.032032,    0.033033,    0.034034,    0.035035,    0.036036,    0.037037,    0.038038,    0.039039,     0.04004,    0.041041,    0.042042,    0.043043,    0.044044,    0.045045,    0.046046,    0.047047,\n",
              "          0.048048,    0.049049,     0.05005,    0.051051,    0.052052,    0.053053,    0.054054,    0.055055,    0.056056,    0.057057,    0.058058,    0.059059,     0.06006,    0.061061,    0.062062,    0.063063,    0.064064,    0.065065,    0.066066,    0.067067,    0.068068,    0.069069,     0.07007,    0.071071,\n",
              "          0.072072,    0.073073,    0.074074,    0.075075,    0.076076,    0.077077,    0.078078,    0.079079,     0.08008,    0.081081,    0.082082,    0.083083,    0.084084,    0.085085,    0.086086,    0.087087,    0.088088,    0.089089,     0.09009,    0.091091,    0.092092,    0.093093,    0.094094,    0.095095,\n",
              "          0.096096,    0.097097,    0.098098,    0.099099,      0.1001,      0.1011,      0.1021,      0.1031,      0.1041,     0.10511,     0.10611,     0.10711,     0.10811,     0.10911,     0.11011,     0.11111,     0.11211,     0.11311,     0.11411,     0.11512,     0.11612,     0.11712,     0.11812,     0.11912,\n",
              "           0.12012,     0.12112,     0.12212,     0.12312,     0.12412,     0.12513,     0.12613,     0.12713,     0.12813,     0.12913,     0.13013,     0.13113,     0.13213,     0.13313,     0.13413,     0.13514,     0.13614,     0.13714,     0.13814,     0.13914,     0.14014,     0.14114,     0.14214,     0.14314,\n",
              "           0.14414,     0.14515,     0.14615,     0.14715,     0.14815,     0.14915,     0.15015,     0.15115,     0.15215,     0.15315,     0.15415,     0.15516,     0.15616,     0.15716,     0.15816,     0.15916,     0.16016,     0.16116,     0.16216,     0.16316,     0.16416,     0.16517,     0.16617,     0.16717,\n",
              "           0.16817,     0.16917,     0.17017,     0.17117,     0.17217,     0.17317,     0.17417,     0.17518,     0.17618,     0.17718,     0.17818,     0.17918,     0.18018,     0.18118,     0.18218,     0.18318,     0.18418,     0.18519,     0.18619,     0.18719,     0.18819,     0.18919,     0.19019,     0.19119,\n",
              "           0.19219,     0.19319,     0.19419,      0.1952,      0.1962,      0.1972,      0.1982,      0.1992,      0.2002,      0.2012,      0.2022,      0.2032,      0.2042,     0.20521,     0.20621,     0.20721,     0.20821,     0.20921,     0.21021,     0.21121,     0.21221,     0.21321,     0.21421,     0.21522,\n",
              "           0.21622,     0.21722,     0.21822,     0.21922,     0.22022,     0.22122,     0.22222,     0.22322,     0.22422,     0.22523,     0.22623,     0.22723,     0.22823,     0.22923,     0.23023,     0.23123,     0.23223,     0.23323,     0.23423,     0.23524,     0.23624,     0.23724,     0.23824,     0.23924,\n",
              "           0.24024,     0.24124,     0.24224,     0.24324,     0.24424,     0.24525,     0.24625,     0.24725,     0.24825,     0.24925,     0.25025,     0.25125,     0.25225,     0.25325,     0.25425,     0.25526,     0.25626,     0.25726,     0.25826,     0.25926,     0.26026,     0.26126,     0.26226,     0.26326,\n",
              "           0.26426,     0.26527,     0.26627,     0.26727,     0.26827,     0.26927,     0.27027,     0.27127,     0.27227,     0.27327,     0.27427,     0.27528,     0.27628,     0.27728,     0.27828,     0.27928,     0.28028,     0.28128,     0.28228,     0.28328,     0.28428,     0.28529,     0.28629,     0.28729,\n",
              "           0.28829,     0.28929,     0.29029,     0.29129,     0.29229,     0.29329,     0.29429,      0.2953,      0.2963,      0.2973,      0.2983,      0.2993,      0.3003,      0.3013,      0.3023,      0.3033,      0.3043,     0.30531,     0.30631,     0.30731,     0.30831,     0.30931,     0.31031,     0.31131,\n",
              "           0.31231,     0.31331,     0.31431,     0.31532,     0.31632,     0.31732,     0.31832,     0.31932,     0.32032,     0.32132,     0.32232,     0.32332,     0.32432,     0.32533,     0.32633,     0.32733,     0.32833,     0.32933,     0.33033,     0.33133,     0.33233,     0.33333,     0.33433,     0.33534,\n",
              "           0.33634,     0.33734,     0.33834,     0.33934,     0.34034,     0.34134,     0.34234,     0.34334,     0.34434,     0.34535,     0.34635,     0.34735,     0.34835,     0.34935,     0.35035,     0.35135,     0.35235,     0.35335,     0.35435,     0.35536,     0.35636,     0.35736,     0.35836,     0.35936,\n",
              "           0.36036,     0.36136,     0.36236,     0.36336,     0.36436,     0.36537,     0.36637,     0.36737,     0.36837,     0.36937,     0.37037,     0.37137,     0.37237,     0.37337,     0.37437,     0.37538,     0.37638,     0.37738,     0.37838,     0.37938,     0.38038,     0.38138,     0.38238,     0.38338,\n",
              "           0.38438,     0.38539,     0.38639,     0.38739,     0.38839,     0.38939,     0.39039,     0.39139,     0.39239,     0.39339,     0.39439,      0.3954,      0.3964,      0.3974,      0.3984,      0.3994,      0.4004,      0.4014,      0.4024,      0.4034,      0.4044,     0.40541,     0.40641,     0.40741,\n",
              "           0.40841,     0.40941,     0.41041,     0.41141,     0.41241,     0.41341,     0.41441,     0.41542,     0.41642,     0.41742,     0.41842,     0.41942,     0.42042,     0.42142,     0.42242,     0.42342,     0.42442,     0.42543,     0.42643,     0.42743,     0.42843,     0.42943,     0.43043,     0.43143,\n",
              "           0.43243,     0.43343,     0.43443,     0.43544,     0.43644,     0.43744,     0.43844,     0.43944,     0.44044,     0.44144,     0.44244,     0.44344,     0.44444,     0.44545,     0.44645,     0.44745,     0.44845,     0.44945,     0.45045,     0.45145,     0.45245,     0.45345,     0.45445,     0.45546,\n",
              "           0.45646,     0.45746,     0.45846,     0.45946,     0.46046,     0.46146,     0.46246,     0.46346,     0.46446,     0.46547,     0.46647,     0.46747,     0.46847,     0.46947,     0.47047,     0.47147,     0.47247,     0.47347,     0.47447,     0.47548,     0.47648,     0.47748,     0.47848,     0.47948,\n",
              "           0.48048,     0.48148,     0.48248,     0.48348,     0.48448,     0.48549,     0.48649,     0.48749,     0.48849,     0.48949,     0.49049,     0.49149,     0.49249,     0.49349,     0.49449,      0.4955,      0.4965,      0.4975,      0.4985,      0.4995,      0.5005,      0.5015,      0.5025,      0.5035,\n",
              "            0.5045,     0.50551,     0.50651,     0.50751,     0.50851,     0.50951,     0.51051,     0.51151,     0.51251,     0.51351,     0.51451,     0.51552,     0.51652,     0.51752,     0.51852,     0.51952,     0.52052,     0.52152,     0.52252,     0.52352,     0.52452,     0.52553,     0.52653,     0.52753,\n",
              "           0.52853,     0.52953,     0.53053,     0.53153,     0.53253,     0.53353,     0.53453,     0.53554,     0.53654,     0.53754,     0.53854,     0.53954,     0.54054,     0.54154,     0.54254,     0.54354,     0.54454,     0.54555,     0.54655,     0.54755,     0.54855,     0.54955,     0.55055,     0.55155,\n",
              "           0.55255,     0.55355,     0.55455,     0.55556,     0.55656,     0.55756,     0.55856,     0.55956,     0.56056,     0.56156,     0.56256,     0.56356,     0.56456,     0.56557,     0.56657,     0.56757,     0.56857,     0.56957,     0.57057,     0.57157,     0.57257,     0.57357,     0.57457,     0.57558,\n",
              "           0.57658,     0.57758,     0.57858,     0.57958,     0.58058,     0.58158,     0.58258,     0.58358,     0.58458,     0.58559,     0.58659,     0.58759,     0.58859,     0.58959,     0.59059,     0.59159,     0.59259,     0.59359,     0.59459,      0.5956,      0.5966,      0.5976,      0.5986,      0.5996,\n",
              "            0.6006,      0.6016,      0.6026,      0.6036,      0.6046,     0.60561,     0.60661,     0.60761,     0.60861,     0.60961,     0.61061,     0.61161,     0.61261,     0.61361,     0.61461,     0.61562,     0.61662,     0.61762,     0.61862,     0.61962,     0.62062,     0.62162,     0.62262,     0.62362,\n",
              "           0.62462,     0.62563,     0.62663,     0.62763,     0.62863,     0.62963,     0.63063,     0.63163,     0.63263,     0.63363,     0.63463,     0.63564,     0.63664,     0.63764,     0.63864,     0.63964,     0.64064,     0.64164,     0.64264,     0.64364,     0.64464,     0.64565,     0.64665,     0.64765,\n",
              "           0.64865,     0.64965,     0.65065,     0.65165,     0.65265,     0.65365,     0.65465,     0.65566,     0.65666,     0.65766,     0.65866,     0.65966,     0.66066,     0.66166,     0.66266,     0.66366,     0.66466,     0.66567,     0.66667,     0.66767,     0.66867,     0.66967,     0.67067,     0.67167,\n",
              "           0.67267,     0.67367,     0.67467,     0.67568,     0.67668,     0.67768,     0.67868,     0.67968,     0.68068,     0.68168,     0.68268,     0.68368,     0.68468,     0.68569,     0.68669,     0.68769,     0.68869,     0.68969,     0.69069,     0.69169,     0.69269,     0.69369,     0.69469,      0.6957,\n",
              "            0.6967,      0.6977,      0.6987,      0.6997,      0.7007,      0.7017,      0.7027,      0.7037,      0.7047,     0.70571,     0.70671,     0.70771,     0.70871,     0.70971,     0.71071,     0.71171,     0.71271,     0.71371,     0.71471,     0.71572,     0.71672,     0.71772,     0.71872,     0.71972,\n",
              "           0.72072,     0.72172,     0.72272,     0.72372,     0.72472,     0.72573,     0.72673,     0.72773,     0.72873,     0.72973,     0.73073,     0.73173,     0.73273,     0.73373,     0.73473,     0.73574,     0.73674,     0.73774,     0.73874,     0.73974,     0.74074,     0.74174,     0.74274,     0.74374,\n",
              "           0.74474,     0.74575,     0.74675,     0.74775,     0.74875,     0.74975,     0.75075,     0.75175,     0.75275,     0.75375,     0.75475,     0.75576,     0.75676,     0.75776,     0.75876,     0.75976,     0.76076,     0.76176,     0.76276,     0.76376,     0.76476,     0.76577,     0.76677,     0.76777,\n",
              "           0.76877,     0.76977,     0.77077,     0.77177,     0.77277,     0.77377,     0.77477,     0.77578,     0.77678,     0.77778,     0.77878,     0.77978,     0.78078,     0.78178,     0.78278,     0.78378,     0.78478,     0.78579,     0.78679,     0.78779,     0.78879,     0.78979,     0.79079,     0.79179,\n",
              "           0.79279,     0.79379,     0.79479,      0.7958,      0.7968,      0.7978,      0.7988,      0.7998,      0.8008,      0.8018,      0.8028,      0.8038,      0.8048,     0.80581,     0.80681,     0.80781,     0.80881,     0.80981,     0.81081,     0.81181,     0.81281,     0.81381,     0.81481,     0.81582,\n",
              "           0.81682,     0.81782,     0.81882,     0.81982,     0.82082,     0.82182,     0.82282,     0.82382,     0.82482,     0.82583,     0.82683,     0.82783,     0.82883,     0.82983,     0.83083,     0.83183,     0.83283,     0.83383,     0.83483,     0.83584,     0.83684,     0.83784,     0.83884,     0.83984,\n",
              "           0.84084,     0.84184,     0.84284,     0.84384,     0.84484,     0.84585,     0.84685,     0.84785,     0.84885,     0.84985,     0.85085,     0.85185,     0.85285,     0.85385,     0.85485,     0.85586,     0.85686,     0.85786,     0.85886,     0.85986,     0.86086,     0.86186,     0.86286,     0.86386,\n",
              "           0.86486,     0.86587,     0.86687,     0.86787,     0.86887,     0.86987,     0.87087,     0.87187,     0.87287,     0.87387,     0.87487,     0.87588,     0.87688,     0.87788,     0.87888,     0.87988,     0.88088,     0.88188,     0.88288,     0.88388,     0.88488,     0.88589,     0.88689,     0.88789,\n",
              "           0.88889,     0.88989,     0.89089,     0.89189,     0.89289,     0.89389,     0.89489,      0.8959,      0.8969,      0.8979,      0.8989,      0.8999,      0.9009,      0.9019,      0.9029,      0.9039,      0.9049,     0.90591,     0.90691,     0.90791,     0.90891,     0.90991,     0.91091,     0.91191,\n",
              "           0.91291,     0.91391,     0.91491,     0.91592,     0.91692,     0.91792,     0.91892,     0.91992,     0.92092,     0.92192,     0.92292,     0.92392,     0.92492,     0.92593,     0.92693,     0.92793,     0.92893,     0.92993,     0.93093,     0.93193,     0.93293,     0.93393,     0.93493,     0.93594,\n",
              "           0.93694,     0.93794,     0.93894,     0.93994,     0.94094,     0.94194,     0.94294,     0.94394,     0.94494,     0.94595,     0.94695,     0.94795,     0.94895,     0.94995,     0.95095,     0.95195,     0.95295,     0.95395,     0.95495,     0.95596,     0.95696,     0.95796,     0.95896,     0.95996,\n",
              "           0.96096,     0.96196,     0.96296,     0.96396,     0.96496,     0.96597,     0.96697,     0.96797,     0.96897,     0.96997,     0.97097,     0.97197,     0.97297,     0.97397,     0.97497,     0.97598,     0.97698,     0.97798,     0.97898,     0.97998,     0.98098,     0.98198,     0.98298,     0.98398,\n",
              "           0.98498,     0.98599,     0.98699,     0.98799,     0.98899,     0.98999,     0.99099,     0.99199,     0.99299,     0.99399,     0.99499,       0.996,       0.997,       0.998,       0.999,           1]), array([[          1,           1,           1,           1,           1,           1,           1,           1,           1,           1,           1,           1,           1,           1,           1,           1,           1,           1,           1,           1,           1,           1,           1,\n",
              "                  1,           1,           1,           1,           1,           1,           1,           1,           1,           1,           1,           1,           1,           1,           1,           1,           1,           1,           1,           1,           1,           1,           1,\n",
              "                  1,           1,           1,           1,           1,           1,           1,           1,           1,           1,           1,           1,           1,           1,           1,           1,           1,           1,           1,           1,           1,           1,           1,\n",
              "                  1,           1,           1,           1,           1,           1,           1,           1,           1,           1,           1,           1,           1,           1,           1,           1,           1,           1,           1,           1,           1,           1,           1,\n",
              "                  1,           1,           1,           1,           1,           1,           1,           1,           1,           1,           1,           1,           1,           1,           1,           1,           1,           1,           1,           1,           1,           1,           1,\n",
              "                  1,           1,           1,           1,           1,           1,           1,           1,           1,           1,           1,           1,           1,           1,           1,           1,           1,           1,           1,           1,           1,           1,           1,\n",
              "                  1,           1,           1,           1,           1,           1,           1,           1,           1,           1,           1,           1,           1,           1,           1,           1,           1,           1,           1,           1,           1,           1,           1,\n",
              "                  1,           1,           1,           1,           1,           1,           1,           1,           1,           1,           1,           1,           1,           1,           1,           1,           1,           1,           1,           1,           1,           1,           1,\n",
              "                  1,           1,           1,           1,           1,           1,           1,           1,           1,           1,           1,           1,           1,           1,           1,           1,           1,           1,           1,           1,           1,           1,           1,\n",
              "                  1,           1,           1,           1,           1,           1,           1,           1,         0.9,         0.9,         0.9,         0.9,         0.9,         0.9,         0.9,         0.9,         0.9,         0.9,         0.9,         0.9,         0.9,         0.9,         0.9,\n",
              "                0.9,         0.9,         0.9,         0.9,         0.9,         0.9,         0.9,         0.9,         0.9,         0.9,         0.9,         0.9,         0.9,         0.9,         0.9,         0.9,         0.9,         0.9,         0.9,         0.9,         0.9,         0.9,         0.9,\n",
              "                0.9,         0.9,         0.9,         0.9,         0.9,         0.9,         0.9,         0.9,         0.9,         0.9,         0.9,         0.9,         0.9,         0.9,         0.9,         0.9,         0.9,         0.9,         0.9,         0.9,         0.9,         0.9,         0.9,\n",
              "                0.9,         0.9,         0.9,         0.9,         0.9,         0.9,         0.9,         0.9,         0.9,         0.9,         0.9,         0.9,         0.9,         0.9,         0.9,         0.9,         0.9,         0.9,         0.9,         0.9,         0.9,         0.9,         0.9,\n",
              "                0.9,         0.9,         0.9,         0.9,         0.9,         0.9,         0.9,         0.9,         0.9,         0.9,         0.9,         0.9,         0.9,         0.9,         0.9,         0.9,         0.9,         0.9,         0.9,         0.9,         0.9,         0.9,         0.9,\n",
              "                0.9,         0.9,         0.9,         0.9,         0.9,         0.9,         0.9,         0.9,         0.9,         0.9,         0.9,         0.9,         0.9,         0.9,         0.9,         0.9,         0.9,         0.9,         0.9,         0.9,         0.9,         0.9,         0.9,\n",
              "                0.9,         0.9,         0.9,         0.9,         0.9,         0.9,         0.9,         0.9,         0.9,         0.9,         0.9,         0.9,         0.9,         0.9,         0.9,         0.9,         0.9,         0.9,         0.9,         0.9,         0.9,         0.9,         0.9,\n",
              "                0.9,         0.9,         0.9,         0.9,         0.9,         0.9,         0.9,         0.9,         0.9,         0.9,         0.9,         0.9,         0.9,         0.9,         0.9,         0.9,         0.9,         0.9,         0.9,         0.9,         0.9,         0.9,         0.9,\n",
              "                0.9,         0.9,         0.9,         0.9,         0.9,         0.9,         0.9,         0.9,         0.9,         0.9,         0.9,         0.9,         0.9,         0.9,         0.9,         0.9,         0.9,         0.9,         0.9,         0.9,         0.9,         0.9,         0.9,\n",
              "                0.9,         0.9,         0.9,         0.9,         0.9,         0.9,         0.9,         0.9,         0.9,         0.9,         0.9,         0.9,         0.9,         0.9,         0.9,         0.9,         0.9,         0.9,         0.9,         0.9,         0.9,         0.9,         0.9,\n",
              "                0.9,         0.9,         0.9,         0.9,         0.9,         0.9,         0.9,         0.9,         0.9,         0.9,         0.9,         0.9,         0.9,         0.9,         0.9,         0.9,         0.9,         0.9,         0.9,         0.9,         0.9,         0.9,         0.9,\n",
              "                0.9,         0.9,         0.9,         0.9,         0.9,         0.9,         0.9,         0.9,         0.9,         0.9,         0.9,         0.9,         0.9,         0.9,         0.9,         0.9,         0.9,         0.9,         0.9,         0.9,         0.9,         0.9,         0.9,\n",
              "                0.9,         0.9,         0.9,         0.9,         0.9,         0.9,         0.9,         0.9,         0.9,         0.9,         0.9,         0.9,         0.9,         0.9,         0.9,         0.9,         0.9,         0.9,         0.9,         0.9,         0.9,         0.9,         0.9,\n",
              "                0.9,         0.9,         0.9,         0.9,         0.9,         0.9,         0.9,         0.9,         0.9,         0.9,         0.9,         0.9,         0.9,         0.9,         0.9,         0.9,         0.9,         0.9,         0.9,         0.9,         0.9,         0.9,         0.9,\n",
              "                0.9,         0.9,         0.9,         0.9,         0.9,         0.9,         0.9,         0.9,         0.9,         0.9,         0.9,         0.9,         0.9,         0.9,         0.9,         0.9,         0.9,         0.9,         0.9,         0.9,         0.9,         0.9,         0.9,\n",
              "                0.9,         0.9,         0.9,         0.9,         0.9,         0.9,         0.9,         0.9,         0.9,         0.9,         0.9,         0.9,         0.9,         0.9,         0.9,         0.9,         0.9,         0.9,         0.9,         0.9,         0.9,         0.9,         0.9,\n",
              "                0.9,         0.9,         0.9,         0.9,         0.9,         0.9,         0.9,         0.9,         0.9,         0.9,         0.9,         0.9,         0.9,         0.9,         0.9,         0.9,         0.9,         0.9,         0.9,         0.9,         0.9,         0.9,         0.9,\n",
              "                0.9,         0.9,         0.9,         0.9,         0.9,         0.9,         0.9,         0.9,         0.9,         0.9,         0.9,         0.9,         0.9,         0.9,         0.9,         0.9,         0.9,         0.9,         0.9,         0.9,         0.9,         0.9,         0.9,\n",
              "                0.9,         0.9,         0.9,         0.9,         0.9,         0.9,         0.9,         0.9,         0.9,         0.9,         0.9,         0.9,         0.9,         0.9,         0.9,         0.9,         0.9,         0.9,         0.9,         0.9,         0.9,         0.9,     0.71429,\n",
              "            0.71429,     0.71429,     0.71429,     0.71429,     0.71429,     0.71429,     0.71429,     0.71429,     0.71429,     0.71429,     0.71429,     0.71429,     0.71429,     0.71429,     0.71429,     0.71429,     0.71429,     0.71429,     0.71429,     0.71429,     0.71429,     0.71429,     0.71429,\n",
              "            0.71429,     0.71429,     0.71429,     0.71429,     0.71429,     0.71429,     0.71429,     0.71429,     0.71429,     0.71429,     0.71429,     0.71429,     0.71429,     0.71429,     0.71429,     0.71429,     0.71429,     0.71429,     0.71429,     0.71429,     0.71429,     0.71429,     0.71429,\n",
              "            0.71429,     0.71429,     0.71429,     0.71429,     0.71429,     0.71429,     0.71429,     0.71429,     0.71429,     0.71429,     0.71429,     0.71429,     0.71429,     0.71429,     0.71429,     0.71429,     0.71429,     0.71429,     0.71429,     0.71429,     0.71429,     0.71429,     0.71429,\n",
              "            0.71429,      0.6875,      0.6875,      0.6875,      0.6875,      0.6875,      0.6875,      0.6875,      0.6875,      0.6875,      0.6875,      0.6875,      0.6875,      0.6875,      0.6875,      0.6875,      0.6875,      0.6875,      0.6875,      0.6875,      0.6875,      0.6875,      0.6875,\n",
              "             0.6875,      0.6875,      0.6875,      0.6875,      0.6875,      0.6875,      0.6875,      0.6875,      0.6875,      0.6875,      0.6875,      0.6875,      0.6875,      0.6875,      0.6875,      0.6875,      0.6875,      0.6875,      0.6875,      0.6875,      0.6875,      0.6875,      0.6875,\n",
              "             0.6875,      0.6875,      0.6875,      0.6875,      0.6875,      0.6875,      0.6875,      0.6875,      0.6875,      0.6875,      0.6875,      0.6875,      0.6875,      0.6875,      0.6875,      0.6875,      0.6875,      0.6875,      0.6875,      0.6875,      0.6875,      0.6875,      0.6875,\n",
              "             0.6875,      0.6875,      0.6875,     0.57143,     0.57143,     0.57143,     0.57143,     0.57143,     0.57143,     0.57143,     0.57143,     0.57143,     0.57143,     0.57143,     0.57143,     0.57143,     0.57143,     0.57143,     0.57143,     0.57143,     0.57143,     0.57143,     0.57143,\n",
              "            0.57143,     0.57143,     0.57143,     0.57143,     0.57143,     0.57143,     0.57143,     0.57143,     0.57143,     0.57143,     0.57143,     0.57143,     0.57143,     0.57143,     0.57143,     0.57143,     0.57143,     0.57143,     0.57143,     0.57143,     0.57143,     0.57143,     0.57143,\n",
              "            0.57143,     0.57143,     0.57143,     0.57143,     0.57143,     0.57143,     0.57143,     0.57143,     0.57143,     0.57143,     0.57143,     0.57143,     0.57143,     0.57143,     0.57143,     0.57143,     0.57143,     0.57143,     0.57143,     0.57143,     0.57143,     0.57143,     0.57143,\n",
              "            0.57143,     0.57143,     0.57143,     0.57143,     0.57143,     0.57143,     0.43333,     0.43333,     0.43333,     0.43333,     0.43333,     0.43333,     0.43333,     0.43333,     0.43333,     0.43333,     0.43333,     0.43333,     0.43333,     0.43333,     0.43333,     0.43333,     0.43333,\n",
              "            0.43333,     0.43333,     0.43333,     0.43333,     0.43333,     0.43333,     0.43333,     0.43333,     0.43333,     0.43333,     0.43333,     0.43333,     0.43333,     0.43333,     0.43333,     0.43333,     0.43333,     0.43333,     0.43333,     0.43333,     0.43333,     0.43333,     0.43333,\n",
              "            0.43333,     0.43333,     0.43333,     0.43333,     0.43333,     0.43333,     0.43333,     0.43333,     0.43333,     0.43333,     0.43333,     0.43333,     0.43333,     0.43333,     0.43333,     0.43333,     0.43333,     0.43333,     0.43333,     0.43333,     0.43333,     0.43333,     0.43333,\n",
              "            0.43333,     0.43333,     0.43333,     0.43333,     0.43333,     0.43333,     0.43333,     0.43333,     0.21212,     0.21212,     0.21212,     0.21212,     0.21212,     0.21212,     0.21212,     0.21212,     0.21212,     0.21212,     0.21212,     0.21212,     0.21212,     0.21212,     0.21212,\n",
              "            0.21212,     0.21212,     0.21212,     0.21212,     0.21212,     0.21212,     0.21212,     0.21212,     0.21212,     0.21212,     0.21212,     0.21212,     0.21212,     0.21212,     0.21212,     0.21212,     0.21212,     0.21212,     0.21212,     0.21212,     0.21212,     0.21212,     0.21212,\n",
              "            0.21212,     0.21212,     0.21212,     0.21212,     0.21212,     0.21212,     0.21212,     0.21212,     0.21212,     0.21212,     0.21212,     0.21212,     0.21212,     0.21212,     0.21212,     0.21212,     0.21212,     0.21212,     0.21212,     0.21212,     0.21212,     0.21212,     0.21212,\n",
              "            0.21212,     0.21212,     0.21212,     0.21212,     0.21212,     0.21212,     0.21212,     0.21212,     0.21212,     0.21212,           0]]), 'Recall', 'Precision'], [array([          0,    0.001001,    0.002002,    0.003003,    0.004004,    0.005005,    0.006006,    0.007007,    0.008008,    0.009009,     0.01001,    0.011011,    0.012012,    0.013013,    0.014014,    0.015015,    0.016016,    0.017017,    0.018018,    0.019019,     0.02002,    0.021021,    0.022022,    0.023023,\n",
              "          0.024024,    0.025025,    0.026026,    0.027027,    0.028028,    0.029029,     0.03003,    0.031031,    0.032032,    0.033033,    0.034034,    0.035035,    0.036036,    0.037037,    0.038038,    0.039039,     0.04004,    0.041041,    0.042042,    0.043043,    0.044044,    0.045045,    0.046046,    0.047047,\n",
              "          0.048048,    0.049049,     0.05005,    0.051051,    0.052052,    0.053053,    0.054054,    0.055055,    0.056056,    0.057057,    0.058058,    0.059059,     0.06006,    0.061061,    0.062062,    0.063063,    0.064064,    0.065065,    0.066066,    0.067067,    0.068068,    0.069069,     0.07007,    0.071071,\n",
              "          0.072072,    0.073073,    0.074074,    0.075075,    0.076076,    0.077077,    0.078078,    0.079079,     0.08008,    0.081081,    0.082082,    0.083083,    0.084084,    0.085085,    0.086086,    0.087087,    0.088088,    0.089089,     0.09009,    0.091091,    0.092092,    0.093093,    0.094094,    0.095095,\n",
              "          0.096096,    0.097097,    0.098098,    0.099099,      0.1001,      0.1011,      0.1021,      0.1031,      0.1041,     0.10511,     0.10611,     0.10711,     0.10811,     0.10911,     0.11011,     0.11111,     0.11211,     0.11311,     0.11411,     0.11512,     0.11612,     0.11712,     0.11812,     0.11912,\n",
              "           0.12012,     0.12112,     0.12212,     0.12312,     0.12412,     0.12513,     0.12613,     0.12713,     0.12813,     0.12913,     0.13013,     0.13113,     0.13213,     0.13313,     0.13413,     0.13514,     0.13614,     0.13714,     0.13814,     0.13914,     0.14014,     0.14114,     0.14214,     0.14314,\n",
              "           0.14414,     0.14515,     0.14615,     0.14715,     0.14815,     0.14915,     0.15015,     0.15115,     0.15215,     0.15315,     0.15415,     0.15516,     0.15616,     0.15716,     0.15816,     0.15916,     0.16016,     0.16116,     0.16216,     0.16316,     0.16416,     0.16517,     0.16617,     0.16717,\n",
              "           0.16817,     0.16917,     0.17017,     0.17117,     0.17217,     0.17317,     0.17417,     0.17518,     0.17618,     0.17718,     0.17818,     0.17918,     0.18018,     0.18118,     0.18218,     0.18318,     0.18418,     0.18519,     0.18619,     0.18719,     0.18819,     0.18919,     0.19019,     0.19119,\n",
              "           0.19219,     0.19319,     0.19419,      0.1952,      0.1962,      0.1972,      0.1982,      0.1992,      0.2002,      0.2012,      0.2022,      0.2032,      0.2042,     0.20521,     0.20621,     0.20721,     0.20821,     0.20921,     0.21021,     0.21121,     0.21221,     0.21321,     0.21421,     0.21522,\n",
              "           0.21622,     0.21722,     0.21822,     0.21922,     0.22022,     0.22122,     0.22222,     0.22322,     0.22422,     0.22523,     0.22623,     0.22723,     0.22823,     0.22923,     0.23023,     0.23123,     0.23223,     0.23323,     0.23423,     0.23524,     0.23624,     0.23724,     0.23824,     0.23924,\n",
              "           0.24024,     0.24124,     0.24224,     0.24324,     0.24424,     0.24525,     0.24625,     0.24725,     0.24825,     0.24925,     0.25025,     0.25125,     0.25225,     0.25325,     0.25425,     0.25526,     0.25626,     0.25726,     0.25826,     0.25926,     0.26026,     0.26126,     0.26226,     0.26326,\n",
              "           0.26426,     0.26527,     0.26627,     0.26727,     0.26827,     0.26927,     0.27027,     0.27127,     0.27227,     0.27327,     0.27427,     0.27528,     0.27628,     0.27728,     0.27828,     0.27928,     0.28028,     0.28128,     0.28228,     0.28328,     0.28428,     0.28529,     0.28629,     0.28729,\n",
              "           0.28829,     0.28929,     0.29029,     0.29129,     0.29229,     0.29329,     0.29429,      0.2953,      0.2963,      0.2973,      0.2983,      0.2993,      0.3003,      0.3013,      0.3023,      0.3033,      0.3043,     0.30531,     0.30631,     0.30731,     0.30831,     0.30931,     0.31031,     0.31131,\n",
              "           0.31231,     0.31331,     0.31431,     0.31532,     0.31632,     0.31732,     0.31832,     0.31932,     0.32032,     0.32132,     0.32232,     0.32332,     0.32432,     0.32533,     0.32633,     0.32733,     0.32833,     0.32933,     0.33033,     0.33133,     0.33233,     0.33333,     0.33433,     0.33534,\n",
              "           0.33634,     0.33734,     0.33834,     0.33934,     0.34034,     0.34134,     0.34234,     0.34334,     0.34434,     0.34535,     0.34635,     0.34735,     0.34835,     0.34935,     0.35035,     0.35135,     0.35235,     0.35335,     0.35435,     0.35536,     0.35636,     0.35736,     0.35836,     0.35936,\n",
              "           0.36036,     0.36136,     0.36236,     0.36336,     0.36436,     0.36537,     0.36637,     0.36737,     0.36837,     0.36937,     0.37037,     0.37137,     0.37237,     0.37337,     0.37437,     0.37538,     0.37638,     0.37738,     0.37838,     0.37938,     0.38038,     0.38138,     0.38238,     0.38338,\n",
              "           0.38438,     0.38539,     0.38639,     0.38739,     0.38839,     0.38939,     0.39039,     0.39139,     0.39239,     0.39339,     0.39439,      0.3954,      0.3964,      0.3974,      0.3984,      0.3994,      0.4004,      0.4014,      0.4024,      0.4034,      0.4044,     0.40541,     0.40641,     0.40741,\n",
              "           0.40841,     0.40941,     0.41041,     0.41141,     0.41241,     0.41341,     0.41441,     0.41542,     0.41642,     0.41742,     0.41842,     0.41942,     0.42042,     0.42142,     0.42242,     0.42342,     0.42442,     0.42543,     0.42643,     0.42743,     0.42843,     0.42943,     0.43043,     0.43143,\n",
              "           0.43243,     0.43343,     0.43443,     0.43544,     0.43644,     0.43744,     0.43844,     0.43944,     0.44044,     0.44144,     0.44244,     0.44344,     0.44444,     0.44545,     0.44645,     0.44745,     0.44845,     0.44945,     0.45045,     0.45145,     0.45245,     0.45345,     0.45445,     0.45546,\n",
              "           0.45646,     0.45746,     0.45846,     0.45946,     0.46046,     0.46146,     0.46246,     0.46346,     0.46446,     0.46547,     0.46647,     0.46747,     0.46847,     0.46947,     0.47047,     0.47147,     0.47247,     0.47347,     0.47447,     0.47548,     0.47648,     0.47748,     0.47848,     0.47948,\n",
              "           0.48048,     0.48148,     0.48248,     0.48348,     0.48448,     0.48549,     0.48649,     0.48749,     0.48849,     0.48949,     0.49049,     0.49149,     0.49249,     0.49349,     0.49449,      0.4955,      0.4965,      0.4975,      0.4985,      0.4995,      0.5005,      0.5015,      0.5025,      0.5035,\n",
              "            0.5045,     0.50551,     0.50651,     0.50751,     0.50851,     0.50951,     0.51051,     0.51151,     0.51251,     0.51351,     0.51451,     0.51552,     0.51652,     0.51752,     0.51852,     0.51952,     0.52052,     0.52152,     0.52252,     0.52352,     0.52452,     0.52553,     0.52653,     0.52753,\n",
              "           0.52853,     0.52953,     0.53053,     0.53153,     0.53253,     0.53353,     0.53453,     0.53554,     0.53654,     0.53754,     0.53854,     0.53954,     0.54054,     0.54154,     0.54254,     0.54354,     0.54454,     0.54555,     0.54655,     0.54755,     0.54855,     0.54955,     0.55055,     0.55155,\n",
              "           0.55255,     0.55355,     0.55455,     0.55556,     0.55656,     0.55756,     0.55856,     0.55956,     0.56056,     0.56156,     0.56256,     0.56356,     0.56456,     0.56557,     0.56657,     0.56757,     0.56857,     0.56957,     0.57057,     0.57157,     0.57257,     0.57357,     0.57457,     0.57558,\n",
              "           0.57658,     0.57758,     0.57858,     0.57958,     0.58058,     0.58158,     0.58258,     0.58358,     0.58458,     0.58559,     0.58659,     0.58759,     0.58859,     0.58959,     0.59059,     0.59159,     0.59259,     0.59359,     0.59459,      0.5956,      0.5966,      0.5976,      0.5986,      0.5996,\n",
              "            0.6006,      0.6016,      0.6026,      0.6036,      0.6046,     0.60561,     0.60661,     0.60761,     0.60861,     0.60961,     0.61061,     0.61161,     0.61261,     0.61361,     0.61461,     0.61562,     0.61662,     0.61762,     0.61862,     0.61962,     0.62062,     0.62162,     0.62262,     0.62362,\n",
              "           0.62462,     0.62563,     0.62663,     0.62763,     0.62863,     0.62963,     0.63063,     0.63163,     0.63263,     0.63363,     0.63463,     0.63564,     0.63664,     0.63764,     0.63864,     0.63964,     0.64064,     0.64164,     0.64264,     0.64364,     0.64464,     0.64565,     0.64665,     0.64765,\n",
              "           0.64865,     0.64965,     0.65065,     0.65165,     0.65265,     0.65365,     0.65465,     0.65566,     0.65666,     0.65766,     0.65866,     0.65966,     0.66066,     0.66166,     0.66266,     0.66366,     0.66466,     0.66567,     0.66667,     0.66767,     0.66867,     0.66967,     0.67067,     0.67167,\n",
              "           0.67267,     0.67367,     0.67467,     0.67568,     0.67668,     0.67768,     0.67868,     0.67968,     0.68068,     0.68168,     0.68268,     0.68368,     0.68468,     0.68569,     0.68669,     0.68769,     0.68869,     0.68969,     0.69069,     0.69169,     0.69269,     0.69369,     0.69469,      0.6957,\n",
              "            0.6967,      0.6977,      0.6987,      0.6997,      0.7007,      0.7017,      0.7027,      0.7037,      0.7047,     0.70571,     0.70671,     0.70771,     0.70871,     0.70971,     0.71071,     0.71171,     0.71271,     0.71371,     0.71471,     0.71572,     0.71672,     0.71772,     0.71872,     0.71972,\n",
              "           0.72072,     0.72172,     0.72272,     0.72372,     0.72472,     0.72573,     0.72673,     0.72773,     0.72873,     0.72973,     0.73073,     0.73173,     0.73273,     0.73373,     0.73473,     0.73574,     0.73674,     0.73774,     0.73874,     0.73974,     0.74074,     0.74174,     0.74274,     0.74374,\n",
              "           0.74474,     0.74575,     0.74675,     0.74775,     0.74875,     0.74975,     0.75075,     0.75175,     0.75275,     0.75375,     0.75475,     0.75576,     0.75676,     0.75776,     0.75876,     0.75976,     0.76076,     0.76176,     0.76276,     0.76376,     0.76476,     0.76577,     0.76677,     0.76777,\n",
              "           0.76877,     0.76977,     0.77077,     0.77177,     0.77277,     0.77377,     0.77477,     0.77578,     0.77678,     0.77778,     0.77878,     0.77978,     0.78078,     0.78178,     0.78278,     0.78378,     0.78478,     0.78579,     0.78679,     0.78779,     0.78879,     0.78979,     0.79079,     0.79179,\n",
              "           0.79279,     0.79379,     0.79479,      0.7958,      0.7968,      0.7978,      0.7988,      0.7998,      0.8008,      0.8018,      0.8028,      0.8038,      0.8048,     0.80581,     0.80681,     0.80781,     0.80881,     0.80981,     0.81081,     0.81181,     0.81281,     0.81381,     0.81481,     0.81582,\n",
              "           0.81682,     0.81782,     0.81882,     0.81982,     0.82082,     0.82182,     0.82282,     0.82382,     0.82482,     0.82583,     0.82683,     0.82783,     0.82883,     0.82983,     0.83083,     0.83183,     0.83283,     0.83383,     0.83483,     0.83584,     0.83684,     0.83784,     0.83884,     0.83984,\n",
              "           0.84084,     0.84184,     0.84284,     0.84384,     0.84484,     0.84585,     0.84685,     0.84785,     0.84885,     0.84985,     0.85085,     0.85185,     0.85285,     0.85385,     0.85485,     0.85586,     0.85686,     0.85786,     0.85886,     0.85986,     0.86086,     0.86186,     0.86286,     0.86386,\n",
              "           0.86486,     0.86587,     0.86687,     0.86787,     0.86887,     0.86987,     0.87087,     0.87187,     0.87287,     0.87387,     0.87487,     0.87588,     0.87688,     0.87788,     0.87888,     0.87988,     0.88088,     0.88188,     0.88288,     0.88388,     0.88488,     0.88589,     0.88689,     0.88789,\n",
              "           0.88889,     0.88989,     0.89089,     0.89189,     0.89289,     0.89389,     0.89489,      0.8959,      0.8969,      0.8979,      0.8989,      0.8999,      0.9009,      0.9019,      0.9029,      0.9039,      0.9049,     0.90591,     0.90691,     0.90791,     0.90891,     0.90991,     0.91091,     0.91191,\n",
              "           0.91291,     0.91391,     0.91491,     0.91592,     0.91692,     0.91792,     0.91892,     0.91992,     0.92092,     0.92192,     0.92292,     0.92392,     0.92492,     0.92593,     0.92693,     0.92793,     0.92893,     0.92993,     0.93093,     0.93193,     0.93293,     0.93393,     0.93493,     0.93594,\n",
              "           0.93694,     0.93794,     0.93894,     0.93994,     0.94094,     0.94194,     0.94294,     0.94394,     0.94494,     0.94595,     0.94695,     0.94795,     0.94895,     0.94995,     0.95095,     0.95195,     0.95295,     0.95395,     0.95495,     0.95596,     0.95696,     0.95796,     0.95896,     0.95996,\n",
              "           0.96096,     0.96196,     0.96296,     0.96396,     0.96496,     0.96597,     0.96697,     0.96797,     0.96897,     0.96997,     0.97097,     0.97197,     0.97297,     0.97397,     0.97497,     0.97598,     0.97698,     0.97798,     0.97898,     0.97998,     0.98098,     0.98198,     0.98298,     0.98398,\n",
              "           0.98498,     0.98599,     0.98699,     0.98799,     0.98899,     0.98999,     0.99099,     0.99199,     0.99299,     0.99399,     0.99499,       0.996,       0.997,       0.998,       0.999,           1]), array([[  0.0035389,    0.003539,    0.003575,      0.2158,     0.45572,     0.47379,     0.49402,     0.52349,     0.55373,     0.55578,     0.55783,     0.55987,      0.5619,     0.56392,     0.56752,     0.57392,     0.58217,     0.58682,     0.56766,     0.56725,     0.59316,     0.61822,     0.62272,\n",
              "            0.62718,     0.63395,      0.6676,     0.66925,      0.6709,     0.67253,     0.67417,      0.6758,     0.67742,     0.67904,     0.68065,     0.68226,     0.68386,     0.68546,     0.68089,     0.67515,     0.66939,     0.66361,     0.65782,     0.65201,     0.64766,     0.65164,     0.65559,\n",
              "            0.65951,     0.66339,     0.66699,     0.66915,      0.6713,     0.67344,     0.67557,      0.6777,     0.67981,     0.68191,       0.684,     0.68608,      0.6876,     0.68791,     0.68821,     0.68852,     0.68883,     0.68914,     0.68944,     0.68975,     0.69006,     0.69036,     0.69067,\n",
              "            0.69098,     0.69128,     0.69159,     0.69189,      0.6922,      0.6925,     0.69281,     0.69311,     0.69342,     0.69372,     0.69402,     0.69433,     0.69463,     0.69494,     0.69524,     0.69554,     0.69584,     0.69615,     0.69645,     0.69675,     0.69705,     0.69735,     0.69766,\n",
              "            0.69796,     0.69826,     0.69856,     0.69886,     0.69916,     0.69946,     0.69976,     0.70006,     0.70036,     0.70066,     0.70096,     0.70126,     0.70156,     0.70185,     0.70215,     0.70245,     0.70275,     0.70305,     0.70334,     0.70364,     0.70394,     0.70424,     0.70453,\n",
              "            0.70483,     0.70513,     0.70542,     0.70572,     0.70601,     0.70631,      0.7066,      0.7069,     0.70719,     0.70749,     0.70778,     0.70808,     0.70837,     0.70867,     0.70896,     0.70925,     0.70955,     0.72329,     0.72971,     0.72347,      0.7172,      0.7109,     0.70457,\n",
              "             0.6982,     0.69181,     0.69062,     0.69206,      0.6935,     0.69494,     0.69637,     0.69779,     0.69921,     0.70062,     0.70203,     0.70343,     0.70482,     0.70621,      0.7076,     0.70898,     0.71035,     0.71172,     0.71308,     0.71421,      0.7136,     0.71298,     0.71237,\n",
              "            0.71175,     0.71114,     0.71052,      0.7099,     0.70929,     0.70867,     0.70805,     0.70743,     0.70681,     0.70619,     0.70558,     0.70496,     0.70434,     0.70372,      0.7031,     0.70248,     0.70186,     0.70123,     0.70061,     0.69999,     0.69937,     0.69875,     0.69812,\n",
              "             0.6975,     0.69688,     0.69625,     0.69563,       0.695,     0.69438,     0.69376,     0.69313,      0.6925,     0.69188,     0.69125,     0.69063,        0.69,     0.68937,     0.68874,     0.68812,     0.68749,     0.68686,     0.68623,      0.6856,     0.68497,     0.68434,     0.68371,\n",
              "            0.68308,     0.68245,     0.68182,     0.68119,     0.68055,     0.67992,     0.67929,     0.67866,     0.67802,     0.67739,     0.67675,     0.67612,     0.67549,     0.67485,     0.67422,     0.67358,     0.67294,     0.67231,     0.67167,     0.67103,      0.6704,     0.66976,     0.66912,\n",
              "            0.66848,     0.66784,      0.6672,     0.66673,     0.66708,     0.66744,      0.6678,     0.66816,     0.66852,     0.66887,     0.66923,     0.66958,     0.66994,     0.67029,     0.67065,       0.671,     0.67136,     0.67171,     0.67206,     0.67242,     0.67277,     0.67312,     0.67347,\n",
              "            0.67382,     0.67417,     0.67452,     0.67487,     0.67522,     0.67557,     0.67592,     0.67627,     0.67662,     0.67696,     0.67731,     0.67766,       0.678,     0.67835,      0.6787,     0.67904,     0.67939,     0.67973,     0.68007,     0.68042,     0.68076,      0.6811,     0.68145,\n",
              "            0.68179,     0.68213,     0.68247,     0.68281,     0.68315,     0.68349,     0.68383,     0.68417,     0.68451,     0.68485,     0.68519,     0.68552,     0.68586,      0.6862,     0.68653,     0.68687,     0.68721,     0.68754,     0.68788,     0.68821,     0.68855,     0.68888,     0.68921,\n",
              "            0.68955,     0.68988,     0.69021,     0.69054,     0.69088,     0.69121,     0.69154,     0.69187,      0.6922,     0.69253,     0.69285,     0.69317,     0.69349,     0.69381,     0.69413,     0.69446,     0.69478,      0.6951,     0.69542,     0.69574,     0.69605,     0.69637,     0.69669,\n",
              "            0.69701,     0.69733,     0.69765,     0.69796,     0.69828,      0.6986,     0.69891,     0.69923,     0.69954,     0.69986,     0.70017,     0.70049,      0.7008,     0.70111,     0.70143,     0.70174,     0.70205,     0.70237,     0.70268,     0.70299,      0.7033,     0.70361,     0.70392,\n",
              "            0.70423,     0.70454,     0.70485,     0.70516,     0.70547,     0.70578,     0.70609,      0.7064,      0.7067,     0.70701,     0.70732,     0.70762,     0.70793,     0.70824,     0.70854,     0.70885,     0.70915,     0.70946,     0.70976,     0.71007,     0.71037,     0.71067,     0.71098,\n",
              "            0.71128,     0.71158,     0.71189,     0.71219,     0.71249,     0.71279,     0.71309,     0.71339,     0.71369,     0.71399,     0.71429,     0.71459,     0.71489,     0.71519,     0.71549,     0.71579,     0.71608,     0.71638,     0.71668,     0.71697,     0.71727,     0.71757,     0.71786,\n",
              "            0.71816,     0.71845,     0.71875,     0.71904,     0.71934,     0.71963,     0.71993,     0.72213,     0.72494,     0.72773,     0.73048,     0.73321,     0.73592,     0.73859,     0.74124,     0.74387,     0.74647,     0.74905,     0.74959,     0.74894,     0.74829,     0.74764,     0.74699,\n",
              "            0.74634,     0.74568,     0.74503,     0.74438,     0.74372,     0.74307,     0.74241,     0.74175,      0.7411,     0.74044,     0.73978,     0.73912,     0.73846,     0.73781,     0.73714,     0.73648,     0.73582,     0.73516,      0.7345,     0.73384,     0.73317,     0.73251,     0.73184,\n",
              "            0.73118,     0.73051,     0.72985,     0.72918,     0.72851,     0.72784,     0.72717,      0.7265,     0.72583,     0.72516,     0.72449,     0.72382,     0.72315,     0.72248,      0.7218,     0.72113,     0.72045,     0.71978,      0.7191,     0.71843,     0.71775,     0.71707,     0.71639,\n",
              "            0.71571,     0.71503,     0.71435,     0.71367,     0.71299,     0.71231,     0.71163,     0.71094,     0.71026,     0.70958,     0.70889,     0.70821,     0.70752,     0.70683,     0.70615,     0.70546,     0.70477,     0.70408,     0.70339,      0.7027,     0.70201,     0.70132,     0.70062,\n",
              "            0.69993,     0.69924,     0.69854,     0.69785,     0.69715,     0.69645,     0.69576,     0.69248,     0.68872,     0.68495,     0.68116,     0.67736,     0.67353,     0.66969,     0.66583,     0.66195,     0.65806,     0.65414,      0.6502,     0.64625,     0.64227,     0.63828,     0.63615,\n",
              "            0.63574,     0.63533,     0.63491,      0.6345,     0.63409,     0.63368,     0.63327,     0.63285,     0.63244,     0.63203,     0.63161,      0.6312,     0.63079,     0.63037,     0.62996,     0.62955,     0.62913,     0.62872,      0.6283,     0.62789,     0.62747,     0.62706,     0.62664,\n",
              "            0.62623,     0.62581,     0.62539,     0.62498,     0.62456,     0.62414,     0.62373,     0.62331,     0.62289,     0.62247,     0.62206,     0.62164,     0.62122,      0.6208,     0.62038,     0.61997,     0.61955,     0.61913,     0.61871,     0.61829,     0.61787,     0.61745,     0.61703,\n",
              "            0.61661,     0.61619,     0.61577,     0.61535,     0.61493,      0.6145,     0.61408,     0.61366,     0.61324,     0.61282,     0.61239,     0.61197,     0.61155,     0.61113,      0.6107,     0.61028,     0.60986,     0.60943,     0.60901,     0.60858,     0.60816,     0.60774,     0.60731,\n",
              "            0.60689,     0.60646,     0.60603,     0.60561,     0.60518,     0.60476,     0.60433,      0.6039,     0.60348,     0.60305,     0.60262,      0.6022,     0.60177,     0.60134,     0.60091,     0.60048,     0.60006,     0.59963,      0.5992,     0.59877,     0.59834,     0.59791,     0.59748,\n",
              "            0.59705,     0.59662,     0.59619,     0.59576,     0.59533,      0.5949,     0.59447,     0.59404,      0.5936,     0.59317,     0.59274,     0.59231,     0.59188,     0.59144,     0.59101,     0.59058,     0.59014,     0.58971,     0.58928,     0.58884,     0.58841,     0.58797,     0.58754,\n",
              "             0.5871,     0.58667,     0.58623,      0.5858,     0.58536,     0.58493,     0.58449,     0.58405,     0.58362,     0.58318,     0.58274,      0.5823,     0.58187,     0.58143,     0.58099,     0.58055,     0.58011,     0.57967,     0.57924,      0.5788,     0.57836,     0.57792,     0.57748,\n",
              "            0.57704,      0.5766,     0.57616,     0.57572,     0.57527,     0.57483,     0.57439,     0.57395,     0.57351,     0.57307,     0.57262,     0.57218,     0.57174,     0.56985,      0.5646,     0.55933,     0.55402,     0.54868,     0.54331,     0.53792,     0.53249,     0.52702,     0.52153,\n",
              "              0.516,     0.51044,     0.50484,     0.49992,     0.49937,     0.49882,     0.49826,     0.49771,     0.49716,      0.4966,     0.49605,     0.49549,     0.49494,     0.49438,     0.49383,     0.49327,     0.49272,     0.49216,      0.4916,     0.49105,     0.49049,     0.48993,     0.48937,\n",
              "            0.48882,     0.48826,      0.4877,     0.48714,     0.48658,     0.48602,     0.48546,      0.4849,     0.48434,     0.48378,     0.48322,     0.48266,      0.4821,     0.48153,     0.48097,     0.48041,     0.47985,     0.47928,     0.47872,     0.47816,     0.47759,     0.47703,     0.47646,\n",
              "             0.4759,     0.47533,     0.47477,      0.4742,     0.47364,     0.47307,      0.4725,     0.47193,     0.47137,      0.4708,     0.47023,     0.46966,     0.46909,     0.46852,     0.46796,     0.46739,     0.46682,     0.46625,     0.46567,      0.4651,     0.46453,     0.46396,     0.46339,\n",
              "            0.46282,     0.46224,     0.46167,      0.4611,     0.46052,     0.45995,     0.45938,      0.4588,     0.45823,     0.45765,     0.45708,      0.4565,     0.45592,     0.45535,     0.45477,     0.45419,     0.45362,     0.45304,     0.45246,     0.45188,      0.4513,     0.45072,     0.45014,\n",
              "            0.44956,     0.44898,      0.4484,     0.44782,     0.44724,     0.44666,     0.44608,     0.44549,     0.44491,     0.44433,     0.44375,     0.44316,     0.44258,     0.44199,     0.44141,     0.44082,     0.44024,     0.43965,     0.43907,     0.43848,     0.43789,     0.43731,     0.43672,\n",
              "            0.43613,     0.43554,     0.43495,     0.43437,     0.43378,     0.43319,      0.4326,     0.43201,     0.43142,     0.43082,     0.43023,     0.42964,     0.42905,     0.42846,     0.42786,     0.42727,     0.42668,     0.42608,     0.42549,     0.42489,      0.4243,      0.4237,     0.42311,\n",
              "            0.42251,     0.42191,     0.42132,     0.42047,     0.41943,     0.41838,     0.41734,     0.41629,     0.41524,     0.41419,     0.41314,     0.41209,     0.41104,     0.40999,     0.40894,     0.40788,     0.40683,     0.40577,     0.40472,     0.40366,      0.4026,     0.40154,     0.40048,\n",
              "            0.39942,     0.39836,     0.39729,     0.39623,     0.39516,      0.3941,     0.39303,     0.39196,     0.39089,     0.38982,     0.38875,     0.38768,      0.3866,     0.38553,     0.38445,     0.38338,      0.3823,     0.38122,     0.38014,     0.37906,     0.37798,      0.3769,     0.37581,\n",
              "            0.37473,     0.37364,     0.37256,     0.37147,     0.37038,     0.36929,      0.3682,     0.36711,     0.36602,     0.36492,     0.36383,     0.36273,     0.36163,     0.36053,     0.35943,     0.35833,     0.35723,     0.35613,     0.35502,     0.35392,     0.35281,      0.3517,     0.35059,\n",
              "            0.34948,     0.34837,     0.34726,     0.34615,     0.34503,     0.34392,      0.3428,     0.34168,     0.34056,     0.33944,     0.33832,      0.3372,     0.33607,     0.33495,     0.33382,     0.33526,     0.33845,     0.34144,     0.34423,     0.34685,     0.34931,     0.35163,      0.3495,\n",
              "              0.341,     0.33241,     0.32373,     0.31496,     0.30609,     0.29714,     0.28809,     0.27894,     0.26969,     0.26034,     0.25089,     0.24802,     0.24583,     0.24363,     0.24143,     0.23923,     0.23701,      0.2348,     0.23257,     0.23034,     0.22811,     0.22587,     0.22362,\n",
              "            0.22137,     0.21911,     0.21685,     0.21458,     0.21231,     0.21002,     0.20774,     0.20545,     0.20315,     0.20084,     0.19853,     0.19622,      0.1939,     0.19157,     0.18923,     0.18689,     0.18455,      0.1822,     0.17984,     0.17747,      0.1751,     0.17273,     0.17034,\n",
              "            0.16796,     0.16556,     0.16316,     0.16075,     0.15834,     0.15592,     0.15349,     0.15106,     0.14862,     0.14617,     0.14372,     0.14126,     0.13879,     0.13632,     0.13384,           0,           0,           0,           0,           0,           0,           0,           0,\n",
              "                  0,           0,           0,           0,           0,           0,           0,           0,           0,           0,           0,           0,           0,           0,           0,           0,           0,           0,           0,           0,           0,           0,           0,\n",
              "                  0,           0,           0,           0,           0,           0,           0,           0,           0,           0,           0]]), 'Confidence', 'F1'], [array([          0,    0.001001,    0.002002,    0.003003,    0.004004,    0.005005,    0.006006,    0.007007,    0.008008,    0.009009,     0.01001,    0.011011,    0.012012,    0.013013,    0.014014,    0.015015,    0.016016,    0.017017,    0.018018,    0.019019,     0.02002,    0.021021,    0.022022,    0.023023,\n",
              "          0.024024,    0.025025,    0.026026,    0.027027,    0.028028,    0.029029,     0.03003,    0.031031,    0.032032,    0.033033,    0.034034,    0.035035,    0.036036,    0.037037,    0.038038,    0.039039,     0.04004,    0.041041,    0.042042,    0.043043,    0.044044,    0.045045,    0.046046,    0.047047,\n",
              "          0.048048,    0.049049,     0.05005,    0.051051,    0.052052,    0.053053,    0.054054,    0.055055,    0.056056,    0.057057,    0.058058,    0.059059,     0.06006,    0.061061,    0.062062,    0.063063,    0.064064,    0.065065,    0.066066,    0.067067,    0.068068,    0.069069,     0.07007,    0.071071,\n",
              "          0.072072,    0.073073,    0.074074,    0.075075,    0.076076,    0.077077,    0.078078,    0.079079,     0.08008,    0.081081,    0.082082,    0.083083,    0.084084,    0.085085,    0.086086,    0.087087,    0.088088,    0.089089,     0.09009,    0.091091,    0.092092,    0.093093,    0.094094,    0.095095,\n",
              "          0.096096,    0.097097,    0.098098,    0.099099,      0.1001,      0.1011,      0.1021,      0.1031,      0.1041,     0.10511,     0.10611,     0.10711,     0.10811,     0.10911,     0.11011,     0.11111,     0.11211,     0.11311,     0.11411,     0.11512,     0.11612,     0.11712,     0.11812,     0.11912,\n",
              "           0.12012,     0.12112,     0.12212,     0.12312,     0.12412,     0.12513,     0.12613,     0.12713,     0.12813,     0.12913,     0.13013,     0.13113,     0.13213,     0.13313,     0.13413,     0.13514,     0.13614,     0.13714,     0.13814,     0.13914,     0.14014,     0.14114,     0.14214,     0.14314,\n",
              "           0.14414,     0.14515,     0.14615,     0.14715,     0.14815,     0.14915,     0.15015,     0.15115,     0.15215,     0.15315,     0.15415,     0.15516,     0.15616,     0.15716,     0.15816,     0.15916,     0.16016,     0.16116,     0.16216,     0.16316,     0.16416,     0.16517,     0.16617,     0.16717,\n",
              "           0.16817,     0.16917,     0.17017,     0.17117,     0.17217,     0.17317,     0.17417,     0.17518,     0.17618,     0.17718,     0.17818,     0.17918,     0.18018,     0.18118,     0.18218,     0.18318,     0.18418,     0.18519,     0.18619,     0.18719,     0.18819,     0.18919,     0.19019,     0.19119,\n",
              "           0.19219,     0.19319,     0.19419,      0.1952,      0.1962,      0.1972,      0.1982,      0.1992,      0.2002,      0.2012,      0.2022,      0.2032,      0.2042,     0.20521,     0.20621,     0.20721,     0.20821,     0.20921,     0.21021,     0.21121,     0.21221,     0.21321,     0.21421,     0.21522,\n",
              "           0.21622,     0.21722,     0.21822,     0.21922,     0.22022,     0.22122,     0.22222,     0.22322,     0.22422,     0.22523,     0.22623,     0.22723,     0.22823,     0.22923,     0.23023,     0.23123,     0.23223,     0.23323,     0.23423,     0.23524,     0.23624,     0.23724,     0.23824,     0.23924,\n",
              "           0.24024,     0.24124,     0.24224,     0.24324,     0.24424,     0.24525,     0.24625,     0.24725,     0.24825,     0.24925,     0.25025,     0.25125,     0.25225,     0.25325,     0.25425,     0.25526,     0.25626,     0.25726,     0.25826,     0.25926,     0.26026,     0.26126,     0.26226,     0.26326,\n",
              "           0.26426,     0.26527,     0.26627,     0.26727,     0.26827,     0.26927,     0.27027,     0.27127,     0.27227,     0.27327,     0.27427,     0.27528,     0.27628,     0.27728,     0.27828,     0.27928,     0.28028,     0.28128,     0.28228,     0.28328,     0.28428,     0.28529,     0.28629,     0.28729,\n",
              "           0.28829,     0.28929,     0.29029,     0.29129,     0.29229,     0.29329,     0.29429,      0.2953,      0.2963,      0.2973,      0.2983,      0.2993,      0.3003,      0.3013,      0.3023,      0.3033,      0.3043,     0.30531,     0.30631,     0.30731,     0.30831,     0.30931,     0.31031,     0.31131,\n",
              "           0.31231,     0.31331,     0.31431,     0.31532,     0.31632,     0.31732,     0.31832,     0.31932,     0.32032,     0.32132,     0.32232,     0.32332,     0.32432,     0.32533,     0.32633,     0.32733,     0.32833,     0.32933,     0.33033,     0.33133,     0.33233,     0.33333,     0.33433,     0.33534,\n",
              "           0.33634,     0.33734,     0.33834,     0.33934,     0.34034,     0.34134,     0.34234,     0.34334,     0.34434,     0.34535,     0.34635,     0.34735,     0.34835,     0.34935,     0.35035,     0.35135,     0.35235,     0.35335,     0.35435,     0.35536,     0.35636,     0.35736,     0.35836,     0.35936,\n",
              "           0.36036,     0.36136,     0.36236,     0.36336,     0.36436,     0.36537,     0.36637,     0.36737,     0.36837,     0.36937,     0.37037,     0.37137,     0.37237,     0.37337,     0.37437,     0.37538,     0.37638,     0.37738,     0.37838,     0.37938,     0.38038,     0.38138,     0.38238,     0.38338,\n",
              "           0.38438,     0.38539,     0.38639,     0.38739,     0.38839,     0.38939,     0.39039,     0.39139,     0.39239,     0.39339,     0.39439,      0.3954,      0.3964,      0.3974,      0.3984,      0.3994,      0.4004,      0.4014,      0.4024,      0.4034,      0.4044,     0.40541,     0.40641,     0.40741,\n",
              "           0.40841,     0.40941,     0.41041,     0.41141,     0.41241,     0.41341,     0.41441,     0.41542,     0.41642,     0.41742,     0.41842,     0.41942,     0.42042,     0.42142,     0.42242,     0.42342,     0.42442,     0.42543,     0.42643,     0.42743,     0.42843,     0.42943,     0.43043,     0.43143,\n",
              "           0.43243,     0.43343,     0.43443,     0.43544,     0.43644,     0.43744,     0.43844,     0.43944,     0.44044,     0.44144,     0.44244,     0.44344,     0.44444,     0.44545,     0.44645,     0.44745,     0.44845,     0.44945,     0.45045,     0.45145,     0.45245,     0.45345,     0.45445,     0.45546,\n",
              "           0.45646,     0.45746,     0.45846,     0.45946,     0.46046,     0.46146,     0.46246,     0.46346,     0.46446,     0.46547,     0.46647,     0.46747,     0.46847,     0.46947,     0.47047,     0.47147,     0.47247,     0.47347,     0.47447,     0.47548,     0.47648,     0.47748,     0.47848,     0.47948,\n",
              "           0.48048,     0.48148,     0.48248,     0.48348,     0.48448,     0.48549,     0.48649,     0.48749,     0.48849,     0.48949,     0.49049,     0.49149,     0.49249,     0.49349,     0.49449,      0.4955,      0.4965,      0.4975,      0.4985,      0.4995,      0.5005,      0.5015,      0.5025,      0.5035,\n",
              "            0.5045,     0.50551,     0.50651,     0.50751,     0.50851,     0.50951,     0.51051,     0.51151,     0.51251,     0.51351,     0.51451,     0.51552,     0.51652,     0.51752,     0.51852,     0.51952,     0.52052,     0.52152,     0.52252,     0.52352,     0.52452,     0.52553,     0.52653,     0.52753,\n",
              "           0.52853,     0.52953,     0.53053,     0.53153,     0.53253,     0.53353,     0.53453,     0.53554,     0.53654,     0.53754,     0.53854,     0.53954,     0.54054,     0.54154,     0.54254,     0.54354,     0.54454,     0.54555,     0.54655,     0.54755,     0.54855,     0.54955,     0.55055,     0.55155,\n",
              "           0.55255,     0.55355,     0.55455,     0.55556,     0.55656,     0.55756,     0.55856,     0.55956,     0.56056,     0.56156,     0.56256,     0.56356,     0.56456,     0.56557,     0.56657,     0.56757,     0.56857,     0.56957,     0.57057,     0.57157,     0.57257,     0.57357,     0.57457,     0.57558,\n",
              "           0.57658,     0.57758,     0.57858,     0.57958,     0.58058,     0.58158,     0.58258,     0.58358,     0.58458,     0.58559,     0.58659,     0.58759,     0.58859,     0.58959,     0.59059,     0.59159,     0.59259,     0.59359,     0.59459,      0.5956,      0.5966,      0.5976,      0.5986,      0.5996,\n",
              "            0.6006,      0.6016,      0.6026,      0.6036,      0.6046,     0.60561,     0.60661,     0.60761,     0.60861,     0.60961,     0.61061,     0.61161,     0.61261,     0.61361,     0.61461,     0.61562,     0.61662,     0.61762,     0.61862,     0.61962,     0.62062,     0.62162,     0.62262,     0.62362,\n",
              "           0.62462,     0.62563,     0.62663,     0.62763,     0.62863,     0.62963,     0.63063,     0.63163,     0.63263,     0.63363,     0.63463,     0.63564,     0.63664,     0.63764,     0.63864,     0.63964,     0.64064,     0.64164,     0.64264,     0.64364,     0.64464,     0.64565,     0.64665,     0.64765,\n",
              "           0.64865,     0.64965,     0.65065,     0.65165,     0.65265,     0.65365,     0.65465,     0.65566,     0.65666,     0.65766,     0.65866,     0.65966,     0.66066,     0.66166,     0.66266,     0.66366,     0.66466,     0.66567,     0.66667,     0.66767,     0.66867,     0.66967,     0.67067,     0.67167,\n",
              "           0.67267,     0.67367,     0.67467,     0.67568,     0.67668,     0.67768,     0.67868,     0.67968,     0.68068,     0.68168,     0.68268,     0.68368,     0.68468,     0.68569,     0.68669,     0.68769,     0.68869,     0.68969,     0.69069,     0.69169,     0.69269,     0.69369,     0.69469,      0.6957,\n",
              "            0.6967,      0.6977,      0.6987,      0.6997,      0.7007,      0.7017,      0.7027,      0.7037,      0.7047,     0.70571,     0.70671,     0.70771,     0.70871,     0.70971,     0.71071,     0.71171,     0.71271,     0.71371,     0.71471,     0.71572,     0.71672,     0.71772,     0.71872,     0.71972,\n",
              "           0.72072,     0.72172,     0.72272,     0.72372,     0.72472,     0.72573,     0.72673,     0.72773,     0.72873,     0.72973,     0.73073,     0.73173,     0.73273,     0.73373,     0.73473,     0.73574,     0.73674,     0.73774,     0.73874,     0.73974,     0.74074,     0.74174,     0.74274,     0.74374,\n",
              "           0.74474,     0.74575,     0.74675,     0.74775,     0.74875,     0.74975,     0.75075,     0.75175,     0.75275,     0.75375,     0.75475,     0.75576,     0.75676,     0.75776,     0.75876,     0.75976,     0.76076,     0.76176,     0.76276,     0.76376,     0.76476,     0.76577,     0.76677,     0.76777,\n",
              "           0.76877,     0.76977,     0.77077,     0.77177,     0.77277,     0.77377,     0.77477,     0.77578,     0.77678,     0.77778,     0.77878,     0.77978,     0.78078,     0.78178,     0.78278,     0.78378,     0.78478,     0.78579,     0.78679,     0.78779,     0.78879,     0.78979,     0.79079,     0.79179,\n",
              "           0.79279,     0.79379,     0.79479,      0.7958,      0.7968,      0.7978,      0.7988,      0.7998,      0.8008,      0.8018,      0.8028,      0.8038,      0.8048,     0.80581,     0.80681,     0.80781,     0.80881,     0.80981,     0.81081,     0.81181,     0.81281,     0.81381,     0.81481,     0.81582,\n",
              "           0.81682,     0.81782,     0.81882,     0.81982,     0.82082,     0.82182,     0.82282,     0.82382,     0.82482,     0.82583,     0.82683,     0.82783,     0.82883,     0.82983,     0.83083,     0.83183,     0.83283,     0.83383,     0.83483,     0.83584,     0.83684,     0.83784,     0.83884,     0.83984,\n",
              "           0.84084,     0.84184,     0.84284,     0.84384,     0.84484,     0.84585,     0.84685,     0.84785,     0.84885,     0.84985,     0.85085,     0.85185,     0.85285,     0.85385,     0.85485,     0.85586,     0.85686,     0.85786,     0.85886,     0.85986,     0.86086,     0.86186,     0.86286,     0.86386,\n",
              "           0.86486,     0.86587,     0.86687,     0.86787,     0.86887,     0.86987,     0.87087,     0.87187,     0.87287,     0.87387,     0.87487,     0.87588,     0.87688,     0.87788,     0.87888,     0.87988,     0.88088,     0.88188,     0.88288,     0.88388,     0.88488,     0.88589,     0.88689,     0.88789,\n",
              "           0.88889,     0.88989,     0.89089,     0.89189,     0.89289,     0.89389,     0.89489,      0.8959,      0.8969,      0.8979,      0.8989,      0.8999,      0.9009,      0.9019,      0.9029,      0.9039,      0.9049,     0.90591,     0.90691,     0.90791,     0.90891,     0.90991,     0.91091,     0.91191,\n",
              "           0.91291,     0.91391,     0.91491,     0.91592,     0.91692,     0.91792,     0.91892,     0.91992,     0.92092,     0.92192,     0.92292,     0.92392,     0.92492,     0.92593,     0.92693,     0.92793,     0.92893,     0.92993,     0.93093,     0.93193,     0.93293,     0.93393,     0.93493,     0.93594,\n",
              "           0.93694,     0.93794,     0.93894,     0.93994,     0.94094,     0.94194,     0.94294,     0.94394,     0.94494,     0.94595,     0.94695,     0.94795,     0.94895,     0.94995,     0.95095,     0.95195,     0.95295,     0.95395,     0.95495,     0.95596,     0.95696,     0.95796,     0.95896,     0.95996,\n",
              "           0.96096,     0.96196,     0.96296,     0.96396,     0.96496,     0.96597,     0.96697,     0.96797,     0.96897,     0.96997,     0.97097,     0.97197,     0.97297,     0.97397,     0.97497,     0.97598,     0.97698,     0.97798,     0.97898,     0.97998,     0.98098,     0.98198,     0.98298,     0.98398,\n",
              "           0.98498,     0.98599,     0.98699,     0.98799,     0.98899,     0.98999,     0.99099,     0.99199,     0.99299,     0.99399,     0.99499,       0.996,       0.997,       0.998,       0.999,           1]), array([[  0.0017726,   0.0017726,   0.0017907,     0.12095,     0.30196,     0.31803,     0.33653,     0.36448,     0.39449,     0.39657,     0.39866,     0.40074,     0.40283,     0.40491,     0.40864,      0.4153,       0.424,     0.43089,     0.41945,     0.42388,     0.45349,     0.48346,     0.48898,\n",
              "            0.49451,     0.50298,     0.54671,     0.54892,     0.55114,     0.55335,     0.55557,     0.55779,        0.56,     0.56222,     0.56443,     0.56665,     0.56886,     0.57108,     0.56873,     0.56553,     0.56233,     0.55913,     0.55592,     0.55272,     0.55087,     0.55666,     0.56245,\n",
              "            0.56823,     0.57402,     0.57943,      0.5827,     0.58597,     0.58924,     0.59252,     0.59579,     0.59906,     0.60233,      0.6056,     0.60887,     0.61126,     0.61175,     0.61224,     0.61273,     0.61321,      0.6137,     0.61419,     0.61468,     0.61516,     0.61565,     0.61614,\n",
              "            0.61663,     0.61711,      0.6176,     0.61809,     0.61857,     0.61906,     0.61955,     0.62004,     0.62052,     0.62101,      0.6215,     0.62199,     0.62247,     0.62296,     0.62345,     0.62394,     0.62442,     0.62491,      0.6254,     0.62588,     0.62637,     0.62686,     0.62735,\n",
              "            0.62783,     0.62832,     0.62881,      0.6293,     0.62978,     0.63027,     0.63076,     0.63125,     0.63173,     0.63222,     0.63271,     0.63319,     0.63368,     0.63417,     0.63466,     0.63514,     0.63563,     0.63612,     0.63661,     0.63709,     0.63758,     0.63807,     0.63856,\n",
              "            0.63904,     0.63953,     0.64002,      0.6405,     0.64099,     0.64148,     0.64197,     0.64245,     0.64294,     0.64343,     0.64392,      0.6444,     0.64489,     0.64538,     0.64587,     0.64635,     0.64684,     0.67005,     0.68575,     0.68273,     0.67972,     0.67671,      0.6737,\n",
              "            0.67069,     0.66768,     0.66847,     0.67118,      0.6739,     0.67661,     0.67933,     0.68204,     0.68475,     0.68747,     0.69018,     0.69289,     0.69561,     0.69832,     0.70103,     0.70375,     0.70646,     0.70917,     0.71189,     0.71425,     0.71396,     0.71367,     0.71338,\n",
              "            0.71309,     0.71281,     0.71252,     0.71223,     0.71194,     0.71165,     0.71136,     0.71107,     0.71078,     0.71049,      0.7102,     0.70991,     0.70962,     0.70933,     0.70904,     0.70875,     0.70846,     0.70818,     0.70789,      0.7076,     0.70731,     0.70702,     0.70673,\n",
              "            0.70644,     0.70615,     0.70586,     0.70557,     0.70528,     0.70499,      0.7047,     0.70441,     0.70412,     0.70383,     0.70355,     0.70326,     0.70297,     0.70268,     0.70239,      0.7021,     0.70181,     0.70152,     0.70123,     0.70094,     0.70065,     0.70036,     0.70007,\n",
              "            0.69978,     0.69949,     0.69921,     0.69892,     0.69863,     0.69834,     0.69805,     0.69776,     0.69747,     0.69718,     0.69689,      0.6966,     0.69631,     0.69602,     0.69573,     0.69544,     0.69515,     0.69486,     0.69458,     0.69429,       0.694,     0.69371,     0.69342,\n",
              "            0.69313,     0.69284,     0.69255,     0.69243,     0.69321,     0.69398,     0.69476,     0.69553,     0.69631,     0.69708,     0.69786,     0.69863,      0.6994,     0.70018,     0.70095,     0.70173,      0.7025,     0.70328,     0.70405,     0.70483,      0.7056,     0.70638,     0.70715,\n",
              "            0.70792,      0.7087,     0.70947,     0.71025,     0.71102,      0.7118,     0.71257,     0.71335,     0.71412,     0.71489,     0.71567,     0.71644,     0.71722,     0.71799,     0.71877,     0.71954,     0.72032,     0.72109,     0.72187,     0.72264,     0.72341,     0.72419,     0.72496,\n",
              "            0.72574,     0.72651,     0.72729,     0.72806,     0.72884,     0.72961,     0.73038,     0.73116,     0.73193,     0.73271,     0.73348,     0.73426,     0.73503,     0.73581,     0.73658,     0.73736,     0.73813,      0.7389,     0.73968,     0.74045,     0.74123,       0.742,     0.74278,\n",
              "            0.74355,     0.74433,      0.7451,     0.74587,     0.74665,     0.74742,      0.7482,     0.74897,     0.74975,     0.75051,     0.75127,     0.75203,     0.75279,     0.75354,      0.7543,     0.75506,     0.75582,     0.75658,     0.75733,     0.75809,     0.75885,     0.75961,     0.76037,\n",
              "            0.76113,     0.76188,     0.76264,      0.7634,     0.76416,     0.76492,     0.76568,     0.76643,     0.76719,     0.76795,     0.76871,     0.76947,     0.77022,     0.77098,     0.77174,      0.7725,     0.77326,     0.77402,     0.77477,     0.77553,     0.77629,     0.77705,     0.77781,\n",
              "            0.77856,     0.77932,     0.78008,     0.78084,      0.7816,     0.78236,     0.78311,     0.78387,     0.78463,     0.78539,     0.78615,     0.78691,     0.78766,     0.78842,     0.78918,     0.78994,      0.7907,     0.79145,     0.79221,     0.79297,     0.79373,     0.79449,     0.79525,\n",
              "              0.796,     0.79676,     0.79752,     0.79828,     0.79904,      0.7998,     0.80055,     0.80131,     0.80207,     0.80283,     0.80359,     0.80434,      0.8051,     0.80586,     0.80662,     0.80738,     0.80814,     0.80889,     0.80965,     0.81041,     0.81117,     0.81193,     0.81269,\n",
              "            0.81344,      0.8142,     0.81496,     0.81572,     0.81648,     0.81723,     0.81799,      0.8237,     0.83106,     0.83841,     0.84577,     0.85312,     0.86048,     0.86784,     0.87519,     0.88255,      0.8899,     0.89726,     0.89991,     0.89978,     0.89964,      0.8995,     0.89936,\n",
              "            0.89923,     0.89909,     0.89895,     0.89881,     0.89868,     0.89854,      0.8984,     0.89826,     0.89813,     0.89799,     0.89785,     0.89771,     0.89758,     0.89744,      0.8973,     0.89716,     0.89703,     0.89689,     0.89675,     0.89661,     0.89647,     0.89634,      0.8962,\n",
              "            0.89606,     0.89592,     0.89579,     0.89565,     0.89551,     0.89537,     0.89524,      0.8951,     0.89496,     0.89482,     0.89469,     0.89455,     0.89441,     0.89427,     0.89414,       0.894,     0.89386,     0.89372,     0.89359,     0.89345,     0.89331,     0.89317,     0.89304,\n",
              "             0.8929,     0.89276,     0.89262,     0.89249,     0.89235,     0.89221,     0.89207,     0.89194,      0.8918,     0.89166,     0.89152,     0.89139,     0.89125,     0.89111,     0.89097,     0.89084,      0.8907,     0.89056,     0.89042,     0.89029,     0.89015,     0.89001,     0.88987,\n",
              "            0.88973,      0.8896,     0.88946,     0.88932,     0.88918,     0.88905,     0.88891,     0.88812,     0.88721,     0.88631,      0.8854,     0.88449,     0.88359,     0.88268,     0.88178,     0.88087,     0.87996,     0.87906,     0.87815,     0.87725,     0.87634,     0.87543,     0.87494,\n",
              "            0.87482,      0.8747,     0.87459,     0.87447,     0.87435,     0.87423,     0.87412,       0.874,     0.87388,     0.87377,     0.87365,     0.87353,     0.87341,      0.8733,     0.87318,     0.87306,     0.87294,     0.87283,     0.87271,     0.87259,     0.87248,     0.87236,     0.87224,\n",
              "            0.87212,     0.87201,     0.87189,     0.87177,     0.87165,     0.87154,     0.87142,      0.8713,     0.87118,     0.87107,     0.87095,     0.87083,     0.87072,      0.8706,     0.87048,     0.87036,     0.87025,     0.87013,     0.87001,     0.86989,     0.86978,     0.86966,     0.86954,\n",
              "            0.86943,     0.86931,     0.86919,     0.86907,     0.86896,     0.86884,     0.86872,      0.8686,     0.86849,     0.86837,     0.86825,     0.86813,     0.86802,      0.8679,     0.86778,     0.86767,     0.86755,     0.86743,     0.86731,      0.8672,     0.86708,     0.86696,     0.86684,\n",
              "            0.86673,     0.86661,     0.86649,     0.86638,     0.86626,     0.86614,     0.86602,     0.86591,     0.86579,     0.86567,     0.86555,     0.86544,     0.86532,      0.8652,     0.86508,     0.86497,     0.86485,     0.86473,     0.86462,      0.8645,     0.86438,     0.86426,     0.86415,\n",
              "            0.86403,     0.86391,     0.86379,     0.86368,     0.86356,     0.86344,     0.86332,     0.86321,     0.86309,     0.86297,     0.86286,     0.86274,     0.86262,      0.8625,     0.86239,     0.86227,     0.86215,     0.86203,     0.86192,      0.8618,     0.86168,     0.86157,     0.86145,\n",
              "            0.86133,     0.86121,      0.8611,     0.86098,     0.86086,     0.86074,     0.86063,     0.86051,     0.86039,     0.86027,     0.86016,     0.86004,     0.85992,     0.85981,     0.85969,     0.85957,     0.85945,     0.85934,     0.85922,      0.8591,     0.85898,     0.85887,     0.85875,\n",
              "            0.85863,     0.85852,      0.8584,     0.85828,     0.85816,     0.85805,     0.85793,     0.85781,     0.85769,     0.85758,     0.85746,     0.85734,     0.85722,      0.8566,     0.85479,     0.85298,     0.85117,     0.84936,     0.84755,     0.84574,     0.84393,     0.84213,     0.84032,\n",
              "            0.83851,      0.8367,     0.83489,      0.8333,     0.83306,     0.83281,     0.83257,     0.83233,     0.83209,     0.83185,      0.8316,     0.83136,     0.83112,     0.83088,     0.83063,     0.83039,     0.83015,     0.82991,     0.82967,     0.82942,     0.82918,     0.82894,      0.8287,\n",
              "            0.82845,     0.82821,     0.82797,     0.82773,     0.82748,     0.82724,       0.827,     0.82676,     0.82652,     0.82627,     0.82603,     0.82579,     0.82555,      0.8253,     0.82506,     0.82482,     0.82458,     0.82434,     0.82409,     0.82385,     0.82361,     0.82337,     0.82312,\n",
              "            0.82288,     0.82264,      0.8224,     0.82215,     0.82191,     0.82167,     0.82143,     0.82119,     0.82094,      0.8207,     0.82046,     0.82022,     0.81997,     0.81973,     0.81949,     0.81925,     0.81901,     0.81876,     0.81852,     0.81828,     0.81804,     0.81779,     0.81755,\n",
              "            0.81731,     0.81707,     0.81682,     0.81658,     0.81634,      0.8161,     0.81586,     0.81561,     0.81537,     0.81513,     0.81489,     0.81464,      0.8144,     0.81416,     0.81392,     0.81368,     0.81343,     0.81319,     0.81295,     0.81271,     0.81246,     0.81222,     0.81198,\n",
              "            0.81174,     0.81149,     0.81125,     0.81101,     0.81077,     0.81053,     0.81028,     0.81004,      0.8098,     0.80956,     0.80931,     0.80907,     0.80883,     0.80859,     0.80835,      0.8081,     0.80786,     0.80762,     0.80738,     0.80713,     0.80689,     0.80665,     0.80641,\n",
              "            0.80616,     0.80592,     0.80568,     0.80544,      0.8052,     0.80495,     0.80471,     0.80447,     0.80423,     0.80398,     0.80374,      0.8035,     0.80326,     0.80301,     0.80277,     0.80253,     0.80229,     0.80205,      0.8018,     0.80156,     0.80132,     0.80108,     0.80083,\n",
              "            0.80059,     0.80035,     0.80011,     0.79966,     0.79904,     0.79842,      0.7978,     0.79719,     0.79657,     0.79595,     0.79534,     0.79472,      0.7941,     0.79348,     0.79287,     0.79225,     0.79163,     0.79101,      0.7904,     0.78978,     0.78916,     0.78854,     0.78793,\n",
              "            0.78731,     0.78669,     0.78607,     0.78546,     0.78484,     0.78422,      0.7836,     0.78299,     0.78237,     0.78175,     0.78114,     0.78052,      0.7799,     0.77928,     0.77867,     0.77805,     0.77743,     0.77681,      0.7762,     0.77558,     0.77496,     0.77434,     0.77373,\n",
              "            0.77311,     0.77249,     0.77187,     0.77126,     0.77064,     0.77002,      0.7694,     0.76879,     0.76817,     0.76755,     0.76694,     0.76632,      0.7657,     0.76508,     0.76447,     0.76385,     0.76323,     0.76261,       0.762,     0.76138,     0.76076,     0.76014,     0.75953,\n",
              "            0.75891,     0.75829,     0.75767,     0.75706,     0.75644,     0.75582,      0.7552,     0.75459,     0.75397,     0.75335,     0.75273,     0.75212,      0.7515,     0.75088,     0.75027,      0.7699,      0.8048,     0.83971,     0.87461,     0.90951,     0.94442,     0.97932,           1,\n",
              "                  1,           1,           1,           1,           1,           1,           1,           1,           1,           1,           1,           1,           1,           1,           1,           1,           1,           1,           1,           1,           1,           1,           1,\n",
              "                  1,           1,           1,           1,           1,           1,           1,           1,           1,           1,           1,           1,           1,           1,           1,           1,           1,           1,           1,           1,           1,           1,           1,\n",
              "                  1,           1,           1,           1,           1,           1,           1,           1,           1,           1,           1,           1,           1,           1,           1,           1,           1,           1,           1,           1,           1,           1,           1,\n",
              "                  1,           1,           1,           1,           1,           1,           1,           1,           1,           1,           1,           1,           1,           1,           1,           1,           1,           1,           1,           1,           1,           1,           1,\n",
              "                  1,           1,           1,           1,           1,           1,           1,           1,           1,           1,           1]]), 'Confidence', 'Precision'], [array([          0,    0.001001,    0.002002,    0.003003,    0.004004,    0.005005,    0.006006,    0.007007,    0.008008,    0.009009,     0.01001,    0.011011,    0.012012,    0.013013,    0.014014,    0.015015,    0.016016,    0.017017,    0.018018,    0.019019,     0.02002,    0.021021,    0.022022,    0.023023,\n",
              "          0.024024,    0.025025,    0.026026,    0.027027,    0.028028,    0.029029,     0.03003,    0.031031,    0.032032,    0.033033,    0.034034,    0.035035,    0.036036,    0.037037,    0.038038,    0.039039,     0.04004,    0.041041,    0.042042,    0.043043,    0.044044,    0.045045,    0.046046,    0.047047,\n",
              "          0.048048,    0.049049,     0.05005,    0.051051,    0.052052,    0.053053,    0.054054,    0.055055,    0.056056,    0.057057,    0.058058,    0.059059,     0.06006,    0.061061,    0.062062,    0.063063,    0.064064,    0.065065,    0.066066,    0.067067,    0.068068,    0.069069,     0.07007,    0.071071,\n",
              "          0.072072,    0.073073,    0.074074,    0.075075,    0.076076,    0.077077,    0.078078,    0.079079,     0.08008,    0.081081,    0.082082,    0.083083,    0.084084,    0.085085,    0.086086,    0.087087,    0.088088,    0.089089,     0.09009,    0.091091,    0.092092,    0.093093,    0.094094,    0.095095,\n",
              "          0.096096,    0.097097,    0.098098,    0.099099,      0.1001,      0.1011,      0.1021,      0.1031,      0.1041,     0.10511,     0.10611,     0.10711,     0.10811,     0.10911,     0.11011,     0.11111,     0.11211,     0.11311,     0.11411,     0.11512,     0.11612,     0.11712,     0.11812,     0.11912,\n",
              "           0.12012,     0.12112,     0.12212,     0.12312,     0.12412,     0.12513,     0.12613,     0.12713,     0.12813,     0.12913,     0.13013,     0.13113,     0.13213,     0.13313,     0.13413,     0.13514,     0.13614,     0.13714,     0.13814,     0.13914,     0.14014,     0.14114,     0.14214,     0.14314,\n",
              "           0.14414,     0.14515,     0.14615,     0.14715,     0.14815,     0.14915,     0.15015,     0.15115,     0.15215,     0.15315,     0.15415,     0.15516,     0.15616,     0.15716,     0.15816,     0.15916,     0.16016,     0.16116,     0.16216,     0.16316,     0.16416,     0.16517,     0.16617,     0.16717,\n",
              "           0.16817,     0.16917,     0.17017,     0.17117,     0.17217,     0.17317,     0.17417,     0.17518,     0.17618,     0.17718,     0.17818,     0.17918,     0.18018,     0.18118,     0.18218,     0.18318,     0.18418,     0.18519,     0.18619,     0.18719,     0.18819,     0.18919,     0.19019,     0.19119,\n",
              "           0.19219,     0.19319,     0.19419,      0.1952,      0.1962,      0.1972,      0.1982,      0.1992,      0.2002,      0.2012,      0.2022,      0.2032,      0.2042,     0.20521,     0.20621,     0.20721,     0.20821,     0.20921,     0.21021,     0.21121,     0.21221,     0.21321,     0.21421,     0.21522,\n",
              "           0.21622,     0.21722,     0.21822,     0.21922,     0.22022,     0.22122,     0.22222,     0.22322,     0.22422,     0.22523,     0.22623,     0.22723,     0.22823,     0.22923,     0.23023,     0.23123,     0.23223,     0.23323,     0.23423,     0.23524,     0.23624,     0.23724,     0.23824,     0.23924,\n",
              "           0.24024,     0.24124,     0.24224,     0.24324,     0.24424,     0.24525,     0.24625,     0.24725,     0.24825,     0.24925,     0.25025,     0.25125,     0.25225,     0.25325,     0.25425,     0.25526,     0.25626,     0.25726,     0.25826,     0.25926,     0.26026,     0.26126,     0.26226,     0.26326,\n",
              "           0.26426,     0.26527,     0.26627,     0.26727,     0.26827,     0.26927,     0.27027,     0.27127,     0.27227,     0.27327,     0.27427,     0.27528,     0.27628,     0.27728,     0.27828,     0.27928,     0.28028,     0.28128,     0.28228,     0.28328,     0.28428,     0.28529,     0.28629,     0.28729,\n",
              "           0.28829,     0.28929,     0.29029,     0.29129,     0.29229,     0.29329,     0.29429,      0.2953,      0.2963,      0.2973,      0.2983,      0.2993,      0.3003,      0.3013,      0.3023,      0.3033,      0.3043,     0.30531,     0.30631,     0.30731,     0.30831,     0.30931,     0.31031,     0.31131,\n",
              "           0.31231,     0.31331,     0.31431,     0.31532,     0.31632,     0.31732,     0.31832,     0.31932,     0.32032,     0.32132,     0.32232,     0.32332,     0.32432,     0.32533,     0.32633,     0.32733,     0.32833,     0.32933,     0.33033,     0.33133,     0.33233,     0.33333,     0.33433,     0.33534,\n",
              "           0.33634,     0.33734,     0.33834,     0.33934,     0.34034,     0.34134,     0.34234,     0.34334,     0.34434,     0.34535,     0.34635,     0.34735,     0.34835,     0.34935,     0.35035,     0.35135,     0.35235,     0.35335,     0.35435,     0.35536,     0.35636,     0.35736,     0.35836,     0.35936,\n",
              "           0.36036,     0.36136,     0.36236,     0.36336,     0.36436,     0.36537,     0.36637,     0.36737,     0.36837,     0.36937,     0.37037,     0.37137,     0.37237,     0.37337,     0.37437,     0.37538,     0.37638,     0.37738,     0.37838,     0.37938,     0.38038,     0.38138,     0.38238,     0.38338,\n",
              "           0.38438,     0.38539,     0.38639,     0.38739,     0.38839,     0.38939,     0.39039,     0.39139,     0.39239,     0.39339,     0.39439,      0.3954,      0.3964,      0.3974,      0.3984,      0.3994,      0.4004,      0.4014,      0.4024,      0.4034,      0.4044,     0.40541,     0.40641,     0.40741,\n",
              "           0.40841,     0.40941,     0.41041,     0.41141,     0.41241,     0.41341,     0.41441,     0.41542,     0.41642,     0.41742,     0.41842,     0.41942,     0.42042,     0.42142,     0.42242,     0.42342,     0.42442,     0.42543,     0.42643,     0.42743,     0.42843,     0.42943,     0.43043,     0.43143,\n",
              "           0.43243,     0.43343,     0.43443,     0.43544,     0.43644,     0.43744,     0.43844,     0.43944,     0.44044,     0.44144,     0.44244,     0.44344,     0.44444,     0.44545,     0.44645,     0.44745,     0.44845,     0.44945,     0.45045,     0.45145,     0.45245,     0.45345,     0.45445,     0.45546,\n",
              "           0.45646,     0.45746,     0.45846,     0.45946,     0.46046,     0.46146,     0.46246,     0.46346,     0.46446,     0.46547,     0.46647,     0.46747,     0.46847,     0.46947,     0.47047,     0.47147,     0.47247,     0.47347,     0.47447,     0.47548,     0.47648,     0.47748,     0.47848,     0.47948,\n",
              "           0.48048,     0.48148,     0.48248,     0.48348,     0.48448,     0.48549,     0.48649,     0.48749,     0.48849,     0.48949,     0.49049,     0.49149,     0.49249,     0.49349,     0.49449,      0.4955,      0.4965,      0.4975,      0.4985,      0.4995,      0.5005,      0.5015,      0.5025,      0.5035,\n",
              "            0.5045,     0.50551,     0.50651,     0.50751,     0.50851,     0.50951,     0.51051,     0.51151,     0.51251,     0.51351,     0.51451,     0.51552,     0.51652,     0.51752,     0.51852,     0.51952,     0.52052,     0.52152,     0.52252,     0.52352,     0.52452,     0.52553,     0.52653,     0.52753,\n",
              "           0.52853,     0.52953,     0.53053,     0.53153,     0.53253,     0.53353,     0.53453,     0.53554,     0.53654,     0.53754,     0.53854,     0.53954,     0.54054,     0.54154,     0.54254,     0.54354,     0.54454,     0.54555,     0.54655,     0.54755,     0.54855,     0.54955,     0.55055,     0.55155,\n",
              "           0.55255,     0.55355,     0.55455,     0.55556,     0.55656,     0.55756,     0.55856,     0.55956,     0.56056,     0.56156,     0.56256,     0.56356,     0.56456,     0.56557,     0.56657,     0.56757,     0.56857,     0.56957,     0.57057,     0.57157,     0.57257,     0.57357,     0.57457,     0.57558,\n",
              "           0.57658,     0.57758,     0.57858,     0.57958,     0.58058,     0.58158,     0.58258,     0.58358,     0.58458,     0.58559,     0.58659,     0.58759,     0.58859,     0.58959,     0.59059,     0.59159,     0.59259,     0.59359,     0.59459,      0.5956,      0.5966,      0.5976,      0.5986,      0.5996,\n",
              "            0.6006,      0.6016,      0.6026,      0.6036,      0.6046,     0.60561,     0.60661,     0.60761,     0.60861,     0.60961,     0.61061,     0.61161,     0.61261,     0.61361,     0.61461,     0.61562,     0.61662,     0.61762,     0.61862,     0.61962,     0.62062,     0.62162,     0.62262,     0.62362,\n",
              "           0.62462,     0.62563,     0.62663,     0.62763,     0.62863,     0.62963,     0.63063,     0.63163,     0.63263,     0.63363,     0.63463,     0.63564,     0.63664,     0.63764,     0.63864,     0.63964,     0.64064,     0.64164,     0.64264,     0.64364,     0.64464,     0.64565,     0.64665,     0.64765,\n",
              "           0.64865,     0.64965,     0.65065,     0.65165,     0.65265,     0.65365,     0.65465,     0.65566,     0.65666,     0.65766,     0.65866,     0.65966,     0.66066,     0.66166,     0.66266,     0.66366,     0.66466,     0.66567,     0.66667,     0.66767,     0.66867,     0.66967,     0.67067,     0.67167,\n",
              "           0.67267,     0.67367,     0.67467,     0.67568,     0.67668,     0.67768,     0.67868,     0.67968,     0.68068,     0.68168,     0.68268,     0.68368,     0.68468,     0.68569,     0.68669,     0.68769,     0.68869,     0.68969,     0.69069,     0.69169,     0.69269,     0.69369,     0.69469,      0.6957,\n",
              "            0.6967,      0.6977,      0.6987,      0.6997,      0.7007,      0.7017,      0.7027,      0.7037,      0.7047,     0.70571,     0.70671,     0.70771,     0.70871,     0.70971,     0.71071,     0.71171,     0.71271,     0.71371,     0.71471,     0.71572,     0.71672,     0.71772,     0.71872,     0.71972,\n",
              "           0.72072,     0.72172,     0.72272,     0.72372,     0.72472,     0.72573,     0.72673,     0.72773,     0.72873,     0.72973,     0.73073,     0.73173,     0.73273,     0.73373,     0.73473,     0.73574,     0.73674,     0.73774,     0.73874,     0.73974,     0.74074,     0.74174,     0.74274,     0.74374,\n",
              "           0.74474,     0.74575,     0.74675,     0.74775,     0.74875,     0.74975,     0.75075,     0.75175,     0.75275,     0.75375,     0.75475,     0.75576,     0.75676,     0.75776,     0.75876,     0.75976,     0.76076,     0.76176,     0.76276,     0.76376,     0.76476,     0.76577,     0.76677,     0.76777,\n",
              "           0.76877,     0.76977,     0.77077,     0.77177,     0.77277,     0.77377,     0.77477,     0.77578,     0.77678,     0.77778,     0.77878,     0.77978,     0.78078,     0.78178,     0.78278,     0.78378,     0.78478,     0.78579,     0.78679,     0.78779,     0.78879,     0.78979,     0.79079,     0.79179,\n",
              "           0.79279,     0.79379,     0.79479,      0.7958,      0.7968,      0.7978,      0.7988,      0.7998,      0.8008,      0.8018,      0.8028,      0.8038,      0.8048,     0.80581,     0.80681,     0.80781,     0.80881,     0.80981,     0.81081,     0.81181,     0.81281,     0.81381,     0.81481,     0.81582,\n",
              "           0.81682,     0.81782,     0.81882,     0.81982,     0.82082,     0.82182,     0.82282,     0.82382,     0.82482,     0.82583,     0.82683,     0.82783,     0.82883,     0.82983,     0.83083,     0.83183,     0.83283,     0.83383,     0.83483,     0.83584,     0.83684,     0.83784,     0.83884,     0.83984,\n",
              "           0.84084,     0.84184,     0.84284,     0.84384,     0.84484,     0.84585,     0.84685,     0.84785,     0.84885,     0.84985,     0.85085,     0.85185,     0.85285,     0.85385,     0.85485,     0.85586,     0.85686,     0.85786,     0.85886,     0.85986,     0.86086,     0.86186,     0.86286,     0.86386,\n",
              "           0.86486,     0.86587,     0.86687,     0.86787,     0.86887,     0.86987,     0.87087,     0.87187,     0.87287,     0.87387,     0.87487,     0.87588,     0.87688,     0.87788,     0.87888,     0.87988,     0.88088,     0.88188,     0.88288,     0.88388,     0.88488,     0.88589,     0.88689,     0.88789,\n",
              "           0.88889,     0.88989,     0.89089,     0.89189,     0.89289,     0.89389,     0.89489,      0.8959,      0.8969,      0.8979,      0.8989,      0.8999,      0.9009,      0.9019,      0.9029,      0.9039,      0.9049,     0.90591,     0.90691,     0.90791,     0.90891,     0.90991,     0.91091,     0.91191,\n",
              "           0.91291,     0.91391,     0.91491,     0.91592,     0.91692,     0.91792,     0.91892,     0.91992,     0.92092,     0.92192,     0.92292,     0.92392,     0.92492,     0.92593,     0.92693,     0.92793,     0.92893,     0.92993,     0.93093,     0.93193,     0.93293,     0.93393,     0.93493,     0.93594,\n",
              "           0.93694,     0.93794,     0.93894,     0.93994,     0.94094,     0.94194,     0.94294,     0.94394,     0.94494,     0.94595,     0.94695,     0.94795,     0.94895,     0.94995,     0.95095,     0.95195,     0.95295,     0.95395,     0.95495,     0.95596,     0.95696,     0.95796,     0.95896,     0.95996,\n",
              "           0.96096,     0.96196,     0.96296,     0.96396,     0.96496,     0.96597,     0.96697,     0.96797,     0.96897,     0.96997,     0.97097,     0.97197,     0.97297,     0.97397,     0.97497,     0.97598,     0.97698,     0.97798,     0.97898,     0.97998,     0.98098,     0.98198,     0.98298,     0.98398,\n",
              "           0.98498,     0.98599,     0.98699,     0.98799,     0.98899,     0.98999,     0.99099,     0.99199,     0.99299,     0.99399,     0.99499,       0.996,       0.997,       0.998,       0.999,           1]), array([[          1,           1,           1,           1,     0.92857,     0.92857,     0.92857,     0.92857,     0.92857,     0.92857,     0.92857,     0.92857,     0.92857,     0.92857,     0.92857,     0.92857,     0.92857,     0.91963,     0.87782,     0.85714,     0.85714,     0.85714,     0.85714,\n",
              "            0.85714,     0.85714,     0.85714,     0.85714,     0.85714,     0.85714,     0.85714,     0.85714,     0.85714,     0.85714,     0.85714,     0.85714,     0.85714,     0.85714,     0.84816,     0.83749,     0.82681,     0.81613,     0.80546,     0.79478,     0.78571,     0.78571,     0.78571,\n",
              "            0.78571,     0.78571,     0.78571,     0.78571,     0.78571,     0.78571,     0.78571,     0.78571,     0.78571,     0.78571,     0.78571,     0.78571,     0.78571,     0.78571,     0.78571,     0.78571,     0.78571,     0.78571,     0.78571,     0.78571,     0.78571,     0.78571,     0.78571,\n",
              "            0.78571,     0.78571,     0.78571,     0.78571,     0.78571,     0.78571,     0.78571,     0.78571,     0.78571,     0.78571,     0.78571,     0.78571,     0.78571,     0.78571,     0.78571,     0.78571,     0.78571,     0.78571,     0.78571,     0.78571,     0.78571,     0.78571,     0.78571,\n",
              "            0.78571,     0.78571,     0.78571,     0.78571,     0.78571,     0.78571,     0.78571,     0.78571,     0.78571,     0.78571,     0.78571,     0.78571,     0.78571,     0.78571,     0.78571,     0.78571,     0.78571,     0.78571,     0.78571,     0.78571,     0.78571,     0.78571,     0.78571,\n",
              "            0.78571,     0.78571,     0.78571,     0.78571,     0.78571,     0.78571,     0.78571,     0.78571,     0.78571,     0.78571,     0.78571,     0.78571,     0.78571,     0.78571,     0.78571,     0.78571,     0.78571,     0.78571,      0.7797,     0.76938,     0.75905,     0.74872,      0.7384,\n",
              "            0.72807,     0.71774,     0.71429,     0.71429,     0.71429,     0.71429,     0.71429,     0.71429,     0.71429,     0.71429,     0.71429,     0.71429,     0.71429,     0.71429,     0.71429,     0.71429,     0.71429,     0.71429,     0.71429,     0.71418,     0.71324,      0.7123,     0.71136,\n",
              "            0.71041,     0.70947,     0.70853,     0.70759,     0.70665,     0.70571,     0.70477,     0.70383,     0.70289,     0.70195,     0.70101,     0.70007,     0.69913,     0.69819,     0.69725,     0.69631,     0.69537,     0.69443,     0.69349,     0.69255,     0.69161,     0.69067,     0.68973,\n",
              "            0.68878,     0.68784,      0.6869,     0.68596,     0.68502,     0.68408,     0.68314,      0.6822,     0.68126,     0.68032,     0.67938,     0.67844,      0.6775,     0.67656,     0.67562,     0.67468,     0.67374,      0.6728,     0.67186,     0.67092,     0.66998,     0.66904,      0.6681,\n",
              "            0.66715,     0.66621,     0.66527,     0.66433,     0.66339,     0.66245,     0.66151,     0.66057,     0.65963,     0.65869,     0.65775,     0.65681,     0.65587,     0.65493,     0.65399,     0.65305,     0.65211,     0.65117,     0.65023,     0.64929,     0.64835,     0.64741,     0.64647,\n",
              "            0.64552,     0.64458,     0.64364,     0.64286,     0.64286,     0.64286,     0.64286,     0.64286,     0.64286,     0.64286,     0.64286,     0.64286,     0.64286,     0.64286,     0.64286,     0.64286,     0.64286,     0.64286,     0.64286,     0.64286,     0.64286,     0.64286,     0.64286,\n",
              "            0.64286,     0.64286,     0.64286,     0.64286,     0.64286,     0.64286,     0.64286,     0.64286,     0.64286,     0.64286,     0.64286,     0.64286,     0.64286,     0.64286,     0.64286,     0.64286,     0.64286,     0.64286,     0.64286,     0.64286,     0.64286,     0.64286,     0.64286,\n",
              "            0.64286,     0.64286,     0.64286,     0.64286,     0.64286,     0.64286,     0.64286,     0.64286,     0.64286,     0.64286,     0.64286,     0.64286,     0.64286,     0.64286,     0.64286,     0.64286,     0.64286,     0.64286,     0.64286,     0.64286,     0.64286,     0.64286,     0.64286,\n",
              "            0.64286,     0.64286,     0.64286,     0.64286,     0.64286,     0.64286,     0.64286,     0.64286,     0.64286,     0.64286,     0.64286,     0.64286,     0.64286,     0.64286,     0.64286,     0.64286,     0.64286,     0.64286,     0.64286,     0.64286,     0.64286,     0.64286,     0.64286,\n",
              "            0.64286,     0.64286,     0.64286,     0.64286,     0.64286,     0.64286,     0.64286,     0.64286,     0.64286,     0.64286,     0.64286,     0.64286,     0.64286,     0.64286,     0.64286,     0.64286,     0.64286,     0.64286,     0.64286,     0.64286,     0.64286,     0.64286,     0.64286,\n",
              "            0.64286,     0.64286,     0.64286,     0.64286,     0.64286,     0.64286,     0.64286,     0.64286,     0.64286,     0.64286,     0.64286,     0.64286,     0.64286,     0.64286,     0.64286,     0.64286,     0.64286,     0.64286,     0.64286,     0.64286,     0.64286,     0.64286,     0.64286,\n",
              "            0.64286,     0.64286,     0.64286,     0.64286,     0.64286,     0.64286,     0.64286,     0.64286,     0.64286,     0.64286,     0.64286,     0.64286,     0.64286,     0.64286,     0.64286,     0.64286,     0.64286,     0.64286,     0.64286,     0.64286,     0.64286,     0.64286,     0.64286,\n",
              "            0.64286,     0.64286,     0.64286,     0.64286,     0.64286,     0.64286,     0.64286,     0.64286,     0.64286,     0.64286,     0.64286,     0.64286,     0.64286,     0.64286,     0.64286,     0.64286,     0.64286,     0.64286,      0.6423,     0.64142,     0.64053,     0.63965,     0.63877,\n",
              "            0.63788,       0.637,     0.63611,     0.63523,     0.63434,     0.63346,     0.63258,     0.63169,     0.63081,     0.62992,     0.62904,     0.62815,     0.62727,     0.62639,      0.6255,     0.62462,     0.62373,     0.62285,     0.62196,     0.62108,      0.6202,     0.61931,     0.61843,\n",
              "            0.61754,     0.61666,     0.61577,     0.61489,     0.61401,     0.61312,     0.61224,     0.61135,     0.61047,     0.60959,      0.6087,     0.60782,     0.60693,     0.60605,     0.60516,     0.60428,      0.6034,     0.60251,     0.60163,     0.60074,     0.59986,     0.59897,     0.59809,\n",
              "            0.59721,     0.59632,     0.59544,     0.59455,     0.59367,     0.59278,      0.5919,     0.59102,     0.59013,     0.58925,     0.58836,     0.58748,     0.58659,     0.58571,     0.58483,     0.58394,     0.58306,     0.58217,     0.58129,      0.5804,     0.57952,     0.57864,     0.57775,\n",
              "            0.57687,     0.57598,      0.5751,     0.57421,     0.57333,     0.57245,     0.57156,     0.56747,     0.56281,     0.55815,     0.55349,     0.54883,     0.54417,     0.53951,     0.53485,     0.53019,     0.52553,     0.52087,     0.51621,     0.51155,     0.50689,     0.50223,     0.49975,\n",
              "            0.49929,     0.49882,     0.49835,     0.49788,     0.49741,     0.49694,     0.49647,       0.496,     0.49553,     0.49506,     0.49459,     0.49412,     0.49365,     0.49319,     0.49272,     0.49225,     0.49178,     0.49131,     0.49084,     0.49037,      0.4899,     0.48943,     0.48896,\n",
              "            0.48849,     0.48802,     0.48755,     0.48709,     0.48662,     0.48615,     0.48568,     0.48521,     0.48474,     0.48427,      0.4838,     0.48333,     0.48286,     0.48239,     0.48192,     0.48145,     0.48099,     0.48052,     0.48005,     0.47958,     0.47911,     0.47864,     0.47817,\n",
              "             0.4777,     0.47723,     0.47676,     0.47629,     0.47582,     0.47535,     0.47489,     0.47442,     0.47395,     0.47348,     0.47301,     0.47254,     0.47207,      0.4716,     0.47113,     0.47066,     0.47019,     0.46972,     0.46925,     0.46878,     0.46832,     0.46785,     0.46738,\n",
              "            0.46691,     0.46644,     0.46597,      0.4655,     0.46503,     0.46456,     0.46409,     0.46362,     0.46315,     0.46268,     0.46222,     0.46175,     0.46128,     0.46081,     0.46034,     0.45987,      0.4594,     0.45893,     0.45846,     0.45799,     0.45752,     0.45705,     0.45658,\n",
              "            0.45612,     0.45565,     0.45518,     0.45471,     0.45424,     0.45377,      0.4533,     0.45283,     0.45236,     0.45189,     0.45142,     0.45095,     0.45048,     0.45002,     0.44955,     0.44908,     0.44861,     0.44814,     0.44767,      0.4472,     0.44673,     0.44626,     0.44579,\n",
              "            0.44532,     0.44485,     0.44438,     0.44392,     0.44345,     0.44298,     0.44251,     0.44204,     0.44157,      0.4411,     0.44063,     0.44016,     0.43969,     0.43922,     0.43875,     0.43828,     0.43781,     0.43735,     0.43688,     0.43641,     0.43594,     0.43547,       0.435,\n",
              "            0.43453,     0.43406,     0.43359,     0.43312,     0.43265,     0.43218,     0.43171,     0.43125,     0.43078,     0.43031,     0.42984,     0.42937,      0.4289,     0.42694,     0.42151,     0.41608,     0.41065,     0.40523,      0.3998,     0.39437,     0.38895,     0.38352,     0.37809,\n",
              "            0.37267,     0.36724,     0.36181,     0.35707,     0.35655,     0.35603,     0.35551,     0.35499,     0.35447,     0.35396,     0.35344,     0.35292,      0.3524,     0.35188,     0.35136,     0.35084,     0.35032,      0.3498,     0.34928,     0.34876,     0.34824,     0.34773,     0.34721,\n",
              "            0.34669,     0.34617,     0.34565,     0.34513,     0.34461,     0.34409,     0.34357,     0.34305,     0.34253,     0.34201,      0.3415,     0.34098,     0.34046,     0.33994,     0.33942,      0.3389,     0.33838,     0.33786,     0.33734,     0.33682,      0.3363,     0.33578,     0.33527,\n",
              "            0.33475,     0.33423,     0.33371,     0.33319,     0.33267,     0.33215,     0.33163,     0.33111,     0.33059,     0.33007,     0.32955,     0.32904,     0.32852,       0.328,     0.32748,     0.32696,     0.32644,     0.32592,      0.3254,     0.32488,     0.32436,     0.32384,     0.32332,\n",
              "            0.32281,     0.32229,     0.32177,     0.32125,     0.32073,     0.32021,     0.31969,     0.31917,     0.31865,     0.31813,     0.31761,     0.31709,     0.31658,     0.31606,     0.31554,     0.31502,      0.3145,     0.31398,     0.31346,     0.31294,     0.31242,      0.3119,     0.31138,\n",
              "            0.31086,     0.31035,     0.30983,     0.30931,     0.30879,     0.30827,     0.30775,     0.30723,     0.30671,     0.30619,     0.30567,     0.30515,     0.30463,     0.30412,      0.3036,     0.30308,     0.30256,     0.30204,     0.30152,       0.301,     0.30048,     0.29996,     0.29944,\n",
              "            0.29892,      0.2984,     0.29789,     0.29737,     0.29685,     0.29633,     0.29581,     0.29529,     0.29477,     0.29425,     0.29373,     0.29321,     0.29269,     0.29217,     0.29166,     0.29114,     0.29062,      0.2901,     0.28958,     0.28906,     0.28854,     0.28802,      0.2875,\n",
              "            0.28698,     0.28646,     0.28594,     0.28522,     0.28434,     0.28346,     0.28258,      0.2817,     0.28081,     0.27993,     0.27905,     0.27817,     0.27729,      0.2764,     0.27552,     0.27464,     0.27376,     0.27288,     0.27199,     0.27111,     0.27023,     0.26935,     0.26847,\n",
              "            0.26758,      0.2667,     0.26582,     0.26494,     0.26406,     0.26317,     0.26229,     0.26141,     0.26053,     0.25965,     0.25876,     0.25788,       0.257,     0.25612,     0.25524,     0.25435,     0.25347,     0.25259,     0.25171,     0.25083,     0.24994,     0.24906,     0.24818,\n",
              "             0.2473,     0.24642,     0.24553,     0.24465,     0.24377,     0.24289,     0.24201,     0.24112,     0.24024,     0.23936,     0.23848,      0.2376,     0.23671,     0.23583,     0.23495,     0.23407,     0.23319,      0.2323,     0.23142,     0.23054,     0.22966,     0.22878,     0.22789,\n",
              "            0.22701,     0.22613,     0.22525,     0.22437,     0.22348,      0.2226,     0.22172,     0.22084,     0.21996,     0.21907,     0.21819,     0.21731,     0.21643,     0.21555,     0.21466,     0.21429,     0.21429,     0.21429,     0.21429,     0.21429,     0.21429,     0.21429,     0.21176,\n",
              "            0.20554,     0.19933,     0.19312,     0.18691,      0.1807,     0.17449,     0.16828,     0.16207,     0.15586,     0.14965,     0.14344,     0.14157,     0.14014,     0.13872,     0.13729,     0.13586,     0.13444,     0.13301,     0.13159,     0.13016,     0.12874,     0.12731,     0.12589,\n",
              "            0.12446,     0.12304,     0.12161,     0.12018,     0.11876,     0.11733,     0.11591,     0.11448,     0.11306,     0.11163,     0.11021,     0.10878,     0.10736,     0.10593,     0.10451,     0.10308,     0.10165,     0.10023,    0.098804,    0.097378,    0.095953,    0.094527,    0.093102,\n",
              "           0.091677,    0.090251,    0.088826,      0.0874,    0.085975,     0.08455,    0.083124,    0.081699,    0.080273,    0.078848,    0.077423,    0.075997,    0.074572,    0.073146,    0.071721,           0,           0,           0,           0,           0,           0,           0,           0,\n",
              "                  0,           0,           0,           0,           0,           0,           0,           0,           0,           0,           0,           0,           0,           0,           0,           0,           0,           0,           0,           0,           0,           0,           0,\n",
              "                  0,           0,           0,           0,           0,           0,           0,           0,           0,           0,           0]]), 'Confidence', 'Recall']]\n",
              "fitness: np.float64(0.6574262735502658)\n",
              "keys: ['metrics/precision(B)', 'metrics/recall(B)', 'metrics/mAP50(B)', 'metrics/mAP50-95(B)']\n",
              "maps: array([    0.64322])\n",
              "names: {0: 'your_class_name'}\n",
              "plot: True\n",
              "results_dict: {'metrics/precision(B)': np.float64(0.8988133305258421), 'metrics/recall(B)': np.float64(0.6352285533804134), 'metrics/mAP50(B)': np.float64(0.7853068181818181), 'metrics/mAP50-95(B)': np.float64(0.64321732414676), 'fitness': np.float64(0.6574262735502658)}\n",
              "save_dir: PosixPath('/content/drive/My Drive/YOUR_FOLDER/yolov8_training22')\n",
              "speed: {'preprocess': 4.078696999992341, 'inference': 250.99813307409664, 'loss': 0.0002025184652733582, 'postprocess': 1.1389217777630416}\n",
              "task: 'detect'"
            ]
          },
          "metadata": {},
          "execution_count": 50
        }
      ]
    },
    {
      "cell_type": "code",
      "source": [
        "from ultralytics import YOLO\n",
        "\n",
        "# Load the trained YOLOv8 model (update path if needed)\n",
        "model_path = \"/content/drive/My Drive/YOUR_FOLDER/yolov8_training2/weights/best.pt\"\n",
        "model = YOLO(model_path)\n"
      ],
      "metadata": {
        "id": "t4kwpHn8hoSh"
      },
      "execution_count": null,
      "outputs": []
    },
    {
      "cell_type": "code",
      "source": [
        "video_path = \"/content/drive/My Drive/YOUR_FOLDER/VID-20250220-WA0006.mp4\"  # Update with correct filename\n",
        "\n",
        "# Run YOLOv8 inference on the video\n",
        "results = model.predict(source=video_path, save=True)\n",
        "\n",
        "# Print where the processed video is saved\n",
        "print(\"Processed video saved in:\", results[0].save_dir)\n"
      ],
      "metadata": {
        "colab": {
          "base_uri": "https://localhost:8080/"
        },
        "id": "XD6lerSPicNn",
        "outputId": "ad1ad9e3-277e-49a4-9445-e86e47a791a2"
      },
      "execution_count": null,
      "outputs": [
        {
          "output_type": "stream",
          "name": "stdout",
          "text": [
            "\n",
            "\n",
            "WARNING ⚠️ inference results will accumulate in RAM unless `stream=True` is passed, causing potential out-of-memory\n",
            "errors for large sources or long-running streams and videos. See https://docs.ultralytics.com/modes/predict/ for help.\n",
            "\n",
            "Example:\n",
            "    results = model(source=..., stream=True)  # generator of Results objects\n",
            "    for r in results:\n",
            "        boxes = r.boxes  # Boxes object for bbox outputs\n",
            "        masks = r.masks  # Masks object for segment masks outputs\n",
            "        probs = r.probs  # Class probabilities for classification outputs\n",
            "\n",
            "video 1/1 (frame 1/1670) /content/drive/My Drive/YOUR_FOLDER/VID-20250220-WA0006.mp4: 384x640 (no detections), 182.3ms\n",
            "video 1/1 (frame 2/1670) /content/drive/My Drive/YOUR_FOLDER/VID-20250220-WA0006.mp4: 384x640 (no detections), 160.4ms\n",
            "video 1/1 (frame 3/1670) /content/drive/My Drive/YOUR_FOLDER/VID-20250220-WA0006.mp4: 384x640 (no detections), 160.6ms\n",
            "video 1/1 (frame 4/1670) /content/drive/My Drive/YOUR_FOLDER/VID-20250220-WA0006.mp4: 384x640 (no detections), 169.2ms\n",
            "video 1/1 (frame 5/1670) /content/drive/My Drive/YOUR_FOLDER/VID-20250220-WA0006.mp4: 384x640 (no detections), 158.5ms\n",
            "video 1/1 (frame 6/1670) /content/drive/My Drive/YOUR_FOLDER/VID-20250220-WA0006.mp4: 384x640 (no detections), 158.2ms\n",
            "video 1/1 (frame 7/1670) /content/drive/My Drive/YOUR_FOLDER/VID-20250220-WA0006.mp4: 384x640 (no detections), 161.5ms\n",
            "video 1/1 (frame 8/1670) /content/drive/My Drive/YOUR_FOLDER/VID-20250220-WA0006.mp4: 384x640 (no detections), 155.8ms\n",
            "video 1/1 (frame 9/1670) /content/drive/My Drive/YOUR_FOLDER/VID-20250220-WA0006.mp4: 384x640 (no detections), 175.7ms\n",
            "video 1/1 (frame 10/1670) /content/drive/My Drive/YOUR_FOLDER/VID-20250220-WA0006.mp4: 384x640 (no detections), 208.5ms\n",
            "video 1/1 (frame 11/1670) /content/drive/My Drive/YOUR_FOLDER/VID-20250220-WA0006.mp4: 384x640 (no detections), 245.9ms\n",
            "video 1/1 (frame 12/1670) /content/drive/My Drive/YOUR_FOLDER/VID-20250220-WA0006.mp4: 384x640 (no detections), 244.5ms\n",
            "video 1/1 (frame 13/1670) /content/drive/My Drive/YOUR_FOLDER/VID-20250220-WA0006.mp4: 384x640 (no detections), 247.8ms\n",
            "video 1/1 (frame 14/1670) /content/drive/My Drive/YOUR_FOLDER/VID-20250220-WA0006.mp4: 384x640 (no detections), 228.1ms\n",
            "video 1/1 (frame 15/1670) /content/drive/My Drive/YOUR_FOLDER/VID-20250220-WA0006.mp4: 384x640 (no detections), 230.5ms\n",
            "video 1/1 (frame 16/1670) /content/drive/My Drive/YOUR_FOLDER/VID-20250220-WA0006.mp4: 384x640 (no detections), 244.3ms\n",
            "video 1/1 (frame 17/1670) /content/drive/My Drive/YOUR_FOLDER/VID-20250220-WA0006.mp4: 384x640 (no detections), 243.2ms\n",
            "video 1/1 (frame 18/1670) /content/drive/My Drive/YOUR_FOLDER/VID-20250220-WA0006.mp4: 384x640 (no detections), 226.5ms\n",
            "video 1/1 (frame 19/1670) /content/drive/My Drive/YOUR_FOLDER/VID-20250220-WA0006.mp4: 384x640 (no detections), 237.9ms\n",
            "video 1/1 (frame 20/1670) /content/drive/My Drive/YOUR_FOLDER/VID-20250220-WA0006.mp4: 384x640 (no detections), 220.5ms\n",
            "video 1/1 (frame 21/1670) /content/drive/My Drive/YOUR_FOLDER/VID-20250220-WA0006.mp4: 384x640 (no detections), 244.6ms\n",
            "video 1/1 (frame 22/1670) /content/drive/My Drive/YOUR_FOLDER/VID-20250220-WA0006.mp4: 384x640 (no detections), 239.8ms\n",
            "video 1/1 (frame 23/1670) /content/drive/My Drive/YOUR_FOLDER/VID-20250220-WA0006.mp4: 384x640 (no detections), 243.7ms\n",
            "video 1/1 (frame 24/1670) /content/drive/My Drive/YOUR_FOLDER/VID-20250220-WA0006.mp4: 384x640 (no detections), 241.3ms\n",
            "video 1/1 (frame 25/1670) /content/drive/My Drive/YOUR_FOLDER/VID-20250220-WA0006.mp4: 384x640 (no detections), 195.7ms\n",
            "video 1/1 (frame 26/1670) /content/drive/My Drive/YOUR_FOLDER/VID-20250220-WA0006.mp4: 384x640 (no detections), 150.4ms\n",
            "video 1/1 (frame 27/1670) /content/drive/My Drive/YOUR_FOLDER/VID-20250220-WA0006.mp4: 384x640 (no detections), 154.1ms\n",
            "video 1/1 (frame 28/1670) /content/drive/My Drive/YOUR_FOLDER/VID-20250220-WA0006.mp4: 384x640 (no detections), 159.4ms\n",
            "video 1/1 (frame 29/1670) /content/drive/My Drive/YOUR_FOLDER/VID-20250220-WA0006.mp4: 384x640 (no detections), 152.6ms\n",
            "video 1/1 (frame 30/1670) /content/drive/My Drive/YOUR_FOLDER/VID-20250220-WA0006.mp4: 384x640 (no detections), 172.3ms\n",
            "video 1/1 (frame 31/1670) /content/drive/My Drive/YOUR_FOLDER/VID-20250220-WA0006.mp4: 384x640 (no detections), 163.8ms\n",
            "video 1/1 (frame 32/1670) /content/drive/My Drive/YOUR_FOLDER/VID-20250220-WA0006.mp4: 384x640 (no detections), 158.5ms\n",
            "video 1/1 (frame 33/1670) /content/drive/My Drive/YOUR_FOLDER/VID-20250220-WA0006.mp4: 384x640 (no detections), 153.5ms\n",
            "video 1/1 (frame 34/1670) /content/drive/My Drive/YOUR_FOLDER/VID-20250220-WA0006.mp4: 384x640 (no detections), 157.0ms\n",
            "video 1/1 (frame 35/1670) /content/drive/My Drive/YOUR_FOLDER/VID-20250220-WA0006.mp4: 384x640 (no detections), 160.5ms\n",
            "video 1/1 (frame 36/1670) /content/drive/My Drive/YOUR_FOLDER/VID-20250220-WA0006.mp4: 384x640 (no detections), 172.6ms\n",
            "video 1/1 (frame 37/1670) /content/drive/My Drive/YOUR_FOLDER/VID-20250220-WA0006.mp4: 384x640 (no detections), 150.8ms\n",
            "video 1/1 (frame 38/1670) /content/drive/My Drive/YOUR_FOLDER/VID-20250220-WA0006.mp4: 384x640 (no detections), 161.6ms\n",
            "video 1/1 (frame 39/1670) /content/drive/My Drive/YOUR_FOLDER/VID-20250220-WA0006.mp4: 384x640 (no detections), 155.2ms\n",
            "video 1/1 (frame 40/1670) /content/drive/My Drive/YOUR_FOLDER/VID-20250220-WA0006.mp4: 384x640 (no detections), 157.0ms\n",
            "video 1/1 (frame 41/1670) /content/drive/My Drive/YOUR_FOLDER/VID-20250220-WA0006.mp4: 384x640 (no detections), 164.6ms\n",
            "video 1/1 (frame 42/1670) /content/drive/My Drive/YOUR_FOLDER/VID-20250220-WA0006.mp4: 384x640 (no detections), 152.4ms\n",
            "video 1/1 (frame 43/1670) /content/drive/My Drive/YOUR_FOLDER/VID-20250220-WA0006.mp4: 384x640 (no detections), 159.4ms\n",
            "video 1/1 (frame 44/1670) /content/drive/My Drive/YOUR_FOLDER/VID-20250220-WA0006.mp4: 384x640 (no detections), 161.8ms\n",
            "video 1/1 (frame 45/1670) /content/drive/My Drive/YOUR_FOLDER/VID-20250220-WA0006.mp4: 384x640 (no detections), 161.1ms\n",
            "video 1/1 (frame 46/1670) /content/drive/My Drive/YOUR_FOLDER/VID-20250220-WA0006.mp4: 384x640 (no detections), 164.7ms\n",
            "video 1/1 (frame 47/1670) /content/drive/My Drive/YOUR_FOLDER/VID-20250220-WA0006.mp4: 384x640 (no detections), 174.5ms\n",
            "video 1/1 (frame 48/1670) /content/drive/My Drive/YOUR_FOLDER/VID-20250220-WA0006.mp4: 384x640 (no detections), 161.5ms\n",
            "video 1/1 (frame 49/1670) /content/drive/My Drive/YOUR_FOLDER/VID-20250220-WA0006.mp4: 384x640 (no detections), 159.2ms\n",
            "video 1/1 (frame 50/1670) /content/drive/My Drive/YOUR_FOLDER/VID-20250220-WA0006.mp4: 384x640 (no detections), 155.0ms\n",
            "video 1/1 (frame 51/1670) /content/drive/My Drive/YOUR_FOLDER/VID-20250220-WA0006.mp4: 384x640 (no detections), 163.5ms\n",
            "video 1/1 (frame 52/1670) /content/drive/My Drive/YOUR_FOLDER/VID-20250220-WA0006.mp4: 384x640 (no detections), 157.8ms\n",
            "video 1/1 (frame 53/1670) /content/drive/My Drive/YOUR_FOLDER/VID-20250220-WA0006.mp4: 384x640 (no detections), 153.7ms\n",
            "video 1/1 (frame 54/1670) /content/drive/My Drive/YOUR_FOLDER/VID-20250220-WA0006.mp4: 384x640 (no detections), 168.4ms\n",
            "video 1/1 (frame 55/1670) /content/drive/My Drive/YOUR_FOLDER/VID-20250220-WA0006.mp4: 384x640 (no detections), 155.7ms\n",
            "video 1/1 (frame 56/1670) /content/drive/My Drive/YOUR_FOLDER/VID-20250220-WA0006.mp4: 384x640 (no detections), 152.8ms\n",
            "video 1/1 (frame 57/1670) /content/drive/My Drive/YOUR_FOLDER/VID-20250220-WA0006.mp4: 384x640 (no detections), 152.8ms\n",
            "video 1/1 (frame 58/1670) /content/drive/My Drive/YOUR_FOLDER/VID-20250220-WA0006.mp4: 384x640 (no detections), 167.5ms\n",
            "video 1/1 (frame 59/1670) /content/drive/My Drive/YOUR_FOLDER/VID-20250220-WA0006.mp4: 384x640 (no detections), 156.3ms\n",
            "video 1/1 (frame 60/1670) /content/drive/My Drive/YOUR_FOLDER/VID-20250220-WA0006.mp4: 384x640 (no detections), 149.7ms\n",
            "video 1/1 (frame 61/1670) /content/drive/My Drive/YOUR_FOLDER/VID-20250220-WA0006.mp4: 384x640 (no detections), 156.7ms\n",
            "video 1/1 (frame 62/1670) /content/drive/My Drive/YOUR_FOLDER/VID-20250220-WA0006.mp4: 384x640 (no detections), 156.6ms\n",
            "video 1/1 (frame 63/1670) /content/drive/My Drive/YOUR_FOLDER/VID-20250220-WA0006.mp4: 384x640 (no detections), 156.4ms\n",
            "video 1/1 (frame 64/1670) /content/drive/My Drive/YOUR_FOLDER/VID-20250220-WA0006.mp4: 384x640 (no detections), 164.9ms\n",
            "video 1/1 (frame 65/1670) /content/drive/My Drive/YOUR_FOLDER/VID-20250220-WA0006.mp4: 384x640 (no detections), 162.4ms\n",
            "video 1/1 (frame 66/1670) /content/drive/My Drive/YOUR_FOLDER/VID-20250220-WA0006.mp4: 384x640 (no detections), 158.7ms\n",
            "video 1/1 (frame 67/1670) /content/drive/My Drive/YOUR_FOLDER/VID-20250220-WA0006.mp4: 384x640 (no detections), 156.2ms\n",
            "video 1/1 (frame 68/1670) /content/drive/My Drive/YOUR_FOLDER/VID-20250220-WA0006.mp4: 384x640 (no detections), 153.3ms\n",
            "video 1/1 (frame 69/1670) /content/drive/My Drive/YOUR_FOLDER/VID-20250220-WA0006.mp4: 384x640 (no detections), 166.1ms\n",
            "video 1/1 (frame 70/1670) /content/drive/My Drive/YOUR_FOLDER/VID-20250220-WA0006.mp4: 384x640 (no detections), 158.4ms\n",
            "video 1/1 (frame 71/1670) /content/drive/My Drive/YOUR_FOLDER/VID-20250220-WA0006.mp4: 384x640 (no detections), 152.2ms\n",
            "video 1/1 (frame 72/1670) /content/drive/My Drive/YOUR_FOLDER/VID-20250220-WA0006.mp4: 384x640 (no detections), 148.9ms\n",
            "video 1/1 (frame 73/1670) /content/drive/My Drive/YOUR_FOLDER/VID-20250220-WA0006.mp4: 384x640 (no detections), 151.0ms\n",
            "video 1/1 (frame 74/1670) /content/drive/My Drive/YOUR_FOLDER/VID-20250220-WA0006.mp4: 384x640 (no detections), 158.8ms\n",
            "video 1/1 (frame 75/1670) /content/drive/My Drive/YOUR_FOLDER/VID-20250220-WA0006.mp4: 384x640 (no detections), 164.8ms\n",
            "video 1/1 (frame 76/1670) /content/drive/My Drive/YOUR_FOLDER/VID-20250220-WA0006.mp4: 384x640 (no detections), 156.5ms\n",
            "video 1/1 (frame 77/1670) /content/drive/My Drive/YOUR_FOLDER/VID-20250220-WA0006.mp4: 384x640 (no detections), 158.4ms\n",
            "video 1/1 (frame 78/1670) /content/drive/My Drive/YOUR_FOLDER/VID-20250220-WA0006.mp4: 384x640 (no detections), 163.9ms\n",
            "video 1/1 (frame 79/1670) /content/drive/My Drive/YOUR_FOLDER/VID-20250220-WA0006.mp4: 384x640 (no detections), 189.7ms\n",
            "video 1/1 (frame 80/1670) /content/drive/My Drive/YOUR_FOLDER/VID-20250220-WA0006.mp4: 384x640 (no detections), 250.0ms\n",
            "video 1/1 (frame 81/1670) /content/drive/My Drive/YOUR_FOLDER/VID-20250220-WA0006.mp4: 384x640 (no detections), 237.0ms\n",
            "video 1/1 (frame 82/1670) /content/drive/My Drive/YOUR_FOLDER/VID-20250220-WA0006.mp4: 384x640 (no detections), 237.9ms\n",
            "video 1/1 (frame 83/1670) /content/drive/My Drive/YOUR_FOLDER/VID-20250220-WA0006.mp4: 384x640 (no detections), 229.3ms\n",
            "video 1/1 (frame 84/1670) /content/drive/My Drive/YOUR_FOLDER/VID-20250220-WA0006.mp4: 384x640 (no detections), 252.9ms\n",
            "video 1/1 (frame 85/1670) /content/drive/My Drive/YOUR_FOLDER/VID-20250220-WA0006.mp4: 384x640 (no detections), 239.4ms\n",
            "video 1/1 (frame 86/1670) /content/drive/My Drive/YOUR_FOLDER/VID-20250220-WA0006.mp4: 384x640 (no detections), 231.9ms\n",
            "video 1/1 (frame 87/1670) /content/drive/My Drive/YOUR_FOLDER/VID-20250220-WA0006.mp4: 384x640 (no detections), 229.8ms\n",
            "video 1/1 (frame 88/1670) /content/drive/My Drive/YOUR_FOLDER/VID-20250220-WA0006.mp4: 384x640 (no detections), 231.2ms\n",
            "video 1/1 (frame 89/1670) /content/drive/My Drive/YOUR_FOLDER/VID-20250220-WA0006.mp4: 384x640 (no detections), 223.3ms\n",
            "video 1/1 (frame 90/1670) /content/drive/My Drive/YOUR_FOLDER/VID-20250220-WA0006.mp4: 384x640 (no detections), 229.0ms\n",
            "video 1/1 (frame 91/1670) /content/drive/My Drive/YOUR_FOLDER/VID-20250220-WA0006.mp4: 384x640 (no detections), 251.9ms\n",
            "video 1/1 (frame 92/1670) /content/drive/My Drive/YOUR_FOLDER/VID-20250220-WA0006.mp4: 384x640 (no detections), 249.4ms\n",
            "video 1/1 (frame 93/1670) /content/drive/My Drive/YOUR_FOLDER/VID-20250220-WA0006.mp4: 384x640 (no detections), 234.7ms\n",
            "video 1/1 (frame 94/1670) /content/drive/My Drive/YOUR_FOLDER/VID-20250220-WA0006.mp4: 384x640 (no detections), 228.7ms\n",
            "video 1/1 (frame 95/1670) /content/drive/My Drive/YOUR_FOLDER/VID-20250220-WA0006.mp4: 384x640 (no detections), 156.9ms\n",
            "video 1/1 (frame 96/1670) /content/drive/My Drive/YOUR_FOLDER/VID-20250220-WA0006.mp4: 384x640 (no detections), 150.5ms\n",
            "video 1/1 (frame 97/1670) /content/drive/My Drive/YOUR_FOLDER/VID-20250220-WA0006.mp4: 384x640 (no detections), 150.9ms\n",
            "video 1/1 (frame 98/1670) /content/drive/My Drive/YOUR_FOLDER/VID-20250220-WA0006.mp4: 384x640 (no detections), 153.3ms\n",
            "video 1/1 (frame 99/1670) /content/drive/My Drive/YOUR_FOLDER/VID-20250220-WA0006.mp4: 384x640 (no detections), 152.8ms\n",
            "video 1/1 (frame 100/1670) /content/drive/My Drive/YOUR_FOLDER/VID-20250220-WA0006.mp4: 384x640 (no detections), 154.7ms\n",
            "video 1/1 (frame 101/1670) /content/drive/My Drive/YOUR_FOLDER/VID-20250220-WA0006.mp4: 384x640 (no detections), 152.2ms\n",
            "video 1/1 (frame 102/1670) /content/drive/My Drive/YOUR_FOLDER/VID-20250220-WA0006.mp4: 384x640 (no detections), 173.7ms\n",
            "video 1/1 (frame 103/1670) /content/drive/My Drive/YOUR_FOLDER/VID-20250220-WA0006.mp4: 384x640 (no detections), 151.4ms\n",
            "video 1/1 (frame 104/1670) /content/drive/My Drive/YOUR_FOLDER/VID-20250220-WA0006.mp4: 384x640 (no detections), 154.1ms\n",
            "video 1/1 (frame 105/1670) /content/drive/My Drive/YOUR_FOLDER/VID-20250220-WA0006.mp4: 384x640 (no detections), 155.4ms\n",
            "video 1/1 (frame 106/1670) /content/drive/My Drive/YOUR_FOLDER/VID-20250220-WA0006.mp4: 384x640 (no detections), 152.2ms\n",
            "video 1/1 (frame 107/1670) /content/drive/My Drive/YOUR_FOLDER/VID-20250220-WA0006.mp4: 384x640 (no detections), 149.5ms\n",
            "video 1/1 (frame 108/1670) /content/drive/My Drive/YOUR_FOLDER/VID-20250220-WA0006.mp4: 384x640 (no detections), 166.7ms\n",
            "video 1/1 (frame 109/1670) /content/drive/My Drive/YOUR_FOLDER/VID-20250220-WA0006.mp4: 384x640 (no detections), 155.6ms\n",
            "video 1/1 (frame 110/1670) /content/drive/My Drive/YOUR_FOLDER/VID-20250220-WA0006.mp4: 384x640 (no detections), 149.8ms\n",
            "video 1/1 (frame 111/1670) /content/drive/My Drive/YOUR_FOLDER/VID-20250220-WA0006.mp4: 384x640 (no detections), 152.1ms\n",
            "video 1/1 (frame 112/1670) /content/drive/My Drive/YOUR_FOLDER/VID-20250220-WA0006.mp4: 384x640 (no detections), 156.7ms\n",
            "video 1/1 (frame 113/1670) /content/drive/My Drive/YOUR_FOLDER/VID-20250220-WA0006.mp4: 384x640 (no detections), 153.5ms\n",
            "video 1/1 (frame 114/1670) /content/drive/My Drive/YOUR_FOLDER/VID-20250220-WA0006.mp4: 384x640 (no detections), 157.3ms\n",
            "video 1/1 (frame 115/1670) /content/drive/My Drive/YOUR_FOLDER/VID-20250220-WA0006.mp4: 384x640 (no detections), 148.9ms\n",
            "video 1/1 (frame 116/1670) /content/drive/My Drive/YOUR_FOLDER/VID-20250220-WA0006.mp4: 384x640 (no detections), 150.2ms\n",
            "video 1/1 (frame 117/1670) /content/drive/My Drive/YOUR_FOLDER/VID-20250220-WA0006.mp4: 384x640 (no detections), 154.8ms\n",
            "video 1/1 (frame 118/1670) /content/drive/My Drive/YOUR_FOLDER/VID-20250220-WA0006.mp4: 384x640 (no detections), 147.4ms\n",
            "video 1/1 (frame 119/1670) /content/drive/My Drive/YOUR_FOLDER/VID-20250220-WA0006.mp4: 384x640 (no detections), 171.8ms\n",
            "video 1/1 (frame 120/1670) /content/drive/My Drive/YOUR_FOLDER/VID-20250220-WA0006.mp4: 384x640 (no detections), 150.9ms\n",
            "video 1/1 (frame 121/1670) /content/drive/My Drive/YOUR_FOLDER/VID-20250220-WA0006.mp4: 384x640 (no detections), 152.7ms\n",
            "video 1/1 (frame 122/1670) /content/drive/My Drive/YOUR_FOLDER/VID-20250220-WA0006.mp4: 384x640 (no detections), 152.8ms\n",
            "video 1/1 (frame 123/1670) /content/drive/My Drive/YOUR_FOLDER/VID-20250220-WA0006.mp4: 384x640 (no detections), 155.6ms\n",
            "video 1/1 (frame 124/1670) /content/drive/My Drive/YOUR_FOLDER/VID-20250220-WA0006.mp4: 384x640 (no detections), 153.1ms\n",
            "video 1/1 (frame 125/1670) /content/drive/My Drive/YOUR_FOLDER/VID-20250220-WA0006.mp4: 384x640 (no detections), 166.4ms\n",
            "video 1/1 (frame 126/1670) /content/drive/My Drive/YOUR_FOLDER/VID-20250220-WA0006.mp4: 384x640 (no detections), 152.9ms\n",
            "video 1/1 (frame 127/1670) /content/drive/My Drive/YOUR_FOLDER/VID-20250220-WA0006.mp4: 384x640 (no detections), 154.4ms\n",
            "video 1/1 (frame 128/1670) /content/drive/My Drive/YOUR_FOLDER/VID-20250220-WA0006.mp4: 384x640 (no detections), 150.9ms\n",
            "video 1/1 (frame 129/1670) /content/drive/My Drive/YOUR_FOLDER/VID-20250220-WA0006.mp4: 384x640 (no detections), 153.1ms\n",
            "video 1/1 (frame 130/1670) /content/drive/My Drive/YOUR_FOLDER/VID-20250220-WA0006.mp4: 384x640 (no detections), 149.3ms\n",
            "video 1/1 (frame 131/1670) /content/drive/My Drive/YOUR_FOLDER/VID-20250220-WA0006.mp4: 384x640 (no detections), 165.7ms\n",
            "video 1/1 (frame 132/1670) /content/drive/My Drive/YOUR_FOLDER/VID-20250220-WA0006.mp4: 384x640 (no detections), 150.4ms\n",
            "video 1/1 (frame 133/1670) /content/drive/My Drive/YOUR_FOLDER/VID-20250220-WA0006.mp4: 384x640 (no detections), 154.0ms\n",
            "video 1/1 (frame 134/1670) /content/drive/My Drive/YOUR_FOLDER/VID-20250220-WA0006.mp4: 384x640 (no detections), 155.0ms\n",
            "video 1/1 (frame 135/1670) /content/drive/My Drive/YOUR_FOLDER/VID-20250220-WA0006.mp4: 384x640 (no detections), 148.0ms\n",
            "video 1/1 (frame 136/1670) /content/drive/My Drive/YOUR_FOLDER/VID-20250220-WA0006.mp4: 384x640 (no detections), 151.4ms\n",
            "video 1/1 (frame 137/1670) /content/drive/My Drive/YOUR_FOLDER/VID-20250220-WA0006.mp4: 384x640 (no detections), 160.4ms\n",
            "video 1/1 (frame 138/1670) /content/drive/My Drive/YOUR_FOLDER/VID-20250220-WA0006.mp4: 384x640 (no detections), 151.0ms\n",
            "video 1/1 (frame 139/1670) /content/drive/My Drive/YOUR_FOLDER/VID-20250220-WA0006.mp4: 384x640 (no detections), 154.7ms\n",
            "video 1/1 (frame 140/1670) /content/drive/My Drive/YOUR_FOLDER/VID-20250220-WA0006.mp4: 384x640 (no detections), 153.4ms\n",
            "video 1/1 (frame 141/1670) /content/drive/My Drive/YOUR_FOLDER/VID-20250220-WA0006.mp4: 384x640 (no detections), 154.3ms\n",
            "video 1/1 (frame 142/1670) /content/drive/My Drive/YOUR_FOLDER/VID-20250220-WA0006.mp4: 384x640 (no detections), 163.6ms\n",
            "video 1/1 (frame 143/1670) /content/drive/My Drive/YOUR_FOLDER/VID-20250220-WA0006.mp4: 384x640 (no detections), 147.7ms\n",
            "video 1/1 (frame 144/1670) /content/drive/My Drive/YOUR_FOLDER/VID-20250220-WA0006.mp4: 384x640 (no detections), 148.9ms\n",
            "video 1/1 (frame 145/1670) /content/drive/My Drive/YOUR_FOLDER/VID-20250220-WA0006.mp4: 384x640 (no detections), 150.4ms\n",
            "video 1/1 (frame 146/1670) /content/drive/My Drive/YOUR_FOLDER/VID-20250220-WA0006.mp4: 384x640 (no detections), 146.7ms\n",
            "video 1/1 (frame 147/1670) /content/drive/My Drive/YOUR_FOLDER/VID-20250220-WA0006.mp4: 384x640 (no detections), 150.7ms\n",
            "video 1/1 (frame 148/1670) /content/drive/My Drive/YOUR_FOLDER/VID-20250220-WA0006.mp4: 384x640 (no detections), 165.8ms\n",
            "video 1/1 (frame 149/1670) /content/drive/My Drive/YOUR_FOLDER/VID-20250220-WA0006.mp4: 384x640 (no detections), 151.2ms\n",
            "video 1/1 (frame 150/1670) /content/drive/My Drive/YOUR_FOLDER/VID-20250220-WA0006.mp4: 384x640 (no detections), 209.7ms\n",
            "video 1/1 (frame 151/1670) /content/drive/My Drive/YOUR_FOLDER/VID-20250220-WA0006.mp4: 384x640 (no detections), 235.9ms\n",
            "video 1/1 (frame 152/1670) /content/drive/My Drive/YOUR_FOLDER/VID-20250220-WA0006.mp4: 384x640 (no detections), 227.5ms\n",
            "video 1/1 (frame 153/1670) /content/drive/My Drive/YOUR_FOLDER/VID-20250220-WA0006.mp4: 384x640 (no detections), 239.1ms\n",
            "video 1/1 (frame 154/1670) /content/drive/My Drive/YOUR_FOLDER/VID-20250220-WA0006.mp4: 384x640 (no detections), 233.7ms\n",
            "video 1/1 (frame 155/1670) /content/drive/My Drive/YOUR_FOLDER/VID-20250220-WA0006.mp4: 384x640 (no detections), 238.8ms\n",
            "video 1/1 (frame 156/1670) /content/drive/My Drive/YOUR_FOLDER/VID-20250220-WA0006.mp4: 384x640 (no detections), 239.3ms\n",
            "video 1/1 (frame 157/1670) /content/drive/My Drive/YOUR_FOLDER/VID-20250220-WA0006.mp4: 384x640 (no detections), 239.7ms\n",
            "video 1/1 (frame 158/1670) /content/drive/My Drive/YOUR_FOLDER/VID-20250220-WA0006.mp4: 384x640 (no detections), 259.9ms\n",
            "video 1/1 (frame 159/1670) /content/drive/My Drive/YOUR_FOLDER/VID-20250220-WA0006.mp4: 384x640 (no detections), 229.6ms\n",
            "video 1/1 (frame 160/1670) /content/drive/My Drive/YOUR_FOLDER/VID-20250220-WA0006.mp4: 384x640 (no detections), 245.0ms\n",
            "video 1/1 (frame 161/1670) /content/drive/My Drive/YOUR_FOLDER/VID-20250220-WA0006.mp4: 384x640 (no detections), 245.3ms\n",
            "video 1/1 (frame 162/1670) /content/drive/My Drive/YOUR_FOLDER/VID-20250220-WA0006.mp4: 384x640 (no detections), 234.9ms\n",
            "video 1/1 (frame 163/1670) /content/drive/My Drive/YOUR_FOLDER/VID-20250220-WA0006.mp4: 384x640 (no detections), 237.9ms\n",
            "video 1/1 (frame 164/1670) /content/drive/My Drive/YOUR_FOLDER/VID-20250220-WA0006.mp4: 384x640 (no detections), 243.1ms\n",
            "video 1/1 (frame 165/1670) /content/drive/My Drive/YOUR_FOLDER/VID-20250220-WA0006.mp4: 384x640 (no detections), 157.6ms\n",
            "video 1/1 (frame 166/1670) /content/drive/My Drive/YOUR_FOLDER/VID-20250220-WA0006.mp4: 384x640 (no detections), 145.3ms\n",
            "video 1/1 (frame 167/1670) /content/drive/My Drive/YOUR_FOLDER/VID-20250220-WA0006.mp4: 384x640 (no detections), 147.9ms\n",
            "video 1/1 (frame 168/1670) /content/drive/My Drive/YOUR_FOLDER/VID-20250220-WA0006.mp4: 384x640 (no detections), 147.3ms\n",
            "video 1/1 (frame 169/1670) /content/drive/My Drive/YOUR_FOLDER/VID-20250220-WA0006.mp4: 384x640 (no detections), 145.0ms\n",
            "video 1/1 (frame 170/1670) /content/drive/My Drive/YOUR_FOLDER/VID-20250220-WA0006.mp4: 384x640 (no detections), 157.8ms\n",
            "video 1/1 (frame 171/1670) /content/drive/My Drive/YOUR_FOLDER/VID-20250220-WA0006.mp4: 384x640 (no detections), 149.6ms\n",
            "video 1/1 (frame 172/1670) /content/drive/My Drive/YOUR_FOLDER/VID-20250220-WA0006.mp4: 384x640 (no detections), 148.2ms\n",
            "video 1/1 (frame 173/1670) /content/drive/My Drive/YOUR_FOLDER/VID-20250220-WA0006.mp4: 384x640 (no detections), 145.4ms\n",
            "video 1/1 (frame 174/1670) /content/drive/My Drive/YOUR_FOLDER/VID-20250220-WA0006.mp4: 384x640 (no detections), 150.0ms\n",
            "video 1/1 (frame 175/1670) /content/drive/My Drive/YOUR_FOLDER/VID-20250220-WA0006.mp4: 384x640 (no detections), 171.2ms\n",
            "video 1/1 (frame 176/1670) /content/drive/My Drive/YOUR_FOLDER/VID-20250220-WA0006.mp4: 384x640 (no detections), 165.7ms\n",
            "video 1/1 (frame 177/1670) /content/drive/My Drive/YOUR_FOLDER/VID-20250220-WA0006.mp4: 384x640 1 your_class_name, 154.7ms\n",
            "video 1/1 (frame 178/1670) /content/drive/My Drive/YOUR_FOLDER/VID-20250220-WA0006.mp4: 384x640 (no detections), 158.5ms\n",
            "video 1/1 (frame 179/1670) /content/drive/My Drive/YOUR_FOLDER/VID-20250220-WA0006.mp4: 384x640 (no detections), 156.9ms\n",
            "video 1/1 (frame 180/1670) /content/drive/My Drive/YOUR_FOLDER/VID-20250220-WA0006.mp4: 384x640 (no detections), 162.8ms\n",
            "video 1/1 (frame 181/1670) /content/drive/My Drive/YOUR_FOLDER/VID-20250220-WA0006.mp4: 384x640 (no detections), 173.3ms\n",
            "video 1/1 (frame 182/1670) /content/drive/My Drive/YOUR_FOLDER/VID-20250220-WA0006.mp4: 384x640 (no detections), 154.8ms\n",
            "video 1/1 (frame 183/1670) /content/drive/My Drive/YOUR_FOLDER/VID-20250220-WA0006.mp4: 384x640 (no detections), 157.5ms\n",
            "video 1/1 (frame 184/1670) /content/drive/My Drive/YOUR_FOLDER/VID-20250220-WA0006.mp4: 384x640 (no detections), 158.1ms\n",
            "video 1/1 (frame 185/1670) /content/drive/My Drive/YOUR_FOLDER/VID-20250220-WA0006.mp4: 384x640 (no detections), 157.6ms\n",
            "video 1/1 (frame 186/1670) /content/drive/My Drive/YOUR_FOLDER/VID-20250220-WA0006.mp4: 384x640 (no detections), 152.4ms\n",
            "video 1/1 (frame 187/1670) /content/drive/My Drive/YOUR_FOLDER/VID-20250220-WA0006.mp4: 384x640 (no detections), 174.7ms\n",
            "video 1/1 (frame 188/1670) /content/drive/My Drive/YOUR_FOLDER/VID-20250220-WA0006.mp4: 384x640 (no detections), 158.9ms\n",
            "video 1/1 (frame 189/1670) /content/drive/My Drive/YOUR_FOLDER/VID-20250220-WA0006.mp4: 384x640 (no detections), 154.6ms\n",
            "video 1/1 (frame 190/1670) /content/drive/My Drive/YOUR_FOLDER/VID-20250220-WA0006.mp4: 384x640 (no detections), 154.8ms\n",
            "video 1/1 (frame 191/1670) /content/drive/My Drive/YOUR_FOLDER/VID-20250220-WA0006.mp4: 384x640 (no detections), 152.4ms\n",
            "video 1/1 (frame 192/1670) /content/drive/My Drive/YOUR_FOLDER/VID-20250220-WA0006.mp4: 384x640 (no detections), 166.7ms\n",
            "video 1/1 (frame 193/1670) /content/drive/My Drive/YOUR_FOLDER/VID-20250220-WA0006.mp4: 384x640 (no detections), 151.6ms\n",
            "video 1/1 (frame 194/1670) /content/drive/My Drive/YOUR_FOLDER/VID-20250220-WA0006.mp4: 384x640 (no detections), 159.8ms\n",
            "video 1/1 (frame 195/1670) /content/drive/My Drive/YOUR_FOLDER/VID-20250220-WA0006.mp4: 384x640 (no detections), 160.2ms\n",
            "video 1/1 (frame 196/1670) /content/drive/My Drive/YOUR_FOLDER/VID-20250220-WA0006.mp4: 384x640 (no detections), 157.0ms\n",
            "video 1/1 (frame 197/1670) /content/drive/My Drive/YOUR_FOLDER/VID-20250220-WA0006.mp4: 384x640 (no detections), 157.2ms\n",
            "video 1/1 (frame 198/1670) /content/drive/My Drive/YOUR_FOLDER/VID-20250220-WA0006.mp4: 384x640 (no detections), 167.1ms\n",
            "video 1/1 (frame 199/1670) /content/drive/My Drive/YOUR_FOLDER/VID-20250220-WA0006.mp4: 384x640 (no detections), 155.4ms\n",
            "video 1/1 (frame 200/1670) /content/drive/My Drive/YOUR_FOLDER/VID-20250220-WA0006.mp4: 384x640 (no detections), 150.8ms\n",
            "video 1/1 (frame 201/1670) /content/drive/My Drive/YOUR_FOLDER/VID-20250220-WA0006.mp4: 384x640 (no detections), 151.7ms\n",
            "video 1/1 (frame 202/1670) /content/drive/My Drive/YOUR_FOLDER/VID-20250220-WA0006.mp4: 384x640 1 your_class_name, 158.9ms\n",
            "video 1/1 (frame 203/1670) /content/drive/My Drive/YOUR_FOLDER/VID-20250220-WA0006.mp4: 384x640 (no detections), 150.5ms\n",
            "video 1/1 (frame 204/1670) /content/drive/My Drive/YOUR_FOLDER/VID-20250220-WA0006.mp4: 384x640 1 your_class_name, 165.2ms\n",
            "video 1/1 (frame 205/1670) /content/drive/My Drive/YOUR_FOLDER/VID-20250220-WA0006.mp4: 384x640 1 your_class_name, 153.3ms\n",
            "video 1/1 (frame 206/1670) /content/drive/My Drive/YOUR_FOLDER/VID-20250220-WA0006.mp4: 384x640 1 your_class_name, 147.9ms\n",
            "video 1/1 (frame 207/1670) /content/drive/My Drive/YOUR_FOLDER/VID-20250220-WA0006.mp4: 384x640 1 your_class_name, 151.3ms\n",
            "video 1/1 (frame 208/1670) /content/drive/My Drive/YOUR_FOLDER/VID-20250220-WA0006.mp4: 384x640 1 your_class_name, 149.4ms\n",
            "video 1/1 (frame 209/1670) /content/drive/My Drive/YOUR_FOLDER/VID-20250220-WA0006.mp4: 384x640 1 your_class_name, 164.9ms\n",
            "video 1/1 (frame 210/1670) /content/drive/My Drive/YOUR_FOLDER/VID-20250220-WA0006.mp4: 384x640 1 your_class_name, 148.3ms\n",
            "video 1/1 (frame 211/1670) /content/drive/My Drive/YOUR_FOLDER/VID-20250220-WA0006.mp4: 384x640 1 your_class_name, 153.2ms\n",
            "video 1/1 (frame 212/1670) /content/drive/My Drive/YOUR_FOLDER/VID-20250220-WA0006.mp4: 384x640 1 your_class_name, 156.3ms\n",
            "video 1/1 (frame 213/1670) /content/drive/My Drive/YOUR_FOLDER/VID-20250220-WA0006.mp4: 384x640 1 your_class_name, 150.3ms\n",
            "video 1/1 (frame 214/1670) /content/drive/My Drive/YOUR_FOLDER/VID-20250220-WA0006.mp4: 384x640 1 your_class_name, 159.7ms\n",
            "video 1/1 (frame 215/1670) /content/drive/My Drive/YOUR_FOLDER/VID-20250220-WA0006.mp4: 384x640 1 your_class_name, 174.7ms\n",
            "video 1/1 (frame 216/1670) /content/drive/My Drive/YOUR_FOLDER/VID-20250220-WA0006.mp4: 384x640 1 your_class_name, 159.8ms\n",
            "video 1/1 (frame 217/1670) /content/drive/My Drive/YOUR_FOLDER/VID-20250220-WA0006.mp4: 384x640 1 your_class_name, 150.4ms\n",
            "video 1/1 (frame 218/1670) /content/drive/My Drive/YOUR_FOLDER/VID-20250220-WA0006.mp4: 384x640 1 your_class_name, 151.4ms\n",
            "video 1/1 (frame 219/1670) /content/drive/My Drive/YOUR_FOLDER/VID-20250220-WA0006.mp4: 384x640 1 your_class_name, 177.3ms\n",
            "video 1/1 (frame 220/1670) /content/drive/My Drive/YOUR_FOLDER/VID-20250220-WA0006.mp4: 384x640 1 your_class_name, 262.1ms\n",
            "video 1/1 (frame 221/1670) /content/drive/My Drive/YOUR_FOLDER/VID-20250220-WA0006.mp4: 384x640 1 your_class_name, 236.4ms\n",
            "video 1/1 (frame 222/1670) /content/drive/My Drive/YOUR_FOLDER/VID-20250220-WA0006.mp4: 384x640 1 your_class_name, 231.2ms\n",
            "video 1/1 (frame 223/1670) /content/drive/My Drive/YOUR_FOLDER/VID-20250220-WA0006.mp4: 384x640 1 your_class_name, 877.6ms\n",
            "video 1/1 (frame 224/1670) /content/drive/My Drive/YOUR_FOLDER/VID-20250220-WA0006.mp4: 384x640 1 your_class_name, 241.7ms\n",
            "video 1/1 (frame 225/1670) /content/drive/My Drive/YOUR_FOLDER/VID-20250220-WA0006.mp4: 384x640 1 your_class_name, 890.6ms\n",
            "video 1/1 (frame 226/1670) /content/drive/My Drive/YOUR_FOLDER/VID-20250220-WA0006.mp4: 384x640 1 your_class_name, 244.8ms\n",
            "video 1/1 (frame 227/1670) /content/drive/My Drive/YOUR_FOLDER/VID-20250220-WA0006.mp4: 384x640 1 your_class_name, 770.0ms\n",
            "video 1/1 (frame 228/1670) /content/drive/My Drive/YOUR_FOLDER/VID-20250220-WA0006.mp4: 384x640 1 your_class_name, 184.3ms\n",
            "video 1/1 (frame 229/1670) /content/drive/My Drive/YOUR_FOLDER/VID-20250220-WA0006.mp4: 384x640 1 your_class_name, 151.0ms\n",
            "video 1/1 (frame 230/1670) /content/drive/My Drive/YOUR_FOLDER/VID-20250220-WA0006.mp4: 384x640 1 your_class_name, 166.8ms\n",
            "video 1/1 (frame 231/1670) /content/drive/My Drive/YOUR_FOLDER/VID-20250220-WA0006.mp4: 384x640 1 your_class_name, 151.3ms\n",
            "video 1/1 (frame 232/1670) /content/drive/My Drive/YOUR_FOLDER/VID-20250220-WA0006.mp4: 384x640 1 your_class_name, 147.7ms\n",
            "video 1/1 (frame 233/1670) /content/drive/My Drive/YOUR_FOLDER/VID-20250220-WA0006.mp4: 384x640 1 your_class_name, 180.0ms\n",
            "video 1/1 (frame 234/1670) /content/drive/My Drive/YOUR_FOLDER/VID-20250220-WA0006.mp4: 384x640 1 your_class_name, 159.0ms\n",
            "video 1/1 (frame 235/1670) /content/drive/My Drive/YOUR_FOLDER/VID-20250220-WA0006.mp4: 384x640 1 your_class_name, 161.3ms\n",
            "video 1/1 (frame 236/1670) /content/drive/My Drive/YOUR_FOLDER/VID-20250220-WA0006.mp4: 384x640 1 your_class_name, 150.1ms\n",
            "video 1/1 (frame 237/1670) /content/drive/My Drive/YOUR_FOLDER/VID-20250220-WA0006.mp4: 384x640 1 your_class_name, 151.2ms\n",
            "video 1/1 (frame 238/1670) /content/drive/My Drive/YOUR_FOLDER/VID-20250220-WA0006.mp4: 384x640 1 your_class_name, 155.0ms\n",
            "video 1/1 (frame 239/1670) /content/drive/My Drive/YOUR_FOLDER/VID-20250220-WA0006.mp4: 384x640 1 your_class_name, 154.2ms\n",
            "video 1/1 (frame 240/1670) /content/drive/My Drive/YOUR_FOLDER/VID-20250220-WA0006.mp4: 384x640 1 your_class_name, 151.7ms\n",
            "video 1/1 (frame 241/1670) /content/drive/My Drive/YOUR_FOLDER/VID-20250220-WA0006.mp4: 384x640 1 your_class_name, 164.8ms\n",
            "video 1/1 (frame 242/1670) /content/drive/My Drive/YOUR_FOLDER/VID-20250220-WA0006.mp4: 384x640 1 your_class_name, 154.0ms\n",
            "video 1/1 (frame 243/1670) /content/drive/My Drive/YOUR_FOLDER/VID-20250220-WA0006.mp4: 384x640 1 your_class_name, 152.8ms\n",
            "video 1/1 (frame 244/1670) /content/drive/My Drive/YOUR_FOLDER/VID-20250220-WA0006.mp4: 384x640 1 your_class_name, 159.5ms\n",
            "video 1/1 (frame 245/1670) /content/drive/My Drive/YOUR_FOLDER/VID-20250220-WA0006.mp4: 384x640 1 your_class_name, 149.1ms\n",
            "video 1/1 (frame 246/1670) /content/drive/My Drive/YOUR_FOLDER/VID-20250220-WA0006.mp4: 384x640 1 your_class_name, 159.3ms\n",
            "video 1/1 (frame 247/1670) /content/drive/My Drive/YOUR_FOLDER/VID-20250220-WA0006.mp4: 384x640 1 your_class_name, 150.8ms\n",
            "video 1/1 (frame 248/1670) /content/drive/My Drive/YOUR_FOLDER/VID-20250220-WA0006.mp4: 384x640 1 your_class_name, 145.9ms\n",
            "video 1/1 (frame 249/1670) /content/drive/My Drive/YOUR_FOLDER/VID-20250220-WA0006.mp4: 384x640 1 your_class_name, 157.2ms\n",
            "video 1/1 (frame 250/1670) /content/drive/My Drive/YOUR_FOLDER/VID-20250220-WA0006.mp4: 384x640 1 your_class_name, 152.6ms\n",
            "video 1/1 (frame 251/1670) /content/drive/My Drive/YOUR_FOLDER/VID-20250220-WA0006.mp4: 384x640 1 your_class_name, 149.4ms\n",
            "video 1/1 (frame 252/1670) /content/drive/My Drive/YOUR_FOLDER/VID-20250220-WA0006.mp4: 384x640 1 your_class_name, 170.9ms\n",
            "video 1/1 (frame 253/1670) /content/drive/My Drive/YOUR_FOLDER/VID-20250220-WA0006.mp4: 384x640 1 your_class_name, 153.7ms\n",
            "video 1/1 (frame 254/1670) /content/drive/My Drive/YOUR_FOLDER/VID-20250220-WA0006.mp4: 384x640 1 your_class_name, 163.9ms\n",
            "video 1/1 (frame 255/1670) /content/drive/My Drive/YOUR_FOLDER/VID-20250220-WA0006.mp4: 384x640 1 your_class_name, 157.4ms\n",
            "video 1/1 (frame 256/1670) /content/drive/My Drive/YOUR_FOLDER/VID-20250220-WA0006.mp4: 384x640 1 your_class_name, 155.2ms\n",
            "video 1/1 (frame 257/1670) /content/drive/My Drive/YOUR_FOLDER/VID-20250220-WA0006.mp4: 384x640 1 your_class_name, 155.9ms\n",
            "video 1/1 (frame 258/1670) /content/drive/My Drive/YOUR_FOLDER/VID-20250220-WA0006.mp4: 384x640 1 your_class_name, 165.0ms\n",
            "video 1/1 (frame 259/1670) /content/drive/My Drive/YOUR_FOLDER/VID-20250220-WA0006.mp4: 384x640 1 your_class_name, 158.0ms\n",
            "video 1/1 (frame 260/1670) /content/drive/My Drive/YOUR_FOLDER/VID-20250220-WA0006.mp4: 384x640 1 your_class_name, 170.7ms\n",
            "video 1/1 (frame 261/1670) /content/drive/My Drive/YOUR_FOLDER/VID-20250220-WA0006.mp4: 384x640 1 your_class_name, 156.3ms\n",
            "video 1/1 (frame 262/1670) /content/drive/My Drive/YOUR_FOLDER/VID-20250220-WA0006.mp4: 384x640 1 your_class_name, 156.5ms\n",
            "video 1/1 (frame 263/1670) /content/drive/My Drive/YOUR_FOLDER/VID-20250220-WA0006.mp4: 384x640 1 your_class_name, 164.5ms\n",
            "video 1/1 (frame 264/1670) /content/drive/My Drive/YOUR_FOLDER/VID-20250220-WA0006.mp4: 384x640 1 your_class_name, 147.7ms\n",
            "video 1/1 (frame 265/1670) /content/drive/My Drive/YOUR_FOLDER/VID-20250220-WA0006.mp4: 384x640 1 your_class_name, 156.6ms\n",
            "video 1/1 (frame 266/1670) /content/drive/My Drive/YOUR_FOLDER/VID-20250220-WA0006.mp4: 384x640 1 your_class_name, 151.3ms\n",
            "video 1/1 (frame 267/1670) /content/drive/My Drive/YOUR_FOLDER/VID-20250220-WA0006.mp4: 384x640 1 your_class_name, 151.7ms\n",
            "video 1/1 (frame 268/1670) /content/drive/My Drive/YOUR_FOLDER/VID-20250220-WA0006.mp4: 384x640 1 your_class_name, 151.8ms\n",
            "video 1/1 (frame 269/1670) /content/drive/My Drive/YOUR_FOLDER/VID-20250220-WA0006.mp4: 384x640 1 your_class_name, 164.2ms\n",
            "video 1/1 (frame 270/1670) /content/drive/My Drive/YOUR_FOLDER/VID-20250220-WA0006.mp4: 384x640 1 your_class_name, 149.5ms\n",
            "video 1/1 (frame 271/1670) /content/drive/My Drive/YOUR_FOLDER/VID-20250220-WA0006.mp4: 384x640 1 your_class_name, 149.1ms\n",
            "video 1/1 (frame 272/1670) /content/drive/My Drive/YOUR_FOLDER/VID-20250220-WA0006.mp4: 384x640 1 your_class_name, 154.1ms\n",
            "video 1/1 (frame 273/1670) /content/drive/My Drive/YOUR_FOLDER/VID-20250220-WA0006.mp4: 384x640 1 your_class_name, 155.9ms\n",
            "video 1/1 (frame 274/1670) /content/drive/My Drive/YOUR_FOLDER/VID-20250220-WA0006.mp4: 384x640 1 your_class_name, 157.3ms\n",
            "video 1/1 (frame 275/1670) /content/drive/My Drive/YOUR_FOLDER/VID-20250220-WA0006.mp4: 384x640 1 your_class_name, 151.6ms\n",
            "video 1/1 (frame 276/1670) /content/drive/My Drive/YOUR_FOLDER/VID-20250220-WA0006.mp4: 384x640 1 your_class_name, 156.6ms\n",
            "video 1/1 (frame 277/1670) /content/drive/My Drive/YOUR_FOLDER/VID-20250220-WA0006.mp4: 384x640 1 your_class_name, 154.4ms\n",
            "video 1/1 (frame 278/1670) /content/drive/My Drive/YOUR_FOLDER/VID-20250220-WA0006.mp4: 384x640 1 your_class_name, 153.0ms\n",
            "video 1/1 (frame 279/1670) /content/drive/My Drive/YOUR_FOLDER/VID-20250220-WA0006.mp4: 384x640 1 your_class_name, 153.5ms\n",
            "video 1/1 (frame 280/1670) /content/drive/My Drive/YOUR_FOLDER/VID-20250220-WA0006.mp4: 384x640 1 your_class_name, 167.6ms\n",
            "video 1/1 (frame 281/1670) /content/drive/My Drive/YOUR_FOLDER/VID-20250220-WA0006.mp4: 384x640 1 your_class_name, 156.4ms\n",
            "video 1/1 (frame 282/1670) /content/drive/My Drive/YOUR_FOLDER/VID-20250220-WA0006.mp4: 384x640 1 your_class_name, 198.2ms\n",
            "video 1/1 (frame 283/1670) /content/drive/My Drive/YOUR_FOLDER/VID-20250220-WA0006.mp4: 384x640 1 your_class_name, 242.4ms\n",
            "video 1/1 (frame 284/1670) /content/drive/My Drive/YOUR_FOLDER/VID-20250220-WA0006.mp4: 384x640 1 your_class_name, 238.1ms\n",
            "video 1/1 (frame 285/1670) /content/drive/My Drive/YOUR_FOLDER/VID-20250220-WA0006.mp4: 384x640 1 your_class_name, 231.4ms\n",
            "video 1/1 (frame 286/1670) /content/drive/My Drive/YOUR_FOLDER/VID-20250220-WA0006.mp4: 384x640 1 your_class_name, 222.9ms\n",
            "video 1/1 (frame 287/1670) /content/drive/My Drive/YOUR_FOLDER/VID-20250220-WA0006.mp4: 384x640 1 your_class_name, 238.7ms\n",
            "video 1/1 (frame 288/1670) /content/drive/My Drive/YOUR_FOLDER/VID-20250220-WA0006.mp4: 384x640 1 your_class_name, 262.8ms\n",
            "video 1/1 (frame 289/1670) /content/drive/My Drive/YOUR_FOLDER/VID-20250220-WA0006.mp4: 384x640 1 your_class_name, 248.9ms\n",
            "video 1/1 (frame 290/1670) /content/drive/My Drive/YOUR_FOLDER/VID-20250220-WA0006.mp4: 384x640 1 your_class_name, 233.4ms\n",
            "video 1/1 (frame 291/1670) /content/drive/My Drive/YOUR_FOLDER/VID-20250220-WA0006.mp4: 384x640 1 your_class_name, 235.1ms\n",
            "video 1/1 (frame 292/1670) /content/drive/My Drive/YOUR_FOLDER/VID-20250220-WA0006.mp4: 384x640 1 your_class_name, 246.1ms\n",
            "video 1/1 (frame 293/1670) /content/drive/My Drive/YOUR_FOLDER/VID-20250220-WA0006.mp4: 384x640 1 your_class_name, 240.8ms\n",
            "video 1/1 (frame 294/1670) /content/drive/My Drive/YOUR_FOLDER/VID-20250220-WA0006.mp4: 384x640 1 your_class_name, 229.8ms\n",
            "video 1/1 (frame 295/1670) /content/drive/My Drive/YOUR_FOLDER/VID-20250220-WA0006.mp4: 384x640 1 your_class_name, 238.3ms\n",
            "video 1/1 (frame 296/1670) /content/drive/My Drive/YOUR_FOLDER/VID-20250220-WA0006.mp4: 384x640 1 your_class_name, 230.4ms\n",
            "video 1/1 (frame 297/1670) /content/drive/My Drive/YOUR_FOLDER/VID-20250220-WA0006.mp4: 384x640 1 your_class_name, 156.6ms\n",
            "video 1/1 (frame 298/1670) /content/drive/My Drive/YOUR_FOLDER/VID-20250220-WA0006.mp4: 384x640 1 your_class_name, 159.1ms\n",
            "video 1/1 (frame 299/1670) /content/drive/My Drive/YOUR_FOLDER/VID-20250220-WA0006.mp4: 384x640 1 your_class_name, 154.2ms\n",
            "video 1/1 (frame 300/1670) /content/drive/My Drive/YOUR_FOLDER/VID-20250220-WA0006.mp4: 384x640 1 your_class_name, 153.0ms\n",
            "video 1/1 (frame 301/1670) /content/drive/My Drive/YOUR_FOLDER/VID-20250220-WA0006.mp4: 384x640 1 your_class_name, 155.4ms\n",
            "video 1/1 (frame 302/1670) /content/drive/My Drive/YOUR_FOLDER/VID-20250220-WA0006.mp4: 384x640 1 your_class_name, 161.8ms\n",
            "video 1/1 (frame 303/1670) /content/drive/My Drive/YOUR_FOLDER/VID-20250220-WA0006.mp4: 384x640 1 your_class_name, 149.6ms\n",
            "video 1/1 (frame 304/1670) /content/drive/My Drive/YOUR_FOLDER/VID-20250220-WA0006.mp4: 384x640 1 your_class_name, 149.5ms\n",
            "video 1/1 (frame 305/1670) /content/drive/My Drive/YOUR_FOLDER/VID-20250220-WA0006.mp4: 384x640 1 your_class_name, 152.5ms\n",
            "video 1/1 (frame 306/1670) /content/drive/My Drive/YOUR_FOLDER/VID-20250220-WA0006.mp4: 384x640 1 your_class_name, 147.2ms\n",
            "video 1/1 (frame 307/1670) /content/drive/My Drive/YOUR_FOLDER/VID-20250220-WA0006.mp4: 384x640 1 your_class_name, 168.5ms\n",
            "video 1/1 (frame 308/1670) /content/drive/My Drive/YOUR_FOLDER/VID-20250220-WA0006.mp4: 384x640 1 your_class_name, 154.8ms\n",
            "video 1/1 (frame 309/1670) /content/drive/My Drive/YOUR_FOLDER/VID-20250220-WA0006.mp4: 384x640 1 your_class_name, 154.0ms\n",
            "video 1/1 (frame 310/1670) /content/drive/My Drive/YOUR_FOLDER/VID-20250220-WA0006.mp4: 384x640 1 your_class_name, 150.6ms\n",
            "video 1/1 (frame 311/1670) /content/drive/My Drive/YOUR_FOLDER/VID-20250220-WA0006.mp4: 384x640 1 your_class_name, 148.9ms\n",
            "video 1/1 (frame 312/1670) /content/drive/My Drive/YOUR_FOLDER/VID-20250220-WA0006.mp4: 384x640 1 your_class_name, 153.7ms\n",
            "video 1/1 (frame 313/1670) /content/drive/My Drive/YOUR_FOLDER/VID-20250220-WA0006.mp4: 384x640 1 your_class_name, 164.3ms\n",
            "video 1/1 (frame 314/1670) /content/drive/My Drive/YOUR_FOLDER/VID-20250220-WA0006.mp4: 384x640 1 your_class_name, 149.1ms\n",
            "video 1/1 (frame 315/1670) /content/drive/My Drive/YOUR_FOLDER/VID-20250220-WA0006.mp4: 384x640 1 your_class_name, 154.6ms\n",
            "video 1/1 (frame 316/1670) /content/drive/My Drive/YOUR_FOLDER/VID-20250220-WA0006.mp4: 384x640 1 your_class_name, 156.5ms\n",
            "video 1/1 (frame 317/1670) /content/drive/My Drive/YOUR_FOLDER/VID-20250220-WA0006.mp4: 384x640 1 your_class_name, 151.7ms\n",
            "video 1/1 (frame 318/1670) /content/drive/My Drive/YOUR_FOLDER/VID-20250220-WA0006.mp4: 384x640 1 your_class_name, 155.9ms\n",
            "video 1/1 (frame 319/1670) /content/drive/My Drive/YOUR_FOLDER/VID-20250220-WA0006.mp4: 384x640 1 your_class_name, 160.9ms\n",
            "video 1/1 (frame 320/1670) /content/drive/My Drive/YOUR_FOLDER/VID-20250220-WA0006.mp4: 384x640 1 your_class_name, 158.8ms\n",
            "video 1/1 (frame 321/1670) /content/drive/My Drive/YOUR_FOLDER/VID-20250220-WA0006.mp4: 384x640 1 your_class_name, 163.9ms\n",
            "video 1/1 (frame 322/1670) /content/drive/My Drive/YOUR_FOLDER/VID-20250220-WA0006.mp4: 384x640 1 your_class_name, 158.7ms\n",
            "video 1/1 (frame 323/1670) /content/drive/My Drive/YOUR_FOLDER/VID-20250220-WA0006.mp4: 384x640 1 your_class_name, 157.5ms\n",
            "video 1/1 (frame 324/1670) /content/drive/My Drive/YOUR_FOLDER/VID-20250220-WA0006.mp4: 384x640 1 your_class_name, 167.3ms\n",
            "video 1/1 (frame 325/1670) /content/drive/My Drive/YOUR_FOLDER/VID-20250220-WA0006.mp4: 384x640 1 your_class_name, 159.5ms\n",
            "video 1/1 (frame 326/1670) /content/drive/My Drive/YOUR_FOLDER/VID-20250220-WA0006.mp4: 384x640 1 your_class_name, 153.5ms\n",
            "video 1/1 (frame 327/1670) /content/drive/My Drive/YOUR_FOLDER/VID-20250220-WA0006.mp4: 384x640 1 your_class_name, 153.8ms\n",
            "video 1/1 (frame 328/1670) /content/drive/My Drive/YOUR_FOLDER/VID-20250220-WA0006.mp4: 384x640 1 your_class_name, 162.7ms\n",
            "video 1/1 (frame 329/1670) /content/drive/My Drive/YOUR_FOLDER/VID-20250220-WA0006.mp4: 384x640 1 your_class_name, 159.6ms\n",
            "video 1/1 (frame 330/1670) /content/drive/My Drive/YOUR_FOLDER/VID-20250220-WA0006.mp4: 384x640 1 your_class_name, 162.0ms\n",
            "video 1/1 (frame 331/1670) /content/drive/My Drive/YOUR_FOLDER/VID-20250220-WA0006.mp4: 384x640 1 your_class_name, 154.9ms\n",
            "video 1/1 (frame 332/1670) /content/drive/My Drive/YOUR_FOLDER/VID-20250220-WA0006.mp4: 384x640 1 your_class_name, 157.5ms\n",
            "video 1/1 (frame 333/1670) /content/drive/My Drive/YOUR_FOLDER/VID-20250220-WA0006.mp4: 384x640 2 your_class_names, 157.3ms\n",
            "video 1/1 (frame 334/1670) /content/drive/My Drive/YOUR_FOLDER/VID-20250220-WA0006.mp4: 384x640 2 your_class_names, 149.8ms\n",
            "video 1/1 (frame 335/1670) /content/drive/My Drive/YOUR_FOLDER/VID-20250220-WA0006.mp4: 384x640 2 your_class_names, 161.4ms\n",
            "video 1/1 (frame 336/1670) /content/drive/My Drive/YOUR_FOLDER/VID-20250220-WA0006.mp4: 384x640 2 your_class_names, 149.9ms\n",
            "video 1/1 (frame 337/1670) /content/drive/My Drive/YOUR_FOLDER/VID-20250220-WA0006.mp4: 384x640 1 your_class_name, 148.9ms\n",
            "video 1/1 (frame 338/1670) /content/drive/My Drive/YOUR_FOLDER/VID-20250220-WA0006.mp4: 384x640 2 your_class_names, 149.5ms\n",
            "video 1/1 (frame 339/1670) /content/drive/My Drive/YOUR_FOLDER/VID-20250220-WA0006.mp4: 384x640 1 your_class_name, 155.1ms\n",
            "video 1/1 (frame 340/1670) /content/drive/My Drive/YOUR_FOLDER/VID-20250220-WA0006.mp4: 384x640 1 your_class_name, 158.8ms\n",
            "video 1/1 (frame 341/1670) /content/drive/My Drive/YOUR_FOLDER/VID-20250220-WA0006.mp4: 384x640 1 your_class_name, 166.1ms\n",
            "video 1/1 (frame 342/1670) /content/drive/My Drive/YOUR_FOLDER/VID-20250220-WA0006.mp4: 384x640 1 your_class_name, 149.6ms\n",
            "video 1/1 (frame 343/1670) /content/drive/My Drive/YOUR_FOLDER/VID-20250220-WA0006.mp4: 384x640 1 your_class_name, 149.1ms\n",
            "video 1/1 (frame 344/1670) /content/drive/My Drive/YOUR_FOLDER/VID-20250220-WA0006.mp4: 384x640 1 your_class_name, 151.2ms\n",
            "video 1/1 (frame 345/1670) /content/drive/My Drive/YOUR_FOLDER/VID-20250220-WA0006.mp4: 384x640 1 your_class_name, 153.3ms\n",
            "video 1/1 (frame 346/1670) /content/drive/My Drive/YOUR_FOLDER/VID-20250220-WA0006.mp4: 384x640 2 your_class_names, 166.1ms\n",
            "video 1/1 (frame 347/1670) /content/drive/My Drive/YOUR_FOLDER/VID-20250220-WA0006.mp4: 384x640 3 your_class_names, 150.5ms\n",
            "video 1/1 (frame 348/1670) /content/drive/My Drive/YOUR_FOLDER/VID-20250220-WA0006.mp4: 384x640 3 your_class_names, 148.8ms\n",
            "video 1/1 (frame 349/1670) /content/drive/My Drive/YOUR_FOLDER/VID-20250220-WA0006.mp4: 384x640 2 your_class_names, 152.3ms\n",
            "video 1/1 (frame 350/1670) /content/drive/My Drive/YOUR_FOLDER/VID-20250220-WA0006.mp4: 384x640 2 your_class_names, 153.8ms\n",
            "video 1/1 (frame 351/1670) /content/drive/My Drive/YOUR_FOLDER/VID-20250220-WA0006.mp4: 384x640 2 your_class_names, 236.7ms\n",
            "video 1/1 (frame 352/1670) /content/drive/My Drive/YOUR_FOLDER/VID-20250220-WA0006.mp4: 384x640 2 your_class_names, 241.1ms\n",
            "video 1/1 (frame 353/1670) /content/drive/My Drive/YOUR_FOLDER/VID-20250220-WA0006.mp4: 384x640 2 your_class_names, 225.0ms\n",
            "video 1/1 (frame 354/1670) /content/drive/My Drive/YOUR_FOLDER/VID-20250220-WA0006.mp4: 384x640 2 your_class_names, 237.7ms\n",
            "video 1/1 (frame 355/1670) /content/drive/My Drive/YOUR_FOLDER/VID-20250220-WA0006.mp4: 384x640 2 your_class_names, 226.0ms\n",
            "video 1/1 (frame 356/1670) /content/drive/My Drive/YOUR_FOLDER/VID-20250220-WA0006.mp4: 384x640 2 your_class_names, 252.4ms\n",
            "video 1/1 (frame 357/1670) /content/drive/My Drive/YOUR_FOLDER/VID-20250220-WA0006.mp4: 384x640 2 your_class_names, 238.1ms\n",
            "video 1/1 (frame 358/1670) /content/drive/My Drive/YOUR_FOLDER/VID-20250220-WA0006.mp4: 384x640 2 your_class_names, 226.9ms\n",
            "video 1/1 (frame 359/1670) /content/drive/My Drive/YOUR_FOLDER/VID-20250220-WA0006.mp4: 384x640 2 your_class_names, 226.6ms\n",
            "video 1/1 (frame 360/1670) /content/drive/My Drive/YOUR_FOLDER/VID-20250220-WA0006.mp4: 384x640 2 your_class_names, 243.8ms\n",
            "video 1/1 (frame 361/1670) /content/drive/My Drive/YOUR_FOLDER/VID-20250220-WA0006.mp4: 384x640 2 your_class_names, 232.3ms\n",
            "video 1/1 (frame 362/1670) /content/drive/My Drive/YOUR_FOLDER/VID-20250220-WA0006.mp4: 384x640 2 your_class_names, 243.7ms\n",
            "video 1/1 (frame 363/1670) /content/drive/My Drive/YOUR_FOLDER/VID-20250220-WA0006.mp4: 384x640 2 your_class_names, 243.4ms\n",
            "video 1/1 (frame 364/1670) /content/drive/My Drive/YOUR_FOLDER/VID-20250220-WA0006.mp4: 384x640 2 your_class_names, 246.9ms\n",
            "video 1/1 (frame 365/1670) /content/drive/My Drive/YOUR_FOLDER/VID-20250220-WA0006.mp4: 384x640 2 your_class_names, 229.1ms\n",
            "video 1/1 (frame 366/1670) /content/drive/My Drive/YOUR_FOLDER/VID-20250220-WA0006.mp4: 384x640 1 your_class_name, 154.5ms\n",
            "video 1/1 (frame 367/1670) /content/drive/My Drive/YOUR_FOLDER/VID-20250220-WA0006.mp4: 384x640 1 your_class_name, 152.9ms\n",
            "video 1/1 (frame 368/1670) /content/drive/My Drive/YOUR_FOLDER/VID-20250220-WA0006.mp4: 384x640 1 your_class_name, 166.5ms\n",
            "video 1/1 (frame 369/1670) /content/drive/My Drive/YOUR_FOLDER/VID-20250220-WA0006.mp4: 384x640 1 your_class_name, 151.2ms\n",
            "video 1/1 (frame 370/1670) /content/drive/My Drive/YOUR_FOLDER/VID-20250220-WA0006.mp4: 384x640 1 your_class_name, 152.7ms\n",
            "video 1/1 (frame 371/1670) /content/drive/My Drive/YOUR_FOLDER/VID-20250220-WA0006.mp4: 384x640 (no detections), 155.9ms\n",
            "video 1/1 (frame 372/1670) /content/drive/My Drive/YOUR_FOLDER/VID-20250220-WA0006.mp4: 384x640 (no detections), 152.9ms\n",
            "video 1/1 (frame 373/1670) /content/drive/My Drive/YOUR_FOLDER/VID-20250220-WA0006.mp4: 384x640 (no detections), 150.4ms\n",
            "video 1/1 (frame 374/1670) /content/drive/My Drive/YOUR_FOLDER/VID-20250220-WA0006.mp4: 384x640 (no detections), 150.7ms\n",
            "video 1/1 (frame 375/1670) /content/drive/My Drive/YOUR_FOLDER/VID-20250220-WA0006.mp4: 384x640 (no detections), 158.5ms\n",
            "video 1/1 (frame 376/1670) /content/drive/My Drive/YOUR_FOLDER/VID-20250220-WA0006.mp4: 384x640 (no detections), 153.9ms\n",
            "video 1/1 (frame 377/1670) /content/drive/My Drive/YOUR_FOLDER/VID-20250220-WA0006.mp4: 384x640 (no detections), 153.4ms\n",
            "video 1/1 (frame 378/1670) /content/drive/My Drive/YOUR_FOLDER/VID-20250220-WA0006.mp4: 384x640 (no detections), 152.2ms\n",
            "video 1/1 (frame 379/1670) /content/drive/My Drive/YOUR_FOLDER/VID-20250220-WA0006.mp4: 384x640 (no detections), 164.9ms\n",
            "video 1/1 (frame 380/1670) /content/drive/My Drive/YOUR_FOLDER/VID-20250220-WA0006.mp4: 384x640 (no detections), 149.6ms\n",
            "video 1/1 (frame 381/1670) /content/drive/My Drive/YOUR_FOLDER/VID-20250220-WA0006.mp4: 384x640 (no detections), 173.6ms\n",
            "video 1/1 (frame 382/1670) /content/drive/My Drive/YOUR_FOLDER/VID-20250220-WA0006.mp4: 384x640 (no detections), 158.5ms\n",
            "video 1/1 (frame 383/1670) /content/drive/My Drive/YOUR_FOLDER/VID-20250220-WA0006.mp4: 384x640 (no detections), 152.3ms\n",
            "video 1/1 (frame 384/1670) /content/drive/My Drive/YOUR_FOLDER/VID-20250220-WA0006.mp4: 384x640 (no detections), 145.7ms\n",
            "video 1/1 (frame 385/1670) /content/drive/My Drive/YOUR_FOLDER/VID-20250220-WA0006.mp4: 384x640 (no detections), 165.1ms\n",
            "video 1/1 (frame 386/1670) /content/drive/My Drive/YOUR_FOLDER/VID-20250220-WA0006.mp4: 384x640 (no detections), 153.5ms\n",
            "video 1/1 (frame 387/1670) /content/drive/My Drive/YOUR_FOLDER/VID-20250220-WA0006.mp4: 384x640 (no detections), 153.6ms\n",
            "video 1/1 (frame 388/1670) /content/drive/My Drive/YOUR_FOLDER/VID-20250220-WA0006.mp4: 384x640 (no detections), 155.0ms\n",
            "video 1/1 (frame 389/1670) /content/drive/My Drive/YOUR_FOLDER/VID-20250220-WA0006.mp4: 384x640 (no detections), 152.5ms\n",
            "video 1/1 (frame 390/1670) /content/drive/My Drive/YOUR_FOLDER/VID-20250220-WA0006.mp4: 384x640 (no detections), 154.1ms\n",
            "video 1/1 (frame 391/1670) /content/drive/My Drive/YOUR_FOLDER/VID-20250220-WA0006.mp4: 384x640 (no detections), 153.3ms\n",
            "video 1/1 (frame 392/1670) /content/drive/My Drive/YOUR_FOLDER/VID-20250220-WA0006.mp4: 384x640 (no detections), 153.9ms\n",
            "video 1/1 (frame 393/1670) /content/drive/My Drive/YOUR_FOLDER/VID-20250220-WA0006.mp4: 384x640 (no detections), 157.1ms\n",
            "video 1/1 (frame 394/1670) /content/drive/My Drive/YOUR_FOLDER/VID-20250220-WA0006.mp4: 384x640 (no detections), 154.2ms\n",
            "video 1/1 (frame 395/1670) /content/drive/My Drive/YOUR_FOLDER/VID-20250220-WA0006.mp4: 384x640 (no detections), 155.8ms\n",
            "video 1/1 (frame 396/1670) /content/drive/My Drive/YOUR_FOLDER/VID-20250220-WA0006.mp4: 384x640 (no detections), 166.6ms\n",
            "video 1/1 (frame 397/1670) /content/drive/My Drive/YOUR_FOLDER/VID-20250220-WA0006.mp4: 384x640 (no detections), 158.6ms\n",
            "video 1/1 (frame 398/1670) /content/drive/My Drive/YOUR_FOLDER/VID-20250220-WA0006.mp4: 384x640 (no detections), 156.6ms\n",
            "video 1/1 (frame 399/1670) /content/drive/My Drive/YOUR_FOLDER/VID-20250220-WA0006.mp4: 384x640 (no detections), 158.3ms\n",
            "video 1/1 (frame 400/1670) /content/drive/My Drive/YOUR_FOLDER/VID-20250220-WA0006.mp4: 384x640 (no detections), 160.0ms\n",
            "video 1/1 (frame 401/1670) /content/drive/My Drive/YOUR_FOLDER/VID-20250220-WA0006.mp4: 384x640 (no detections), 157.9ms\n",
            "video 1/1 (frame 402/1670) /content/drive/My Drive/YOUR_FOLDER/VID-20250220-WA0006.mp4: 384x640 (no detections), 174.0ms\n",
            "video 1/1 (frame 403/1670) /content/drive/My Drive/YOUR_FOLDER/VID-20250220-WA0006.mp4: 384x640 (no detections), 153.5ms\n",
            "video 1/1 (frame 404/1670) /content/drive/My Drive/YOUR_FOLDER/VID-20250220-WA0006.mp4: 384x640 (no detections), 154.6ms\n",
            "video 1/1 (frame 405/1670) /content/drive/My Drive/YOUR_FOLDER/VID-20250220-WA0006.mp4: 384x640 (no detections), 148.7ms\n",
            "video 1/1 (frame 406/1670) /content/drive/My Drive/YOUR_FOLDER/VID-20250220-WA0006.mp4: 384x640 (no detections), 145.8ms\n",
            "video 1/1 (frame 407/1670) /content/drive/My Drive/YOUR_FOLDER/VID-20250220-WA0006.mp4: 384x640 (no detections), 146.6ms\n",
            "video 1/1 (frame 408/1670) /content/drive/My Drive/YOUR_FOLDER/VID-20250220-WA0006.mp4: 384x640 1 your_class_name, 152.1ms\n",
            "video 1/1 (frame 409/1670) /content/drive/My Drive/YOUR_FOLDER/VID-20250220-WA0006.mp4: 384x640 1 your_class_name, 151.4ms\n",
            "video 1/1 (frame 410/1670) /content/drive/My Drive/YOUR_FOLDER/VID-20250220-WA0006.mp4: 384x640 1 your_class_name, 147.5ms\n",
            "video 1/1 (frame 411/1670) /content/drive/My Drive/YOUR_FOLDER/VID-20250220-WA0006.mp4: 384x640 1 your_class_name, 148.4ms\n",
            "video 1/1 (frame 412/1670) /content/drive/My Drive/YOUR_FOLDER/VID-20250220-WA0006.mp4: 384x640 1 your_class_name, 150.9ms\n",
            "video 1/1 (frame 413/1670) /content/drive/My Drive/YOUR_FOLDER/VID-20250220-WA0006.mp4: 384x640 1 your_class_name, 166.8ms\n",
            "video 1/1 (frame 414/1670) /content/drive/My Drive/YOUR_FOLDER/VID-20250220-WA0006.mp4: 384x640 1 your_class_name, 154.1ms\n",
            "video 1/1 (frame 415/1670) /content/drive/My Drive/YOUR_FOLDER/VID-20250220-WA0006.mp4: 384x640 1 your_class_name, 153.8ms\n",
            "video 1/1 (frame 416/1670) /content/drive/My Drive/YOUR_FOLDER/VID-20250220-WA0006.mp4: 384x640 1 your_class_name, 153.2ms\n",
            "video 1/1 (frame 417/1670) /content/drive/My Drive/YOUR_FOLDER/VID-20250220-WA0006.mp4: 384x640 1 your_class_name, 148.7ms\n",
            "video 1/1 (frame 418/1670) /content/drive/My Drive/YOUR_FOLDER/VID-20250220-WA0006.mp4: 384x640 1 your_class_name, 150.3ms\n",
            "video 1/1 (frame 419/1670) /content/drive/My Drive/YOUR_FOLDER/VID-20250220-WA0006.mp4: 384x640 1 your_class_name, 166.7ms\n",
            "video 1/1 (frame 420/1670) /content/drive/My Drive/YOUR_FOLDER/VID-20250220-WA0006.mp4: 384x640 1 your_class_name, 182.0ms\n",
            "video 1/1 (frame 421/1670) /content/drive/My Drive/YOUR_FOLDER/VID-20250220-WA0006.mp4: 384x640 2 your_class_names, 236.5ms\n",
            "video 1/1 (frame 422/1670) /content/drive/My Drive/YOUR_FOLDER/VID-20250220-WA0006.mp4: 384x640 2 your_class_names, 229.5ms\n",
            "video 1/1 (frame 423/1670) /content/drive/My Drive/YOUR_FOLDER/VID-20250220-WA0006.mp4: 384x640 2 your_class_names, 237.3ms\n",
            "video 1/1 (frame 424/1670) /content/drive/My Drive/YOUR_FOLDER/VID-20250220-WA0006.mp4: 384x640 2 your_class_names, 229.6ms\n",
            "video 1/1 (frame 425/1670) /content/drive/My Drive/YOUR_FOLDER/VID-20250220-WA0006.mp4: 384x640 2 your_class_names, 224.3ms\n",
            "video 1/1 (frame 426/1670) /content/drive/My Drive/YOUR_FOLDER/VID-20250220-WA0006.mp4: 384x640 1 your_class_name, 237.0ms\n",
            "video 1/1 (frame 427/1670) /content/drive/My Drive/YOUR_FOLDER/VID-20250220-WA0006.mp4: 384x640 2 your_class_names, 239.4ms\n",
            "video 1/1 (frame 428/1670) /content/drive/My Drive/YOUR_FOLDER/VID-20250220-WA0006.mp4: 384x640 2 your_class_names, 234.0ms\n",
            "video 1/1 (frame 429/1670) /content/drive/My Drive/YOUR_FOLDER/VID-20250220-WA0006.mp4: 384x640 2 your_class_names, 225.1ms\n",
            "video 1/1 (frame 430/1670) /content/drive/My Drive/YOUR_FOLDER/VID-20250220-WA0006.mp4: 384x640 1 your_class_name, 225.7ms\n",
            "video 1/1 (frame 431/1670) /content/drive/My Drive/YOUR_FOLDER/VID-20250220-WA0006.mp4: 384x640 1 your_class_name, 224.8ms\n",
            "video 1/1 (frame 432/1670) /content/drive/My Drive/YOUR_FOLDER/VID-20250220-WA0006.mp4: 384x640 2 your_class_names, 248.4ms\n",
            "video 1/1 (frame 433/1670) /content/drive/My Drive/YOUR_FOLDER/VID-20250220-WA0006.mp4: 384x640 2 your_class_names, 245.7ms\n",
            "video 1/1 (frame 434/1670) /content/drive/My Drive/YOUR_FOLDER/VID-20250220-WA0006.mp4: 384x640 1 your_class_name, 233.3ms\n",
            "video 1/1 (frame 435/1670) /content/drive/My Drive/YOUR_FOLDER/VID-20250220-WA0006.mp4: 384x640 2 your_class_names, 206.1ms\n",
            "video 1/1 (frame 436/1670) /content/drive/My Drive/YOUR_FOLDER/VID-20250220-WA0006.mp4: 384x640 2 your_class_names, 160.7ms\n",
            "video 1/1 (frame 437/1670) /content/drive/My Drive/YOUR_FOLDER/VID-20250220-WA0006.mp4: 384x640 2 your_class_names, 158.4ms\n",
            "video 1/1 (frame 438/1670) /content/drive/My Drive/YOUR_FOLDER/VID-20250220-WA0006.mp4: 384x640 1 your_class_name, 155.4ms\n",
            "video 1/1 (frame 439/1670) /content/drive/My Drive/YOUR_FOLDER/VID-20250220-WA0006.mp4: 384x640 1 your_class_name, 153.8ms\n",
            "video 1/1 (frame 440/1670) /content/drive/My Drive/YOUR_FOLDER/VID-20250220-WA0006.mp4: 384x640 1 your_class_name, 148.6ms\n",
            "video 1/1 (frame 441/1670) /content/drive/My Drive/YOUR_FOLDER/VID-20250220-WA0006.mp4: 384x640 1 your_class_name, 153.2ms\n",
            "video 1/1 (frame 442/1670) /content/drive/My Drive/YOUR_FOLDER/VID-20250220-WA0006.mp4: 384x640 1 your_class_name, 150.4ms\n",
            "video 1/1 (frame 443/1670) /content/drive/My Drive/YOUR_FOLDER/VID-20250220-WA0006.mp4: 384x640 1 your_class_name, 153.5ms\n",
            "video 1/1 (frame 444/1670) /content/drive/My Drive/YOUR_FOLDER/VID-20250220-WA0006.mp4: 384x640 1 your_class_name, 156.9ms\n",
            "video 1/1 (frame 445/1670) /content/drive/My Drive/YOUR_FOLDER/VID-20250220-WA0006.mp4: 384x640 (no detections), 154.3ms\n",
            "video 1/1 (frame 446/1670) /content/drive/My Drive/YOUR_FOLDER/VID-20250220-WA0006.mp4: 384x640 (no detections), 168.5ms\n",
            "video 1/1 (frame 447/1670) /content/drive/My Drive/YOUR_FOLDER/VID-20250220-WA0006.mp4: 384x640 (no detections), 152.9ms\n",
            "video 1/1 (frame 448/1670) /content/drive/My Drive/YOUR_FOLDER/VID-20250220-WA0006.mp4: 384x640 (no detections), 146.6ms\n",
            "video 1/1 (frame 449/1670) /content/drive/My Drive/YOUR_FOLDER/VID-20250220-WA0006.mp4: 384x640 (no detections), 149.8ms\n",
            "video 1/1 (frame 450/1670) /content/drive/My Drive/YOUR_FOLDER/VID-20250220-WA0006.mp4: 384x640 (no detections), 154.9ms\n",
            "video 1/1 (frame 451/1670) /content/drive/My Drive/YOUR_FOLDER/VID-20250220-WA0006.mp4: 384x640 (no detections), 153.3ms\n",
            "video 1/1 (frame 452/1670) /content/drive/My Drive/YOUR_FOLDER/VID-20250220-WA0006.mp4: 384x640 (no detections), 166.0ms\n",
            "video 1/1 (frame 453/1670) /content/drive/My Drive/YOUR_FOLDER/VID-20250220-WA0006.mp4: 384x640 (no detections), 149.4ms\n",
            "video 1/1 (frame 454/1670) /content/drive/My Drive/YOUR_FOLDER/VID-20250220-WA0006.mp4: 384x640 (no detections), 155.0ms\n",
            "video 1/1 (frame 455/1670) /content/drive/My Drive/YOUR_FOLDER/VID-20250220-WA0006.mp4: 384x640 (no detections), 154.5ms\n",
            "video 1/1 (frame 456/1670) /content/drive/My Drive/YOUR_FOLDER/VID-20250220-WA0006.mp4: 384x640 (no detections), 154.6ms\n",
            "video 1/1 (frame 457/1670) /content/drive/My Drive/YOUR_FOLDER/VID-20250220-WA0006.mp4: 384x640 (no detections), 152.3ms\n",
            "video 1/1 (frame 458/1670) /content/drive/My Drive/YOUR_FOLDER/VID-20250220-WA0006.mp4: 384x640 (no detections), 166.1ms\n",
            "video 1/1 (frame 459/1670) /content/drive/My Drive/YOUR_FOLDER/VID-20250220-WA0006.mp4: 384x640 (no detections), 147.0ms\n",
            "video 1/1 (frame 460/1670) /content/drive/My Drive/YOUR_FOLDER/VID-20250220-WA0006.mp4: 384x640 (no detections), 151.0ms\n",
            "video 1/1 (frame 461/1670) /content/drive/My Drive/YOUR_FOLDER/VID-20250220-WA0006.mp4: 384x640 (no detections), 154.0ms\n",
            "video 1/1 (frame 462/1670) /content/drive/My Drive/YOUR_FOLDER/VID-20250220-WA0006.mp4: 384x640 (no detections), 150.7ms\n",
            "video 1/1 (frame 463/1670) /content/drive/My Drive/YOUR_FOLDER/VID-20250220-WA0006.mp4: 384x640 (no detections), 167.9ms\n",
            "video 1/1 (frame 464/1670) /content/drive/My Drive/YOUR_FOLDER/VID-20250220-WA0006.mp4: 384x640 (no detections), 153.6ms\n",
            "video 1/1 (frame 465/1670) /content/drive/My Drive/YOUR_FOLDER/VID-20250220-WA0006.mp4: 384x640 (no detections), 154.2ms\n",
            "video 1/1 (frame 466/1670) /content/drive/My Drive/YOUR_FOLDER/VID-20250220-WA0006.mp4: 384x640 (no detections), 148.8ms\n",
            "video 1/1 (frame 467/1670) /content/drive/My Drive/YOUR_FOLDER/VID-20250220-WA0006.mp4: 384x640 (no detections), 150.7ms\n",
            "video 1/1 (frame 468/1670) /content/drive/My Drive/YOUR_FOLDER/VID-20250220-WA0006.mp4: 384x640 (no detections), 155.2ms\n",
            "video 1/1 (frame 469/1670) /content/drive/My Drive/YOUR_FOLDER/VID-20250220-WA0006.mp4: 384x640 (no detections), 171.0ms\n",
            "video 1/1 (frame 470/1670) /content/drive/My Drive/YOUR_FOLDER/VID-20250220-WA0006.mp4: 384x640 (no detections), 157.3ms\n",
            "video 1/1 (frame 471/1670) /content/drive/My Drive/YOUR_FOLDER/VID-20250220-WA0006.mp4: 384x640 (no detections), 148.8ms\n",
            "video 1/1 (frame 472/1670) /content/drive/My Drive/YOUR_FOLDER/VID-20250220-WA0006.mp4: 384x640 (no detections), 155.0ms\n",
            "video 1/1 (frame 473/1670) /content/drive/My Drive/YOUR_FOLDER/VID-20250220-WA0006.mp4: 384x640 (no detections), 150.7ms\n",
            "video 1/1 (frame 474/1670) /content/drive/My Drive/YOUR_FOLDER/VID-20250220-WA0006.mp4: 384x640 (no detections), 154.4ms\n",
            "video 1/1 (frame 475/1670) /content/drive/My Drive/YOUR_FOLDER/VID-20250220-WA0006.mp4: 384x640 (no detections), 165.7ms\n",
            "video 1/1 (frame 476/1670) /content/drive/My Drive/YOUR_FOLDER/VID-20250220-WA0006.mp4: 384x640 (no detections), 152.6ms\n",
            "video 1/1 (frame 477/1670) /content/drive/My Drive/YOUR_FOLDER/VID-20250220-WA0006.mp4: 384x640 (no detections), 153.2ms\n",
            "video 1/1 (frame 478/1670) /content/drive/My Drive/YOUR_FOLDER/VID-20250220-WA0006.mp4: 384x640 (no detections), 154.4ms\n",
            "video 1/1 (frame 479/1670) /content/drive/My Drive/YOUR_FOLDER/VID-20250220-WA0006.mp4: 384x640 (no detections), 150.8ms\n",
            "video 1/1 (frame 480/1670) /content/drive/My Drive/YOUR_FOLDER/VID-20250220-WA0006.mp4: 384x640 (no detections), 168.2ms\n",
            "video 1/1 (frame 481/1670) /content/drive/My Drive/YOUR_FOLDER/VID-20250220-WA0006.mp4: 384x640 (no detections), 155.6ms\n",
            "video 1/1 (frame 482/1670) /content/drive/My Drive/YOUR_FOLDER/VID-20250220-WA0006.mp4: 384x640 (no detections), 158.1ms\n",
            "video 1/1 (frame 483/1670) /content/drive/My Drive/YOUR_FOLDER/VID-20250220-WA0006.mp4: 384x640 (no detections), 157.3ms\n",
            "video 1/1 (frame 484/1670) /content/drive/My Drive/YOUR_FOLDER/VID-20250220-WA0006.mp4: 384x640 (no detections), 159.1ms\n",
            "video 1/1 (frame 485/1670) /content/drive/My Drive/YOUR_FOLDER/VID-20250220-WA0006.mp4: 384x640 (no detections), 153.4ms\n",
            "video 1/1 (frame 486/1670) /content/drive/My Drive/YOUR_FOLDER/VID-20250220-WA0006.mp4: 384x640 (no detections), 169.4ms\n",
            "video 1/1 (frame 487/1670) /content/drive/My Drive/YOUR_FOLDER/VID-20250220-WA0006.mp4: 384x640 (no detections), 160.4ms\n",
            "video 1/1 (frame 488/1670) /content/drive/My Drive/YOUR_FOLDER/VID-20250220-WA0006.mp4: 384x640 (no detections), 160.6ms\n",
            "video 1/1 (frame 489/1670) /content/drive/My Drive/YOUR_FOLDER/VID-20250220-WA0006.mp4: 384x640 1 your_class_name, 162.6ms\n",
            "video 1/1 (frame 490/1670) /content/drive/My Drive/YOUR_FOLDER/VID-20250220-WA0006.mp4: 384x640 (no detections), 231.4ms\n",
            "video 1/1 (frame 491/1670) /content/drive/My Drive/YOUR_FOLDER/VID-20250220-WA0006.mp4: 384x640 (no detections), 257.7ms\n",
            "video 1/1 (frame 492/1670) /content/drive/My Drive/YOUR_FOLDER/VID-20250220-WA0006.mp4: 384x640 (no detections), 235.9ms\n",
            "video 1/1 (frame 493/1670) /content/drive/My Drive/YOUR_FOLDER/VID-20250220-WA0006.mp4: 384x640 1 your_class_name, 226.7ms\n",
            "video 1/1 (frame 494/1670) /content/drive/My Drive/YOUR_FOLDER/VID-20250220-WA0006.mp4: 384x640 1 your_class_name, 228.5ms\n",
            "video 1/1 (frame 495/1670) /content/drive/My Drive/YOUR_FOLDER/VID-20250220-WA0006.mp4: 384x640 (no detections), 243.9ms\n",
            "video 1/1 (frame 496/1670) /content/drive/My Drive/YOUR_FOLDER/VID-20250220-WA0006.mp4: 384x640 (no detections), 232.1ms\n",
            "video 1/1 (frame 497/1670) /content/drive/My Drive/YOUR_FOLDER/VID-20250220-WA0006.mp4: 384x640 2 your_class_names, 228.9ms\n",
            "video 1/1 (frame 498/1670) /content/drive/My Drive/YOUR_FOLDER/VID-20250220-WA0006.mp4: 384x640 (no detections), 229.4ms\n",
            "video 1/1 (frame 499/1670) /content/drive/My Drive/YOUR_FOLDER/VID-20250220-WA0006.mp4: 384x640 1 your_class_name, 228.0ms\n",
            "video 1/1 (frame 500/1670) /content/drive/My Drive/YOUR_FOLDER/VID-20250220-WA0006.mp4: 384x640 1 your_class_name, 230.0ms\n",
            "video 1/1 (frame 501/1670) /content/drive/My Drive/YOUR_FOLDER/VID-20250220-WA0006.mp4: 384x640 2 your_class_names, 235.3ms\n",
            "video 1/1 (frame 502/1670) /content/drive/My Drive/YOUR_FOLDER/VID-20250220-WA0006.mp4: 384x640 1 your_class_name, 234.9ms\n",
            "video 1/1 (frame 503/1670) /content/drive/My Drive/YOUR_FOLDER/VID-20250220-WA0006.mp4: 384x640 2 your_class_names, 253.7ms\n",
            "video 1/1 (frame 504/1670) /content/drive/My Drive/YOUR_FOLDER/VID-20250220-WA0006.mp4: 384x640 4 your_class_names, 234.5ms\n",
            "video 1/1 (frame 505/1670) /content/drive/My Drive/YOUR_FOLDER/VID-20250220-WA0006.mp4: 384x640 1 your_class_name, 157.9ms\n",
            "video 1/1 (frame 506/1670) /content/drive/My Drive/YOUR_FOLDER/VID-20250220-WA0006.mp4: 384x640 1 your_class_name, 154.7ms\n",
            "video 1/1 (frame 507/1670) /content/drive/My Drive/YOUR_FOLDER/VID-20250220-WA0006.mp4: 384x640 4 your_class_names, 171.5ms\n",
            "video 1/1 (frame 508/1670) /content/drive/My Drive/YOUR_FOLDER/VID-20250220-WA0006.mp4: 384x640 2 your_class_names, 158.8ms\n",
            "video 1/1 (frame 509/1670) /content/drive/My Drive/YOUR_FOLDER/VID-20250220-WA0006.mp4: 384x640 3 your_class_names, 153.7ms\n",
            "video 1/1 (frame 510/1670) /content/drive/My Drive/YOUR_FOLDER/VID-20250220-WA0006.mp4: 384x640 3 your_class_names, 156.5ms\n",
            "video 1/1 (frame 511/1670) /content/drive/My Drive/YOUR_FOLDER/VID-20250220-WA0006.mp4: 384x640 2 your_class_names, 162.1ms\n",
            "video 1/1 (frame 512/1670) /content/drive/My Drive/YOUR_FOLDER/VID-20250220-WA0006.mp4: 384x640 2 your_class_names, 155.9ms\n",
            "video 1/1 (frame 513/1670) /content/drive/My Drive/YOUR_FOLDER/VID-20250220-WA0006.mp4: 384x640 2 your_class_names, 170.6ms\n",
            "video 1/1 (frame 514/1670) /content/drive/My Drive/YOUR_FOLDER/VID-20250220-WA0006.mp4: 384x640 3 your_class_names, 149.5ms\n",
            "video 1/1 (frame 515/1670) /content/drive/My Drive/YOUR_FOLDER/VID-20250220-WA0006.mp4: 384x640 2 your_class_names, 155.0ms\n",
            "video 1/1 (frame 516/1670) /content/drive/My Drive/YOUR_FOLDER/VID-20250220-WA0006.mp4: 384x640 2 your_class_names, 161.5ms\n",
            "video 1/1 (frame 517/1670) /content/drive/My Drive/YOUR_FOLDER/VID-20250220-WA0006.mp4: 384x640 1 your_class_name, 156.5ms\n",
            "video 1/1 (frame 518/1670) /content/drive/My Drive/YOUR_FOLDER/VID-20250220-WA0006.mp4: 384x640 1 your_class_name, 167.3ms\n",
            "video 1/1 (frame 519/1670) /content/drive/My Drive/YOUR_FOLDER/VID-20250220-WA0006.mp4: 384x640 2 your_class_names, 166.6ms\n",
            "video 1/1 (frame 520/1670) /content/drive/My Drive/YOUR_FOLDER/VID-20250220-WA0006.mp4: 384x640 1 your_class_name, 161.7ms\n",
            "video 1/1 (frame 521/1670) /content/drive/My Drive/YOUR_FOLDER/VID-20250220-WA0006.mp4: 384x640 (no detections), 164.3ms\n",
            "video 1/1 (frame 522/1670) /content/drive/My Drive/YOUR_FOLDER/VID-20250220-WA0006.mp4: 384x640 (no detections), 156.0ms\n",
            "video 1/1 (frame 523/1670) /content/drive/My Drive/YOUR_FOLDER/VID-20250220-WA0006.mp4: 384x640 (no detections), 161.6ms\n",
            "video 1/1 (frame 524/1670) /content/drive/My Drive/YOUR_FOLDER/VID-20250220-WA0006.mp4: 384x640 1 your_class_name, 179.8ms\n",
            "video 1/1 (frame 525/1670) /content/drive/My Drive/YOUR_FOLDER/VID-20250220-WA0006.mp4: 384x640 1 your_class_name, 151.2ms\n",
            "video 1/1 (frame 526/1670) /content/drive/My Drive/YOUR_FOLDER/VID-20250220-WA0006.mp4: 384x640 (no detections), 153.6ms\n",
            "video 1/1 (frame 527/1670) /content/drive/My Drive/YOUR_FOLDER/VID-20250220-WA0006.mp4: 384x640 (no detections), 156.4ms\n",
            "video 1/1 (frame 528/1670) /content/drive/My Drive/YOUR_FOLDER/VID-20250220-WA0006.mp4: 384x640 1 your_class_name, 151.5ms\n",
            "video 1/1 (frame 529/1670) /content/drive/My Drive/YOUR_FOLDER/VID-20250220-WA0006.mp4: 384x640 (no detections), 158.3ms\n",
            "video 1/1 (frame 530/1670) /content/drive/My Drive/YOUR_FOLDER/VID-20250220-WA0006.mp4: 384x640 (no detections), 150.6ms\n",
            "video 1/1 (frame 531/1670) /content/drive/My Drive/YOUR_FOLDER/VID-20250220-WA0006.mp4: 384x640 (no detections), 171.8ms\n",
            "video 1/1 (frame 532/1670) /content/drive/My Drive/YOUR_FOLDER/VID-20250220-WA0006.mp4: 384x640 (no detections), 150.6ms\n",
            "video 1/1 (frame 533/1670) /content/drive/My Drive/YOUR_FOLDER/VID-20250220-WA0006.mp4: 384x640 (no detections), 155.0ms\n",
            "video 1/1 (frame 534/1670) /content/drive/My Drive/YOUR_FOLDER/VID-20250220-WA0006.mp4: 384x640 (no detections), 160.5ms\n",
            "video 1/1 (frame 535/1670) /content/drive/My Drive/YOUR_FOLDER/VID-20250220-WA0006.mp4: 384x640 (no detections), 176.0ms\n",
            "video 1/1 (frame 536/1670) /content/drive/My Drive/YOUR_FOLDER/VID-20250220-WA0006.mp4: 384x640 (no detections), 157.3ms\n",
            "video 1/1 (frame 537/1670) /content/drive/My Drive/YOUR_FOLDER/VID-20250220-WA0006.mp4: 384x640 (no detections), 154.9ms\n",
            "video 1/1 (frame 538/1670) /content/drive/My Drive/YOUR_FOLDER/VID-20250220-WA0006.mp4: 384x640 (no detections), 154.4ms\n",
            "video 1/1 (frame 539/1670) /content/drive/My Drive/YOUR_FOLDER/VID-20250220-WA0006.mp4: 384x640 (no detections), 155.6ms\n",
            "video 1/1 (frame 540/1670) /content/drive/My Drive/YOUR_FOLDER/VID-20250220-WA0006.mp4: 384x640 (no detections), 163.2ms\n",
            "video 1/1 (frame 541/1670) /content/drive/My Drive/YOUR_FOLDER/VID-20250220-WA0006.mp4: 384x640 1 your_class_name, 159.2ms\n",
            "video 1/1 (frame 542/1670) /content/drive/My Drive/YOUR_FOLDER/VID-20250220-WA0006.mp4: 384x640 1 your_class_name, 150.4ms\n",
            "video 1/1 (frame 543/1670) /content/drive/My Drive/YOUR_FOLDER/VID-20250220-WA0006.mp4: 384x640 1 your_class_name, 156.4ms\n",
            "video 1/1 (frame 544/1670) /content/drive/My Drive/YOUR_FOLDER/VID-20250220-WA0006.mp4: 384x640 1 your_class_name, 155.5ms\n",
            "video 1/1 (frame 545/1670) /content/drive/My Drive/YOUR_FOLDER/VID-20250220-WA0006.mp4: 384x640 1 your_class_name, 149.9ms\n",
            "video 1/1 (frame 546/1670) /content/drive/My Drive/YOUR_FOLDER/VID-20250220-WA0006.mp4: 384x640 1 your_class_name, 167.0ms\n",
            "video 1/1 (frame 547/1670) /content/drive/My Drive/YOUR_FOLDER/VID-20250220-WA0006.mp4: 384x640 1 your_class_name, 151.9ms\n",
            "video 1/1 (frame 548/1670) /content/drive/My Drive/YOUR_FOLDER/VID-20250220-WA0006.mp4: 384x640 1 your_class_name, 159.9ms\n",
            "video 1/1 (frame 549/1670) /content/drive/My Drive/YOUR_FOLDER/VID-20250220-WA0006.mp4: 384x640 1 your_class_name, 157.0ms\n",
            "video 1/1 (frame 550/1670) /content/drive/My Drive/YOUR_FOLDER/VID-20250220-WA0006.mp4: 384x640 1 your_class_name, 160.4ms\n",
            "video 1/1 (frame 551/1670) /content/drive/My Drive/YOUR_FOLDER/VID-20250220-WA0006.mp4: 384x640 1 your_class_name, 167.3ms\n",
            "video 1/1 (frame 552/1670) /content/drive/My Drive/YOUR_FOLDER/VID-20250220-WA0006.mp4: 384x640 1 your_class_name, 170.5ms\n",
            "video 1/1 (frame 553/1670) /content/drive/My Drive/YOUR_FOLDER/VID-20250220-WA0006.mp4: 384x640 2 your_class_names, 155.7ms\n",
            "video 1/1 (frame 554/1670) /content/drive/My Drive/YOUR_FOLDER/VID-20250220-WA0006.mp4: 384x640 1 your_class_name, 154.1ms\n",
            "video 1/1 (frame 555/1670) /content/drive/My Drive/YOUR_FOLDER/VID-20250220-WA0006.mp4: 384x640 (no detections), 154.1ms\n",
            "video 1/1 (frame 556/1670) /content/drive/My Drive/YOUR_FOLDER/VID-20250220-WA0006.mp4: 384x640 (no detections), 152.8ms\n",
            "video 1/1 (frame 557/1670) /content/drive/My Drive/YOUR_FOLDER/VID-20250220-WA0006.mp4: 384x640 (no detections), 158.1ms\n",
            "video 1/1 (frame 558/1670) /content/drive/My Drive/YOUR_FOLDER/VID-20250220-WA0006.mp4: 384x640 (no detections), 168.7ms\n",
            "video 1/1 (frame 559/1670) /content/drive/My Drive/YOUR_FOLDER/VID-20250220-WA0006.mp4: 384x640 (no detections), 231.2ms\n",
            "video 1/1 (frame 560/1670) /content/drive/My Drive/YOUR_FOLDER/VID-20250220-WA0006.mp4: 384x640 (no detections), 228.5ms\n",
            "video 1/1 (frame 561/1670) /content/drive/My Drive/YOUR_FOLDER/VID-20250220-WA0006.mp4: 384x640 (no detections), 230.1ms\n",
            "video 1/1 (frame 562/1670) /content/drive/My Drive/YOUR_FOLDER/VID-20250220-WA0006.mp4: 384x640 (no detections), 238.9ms\n",
            "video 1/1 (frame 563/1670) /content/drive/My Drive/YOUR_FOLDER/VID-20250220-WA0006.mp4: 384x640 (no detections), 227.5ms\n",
            "video 1/1 (frame 564/1670) /content/drive/My Drive/YOUR_FOLDER/VID-20250220-WA0006.mp4: 384x640 (no detections), 241.4ms\n",
            "video 1/1 (frame 565/1670) /content/drive/My Drive/YOUR_FOLDER/VID-20250220-WA0006.mp4: 384x640 (no detections), 231.3ms\n",
            "video 1/1 (frame 566/1670) /content/drive/My Drive/YOUR_FOLDER/VID-20250220-WA0006.mp4: 384x640 (no detections), 228.1ms\n",
            "video 1/1 (frame 567/1670) /content/drive/My Drive/YOUR_FOLDER/VID-20250220-WA0006.mp4: 384x640 (no detections), 233.0ms\n",
            "video 1/1 (frame 568/1670) /content/drive/My Drive/YOUR_FOLDER/VID-20250220-WA0006.mp4: 384x640 1 your_class_name, 234.9ms\n",
            "video 1/1 (frame 569/1670) /content/drive/My Drive/YOUR_FOLDER/VID-20250220-WA0006.mp4: 384x640 (no detections), 222.4ms\n",
            "video 1/1 (frame 570/1670) /content/drive/My Drive/YOUR_FOLDER/VID-20250220-WA0006.mp4: 384x640 (no detections), 252.9ms\n",
            "video 1/1 (frame 571/1670) /content/drive/My Drive/YOUR_FOLDER/VID-20250220-WA0006.mp4: 384x640 (no detections), 242.9ms\n",
            "video 1/1 (frame 572/1670) /content/drive/My Drive/YOUR_FOLDER/VID-20250220-WA0006.mp4: 384x640 (no detections), 244.5ms\n",
            "video 1/1 (frame 573/1670) /content/drive/My Drive/YOUR_FOLDER/VID-20250220-WA0006.mp4: 384x640 (no detections), 217.4ms\n",
            "video 1/1 (frame 574/1670) /content/drive/My Drive/YOUR_FOLDER/VID-20250220-WA0006.mp4: 384x640 (no detections), 156.1ms\n",
            "video 1/1 (frame 575/1670) /content/drive/My Drive/YOUR_FOLDER/VID-20250220-WA0006.mp4: 384x640 (no detections), 152.6ms\n",
            "video 1/1 (frame 576/1670) /content/drive/My Drive/YOUR_FOLDER/VID-20250220-WA0006.mp4: 384x640 (no detections), 153.6ms\n",
            "video 1/1 (frame 577/1670) /content/drive/My Drive/YOUR_FOLDER/VID-20250220-WA0006.mp4: 384x640 (no detections), 148.1ms\n",
            "video 1/1 (frame 578/1670) /content/drive/My Drive/YOUR_FOLDER/VID-20250220-WA0006.mp4: 384x640 (no detections), 146.3ms\n",
            "video 1/1 (frame 579/1670) /content/drive/My Drive/YOUR_FOLDER/VID-20250220-WA0006.mp4: 384x640 1 your_class_name, 165.9ms\n",
            "video 1/1 (frame 580/1670) /content/drive/My Drive/YOUR_FOLDER/VID-20250220-WA0006.mp4: 384x640 1 your_class_name, 152.3ms\n",
            "video 1/1 (frame 581/1670) /content/drive/My Drive/YOUR_FOLDER/VID-20250220-WA0006.mp4: 384x640 (no detections), 150.7ms\n",
            "video 1/1 (frame 582/1670) /content/drive/My Drive/YOUR_FOLDER/VID-20250220-WA0006.mp4: 384x640 1 your_class_name, 163.8ms\n",
            "video 1/1 (frame 583/1670) /content/drive/My Drive/YOUR_FOLDER/VID-20250220-WA0006.mp4: 384x640 1 your_class_name, 156.4ms\n",
            "video 1/1 (frame 584/1670) /content/drive/My Drive/YOUR_FOLDER/VID-20250220-WA0006.mp4: 384x640 1 your_class_name, 147.1ms\n",
            "video 1/1 (frame 585/1670) /content/drive/My Drive/YOUR_FOLDER/VID-20250220-WA0006.mp4: 384x640 (no detections), 167.0ms\n",
            "video 1/1 (frame 586/1670) /content/drive/My Drive/YOUR_FOLDER/VID-20250220-WA0006.mp4: 384x640 (no detections), 150.7ms\n",
            "video 1/1 (frame 587/1670) /content/drive/My Drive/YOUR_FOLDER/VID-20250220-WA0006.mp4: 384x640 (no detections), 152.8ms\n",
            "video 1/1 (frame 588/1670) /content/drive/My Drive/YOUR_FOLDER/VID-20250220-WA0006.mp4: 384x640 (no detections), 147.9ms\n",
            "video 1/1 (frame 589/1670) /content/drive/My Drive/YOUR_FOLDER/VID-20250220-WA0006.mp4: 384x640 (no detections), 150.4ms\n",
            "video 1/1 (frame 590/1670) /content/drive/My Drive/YOUR_FOLDER/VID-20250220-WA0006.mp4: 384x640 (no detections), 151.6ms\n",
            "video 1/1 (frame 591/1670) /content/drive/My Drive/YOUR_FOLDER/VID-20250220-WA0006.mp4: 384x640 (no detections), 162.0ms\n",
            "video 1/1 (frame 592/1670) /content/drive/My Drive/YOUR_FOLDER/VID-20250220-WA0006.mp4: 384x640 (no detections), 156.4ms\n",
            "video 1/1 (frame 593/1670) /content/drive/My Drive/YOUR_FOLDER/VID-20250220-WA0006.mp4: 384x640 (no detections), 153.5ms\n",
            "video 1/1 (frame 594/1670) /content/drive/My Drive/YOUR_FOLDER/VID-20250220-WA0006.mp4: 384x640 (no detections), 155.1ms\n",
            "video 1/1 (frame 595/1670) /content/drive/My Drive/YOUR_FOLDER/VID-20250220-WA0006.mp4: 384x640 1 your_class_name, 153.7ms\n",
            "video 1/1 (frame 596/1670) /content/drive/My Drive/YOUR_FOLDER/VID-20250220-WA0006.mp4: 384x640 (no detections), 167.7ms\n",
            "video 1/1 (frame 597/1670) /content/drive/My Drive/YOUR_FOLDER/VID-20250220-WA0006.mp4: 384x640 (no detections), 154.7ms\n",
            "video 1/1 (frame 598/1670) /content/drive/My Drive/YOUR_FOLDER/VID-20250220-WA0006.mp4: 384x640 (no detections), 153.0ms\n",
            "video 1/1 (frame 599/1670) /content/drive/My Drive/YOUR_FOLDER/VID-20250220-WA0006.mp4: 384x640 1 your_class_name, 158.4ms\n",
            "video 1/1 (frame 600/1670) /content/drive/My Drive/YOUR_FOLDER/VID-20250220-WA0006.mp4: 384x640 1 your_class_name, 153.7ms\n",
            "video 1/1 (frame 601/1670) /content/drive/My Drive/YOUR_FOLDER/VID-20250220-WA0006.mp4: 384x640 1 your_class_name, 159.9ms\n",
            "video 1/1 (frame 602/1670) /content/drive/My Drive/YOUR_FOLDER/VID-20250220-WA0006.mp4: 384x640 1 your_class_name, 168.1ms\n",
            "video 1/1 (frame 603/1670) /content/drive/My Drive/YOUR_FOLDER/VID-20250220-WA0006.mp4: 384x640 1 your_class_name, 160.7ms\n",
            "video 1/1 (frame 604/1670) /content/drive/My Drive/YOUR_FOLDER/VID-20250220-WA0006.mp4: 384x640 1 your_class_name, 158.3ms\n",
            "video 1/1 (frame 605/1670) /content/drive/My Drive/YOUR_FOLDER/VID-20250220-WA0006.mp4: 384x640 (no detections), 156.0ms\n",
            "video 1/1 (frame 606/1670) /content/drive/My Drive/YOUR_FOLDER/VID-20250220-WA0006.mp4: 384x640 1 your_class_name, 155.6ms\n",
            "video 1/1 (frame 607/1670) /content/drive/My Drive/YOUR_FOLDER/VID-20250220-WA0006.mp4: 384x640 1 your_class_name, 159.0ms\n",
            "video 1/1 (frame 608/1670) /content/drive/My Drive/YOUR_FOLDER/VID-20250220-WA0006.mp4: 384x640 1 your_class_name, 160.3ms\n",
            "video 1/1 (frame 609/1670) /content/drive/My Drive/YOUR_FOLDER/VID-20250220-WA0006.mp4: 384x640 1 your_class_name, 159.7ms\n",
            "video 1/1 (frame 610/1670) /content/drive/My Drive/YOUR_FOLDER/VID-20250220-WA0006.mp4: 384x640 1 your_class_name, 150.5ms\n",
            "video 1/1 (frame 611/1670) /content/drive/My Drive/YOUR_FOLDER/VID-20250220-WA0006.mp4: 384x640 1 your_class_name, 150.1ms\n",
            "video 1/1 (frame 612/1670) /content/drive/My Drive/YOUR_FOLDER/VID-20250220-WA0006.mp4: 384x640 1 your_class_name, 151.9ms\n",
            "video 1/1 (frame 613/1670) /content/drive/My Drive/YOUR_FOLDER/VID-20250220-WA0006.mp4: 384x640 1 your_class_name, 164.7ms\n",
            "video 1/1 (frame 614/1670) /content/drive/My Drive/YOUR_FOLDER/VID-20250220-WA0006.mp4: 384x640 1 your_class_name, 145.2ms\n",
            "video 1/1 (frame 615/1670) /content/drive/My Drive/YOUR_FOLDER/VID-20250220-WA0006.mp4: 384x640 1 your_class_name, 154.4ms\n",
            "video 1/1 (frame 616/1670) /content/drive/My Drive/YOUR_FOLDER/VID-20250220-WA0006.mp4: 384x640 1 your_class_name, 160.0ms\n",
            "video 1/1 (frame 617/1670) /content/drive/My Drive/YOUR_FOLDER/VID-20250220-WA0006.mp4: 384x640 1 your_class_name, 155.6ms\n",
            "video 1/1 (frame 618/1670) /content/drive/My Drive/YOUR_FOLDER/VID-20250220-WA0006.mp4: 384x640 1 your_class_name, 158.7ms\n",
            "video 1/1 (frame 619/1670) /content/drive/My Drive/YOUR_FOLDER/VID-20250220-WA0006.mp4: 384x640 1 your_class_name, 169.2ms\n",
            "video 1/1 (frame 620/1670) /content/drive/My Drive/YOUR_FOLDER/VID-20250220-WA0006.mp4: 384x640 1 your_class_name, 166.2ms\n",
            "video 1/1 (frame 621/1670) /content/drive/My Drive/YOUR_FOLDER/VID-20250220-WA0006.mp4: 384x640 1 your_class_name, 153.7ms\n",
            "video 1/1 (frame 622/1670) /content/drive/My Drive/YOUR_FOLDER/VID-20250220-WA0006.mp4: 384x640 1 your_class_name, 153.4ms\n",
            "video 1/1 (frame 623/1670) /content/drive/My Drive/YOUR_FOLDER/VID-20250220-WA0006.mp4: 384x640 1 your_class_name, 149.6ms\n",
            "video 1/1 (frame 624/1670) /content/drive/My Drive/YOUR_FOLDER/VID-20250220-WA0006.mp4: 384x640 1 your_class_name, 165.5ms\n",
            "video 1/1 (frame 625/1670) /content/drive/My Drive/YOUR_FOLDER/VID-20250220-WA0006.mp4: 384x640 1 your_class_name, 155.7ms\n",
            "video 1/1 (frame 626/1670) /content/drive/My Drive/YOUR_FOLDER/VID-20250220-WA0006.mp4: 384x640 1 your_class_name, 152.6ms\n",
            "video 1/1 (frame 627/1670) /content/drive/My Drive/YOUR_FOLDER/VID-20250220-WA0006.mp4: 384x640 1 your_class_name, 155.3ms\n",
            "video 1/1 (frame 628/1670) /content/drive/My Drive/YOUR_FOLDER/VID-20250220-WA0006.mp4: 384x640 (no detections), 241.3ms\n",
            "video 1/1 (frame 629/1670) /content/drive/My Drive/YOUR_FOLDER/VID-20250220-WA0006.mp4: 384x640 (no detections), 244.7ms\n",
            "video 1/1 (frame 630/1670) /content/drive/My Drive/YOUR_FOLDER/VID-20250220-WA0006.mp4: 384x640 (no detections), 233.1ms\n",
            "video 1/1 (frame 631/1670) /content/drive/My Drive/YOUR_FOLDER/VID-20250220-WA0006.mp4: 384x640 (no detections), 226.0ms\n",
            "video 1/1 (frame 632/1670) /content/drive/My Drive/YOUR_FOLDER/VID-20250220-WA0006.mp4: 384x640 (no detections), 222.2ms\n",
            "video 1/1 (frame 633/1670) /content/drive/My Drive/YOUR_FOLDER/VID-20250220-WA0006.mp4: 384x640 (no detections), 245.4ms\n",
            "video 1/1 (frame 634/1670) /content/drive/My Drive/YOUR_FOLDER/VID-20250220-WA0006.mp4: 384x640 (no detections), 236.7ms\n",
            "video 1/1 (frame 635/1670) /content/drive/My Drive/YOUR_FOLDER/VID-20250220-WA0006.mp4: 384x640 (no detections), 231.9ms\n",
            "video 1/1 (frame 636/1670) /content/drive/My Drive/YOUR_FOLDER/VID-20250220-WA0006.mp4: 384x640 (no detections), 228.6ms\n",
            "video 1/1 (frame 637/1670) /content/drive/My Drive/YOUR_FOLDER/VID-20250220-WA0006.mp4: 384x640 (no detections), 243.4ms\n",
            "video 1/1 (frame 638/1670) /content/drive/My Drive/YOUR_FOLDER/VID-20250220-WA0006.mp4: 384x640 (no detections), 228.3ms\n",
            "video 1/1 (frame 639/1670) /content/drive/My Drive/YOUR_FOLDER/VID-20250220-WA0006.mp4: 384x640 (no detections), 230.7ms\n",
            "video 1/1 (frame 640/1670) /content/drive/My Drive/YOUR_FOLDER/VID-20250220-WA0006.mp4: 384x640 (no detections), 240.7ms\n",
            "video 1/1 (frame 641/1670) /content/drive/My Drive/YOUR_FOLDER/VID-20250220-WA0006.mp4: 384x640 (no detections), 262.6ms\n",
            "video 1/1 (frame 642/1670) /content/drive/My Drive/YOUR_FOLDER/VID-20250220-WA0006.mp4: 384x640 (no detections), 234.1ms\n",
            "video 1/1 (frame 643/1670) /content/drive/My Drive/YOUR_FOLDER/VID-20250220-WA0006.mp4: 384x640 (no detections), 157.8ms\n",
            "video 1/1 (frame 644/1670) /content/drive/My Drive/YOUR_FOLDER/VID-20250220-WA0006.mp4: 384x640 (no detections), 157.6ms\n",
            "video 1/1 (frame 645/1670) /content/drive/My Drive/YOUR_FOLDER/VID-20250220-WA0006.mp4: 384x640 (no detections), 163.2ms\n",
            "video 1/1 (frame 646/1670) /content/drive/My Drive/YOUR_FOLDER/VID-20250220-WA0006.mp4: 384x640 (no detections), 167.6ms\n",
            "video 1/1 (frame 647/1670) /content/drive/My Drive/YOUR_FOLDER/VID-20250220-WA0006.mp4: 384x640 (no detections), 153.0ms\n",
            "video 1/1 (frame 648/1670) /content/drive/My Drive/YOUR_FOLDER/VID-20250220-WA0006.mp4: 384x640 (no detections), 148.6ms\n",
            "video 1/1 (frame 649/1670) /content/drive/My Drive/YOUR_FOLDER/VID-20250220-WA0006.mp4: 384x640 (no detections), 154.2ms\n",
            "video 1/1 (frame 650/1670) /content/drive/My Drive/YOUR_FOLDER/VID-20250220-WA0006.mp4: 384x640 (no detections), 153.5ms\n",
            "video 1/1 (frame 651/1670) /content/drive/My Drive/YOUR_FOLDER/VID-20250220-WA0006.mp4: 384x640 (no detections), 167.3ms\n",
            "video 1/1 (frame 652/1670) /content/drive/My Drive/YOUR_FOLDER/VID-20250220-WA0006.mp4: 384x640 (no detections), 150.5ms\n",
            "video 1/1 (frame 653/1670) /content/drive/My Drive/YOUR_FOLDER/VID-20250220-WA0006.mp4: 384x640 (no detections), 145.7ms\n",
            "video 1/1 (frame 654/1670) /content/drive/My Drive/YOUR_FOLDER/VID-20250220-WA0006.mp4: 384x640 (no detections), 146.7ms\n",
            "video 1/1 (frame 655/1670) /content/drive/My Drive/YOUR_FOLDER/VID-20250220-WA0006.mp4: 384x640 (no detections), 148.9ms\n",
            "video 1/1 (frame 656/1670) /content/drive/My Drive/YOUR_FOLDER/VID-20250220-WA0006.mp4: 384x640 1 your_class_name, 156.5ms\n",
            "video 1/1 (frame 657/1670) /content/drive/My Drive/YOUR_FOLDER/VID-20250220-WA0006.mp4: 384x640 (no detections), 167.4ms\n",
            "video 1/1 (frame 658/1670) /content/drive/My Drive/YOUR_FOLDER/VID-20250220-WA0006.mp4: 384x640 (no detections), 157.7ms\n",
            "video 1/1 (frame 659/1670) /content/drive/My Drive/YOUR_FOLDER/VID-20250220-WA0006.mp4: 384x640 (no detections), 156.9ms\n",
            "video 1/1 (frame 660/1670) /content/drive/My Drive/YOUR_FOLDER/VID-20250220-WA0006.mp4: 384x640 (no detections), 154.8ms\n",
            "video 1/1 (frame 661/1670) /content/drive/My Drive/YOUR_FOLDER/VID-20250220-WA0006.mp4: 384x640 (no detections), 152.4ms\n",
            "video 1/1 (frame 662/1670) /content/drive/My Drive/YOUR_FOLDER/VID-20250220-WA0006.mp4: 384x640 (no detections), 156.8ms\n",
            "video 1/1 (frame 663/1670) /content/drive/My Drive/YOUR_FOLDER/VID-20250220-WA0006.mp4: 384x640 (no detections), 166.7ms\n",
            "video 1/1 (frame 664/1670) /content/drive/My Drive/YOUR_FOLDER/VID-20250220-WA0006.mp4: 384x640 (no detections), 151.8ms\n",
            "video 1/1 (frame 665/1670) /content/drive/My Drive/YOUR_FOLDER/VID-20250220-WA0006.mp4: 384x640 (no detections), 156.2ms\n",
            "video 1/1 (frame 666/1670) /content/drive/My Drive/YOUR_FOLDER/VID-20250220-WA0006.mp4: 384x640 (no detections), 156.9ms\n",
            "video 1/1 (frame 667/1670) /content/drive/My Drive/YOUR_FOLDER/VID-20250220-WA0006.mp4: 384x640 (no detections), 163.0ms\n",
            "video 1/1 (frame 668/1670) /content/drive/My Drive/YOUR_FOLDER/VID-20250220-WA0006.mp4: 384x640 (no detections), 172.8ms\n",
            "video 1/1 (frame 669/1670) /content/drive/My Drive/YOUR_FOLDER/VID-20250220-WA0006.mp4: 384x640 (no detections), 153.6ms\n",
            "video 1/1 (frame 670/1670) /content/drive/My Drive/YOUR_FOLDER/VID-20250220-WA0006.mp4: 384x640 (no detections), 153.4ms\n",
            "video 1/1 (frame 671/1670) /content/drive/My Drive/YOUR_FOLDER/VID-20250220-WA0006.mp4: 384x640 (no detections), 149.9ms\n",
            "video 1/1 (frame 672/1670) /content/drive/My Drive/YOUR_FOLDER/VID-20250220-WA0006.mp4: 384x640 (no detections), 151.9ms\n",
            "video 1/1 (frame 673/1670) /content/drive/My Drive/YOUR_FOLDER/VID-20250220-WA0006.mp4: 384x640 (no detections), 153.1ms\n",
            "video 1/1 (frame 674/1670) /content/drive/My Drive/YOUR_FOLDER/VID-20250220-WA0006.mp4: 384x640 (no detections), 160.2ms\n",
            "video 1/1 (frame 675/1670) /content/drive/My Drive/YOUR_FOLDER/VID-20250220-WA0006.mp4: 384x640 1 your_class_name, 154.4ms\n",
            "video 1/1 (frame 676/1670) /content/drive/My Drive/YOUR_FOLDER/VID-20250220-WA0006.mp4: 384x640 1 your_class_name, 150.3ms\n",
            "video 1/1 (frame 677/1670) /content/drive/My Drive/YOUR_FOLDER/VID-20250220-WA0006.mp4: 384x640 1 your_class_name, 152.2ms\n",
            "video 1/1 (frame 678/1670) /content/drive/My Drive/YOUR_FOLDER/VID-20250220-WA0006.mp4: 384x640 (no detections), 164.7ms\n",
            "video 1/1 (frame 679/1670) /content/drive/My Drive/YOUR_FOLDER/VID-20250220-WA0006.mp4: 384x640 (no detections), 151.7ms\n",
            "video 1/1 (frame 680/1670) /content/drive/My Drive/YOUR_FOLDER/VID-20250220-WA0006.mp4: 384x640 (no detections), 189.6ms\n",
            "video 1/1 (frame 681/1670) /content/drive/My Drive/YOUR_FOLDER/VID-20250220-WA0006.mp4: 384x640 (no detections), 150.7ms\n",
            "video 1/1 (frame 682/1670) /content/drive/My Drive/YOUR_FOLDER/VID-20250220-WA0006.mp4: 384x640 (no detections), 155.6ms\n",
            "video 1/1 (frame 683/1670) /content/drive/My Drive/YOUR_FOLDER/VID-20250220-WA0006.mp4: 384x640 (no detections), 151.5ms\n",
            "video 1/1 (frame 684/1670) /content/drive/My Drive/YOUR_FOLDER/VID-20250220-WA0006.mp4: 384x640 (no detections), 146.6ms\n",
            "video 1/1 (frame 685/1670) /content/drive/My Drive/YOUR_FOLDER/VID-20250220-WA0006.mp4: 384x640 (no detections), 166.1ms\n",
            "video 1/1 (frame 686/1670) /content/drive/My Drive/YOUR_FOLDER/VID-20250220-WA0006.mp4: 384x640 (no detections), 152.4ms\n",
            "video 1/1 (frame 687/1670) /content/drive/My Drive/YOUR_FOLDER/VID-20250220-WA0006.mp4: 384x640 (no detections), 156.9ms\n",
            "video 1/1 (frame 688/1670) /content/drive/My Drive/YOUR_FOLDER/VID-20250220-WA0006.mp4: 384x640 (no detections), 157.3ms\n",
            "video 1/1 (frame 689/1670) /content/drive/My Drive/YOUR_FOLDER/VID-20250220-WA0006.mp4: 384x640 1 your_class_name, 161.7ms\n",
            "video 1/1 (frame 690/1670) /content/drive/My Drive/YOUR_FOLDER/VID-20250220-WA0006.mp4: 384x640 (no detections), 152.6ms\n",
            "video 1/1 (frame 691/1670) /content/drive/My Drive/YOUR_FOLDER/VID-20250220-WA0006.mp4: 384x640 1 your_class_name, 166.2ms\n",
            "video 1/1 (frame 692/1670) /content/drive/My Drive/YOUR_FOLDER/VID-20250220-WA0006.mp4: 384x640 (no detections), 154.8ms\n",
            "video 1/1 (frame 693/1670) /content/drive/My Drive/YOUR_FOLDER/VID-20250220-WA0006.mp4: 384x640 1 your_class_name, 156.3ms\n",
            "video 1/1 (frame 694/1670) /content/drive/My Drive/YOUR_FOLDER/VID-20250220-WA0006.mp4: 384x640 1 your_class_name, 156.6ms\n",
            "video 1/1 (frame 695/1670) /content/drive/My Drive/YOUR_FOLDER/VID-20250220-WA0006.mp4: 384x640 1 your_class_name, 151.2ms\n",
            "video 1/1 (frame 696/1670) /content/drive/My Drive/YOUR_FOLDER/VID-20250220-WA0006.mp4: 384x640 (no detections), 164.8ms\n",
            "video 1/1 (frame 697/1670) /content/drive/My Drive/YOUR_FOLDER/VID-20250220-WA0006.mp4: 384x640 (no detections), 190.1ms\n",
            "video 1/1 (frame 698/1670) /content/drive/My Drive/YOUR_FOLDER/VID-20250220-WA0006.mp4: 384x640 (no detections), 240.4ms\n",
            "video 1/1 (frame 699/1670) /content/drive/My Drive/YOUR_FOLDER/VID-20250220-WA0006.mp4: 384x640 (no detections), 250.7ms\n",
            "video 1/1 (frame 700/1670) /content/drive/My Drive/YOUR_FOLDER/VID-20250220-WA0006.mp4: 384x640 (no detections), 248.4ms\n",
            "video 1/1 (frame 701/1670) /content/drive/My Drive/YOUR_FOLDER/VID-20250220-WA0006.mp4: 384x640 (no detections), 223.6ms\n",
            "video 1/1 (frame 702/1670) /content/drive/My Drive/YOUR_FOLDER/VID-20250220-WA0006.mp4: 384x640 (no detections), 237.3ms\n",
            "video 1/1 (frame 703/1670) /content/drive/My Drive/YOUR_FOLDER/VID-20250220-WA0006.mp4: 384x640 (no detections), 238.4ms\n",
            "video 1/1 (frame 704/1670) /content/drive/My Drive/YOUR_FOLDER/VID-20250220-WA0006.mp4: 384x640 1 your_class_name, 234.9ms\n",
            "video 1/1 (frame 705/1670) /content/drive/My Drive/YOUR_FOLDER/VID-20250220-WA0006.mp4: 384x640 (no detections), 227.1ms\n",
            "video 1/1 (frame 706/1670) /content/drive/My Drive/YOUR_FOLDER/VID-20250220-WA0006.mp4: 384x640 1 your_class_name, 243.5ms\n",
            "video 1/1 (frame 707/1670) /content/drive/My Drive/YOUR_FOLDER/VID-20250220-WA0006.mp4: 384x640 1 your_class_name, 226.3ms\n",
            "video 1/1 (frame 708/1670) /content/drive/My Drive/YOUR_FOLDER/VID-20250220-WA0006.mp4: 384x640 1 your_class_name, 232.2ms\n",
            "video 1/1 (frame 709/1670) /content/drive/My Drive/YOUR_FOLDER/VID-20250220-WA0006.mp4: 384x640 1 your_class_name, 240.9ms\n",
            "video 1/1 (frame 710/1670) /content/drive/My Drive/YOUR_FOLDER/VID-20250220-WA0006.mp4: 384x640 1 your_class_name, 239.1ms\n",
            "video 1/1 (frame 711/1670) /content/drive/My Drive/YOUR_FOLDER/VID-20250220-WA0006.mp4: 384x640 1 your_class_name, 236.1ms\n",
            "video 1/1 (frame 712/1670) /content/drive/My Drive/YOUR_FOLDER/VID-20250220-WA0006.mp4: 384x640 1 your_class_name, 186.8ms\n",
            "video 1/1 (frame 713/1670) /content/drive/My Drive/YOUR_FOLDER/VID-20250220-WA0006.mp4: 384x640 1 your_class_name, 158.6ms\n",
            "video 1/1 (frame 714/1670) /content/drive/My Drive/YOUR_FOLDER/VID-20250220-WA0006.mp4: 384x640 2 your_class_names, 158.1ms\n",
            "video 1/1 (frame 715/1670) /content/drive/My Drive/YOUR_FOLDER/VID-20250220-WA0006.mp4: 384x640 2 your_class_names, 154.9ms\n",
            "video 1/1 (frame 716/1670) /content/drive/My Drive/YOUR_FOLDER/VID-20250220-WA0006.mp4: 384x640 1 your_class_name, 158.0ms\n",
            "video 1/1 (frame 717/1670) /content/drive/My Drive/YOUR_FOLDER/VID-20250220-WA0006.mp4: 384x640 2 your_class_names, 153.7ms\n",
            "video 1/1 (frame 718/1670) /content/drive/My Drive/YOUR_FOLDER/VID-20250220-WA0006.mp4: 384x640 2 your_class_names, 169.5ms\n",
            "video 1/1 (frame 719/1670) /content/drive/My Drive/YOUR_FOLDER/VID-20250220-WA0006.mp4: 384x640 2 your_class_names, 158.9ms\n",
            "video 1/1 (frame 720/1670) /content/drive/My Drive/YOUR_FOLDER/VID-20250220-WA0006.mp4: 384x640 2 your_class_names, 160.7ms\n",
            "video 1/1 (frame 721/1670) /content/drive/My Drive/YOUR_FOLDER/VID-20250220-WA0006.mp4: 384x640 1 your_class_name, 156.7ms\n",
            "video 1/1 (frame 722/1670) /content/drive/My Drive/YOUR_FOLDER/VID-20250220-WA0006.mp4: 384x640 1 your_class_name, 152.8ms\n",
            "video 1/1 (frame 723/1670) /content/drive/My Drive/YOUR_FOLDER/VID-20250220-WA0006.mp4: 384x640 1 your_class_name, 165.2ms\n",
            "video 1/1 (frame 724/1670) /content/drive/My Drive/YOUR_FOLDER/VID-20250220-WA0006.mp4: 384x640 1 your_class_name, 151.2ms\n",
            "video 1/1 (frame 725/1670) /content/drive/My Drive/YOUR_FOLDER/VID-20250220-WA0006.mp4: 384x640 (no detections), 152.9ms\n",
            "video 1/1 (frame 726/1670) /content/drive/My Drive/YOUR_FOLDER/VID-20250220-WA0006.mp4: 384x640 (no detections), 154.6ms\n",
            "video 1/1 (frame 727/1670) /content/drive/My Drive/YOUR_FOLDER/VID-20250220-WA0006.mp4: 384x640 (no detections), 146.7ms\n",
            "video 1/1 (frame 728/1670) /content/drive/My Drive/YOUR_FOLDER/VID-20250220-WA0006.mp4: 384x640 1 your_class_name, 151.3ms\n",
            "video 1/1 (frame 729/1670) /content/drive/My Drive/YOUR_FOLDER/VID-20250220-WA0006.mp4: 384x640 1 your_class_name, 169.5ms\n",
            "video 1/1 (frame 730/1670) /content/drive/My Drive/YOUR_FOLDER/VID-20250220-WA0006.mp4: 384x640 1 your_class_name, 156.8ms\n",
            "video 1/1 (frame 731/1670) /content/drive/My Drive/YOUR_FOLDER/VID-20250220-WA0006.mp4: 384x640 1 your_class_name, 160.5ms\n",
            "video 1/1 (frame 732/1670) /content/drive/My Drive/YOUR_FOLDER/VID-20250220-WA0006.mp4: 384x640 (no detections), 155.8ms\n",
            "video 1/1 (frame 733/1670) /content/drive/My Drive/YOUR_FOLDER/VID-20250220-WA0006.mp4: 384x640 1 your_class_name, 155.2ms\n",
            "video 1/1 (frame 734/1670) /content/drive/My Drive/YOUR_FOLDER/VID-20250220-WA0006.mp4: 384x640 (no detections), 155.2ms\n",
            "video 1/1 (frame 735/1670) /content/drive/My Drive/YOUR_FOLDER/VID-20250220-WA0006.mp4: 384x640 (no detections), 164.9ms\n",
            "video 1/1 (frame 736/1670) /content/drive/My Drive/YOUR_FOLDER/VID-20250220-WA0006.mp4: 384x640 (no detections), 163.7ms\n",
            "video 1/1 (frame 737/1670) /content/drive/My Drive/YOUR_FOLDER/VID-20250220-WA0006.mp4: 384x640 (no detections), 157.6ms\n",
            "video 1/1 (frame 738/1670) /content/drive/My Drive/YOUR_FOLDER/VID-20250220-WA0006.mp4: 384x640 (no detections), 159.4ms\n",
            "video 1/1 (frame 739/1670) /content/drive/My Drive/YOUR_FOLDER/VID-20250220-WA0006.mp4: 384x640 (no detections), 156.6ms\n",
            "video 1/1 (frame 740/1670) /content/drive/My Drive/YOUR_FOLDER/VID-20250220-WA0006.mp4: 384x640 (no detections), 167.2ms\n",
            "video 1/1 (frame 741/1670) /content/drive/My Drive/YOUR_FOLDER/VID-20250220-WA0006.mp4: 384x640 (no detections), 159.8ms\n",
            "video 1/1 (frame 742/1670) /content/drive/My Drive/YOUR_FOLDER/VID-20250220-WA0006.mp4: 384x640 1 your_class_name, 152.2ms\n",
            "video 1/1 (frame 743/1670) /content/drive/My Drive/YOUR_FOLDER/VID-20250220-WA0006.mp4: 384x640 1 your_class_name, 151.5ms\n",
            "video 1/1 (frame 744/1670) /content/drive/My Drive/YOUR_FOLDER/VID-20250220-WA0006.mp4: 384x640 1 your_class_name, 150.1ms\n",
            "video 1/1 (frame 745/1670) /content/drive/My Drive/YOUR_FOLDER/VID-20250220-WA0006.mp4: 384x640 1 your_class_name, 154.5ms\n",
            "video 1/1 (frame 746/1670) /content/drive/My Drive/YOUR_FOLDER/VID-20250220-WA0006.mp4: 384x640 2 your_class_names, 167.2ms\n",
            "video 1/1 (frame 747/1670) /content/drive/My Drive/YOUR_FOLDER/VID-20250220-WA0006.mp4: 384x640 1 your_class_name, 157.3ms\n",
            "video 1/1 (frame 748/1670) /content/drive/My Drive/YOUR_FOLDER/VID-20250220-WA0006.mp4: 384x640 1 your_class_name, 159.3ms\n",
            "video 1/1 (frame 749/1670) /content/drive/My Drive/YOUR_FOLDER/VID-20250220-WA0006.mp4: 384x640 2 your_class_names, 157.2ms\n",
            "video 1/1 (frame 750/1670) /content/drive/My Drive/YOUR_FOLDER/VID-20250220-WA0006.mp4: 384x640 2 your_class_names, 149.3ms\n",
            "video 1/1 (frame 751/1670) /content/drive/My Drive/YOUR_FOLDER/VID-20250220-WA0006.mp4: 384x640 1 your_class_name, 157.9ms\n",
            "video 1/1 (frame 752/1670) /content/drive/My Drive/YOUR_FOLDER/VID-20250220-WA0006.mp4: 384x640 3 your_class_names, 159.3ms\n",
            "video 1/1 (frame 753/1670) /content/drive/My Drive/YOUR_FOLDER/VID-20250220-WA0006.mp4: 384x640 2 your_class_names, 147.6ms\n",
            "video 1/1 (frame 754/1670) /content/drive/My Drive/YOUR_FOLDER/VID-20250220-WA0006.mp4: 384x640 3 your_class_names, 150.2ms\n",
            "video 1/1 (frame 755/1670) /content/drive/My Drive/YOUR_FOLDER/VID-20250220-WA0006.mp4: 384x640 2 your_class_names, 148.7ms\n",
            "video 1/1 (frame 756/1670) /content/drive/My Drive/YOUR_FOLDER/VID-20250220-WA0006.mp4: 384x640 1 your_class_name, 148.7ms\n",
            "video 1/1 (frame 757/1670) /content/drive/My Drive/YOUR_FOLDER/VID-20250220-WA0006.mp4: 384x640 1 your_class_name, 163.1ms\n",
            "video 1/1 (frame 758/1670) /content/drive/My Drive/YOUR_FOLDER/VID-20250220-WA0006.mp4: 384x640 1 your_class_name, 158.5ms\n",
            "video 1/1 (frame 759/1670) /content/drive/My Drive/YOUR_FOLDER/VID-20250220-WA0006.mp4: 384x640 1 your_class_name, 155.5ms\n",
            "video 1/1 (frame 760/1670) /content/drive/My Drive/YOUR_FOLDER/VID-20250220-WA0006.mp4: 384x640 1 your_class_name, 153.3ms\n",
            "video 1/1 (frame 761/1670) /content/drive/My Drive/YOUR_FOLDER/VID-20250220-WA0006.mp4: 384x640 (no detections), 149.8ms\n",
            "video 1/1 (frame 762/1670) /content/drive/My Drive/YOUR_FOLDER/VID-20250220-WA0006.mp4: 384x640 (no detections), 152.7ms\n",
            "video 1/1 (frame 763/1670) /content/drive/My Drive/YOUR_FOLDER/VID-20250220-WA0006.mp4: 384x640 (no detections), 165.9ms\n",
            "video 1/1 (frame 764/1670) /content/drive/My Drive/YOUR_FOLDER/VID-20250220-WA0006.mp4: 384x640 (no detections), 151.5ms\n",
            "video 1/1 (frame 765/1670) /content/drive/My Drive/YOUR_FOLDER/VID-20250220-WA0006.mp4: 384x640 (no detections), 151.5ms\n",
            "video 1/1 (frame 766/1670) /content/drive/My Drive/YOUR_FOLDER/VID-20250220-WA0006.mp4: 384x640 (no detections), 180.8ms\n",
            "video 1/1 (frame 767/1670) /content/drive/My Drive/YOUR_FOLDER/VID-20250220-WA0006.mp4: 384x640 (no detections), 237.1ms\n",
            "video 1/1 (frame 768/1670) /content/drive/My Drive/YOUR_FOLDER/VID-20250220-WA0006.mp4: 384x640 (no detections), 261.3ms\n",
            "video 1/1 (frame 769/1670) /content/drive/My Drive/YOUR_FOLDER/VID-20250220-WA0006.mp4: 384x640 (no detections), 235.5ms\n",
            "video 1/1 (frame 770/1670) /content/drive/My Drive/YOUR_FOLDER/VID-20250220-WA0006.mp4: 384x640 (no detections), 226.5ms\n",
            "video 1/1 (frame 771/1670) /content/drive/My Drive/YOUR_FOLDER/VID-20250220-WA0006.mp4: 384x640 (no detections), 228.0ms\n",
            "video 1/1 (frame 772/1670) /content/drive/My Drive/YOUR_FOLDER/VID-20250220-WA0006.mp4: 384x640 (no detections), 257.5ms\n",
            "video 1/1 (frame 773/1670) /content/drive/My Drive/YOUR_FOLDER/VID-20250220-WA0006.mp4: 384x640 (no detections), 236.6ms\n",
            "video 1/1 (frame 774/1670) /content/drive/My Drive/YOUR_FOLDER/VID-20250220-WA0006.mp4: 384x640 (no detections), 227.2ms\n",
            "video 1/1 (frame 775/1670) /content/drive/My Drive/YOUR_FOLDER/VID-20250220-WA0006.mp4: 384x640 (no detections), 243.6ms\n",
            "video 1/1 (frame 776/1670) /content/drive/My Drive/YOUR_FOLDER/VID-20250220-WA0006.mp4: 384x640 (no detections), 229.4ms\n",
            "video 1/1 (frame 777/1670) /content/drive/My Drive/YOUR_FOLDER/VID-20250220-WA0006.mp4: 384x640 (no detections), 225.1ms\n",
            "video 1/1 (frame 778/1670) /content/drive/My Drive/YOUR_FOLDER/VID-20250220-WA0006.mp4: 384x640 (no detections), 242.3ms\n",
            "video 1/1 (frame 779/1670) /content/drive/My Drive/YOUR_FOLDER/VID-20250220-WA0006.mp4: 384x640 (no detections), 263.1ms\n",
            "video 1/1 (frame 780/1670) /content/drive/My Drive/YOUR_FOLDER/VID-20250220-WA0006.mp4: 384x640 (no detections), 242.5ms\n",
            "video 1/1 (frame 781/1670) /content/drive/My Drive/YOUR_FOLDER/VID-20250220-WA0006.mp4: 384x640 (no detections), 196.0ms\n",
            "video 1/1 (frame 782/1670) /content/drive/My Drive/YOUR_FOLDER/VID-20250220-WA0006.mp4: 384x640 (no detections), 153.5ms\n",
            "video 1/1 (frame 783/1670) /content/drive/My Drive/YOUR_FOLDER/VID-20250220-WA0006.mp4: 384x640 (no detections), 158.2ms\n",
            "video 1/1 (frame 784/1670) /content/drive/My Drive/YOUR_FOLDER/VID-20250220-WA0006.mp4: 384x640 (no detections), 176.0ms\n",
            "video 1/1 (frame 785/1670) /content/drive/My Drive/YOUR_FOLDER/VID-20250220-WA0006.mp4: 384x640 (no detections), 157.8ms\n",
            "video 1/1 (frame 786/1670) /content/drive/My Drive/YOUR_FOLDER/VID-20250220-WA0006.mp4: 384x640 (no detections), 154.9ms\n",
            "video 1/1 (frame 787/1670) /content/drive/My Drive/YOUR_FOLDER/VID-20250220-WA0006.mp4: 384x640 (no detections), 152.5ms\n",
            "video 1/1 (frame 788/1670) /content/drive/My Drive/YOUR_FOLDER/VID-20250220-WA0006.mp4: 384x640 (no detections), 154.5ms\n",
            "video 1/1 (frame 789/1670) /content/drive/My Drive/YOUR_FOLDER/VID-20250220-WA0006.mp4: 384x640 1 your_class_name, 160.7ms\n",
            "video 1/1 (frame 790/1670) /content/drive/My Drive/YOUR_FOLDER/VID-20250220-WA0006.mp4: 384x640 1 your_class_name, 161.6ms\n",
            "video 1/1 (frame 791/1670) /content/drive/My Drive/YOUR_FOLDER/VID-20250220-WA0006.mp4: 384x640 1 your_class_name, 154.5ms\n",
            "video 1/1 (frame 792/1670) /content/drive/My Drive/YOUR_FOLDER/VID-20250220-WA0006.mp4: 384x640 1 your_class_name, 148.2ms\n",
            "video 1/1 (frame 793/1670) /content/drive/My Drive/YOUR_FOLDER/VID-20250220-WA0006.mp4: 384x640 1 your_class_name, 151.7ms\n",
            "video 1/1 (frame 794/1670) /content/drive/My Drive/YOUR_FOLDER/VID-20250220-WA0006.mp4: 384x640 1 your_class_name, 165.9ms\n",
            "video 1/1 (frame 795/1670) /content/drive/My Drive/YOUR_FOLDER/VID-20250220-WA0006.mp4: 384x640 1 your_class_name, 167.9ms\n",
            "video 1/1 (frame 796/1670) /content/drive/My Drive/YOUR_FOLDER/VID-20250220-WA0006.mp4: 384x640 1 your_class_name, 151.6ms\n",
            "video 1/1 (frame 797/1670) /content/drive/My Drive/YOUR_FOLDER/VID-20250220-WA0006.mp4: 384x640 1 your_class_name, 147.9ms\n",
            "video 1/1 (frame 798/1670) /content/drive/My Drive/YOUR_FOLDER/VID-20250220-WA0006.mp4: 384x640 1 your_class_name, 150.6ms\n",
            "video 1/1 (frame 799/1670) /content/drive/My Drive/YOUR_FOLDER/VID-20250220-WA0006.mp4: 384x640 1 your_class_name, 156.7ms\n",
            "video 1/1 (frame 800/1670) /content/drive/My Drive/YOUR_FOLDER/VID-20250220-WA0006.mp4: 384x640 1 your_class_name, 150.8ms\n",
            "video 1/1 (frame 801/1670) /content/drive/My Drive/YOUR_FOLDER/VID-20250220-WA0006.mp4: 384x640 1 your_class_name, 167.8ms\n",
            "video 1/1 (frame 802/1670) /content/drive/My Drive/YOUR_FOLDER/VID-20250220-WA0006.mp4: 384x640 1 your_class_name, 149.7ms\n",
            "video 1/1 (frame 803/1670) /content/drive/My Drive/YOUR_FOLDER/VID-20250220-WA0006.mp4: 384x640 1 your_class_name, 157.9ms\n",
            "video 1/1 (frame 804/1670) /content/drive/My Drive/YOUR_FOLDER/VID-20250220-WA0006.mp4: 384x640 1 your_class_name, 152.5ms\n",
            "video 1/1 (frame 805/1670) /content/drive/My Drive/YOUR_FOLDER/VID-20250220-WA0006.mp4: 384x640 1 your_class_name, 154.6ms\n",
            "video 1/1 (frame 806/1670) /content/drive/My Drive/YOUR_FOLDER/VID-20250220-WA0006.mp4: 384x640 1 your_class_name, 153.8ms\n",
            "video 1/1 (frame 807/1670) /content/drive/My Drive/YOUR_FOLDER/VID-20250220-WA0006.mp4: 384x640 1 your_class_name, 170.7ms\n",
            "video 1/1 (frame 808/1670) /content/drive/My Drive/YOUR_FOLDER/VID-20250220-WA0006.mp4: 384x640 1 your_class_name, 152.3ms\n",
            "video 1/1 (frame 809/1670) /content/drive/My Drive/YOUR_FOLDER/VID-20250220-WA0006.mp4: 384x640 1 your_class_name, 154.3ms\n",
            "video 1/1 (frame 810/1670) /content/drive/My Drive/YOUR_FOLDER/VID-20250220-WA0006.mp4: 384x640 1 your_class_name, 159.1ms\n",
            "video 1/1 (frame 811/1670) /content/drive/My Drive/YOUR_FOLDER/VID-20250220-WA0006.mp4: 384x640 1 your_class_name, 154.9ms\n",
            "video 1/1 (frame 812/1670) /content/drive/My Drive/YOUR_FOLDER/VID-20250220-WA0006.mp4: 384x640 1 your_class_name, 167.8ms\n",
            "video 1/1 (frame 813/1670) /content/drive/My Drive/YOUR_FOLDER/VID-20250220-WA0006.mp4: 384x640 1 your_class_name, 156.3ms\n",
            "video 1/1 (frame 814/1670) /content/drive/My Drive/YOUR_FOLDER/VID-20250220-WA0006.mp4: 384x640 1 your_class_name, 156.3ms\n",
            "video 1/1 (frame 815/1670) /content/drive/My Drive/YOUR_FOLDER/VID-20250220-WA0006.mp4: 384x640 1 your_class_name, 165.0ms\n",
            "video 1/1 (frame 816/1670) /content/drive/My Drive/YOUR_FOLDER/VID-20250220-WA0006.mp4: 384x640 1 your_class_name, 155.2ms\n",
            "video 1/1 (frame 817/1670) /content/drive/My Drive/YOUR_FOLDER/VID-20250220-WA0006.mp4: 384x640 1 your_class_name, 159.5ms\n",
            "video 1/1 (frame 818/1670) /content/drive/My Drive/YOUR_FOLDER/VID-20250220-WA0006.mp4: 384x640 1 your_class_name, 166.3ms\n",
            "video 1/1 (frame 819/1670) /content/drive/My Drive/YOUR_FOLDER/VID-20250220-WA0006.mp4: 384x640 1 your_class_name, 159.8ms\n",
            "video 1/1 (frame 820/1670) /content/drive/My Drive/YOUR_FOLDER/VID-20250220-WA0006.mp4: 384x640 1 your_class_name, 154.1ms\n",
            "video 1/1 (frame 821/1670) /content/drive/My Drive/YOUR_FOLDER/VID-20250220-WA0006.mp4: 384x640 1 your_class_name, 160.2ms\n",
            "video 1/1 (frame 822/1670) /content/drive/My Drive/YOUR_FOLDER/VID-20250220-WA0006.mp4: 384x640 1 your_class_name, 151.8ms\n",
            "video 1/1 (frame 823/1670) /content/drive/My Drive/YOUR_FOLDER/VID-20250220-WA0006.mp4: 384x640 1 your_class_name, 156.1ms\n",
            "video 1/1 (frame 824/1670) /content/drive/My Drive/YOUR_FOLDER/VID-20250220-WA0006.mp4: 384x640 1 your_class_name, 154.3ms\n",
            "video 1/1 (frame 825/1670) /content/drive/My Drive/YOUR_FOLDER/VID-20250220-WA0006.mp4: 384x640 1 your_class_name, 150.6ms\n",
            "video 1/1 (frame 826/1670) /content/drive/My Drive/YOUR_FOLDER/VID-20250220-WA0006.mp4: 384x640 1 your_class_name, 157.0ms\n",
            "video 1/1 (frame 827/1670) /content/drive/My Drive/YOUR_FOLDER/VID-20250220-WA0006.mp4: 384x640 1 your_class_name, 152.1ms\n",
            "video 1/1 (frame 828/1670) /content/drive/My Drive/YOUR_FOLDER/VID-20250220-WA0006.mp4: 384x640 1 your_class_name, 153.3ms\n",
            "video 1/1 (frame 829/1670) /content/drive/My Drive/YOUR_FOLDER/VID-20250220-WA0006.mp4: 384x640 1 your_class_name, 192.1ms\n",
            "video 1/1 (frame 830/1670) /content/drive/My Drive/YOUR_FOLDER/VID-20250220-WA0006.mp4: 384x640 (no detections), 151.9ms\n",
            "video 1/1 (frame 831/1670) /content/drive/My Drive/YOUR_FOLDER/VID-20250220-WA0006.mp4: 384x640 (no detections), 150.7ms\n",
            "video 1/1 (frame 832/1670) /content/drive/My Drive/YOUR_FOLDER/VID-20250220-WA0006.mp4: 384x640 (no detections), 161.2ms\n",
            "video 1/1 (frame 833/1670) /content/drive/My Drive/YOUR_FOLDER/VID-20250220-WA0006.mp4: 384x640 (no detections), 154.9ms\n",
            "video 1/1 (frame 834/1670) /content/drive/My Drive/YOUR_FOLDER/VID-20250220-WA0006.mp4: 384x640 (no detections), 151.3ms\n",
            "video 1/1 (frame 835/1670) /content/drive/My Drive/YOUR_FOLDER/VID-20250220-WA0006.mp4: 384x640 (no detections), 185.6ms\n",
            "video 1/1 (frame 836/1670) /content/drive/My Drive/YOUR_FOLDER/VID-20250220-WA0006.mp4: 384x640 (no detections), 227.9ms\n",
            "video 1/1 (frame 837/1670) /content/drive/My Drive/YOUR_FOLDER/VID-20250220-WA0006.mp4: 384x640 (no detections), 244.5ms\n",
            "video 1/1 (frame 838/1670) /content/drive/My Drive/YOUR_FOLDER/VID-20250220-WA0006.mp4: 384x640 (no detections), 230.7ms\n",
            "video 1/1 (frame 839/1670) /content/drive/My Drive/YOUR_FOLDER/VID-20250220-WA0006.mp4: 384x640 (no detections), 238.8ms\n",
            "video 1/1 (frame 840/1670) /content/drive/My Drive/YOUR_FOLDER/VID-20250220-WA0006.mp4: 384x640 (no detections), 228.9ms\n",
            "video 1/1 (frame 841/1670) /content/drive/My Drive/YOUR_FOLDER/VID-20250220-WA0006.mp4: 384x640 (no detections), 244.5ms\n",
            "video 1/1 (frame 842/1670) /content/drive/My Drive/YOUR_FOLDER/VID-20250220-WA0006.mp4: 384x640 (no detections), 232.0ms\n",
            "video 1/1 (frame 843/1670) /content/drive/My Drive/YOUR_FOLDER/VID-20250220-WA0006.mp4: 384x640 (no detections), 237.1ms\n",
            "video 1/1 (frame 844/1670) /content/drive/My Drive/YOUR_FOLDER/VID-20250220-WA0006.mp4: 384x640 (no detections), 247.8ms\n",
            "video 1/1 (frame 845/1670) /content/drive/My Drive/YOUR_FOLDER/VID-20250220-WA0006.mp4: 384x640 (no detections), 229.9ms\n",
            "video 1/1 (frame 846/1670) /content/drive/My Drive/YOUR_FOLDER/VID-20250220-WA0006.mp4: 384x640 (no detections), 233.1ms\n",
            "video 1/1 (frame 847/1670) /content/drive/My Drive/YOUR_FOLDER/VID-20250220-WA0006.mp4: 384x640 (no detections), 244.2ms\n",
            "video 1/1 (frame 848/1670) /content/drive/My Drive/YOUR_FOLDER/VID-20250220-WA0006.mp4: 384x640 (no detections), 244.3ms\n",
            "video 1/1 (frame 849/1670) /content/drive/My Drive/YOUR_FOLDER/VID-20250220-WA0006.mp4: 384x640 (no detections), 241.6ms\n",
            "video 1/1 (frame 850/1670) /content/drive/My Drive/YOUR_FOLDER/VID-20250220-WA0006.mp4: 384x640 (no detections), 201.1ms\n",
            "video 1/1 (frame 851/1670) /content/drive/My Drive/YOUR_FOLDER/VID-20250220-WA0006.mp4: 384x640 (no detections), 165.4ms\n",
            "video 1/1 (frame 852/1670) /content/drive/My Drive/YOUR_FOLDER/VID-20250220-WA0006.mp4: 384x640 (no detections), 156.1ms\n",
            "video 1/1 (frame 853/1670) /content/drive/My Drive/YOUR_FOLDER/VID-20250220-WA0006.mp4: 384x640 (no detections), 151.3ms\n",
            "video 1/1 (frame 854/1670) /content/drive/My Drive/YOUR_FOLDER/VID-20250220-WA0006.mp4: 384x640 (no detections), 152.9ms\n",
            "video 1/1 (frame 855/1670) /content/drive/My Drive/YOUR_FOLDER/VID-20250220-WA0006.mp4: 384x640 (no detections), 150.4ms\n",
            "video 1/1 (frame 856/1670) /content/drive/My Drive/YOUR_FOLDER/VID-20250220-WA0006.mp4: 384x640 (no detections), 160.9ms\n",
            "video 1/1 (frame 857/1670) /content/drive/My Drive/YOUR_FOLDER/VID-20250220-WA0006.mp4: 384x640 (no detections), 161.4ms\n",
            "video 1/1 (frame 858/1670) /content/drive/My Drive/YOUR_FOLDER/VID-20250220-WA0006.mp4: 384x640 (no detections), 150.6ms\n",
            "video 1/1 (frame 859/1670) /content/drive/My Drive/YOUR_FOLDER/VID-20250220-WA0006.mp4: 384x640 (no detections), 149.0ms\n",
            "video 1/1 (frame 860/1670) /content/drive/My Drive/YOUR_FOLDER/VID-20250220-WA0006.mp4: 384x640 (no detections), 151.5ms\n",
            "video 1/1 (frame 861/1670) /content/drive/My Drive/YOUR_FOLDER/VID-20250220-WA0006.mp4: 384x640 (no detections), 148.5ms\n",
            "video 1/1 (frame 862/1670) /content/drive/My Drive/YOUR_FOLDER/VID-20250220-WA0006.mp4: 384x640 (no detections), 160.4ms\n",
            "video 1/1 (frame 863/1670) /content/drive/My Drive/YOUR_FOLDER/VID-20250220-WA0006.mp4: 384x640 (no detections), 153.2ms\n",
            "video 1/1 (frame 864/1670) /content/drive/My Drive/YOUR_FOLDER/VID-20250220-WA0006.mp4: 384x640 (no detections), 150.3ms\n",
            "video 1/1 (frame 865/1670) /content/drive/My Drive/YOUR_FOLDER/VID-20250220-WA0006.mp4: 384x640 (no detections), 150.1ms\n",
            "video 1/1 (frame 866/1670) /content/drive/My Drive/YOUR_FOLDER/VID-20250220-WA0006.mp4: 384x640 (no detections), 148.7ms\n",
            "video 1/1 (frame 867/1670) /content/drive/My Drive/YOUR_FOLDER/VID-20250220-WA0006.mp4: 384x640 (no detections), 161.7ms\n",
            "video 1/1 (frame 868/1670) /content/drive/My Drive/YOUR_FOLDER/VID-20250220-WA0006.mp4: 384x640 (no detections), 158.4ms\n",
            "video 1/1 (frame 869/1670) /content/drive/My Drive/YOUR_FOLDER/VID-20250220-WA0006.mp4: 384x640 (no detections), 156.0ms\n",
            "video 1/1 (frame 870/1670) /content/drive/My Drive/YOUR_FOLDER/VID-20250220-WA0006.mp4: 384x640 (no detections), 148.0ms\n",
            "video 1/1 (frame 871/1670) /content/drive/My Drive/YOUR_FOLDER/VID-20250220-WA0006.mp4: 384x640 (no detections), 152.7ms\n",
            "video 1/1 (frame 872/1670) /content/drive/My Drive/YOUR_FOLDER/VID-20250220-WA0006.mp4: 384x640 (no detections), 148.6ms\n",
            "video 1/1 (frame 873/1670) /content/drive/My Drive/YOUR_FOLDER/VID-20250220-WA0006.mp4: 384x640 (no detections), 160.3ms\n",
            "video 1/1 (frame 874/1670) /content/drive/My Drive/YOUR_FOLDER/VID-20250220-WA0006.mp4: 384x640 (no detections), 155.2ms\n",
            "video 1/1 (frame 875/1670) /content/drive/My Drive/YOUR_FOLDER/VID-20250220-WA0006.mp4: 384x640 (no detections), 150.6ms\n",
            "video 1/1 (frame 876/1670) /content/drive/My Drive/YOUR_FOLDER/VID-20250220-WA0006.mp4: 384x640 (no detections), 153.3ms\n",
            "video 1/1 (frame 877/1670) /content/drive/My Drive/YOUR_FOLDER/VID-20250220-WA0006.mp4: 384x640 (no detections), 152.1ms\n",
            "video 1/1 (frame 878/1670) /content/drive/My Drive/YOUR_FOLDER/VID-20250220-WA0006.mp4: 384x640 (no detections), 154.3ms\n",
            "video 1/1 (frame 879/1670) /content/drive/My Drive/YOUR_FOLDER/VID-20250220-WA0006.mp4: 384x640 (no detections), 169.1ms\n",
            "video 1/1 (frame 880/1670) /content/drive/My Drive/YOUR_FOLDER/VID-20250220-WA0006.mp4: 384x640 (no detections), 162.9ms\n",
            "video 1/1 (frame 881/1670) /content/drive/My Drive/YOUR_FOLDER/VID-20250220-WA0006.mp4: 384x640 (no detections), 160.5ms\n",
            "video 1/1 (frame 882/1670) /content/drive/My Drive/YOUR_FOLDER/VID-20250220-WA0006.mp4: 384x640 (no detections), 161.5ms\n",
            "video 1/1 (frame 883/1670) /content/drive/My Drive/YOUR_FOLDER/VID-20250220-WA0006.mp4: 384x640 (no detections), 157.2ms\n",
            "video 1/1 (frame 884/1670) /content/drive/My Drive/YOUR_FOLDER/VID-20250220-WA0006.mp4: 384x640 (no detections), 169.5ms\n",
            "video 1/1 (frame 885/1670) /content/drive/My Drive/YOUR_FOLDER/VID-20250220-WA0006.mp4: 384x640 (no detections), 154.1ms\n",
            "video 1/1 (frame 886/1670) /content/drive/My Drive/YOUR_FOLDER/VID-20250220-WA0006.mp4: 384x640 (no detections), 152.4ms\n",
            "video 1/1 (frame 887/1670) /content/drive/My Drive/YOUR_FOLDER/VID-20250220-WA0006.mp4: 384x640 (no detections), 150.3ms\n",
            "video 1/1 (frame 888/1670) /content/drive/My Drive/YOUR_FOLDER/VID-20250220-WA0006.mp4: 384x640 (no detections), 148.6ms\n",
            "video 1/1 (frame 889/1670) /content/drive/My Drive/YOUR_FOLDER/VID-20250220-WA0006.mp4: 384x640 (no detections), 150.3ms\n",
            "video 1/1 (frame 890/1670) /content/drive/My Drive/YOUR_FOLDER/VID-20250220-WA0006.mp4: 384x640 (no detections), 176.4ms\n",
            "video 1/1 (frame 891/1670) /content/drive/My Drive/YOUR_FOLDER/VID-20250220-WA0006.mp4: 384x640 (no detections), 156.0ms\n",
            "video 1/1 (frame 892/1670) /content/drive/My Drive/YOUR_FOLDER/VID-20250220-WA0006.mp4: 384x640 (no detections), 151.7ms\n",
            "video 1/1 (frame 893/1670) /content/drive/My Drive/YOUR_FOLDER/VID-20250220-WA0006.mp4: 384x640 (no detections), 149.5ms\n",
            "video 1/1 (frame 894/1670) /content/drive/My Drive/YOUR_FOLDER/VID-20250220-WA0006.mp4: 384x640 (no detections), 149.0ms\n",
            "video 1/1 (frame 895/1670) /content/drive/My Drive/YOUR_FOLDER/VID-20250220-WA0006.mp4: 384x640 (no detections), 153.8ms\n",
            "video 1/1 (frame 896/1670) /content/drive/My Drive/YOUR_FOLDER/VID-20250220-WA0006.mp4: 384x640 (no detections), 162.6ms\n",
            "video 1/1 (frame 897/1670) /content/drive/My Drive/YOUR_FOLDER/VID-20250220-WA0006.mp4: 384x640 (no detections), 151.8ms\n",
            "video 1/1 (frame 898/1670) /content/drive/My Drive/YOUR_FOLDER/VID-20250220-WA0006.mp4: 384x640 (no detections), 154.1ms\n",
            "video 1/1 (frame 899/1670) /content/drive/My Drive/YOUR_FOLDER/VID-20250220-WA0006.mp4: 384x640 (no detections), 147.3ms\n",
            "video 1/1 (frame 900/1670) /content/drive/My Drive/YOUR_FOLDER/VID-20250220-WA0006.mp4: 384x640 (no detections), 146.8ms\n",
            "video 1/1 (frame 901/1670) /content/drive/My Drive/YOUR_FOLDER/VID-20250220-WA0006.mp4: 384x640 (no detections), 169.3ms\n",
            "video 1/1 (frame 902/1670) /content/drive/My Drive/YOUR_FOLDER/VID-20250220-WA0006.mp4: 384x640 (no detections), 153.6ms\n",
            "video 1/1 (frame 903/1670) /content/drive/My Drive/YOUR_FOLDER/VID-20250220-WA0006.mp4: 384x640 (no detections), 151.8ms\n",
            "video 1/1 (frame 904/1670) /content/drive/My Drive/YOUR_FOLDER/VID-20250220-WA0006.mp4: 384x640 (no detections), 152.9ms\n",
            "video 1/1 (frame 905/1670) /content/drive/My Drive/YOUR_FOLDER/VID-20250220-WA0006.mp4: 384x640 (no detections), 221.0ms\n",
            "video 1/1 (frame 906/1670) /content/drive/My Drive/YOUR_FOLDER/VID-20250220-WA0006.mp4: 384x640 (no detections), 265.0ms\n",
            "video 1/1 (frame 907/1670) /content/drive/My Drive/YOUR_FOLDER/VID-20250220-WA0006.mp4: 384x640 (no detections), 232.5ms\n",
            "video 1/1 (frame 908/1670) /content/drive/My Drive/YOUR_FOLDER/VID-20250220-WA0006.mp4: 384x640 (no detections), 233.7ms\n",
            "video 1/1 (frame 909/1670) /content/drive/My Drive/YOUR_FOLDER/VID-20250220-WA0006.mp4: 384x640 (no detections), 216.8ms\n",
            "video 1/1 (frame 910/1670) /content/drive/My Drive/YOUR_FOLDER/VID-20250220-WA0006.mp4: 384x640 (no detections), 251.0ms\n",
            "video 1/1 (frame 911/1670) /content/drive/My Drive/YOUR_FOLDER/VID-20250220-WA0006.mp4: 384x640 (no detections), 242.9ms\n",
            "video 1/1 (frame 912/1670) /content/drive/My Drive/YOUR_FOLDER/VID-20250220-WA0006.mp4: 384x640 (no detections), 243.0ms\n",
            "video 1/1 (frame 913/1670) /content/drive/My Drive/YOUR_FOLDER/VID-20250220-WA0006.mp4: 384x640 (no detections), 224.6ms\n",
            "video 1/1 (frame 914/1670) /content/drive/My Drive/YOUR_FOLDER/VID-20250220-WA0006.mp4: 384x640 (no detections), 246.3ms\n",
            "video 1/1 (frame 915/1670) /content/drive/My Drive/YOUR_FOLDER/VID-20250220-WA0006.mp4: 384x640 1 your_class_name, 228.4ms\n",
            "video 1/1 (frame 916/1670) /content/drive/My Drive/YOUR_FOLDER/VID-20250220-WA0006.mp4: 384x640 1 your_class_name, 224.9ms\n",
            "video 1/1 (frame 917/1670) /content/drive/My Drive/YOUR_FOLDER/VID-20250220-WA0006.mp4: 384x640 1 your_class_name, 254.0ms\n",
            "video 1/1 (frame 918/1670) /content/drive/My Drive/YOUR_FOLDER/VID-20250220-WA0006.mp4: 384x640 1 your_class_name, 263.8ms\n",
            "video 1/1 (frame 919/1670) /content/drive/My Drive/YOUR_FOLDER/VID-20250220-WA0006.mp4: 384x640 1 your_class_name, 233.4ms\n",
            "video 1/1 (frame 920/1670) /content/drive/My Drive/YOUR_FOLDER/VID-20250220-WA0006.mp4: 384x640 1 your_class_name, 146.3ms\n",
            "video 1/1 (frame 921/1670) /content/drive/My Drive/YOUR_FOLDER/VID-20250220-WA0006.mp4: 384x640 1 your_class_name, 150.1ms\n",
            "video 1/1 (frame 922/1670) /content/drive/My Drive/YOUR_FOLDER/VID-20250220-WA0006.mp4: 384x640 1 your_class_name, 169.2ms\n",
            "video 1/1 (frame 923/1670) /content/drive/My Drive/YOUR_FOLDER/VID-20250220-WA0006.mp4: 384x640 1 your_class_name, 162.2ms\n",
            "video 1/1 (frame 924/1670) /content/drive/My Drive/YOUR_FOLDER/VID-20250220-WA0006.mp4: 384x640 1 your_class_name, 150.6ms\n",
            "video 1/1 (frame 925/1670) /content/drive/My Drive/YOUR_FOLDER/VID-20250220-WA0006.mp4: 384x640 1 your_class_name, 155.5ms\n",
            "video 1/1 (frame 926/1670) /content/drive/My Drive/YOUR_FOLDER/VID-20250220-WA0006.mp4: 384x640 1 your_class_name, 155.8ms\n",
            "video 1/1 (frame 927/1670) /content/drive/My Drive/YOUR_FOLDER/VID-20250220-WA0006.mp4: 384x640 1 your_class_name, 159.6ms\n",
            "video 1/1 (frame 928/1670) /content/drive/My Drive/YOUR_FOLDER/VID-20250220-WA0006.mp4: 384x640 2 your_class_names, 160.7ms\n",
            "video 1/1 (frame 929/1670) /content/drive/My Drive/YOUR_FOLDER/VID-20250220-WA0006.mp4: 384x640 1 your_class_name, 162.0ms\n",
            "video 1/1 (frame 930/1670) /content/drive/My Drive/YOUR_FOLDER/VID-20250220-WA0006.mp4: 384x640 1 your_class_name, 156.0ms\n",
            "video 1/1 (frame 931/1670) /content/drive/My Drive/YOUR_FOLDER/VID-20250220-WA0006.mp4: 384x640 1 your_class_name, 150.8ms\n",
            "video 1/1 (frame 932/1670) /content/drive/My Drive/YOUR_FOLDER/VID-20250220-WA0006.mp4: 384x640 1 your_class_name, 155.5ms\n",
            "video 1/1 (frame 933/1670) /content/drive/My Drive/YOUR_FOLDER/VID-20250220-WA0006.mp4: 384x640 1 your_class_name, 148.9ms\n",
            "video 1/1 (frame 934/1670) /content/drive/My Drive/YOUR_FOLDER/VID-20250220-WA0006.mp4: 384x640 1 your_class_name, 159.1ms\n",
            "video 1/1 (frame 935/1670) /content/drive/My Drive/YOUR_FOLDER/VID-20250220-WA0006.mp4: 384x640 1 your_class_name, 157.3ms\n",
            "video 1/1 (frame 936/1670) /content/drive/My Drive/YOUR_FOLDER/VID-20250220-WA0006.mp4: 384x640 1 your_class_name, 148.4ms\n",
            "video 1/1 (frame 937/1670) /content/drive/My Drive/YOUR_FOLDER/VID-20250220-WA0006.mp4: 384x640 1 your_class_name, 148.7ms\n",
            "video 1/1 (frame 938/1670) /content/drive/My Drive/YOUR_FOLDER/VID-20250220-WA0006.mp4: 384x640 2 your_class_names, 150.1ms\n",
            "video 1/1 (frame 939/1670) /content/drive/My Drive/YOUR_FOLDER/VID-20250220-WA0006.mp4: 384x640 1 your_class_name, 151.4ms\n",
            "video 1/1 (frame 940/1670) /content/drive/My Drive/YOUR_FOLDER/VID-20250220-WA0006.mp4: 384x640 2 your_class_names, 160.2ms\n",
            "video 1/1 (frame 941/1670) /content/drive/My Drive/YOUR_FOLDER/VID-20250220-WA0006.mp4: 384x640 1 your_class_name, 147.0ms\n",
            "video 1/1 (frame 942/1670) /content/drive/My Drive/YOUR_FOLDER/VID-20250220-WA0006.mp4: 384x640 3 your_class_names, 150.3ms\n",
            "video 1/1 (frame 943/1670) /content/drive/My Drive/YOUR_FOLDER/VID-20250220-WA0006.mp4: 384x640 1 your_class_name, 153.7ms\n",
            "video 1/1 (frame 944/1670) /content/drive/My Drive/YOUR_FOLDER/VID-20250220-WA0006.mp4: 384x640 1 your_class_name, 156.6ms\n",
            "video 1/1 (frame 945/1670) /content/drive/My Drive/YOUR_FOLDER/VID-20250220-WA0006.mp4: 384x640 1 your_class_name, 152.6ms\n",
            "video 1/1 (frame 946/1670) /content/drive/My Drive/YOUR_FOLDER/VID-20250220-WA0006.mp4: 384x640 1 your_class_name, 157.9ms\n",
            "video 1/1 (frame 947/1670) /content/drive/My Drive/YOUR_FOLDER/VID-20250220-WA0006.mp4: 384x640 1 your_class_name, 146.3ms\n",
            "video 1/1 (frame 948/1670) /content/drive/My Drive/YOUR_FOLDER/VID-20250220-WA0006.mp4: 384x640 1 your_class_name, 149.0ms\n",
            "video 1/1 (frame 949/1670) /content/drive/My Drive/YOUR_FOLDER/VID-20250220-WA0006.mp4: 384x640 2 your_class_names, 151.9ms\n",
            "video 1/1 (frame 950/1670) /content/drive/My Drive/YOUR_FOLDER/VID-20250220-WA0006.mp4: 384x640 1 your_class_name, 156.2ms\n",
            "video 1/1 (frame 951/1670) /content/drive/My Drive/YOUR_FOLDER/VID-20250220-WA0006.mp4: 384x640 2 your_class_names, 159.4ms\n",
            "video 1/1 (frame 952/1670) /content/drive/My Drive/YOUR_FOLDER/VID-20250220-WA0006.mp4: 384x640 2 your_class_names, 150.1ms\n",
            "video 1/1 (frame 953/1670) /content/drive/My Drive/YOUR_FOLDER/VID-20250220-WA0006.mp4: 384x640 1 your_class_name, 150.2ms\n",
            "video 1/1 (frame 954/1670) /content/drive/My Drive/YOUR_FOLDER/VID-20250220-WA0006.mp4: 384x640 2 your_class_names, 157.6ms\n",
            "video 1/1 (frame 955/1670) /content/drive/My Drive/YOUR_FOLDER/VID-20250220-WA0006.mp4: 384x640 1 your_class_name, 157.2ms\n",
            "video 1/1 (frame 956/1670) /content/drive/My Drive/YOUR_FOLDER/VID-20250220-WA0006.mp4: 384x640 2 your_class_names, 157.1ms\n",
            "video 1/1 (frame 957/1670) /content/drive/My Drive/YOUR_FOLDER/VID-20250220-WA0006.mp4: 384x640 1 your_class_name, 162.8ms\n",
            "video 1/1 (frame 958/1670) /content/drive/My Drive/YOUR_FOLDER/VID-20250220-WA0006.mp4: 384x640 2 your_class_names, 154.8ms\n",
            "video 1/1 (frame 959/1670) /content/drive/My Drive/YOUR_FOLDER/VID-20250220-WA0006.mp4: 384x640 2 your_class_names, 155.5ms\n",
            "video 1/1 (frame 960/1670) /content/drive/My Drive/YOUR_FOLDER/VID-20250220-WA0006.mp4: 384x640 2 your_class_names, 156.0ms\n",
            "video 1/1 (frame 961/1670) /content/drive/My Drive/YOUR_FOLDER/VID-20250220-WA0006.mp4: 384x640 2 your_class_names, 151.0ms\n",
            "video 1/1 (frame 962/1670) /content/drive/My Drive/YOUR_FOLDER/VID-20250220-WA0006.mp4: 384x640 2 your_class_names, 155.3ms\n",
            "video 1/1 (frame 963/1670) /content/drive/My Drive/YOUR_FOLDER/VID-20250220-WA0006.mp4: 384x640 2 your_class_names, 167.7ms\n",
            "video 1/1 (frame 964/1670) /content/drive/My Drive/YOUR_FOLDER/VID-20250220-WA0006.mp4: 384x640 2 your_class_names, 153.2ms\n",
            "video 1/1 (frame 965/1670) /content/drive/My Drive/YOUR_FOLDER/VID-20250220-WA0006.mp4: 384x640 2 your_class_names, 158.4ms\n",
            "video 1/1 (frame 966/1670) /content/drive/My Drive/YOUR_FOLDER/VID-20250220-WA0006.mp4: 384x640 3 your_class_names, 161.1ms\n",
            "video 1/1 (frame 967/1670) /content/drive/My Drive/YOUR_FOLDER/VID-20250220-WA0006.mp4: 384x640 1 your_class_name, 158.6ms\n",
            "video 1/1 (frame 968/1670) /content/drive/My Drive/YOUR_FOLDER/VID-20250220-WA0006.mp4: 384x640 1 your_class_name, 173.3ms\n",
            "video 1/1 (frame 969/1670) /content/drive/My Drive/YOUR_FOLDER/VID-20250220-WA0006.mp4: 384x640 2 your_class_names, 157.6ms\n",
            "video 1/1 (frame 970/1670) /content/drive/My Drive/YOUR_FOLDER/VID-20250220-WA0006.mp4: 384x640 2 your_class_names, 164.6ms\n",
            "video 1/1 (frame 971/1670) /content/drive/My Drive/YOUR_FOLDER/VID-20250220-WA0006.mp4: 384x640 2 your_class_names, 162.7ms\n",
            "video 1/1 (frame 972/1670) /content/drive/My Drive/YOUR_FOLDER/VID-20250220-WA0006.mp4: 384x640 1 your_class_name, 161.6ms\n",
            "video 1/1 (frame 973/1670) /content/drive/My Drive/YOUR_FOLDER/VID-20250220-WA0006.mp4: 384x640 2 your_class_names, 157.5ms\n",
            "video 1/1 (frame 974/1670) /content/drive/My Drive/YOUR_FOLDER/VID-20250220-WA0006.mp4: 384x640 2 your_class_names, 233.0ms\n",
            "video 1/1 (frame 975/1670) /content/drive/My Drive/YOUR_FOLDER/VID-20250220-WA0006.mp4: 384x640 1 your_class_name, 250.1ms\n",
            "video 1/1 (frame 976/1670) /content/drive/My Drive/YOUR_FOLDER/VID-20250220-WA0006.mp4: 384x640 3 your_class_names, 238.3ms\n",
            "video 1/1 (frame 977/1670) /content/drive/My Drive/YOUR_FOLDER/VID-20250220-WA0006.mp4: 384x640 2 your_class_names, 251.6ms\n",
            "video 1/1 (frame 978/1670) /content/drive/My Drive/YOUR_FOLDER/VID-20250220-WA0006.mp4: 384x640 3 your_class_names, 234.6ms\n",
            "video 1/1 (frame 979/1670) /content/drive/My Drive/YOUR_FOLDER/VID-20250220-WA0006.mp4: 384x640 2 your_class_names, 252.6ms\n",
            "video 1/1 (frame 980/1670) /content/drive/My Drive/YOUR_FOLDER/VID-20250220-WA0006.mp4: 384x640 3 your_class_names, 248.3ms\n",
            "video 1/1 (frame 981/1670) /content/drive/My Drive/YOUR_FOLDER/VID-20250220-WA0006.mp4: 384x640 3 your_class_names, 242.9ms\n",
            "video 1/1 (frame 982/1670) /content/drive/My Drive/YOUR_FOLDER/VID-20250220-WA0006.mp4: 384x640 2 your_class_names, 244.8ms\n",
            "video 1/1 (frame 983/1670) /content/drive/My Drive/YOUR_FOLDER/VID-20250220-WA0006.mp4: 384x640 2 your_class_names, 237.1ms\n",
            "video 1/1 (frame 984/1670) /content/drive/My Drive/YOUR_FOLDER/VID-20250220-WA0006.mp4: 384x640 2 your_class_names, 236.3ms\n",
            "video 1/1 (frame 985/1670) /content/drive/My Drive/YOUR_FOLDER/VID-20250220-WA0006.mp4: 384x640 3 your_class_names, 254.5ms\n",
            "video 1/1 (frame 986/1670) /content/drive/My Drive/YOUR_FOLDER/VID-20250220-WA0006.mp4: 384x640 3 your_class_names, 245.6ms\n",
            "video 1/1 (frame 987/1670) /content/drive/My Drive/YOUR_FOLDER/VID-20250220-WA0006.mp4: 384x640 2 your_class_names, 244.5ms\n",
            "video 1/1 (frame 988/1670) /content/drive/My Drive/YOUR_FOLDER/VID-20250220-WA0006.mp4: 384x640 2 your_class_names, 234.1ms\n",
            "video 1/1 (frame 989/1670) /content/drive/My Drive/YOUR_FOLDER/VID-20250220-WA0006.mp4: 384x640 2 your_class_names, 175.4ms\n",
            "video 1/1 (frame 990/1670) /content/drive/My Drive/YOUR_FOLDER/VID-20250220-WA0006.mp4: 384x640 2 your_class_names, 163.9ms\n",
            "video 1/1 (frame 991/1670) /content/drive/My Drive/YOUR_FOLDER/VID-20250220-WA0006.mp4: 384x640 2 your_class_names, 165.5ms\n",
            "video 1/1 (frame 992/1670) /content/drive/My Drive/YOUR_FOLDER/VID-20250220-WA0006.mp4: 384x640 2 your_class_names, 161.3ms\n",
            "video 1/1 (frame 993/1670) /content/drive/My Drive/YOUR_FOLDER/VID-20250220-WA0006.mp4: 384x640 2 your_class_names, 161.7ms\n",
            "video 1/1 (frame 994/1670) /content/drive/My Drive/YOUR_FOLDER/VID-20250220-WA0006.mp4: 384x640 1 your_class_name, 177.1ms\n",
            "video 1/1 (frame 995/1670) /content/drive/My Drive/YOUR_FOLDER/VID-20250220-WA0006.mp4: 384x640 1 your_class_name, 165.3ms\n",
            "video 1/1 (frame 996/1670) /content/drive/My Drive/YOUR_FOLDER/VID-20250220-WA0006.mp4: 384x640 1 your_class_name, 158.9ms\n",
            "video 1/1 (frame 997/1670) /content/drive/My Drive/YOUR_FOLDER/VID-20250220-WA0006.mp4: 384x640 1 your_class_name, 158.9ms\n",
            "video 1/1 (frame 998/1670) /content/drive/My Drive/YOUR_FOLDER/VID-20250220-WA0006.mp4: 384x640 1 your_class_name, 161.4ms\n",
            "video 1/1 (frame 999/1670) /content/drive/My Drive/YOUR_FOLDER/VID-20250220-WA0006.mp4: 384x640 1 your_class_name, 176.3ms\n",
            "video 1/1 (frame 1000/1670) /content/drive/My Drive/YOUR_FOLDER/VID-20250220-WA0006.mp4: 384x640 1 your_class_name, 160.7ms\n",
            "video 1/1 (frame 1001/1670) /content/drive/My Drive/YOUR_FOLDER/VID-20250220-WA0006.mp4: 384x640 (no detections), 164.0ms\n",
            "video 1/1 (frame 1002/1670) /content/drive/My Drive/YOUR_FOLDER/VID-20250220-WA0006.mp4: 384x640 (no detections), 154.0ms\n",
            "video 1/1 (frame 1003/1670) /content/drive/My Drive/YOUR_FOLDER/VID-20250220-WA0006.mp4: 384x640 (no detections), 158.1ms\n",
            "video 1/1 (frame 1004/1670) /content/drive/My Drive/YOUR_FOLDER/VID-20250220-WA0006.mp4: 384x640 (no detections), 160.1ms\n",
            "video 1/1 (frame 1005/1670) /content/drive/My Drive/YOUR_FOLDER/VID-20250220-WA0006.mp4: 384x640 (no detections), 178.4ms\n",
            "video 1/1 (frame 1006/1670) /content/drive/My Drive/YOUR_FOLDER/VID-20250220-WA0006.mp4: 384x640 (no detections), 158.8ms\n",
            "video 1/1 (frame 1007/1670) /content/drive/My Drive/YOUR_FOLDER/VID-20250220-WA0006.mp4: 384x640 (no detections), 156.7ms\n",
            "video 1/1 (frame 1008/1670) /content/drive/My Drive/YOUR_FOLDER/VID-20250220-WA0006.mp4: 384x640 (no detections), 156.3ms\n",
            "video 1/1 (frame 1009/1670) /content/drive/My Drive/YOUR_FOLDER/VID-20250220-WA0006.mp4: 384x640 (no detections), 154.6ms\n",
            "video 1/1 (frame 1010/1670) /content/drive/My Drive/YOUR_FOLDER/VID-20250220-WA0006.mp4: 384x640 (no detections), 180.9ms\n",
            "video 1/1 (frame 1011/1670) /content/drive/My Drive/YOUR_FOLDER/VID-20250220-WA0006.mp4: 384x640 (no detections), 173.5ms\n",
            "video 1/1 (frame 1012/1670) /content/drive/My Drive/YOUR_FOLDER/VID-20250220-WA0006.mp4: 384x640 (no detections), 157.8ms\n",
            "video 1/1 (frame 1013/1670) /content/drive/My Drive/YOUR_FOLDER/VID-20250220-WA0006.mp4: 384x640 (no detections), 153.6ms\n",
            "video 1/1 (frame 1014/1670) /content/drive/My Drive/YOUR_FOLDER/VID-20250220-WA0006.mp4: 384x640 (no detections), 157.1ms\n",
            "video 1/1 (frame 1015/1670) /content/drive/My Drive/YOUR_FOLDER/VID-20250220-WA0006.mp4: 384x640 (no detections), 165.8ms\n",
            "video 1/1 (frame 1016/1670) /content/drive/My Drive/YOUR_FOLDER/VID-20250220-WA0006.mp4: 384x640 (no detections), 174.1ms\n",
            "video 1/1 (frame 1017/1670) /content/drive/My Drive/YOUR_FOLDER/VID-20250220-WA0006.mp4: 384x640 (no detections), 157.6ms\n",
            "video 1/1 (frame 1018/1670) /content/drive/My Drive/YOUR_FOLDER/VID-20250220-WA0006.mp4: 384x640 (no detections), 154.0ms\n",
            "video 1/1 (frame 1019/1670) /content/drive/My Drive/YOUR_FOLDER/VID-20250220-WA0006.mp4: 384x640 (no detections), 160.3ms\n",
            "video 1/1 (frame 1020/1670) /content/drive/My Drive/YOUR_FOLDER/VID-20250220-WA0006.mp4: 384x640 (no detections), 163.2ms\n",
            "video 1/1 (frame 1021/1670) /content/drive/My Drive/YOUR_FOLDER/VID-20250220-WA0006.mp4: 384x640 (no detections), 183.8ms\n",
            "video 1/1 (frame 1022/1670) /content/drive/My Drive/YOUR_FOLDER/VID-20250220-WA0006.mp4: 384x640 (no detections), 159.2ms\n",
            "video 1/1 (frame 1023/1670) /content/drive/My Drive/YOUR_FOLDER/VID-20250220-WA0006.mp4: 384x640 (no detections), 157.8ms\n",
            "video 1/1 (frame 1024/1670) /content/drive/My Drive/YOUR_FOLDER/VID-20250220-WA0006.mp4: 384x640 (no detections), 160.5ms\n",
            "video 1/1 (frame 1025/1670) /content/drive/My Drive/YOUR_FOLDER/VID-20250220-WA0006.mp4: 384x640 (no detections), 156.0ms\n",
            "video 1/1 (frame 1026/1670) /content/drive/My Drive/YOUR_FOLDER/VID-20250220-WA0006.mp4: 384x640 (no detections), 164.9ms\n",
            "video 1/1 (frame 1027/1670) /content/drive/My Drive/YOUR_FOLDER/VID-20250220-WA0006.mp4: 384x640 (no detections), 175.0ms\n",
            "video 1/1 (frame 1028/1670) /content/drive/My Drive/YOUR_FOLDER/VID-20250220-WA0006.mp4: 384x640 (no detections), 160.6ms\n",
            "video 1/1 (frame 1029/1670) /content/drive/My Drive/YOUR_FOLDER/VID-20250220-WA0006.mp4: 384x640 (no detections), 155.3ms\n",
            "video 1/1 (frame 1030/1670) /content/drive/My Drive/YOUR_FOLDER/VID-20250220-WA0006.mp4: 384x640 (no detections), 154.5ms\n",
            "video 1/1 (frame 1031/1670) /content/drive/My Drive/YOUR_FOLDER/VID-20250220-WA0006.mp4: 384x640 (no detections), 165.3ms\n",
            "video 1/1 (frame 1032/1670) /content/drive/My Drive/YOUR_FOLDER/VID-20250220-WA0006.mp4: 384x640 (no detections), 173.4ms\n",
            "video 1/1 (frame 1033/1670) /content/drive/My Drive/YOUR_FOLDER/VID-20250220-WA0006.mp4: 384x640 (no detections), 158.2ms\n",
            "video 1/1 (frame 1034/1670) /content/drive/My Drive/YOUR_FOLDER/VID-20250220-WA0006.mp4: 384x640 1 your_class_name, 151.3ms\n",
            "video 1/1 (frame 1035/1670) /content/drive/My Drive/YOUR_FOLDER/VID-20250220-WA0006.mp4: 384x640 (no detections), 155.4ms\n",
            "video 1/1 (frame 1036/1670) /content/drive/My Drive/YOUR_FOLDER/VID-20250220-WA0006.mp4: 384x640 (no detections), 159.3ms\n",
            "video 1/1 (frame 1037/1670) /content/drive/My Drive/YOUR_FOLDER/VID-20250220-WA0006.mp4: 384x640 (no detections), 157.4ms\n",
            "video 1/1 (frame 1038/1670) /content/drive/My Drive/YOUR_FOLDER/VID-20250220-WA0006.mp4: 384x640 (no detections), 173.3ms\n",
            "video 1/1 (frame 1039/1670) /content/drive/My Drive/YOUR_FOLDER/VID-20250220-WA0006.mp4: 384x640 (no detections), 158.8ms\n",
            "video 1/1 (frame 1040/1670) /content/drive/My Drive/YOUR_FOLDER/VID-20250220-WA0006.mp4: 384x640 (no detections), 155.4ms\n",
            "video 1/1 (frame 1041/1670) /content/drive/My Drive/YOUR_FOLDER/VID-20250220-WA0006.mp4: 384x640 (no detections), 180.8ms\n",
            "video 1/1 (frame 1042/1670) /content/drive/My Drive/YOUR_FOLDER/VID-20250220-WA0006.mp4: 384x640 (no detections), 239.2ms\n",
            "video 1/1 (frame 1043/1670) /content/drive/My Drive/YOUR_FOLDER/VID-20250220-WA0006.mp4: 384x640 (no detections), 257.3ms\n",
            "video 1/1 (frame 1044/1670) /content/drive/My Drive/YOUR_FOLDER/VID-20250220-WA0006.mp4: 384x640 (no detections), 227.4ms\n",
            "video 1/1 (frame 1045/1670) /content/drive/My Drive/YOUR_FOLDER/VID-20250220-WA0006.mp4: 384x640 (no detections), 233.8ms\n",
            "video 1/1 (frame 1046/1670) /content/drive/My Drive/YOUR_FOLDER/VID-20250220-WA0006.mp4: 384x640 (no detections), 240.2ms\n",
            "video 1/1 (frame 1047/1670) /content/drive/My Drive/YOUR_FOLDER/VID-20250220-WA0006.mp4: 384x640 (no detections), 258.2ms\n",
            "video 1/1 (frame 1048/1670) /content/drive/My Drive/YOUR_FOLDER/VID-20250220-WA0006.mp4: 384x640 (no detections), 228.3ms\n",
            "video 1/1 (frame 1049/1670) /content/drive/My Drive/YOUR_FOLDER/VID-20250220-WA0006.mp4: 384x640 (no detections), 234.4ms\n",
            "video 1/1 (frame 1050/1670) /content/drive/My Drive/YOUR_FOLDER/VID-20250220-WA0006.mp4: 384x640 (no detections), 248.4ms\n",
            "video 1/1 (frame 1051/1670) /content/drive/My Drive/YOUR_FOLDER/VID-20250220-WA0006.mp4: 384x640 (no detections), 228.4ms\n",
            "video 1/1 (frame 1052/1670) /content/drive/My Drive/YOUR_FOLDER/VID-20250220-WA0006.mp4: 384x640 (no detections), 222.0ms\n",
            "video 1/1 (frame 1053/1670) /content/drive/My Drive/YOUR_FOLDER/VID-20250220-WA0006.mp4: 384x640 (no detections), 261.7ms\n",
            "video 1/1 (frame 1054/1670) /content/drive/My Drive/YOUR_FOLDER/VID-20250220-WA0006.mp4: 384x640 1 your_class_name, 256.4ms\n",
            "video 1/1 (frame 1055/1670) /content/drive/My Drive/YOUR_FOLDER/VID-20250220-WA0006.mp4: 384x640 (no detections), 248.1ms\n",
            "video 1/1 (frame 1056/1670) /content/drive/My Drive/YOUR_FOLDER/VID-20250220-WA0006.mp4: 384x640 1 your_class_name, 193.2ms\n",
            "video 1/1 (frame 1057/1670) /content/drive/My Drive/YOUR_FOLDER/VID-20250220-WA0006.mp4: 384x640 1 your_class_name, 174.2ms\n",
            "video 1/1 (frame 1058/1670) /content/drive/My Drive/YOUR_FOLDER/VID-20250220-WA0006.mp4: 384x640 1 your_class_name, 161.4ms\n",
            "video 1/1 (frame 1059/1670) /content/drive/My Drive/YOUR_FOLDER/VID-20250220-WA0006.mp4: 384x640 1 your_class_name, 176.8ms\n",
            "video 1/1 (frame 1060/1670) /content/drive/My Drive/YOUR_FOLDER/VID-20250220-WA0006.mp4: 384x640 1 your_class_name, 157.9ms\n",
            "video 1/1 (frame 1061/1670) /content/drive/My Drive/YOUR_FOLDER/VID-20250220-WA0006.mp4: 384x640 1 your_class_name, 162.3ms\n",
            "video 1/1 (frame 1062/1670) /content/drive/My Drive/YOUR_FOLDER/VID-20250220-WA0006.mp4: 384x640 1 your_class_name, 165.2ms\n",
            "video 1/1 (frame 1063/1670) /content/drive/My Drive/YOUR_FOLDER/VID-20250220-WA0006.mp4: 384x640 1 your_class_name, 155.5ms\n",
            "video 1/1 (frame 1064/1670) /content/drive/My Drive/YOUR_FOLDER/VID-20250220-WA0006.mp4: 384x640 (no detections), 168.4ms\n",
            "video 1/1 (frame 1065/1670) /content/drive/My Drive/YOUR_FOLDER/VID-20250220-WA0006.mp4: 384x640 (no detections), 148.9ms\n",
            "video 1/1 (frame 1066/1670) /content/drive/My Drive/YOUR_FOLDER/VID-20250220-WA0006.mp4: 384x640 (no detections), 152.9ms\n",
            "video 1/1 (frame 1067/1670) /content/drive/My Drive/YOUR_FOLDER/VID-20250220-WA0006.mp4: 384x640 (no detections), 159.0ms\n",
            "video 1/1 (frame 1068/1670) /content/drive/My Drive/YOUR_FOLDER/VID-20250220-WA0006.mp4: 384x640 1 your_class_name, 157.5ms\n",
            "video 1/1 (frame 1069/1670) /content/drive/My Drive/YOUR_FOLDER/VID-20250220-WA0006.mp4: 384x640 1 your_class_name, 158.6ms\n",
            "video 1/1 (frame 1070/1670) /content/drive/My Drive/YOUR_FOLDER/VID-20250220-WA0006.mp4: 384x640 1 your_class_name, 161.0ms\n",
            "video 1/1 (frame 1071/1670) /content/drive/My Drive/YOUR_FOLDER/VID-20250220-WA0006.mp4: 384x640 (no detections), 151.7ms\n",
            "video 1/1 (frame 1072/1670) /content/drive/My Drive/YOUR_FOLDER/VID-20250220-WA0006.mp4: 384x640 1 your_class_name, 185.2ms\n",
            "video 1/1 (frame 1073/1670) /content/drive/My Drive/YOUR_FOLDER/VID-20250220-WA0006.mp4: 384x640 1 your_class_name, 172.1ms\n",
            "video 1/1 (frame 1074/1670) /content/drive/My Drive/YOUR_FOLDER/VID-20250220-WA0006.mp4: 384x640 1 your_class_name, 155.7ms\n",
            "video 1/1 (frame 1075/1670) /content/drive/My Drive/YOUR_FOLDER/VID-20250220-WA0006.mp4: 384x640 1 your_class_name, 168.4ms\n",
            "video 1/1 (frame 1076/1670) /content/drive/My Drive/YOUR_FOLDER/VID-20250220-WA0006.mp4: 384x640 1 your_class_name, 161.8ms\n",
            "video 1/1 (frame 1077/1670) /content/drive/My Drive/YOUR_FOLDER/VID-20250220-WA0006.mp4: 384x640 1 your_class_name, 168.1ms\n",
            "video 1/1 (frame 1078/1670) /content/drive/My Drive/YOUR_FOLDER/VID-20250220-WA0006.mp4: 384x640 1 your_class_name, 156.0ms\n",
            "video 1/1 (frame 1079/1670) /content/drive/My Drive/YOUR_FOLDER/VID-20250220-WA0006.mp4: 384x640 1 your_class_name, 165.8ms\n",
            "video 1/1 (frame 1080/1670) /content/drive/My Drive/YOUR_FOLDER/VID-20250220-WA0006.mp4: 384x640 1 your_class_name, 150.4ms\n",
            "video 1/1 (frame 1081/1670) /content/drive/My Drive/YOUR_FOLDER/VID-20250220-WA0006.mp4: 384x640 1 your_class_name, 171.3ms\n",
            "video 1/1 (frame 1082/1670) /content/drive/My Drive/YOUR_FOLDER/VID-20250220-WA0006.mp4: 384x640 1 your_class_name, 162.2ms\n",
            "video 1/1 (frame 1083/1670) /content/drive/My Drive/YOUR_FOLDER/VID-20250220-WA0006.mp4: 384x640 1 your_class_name, 166.3ms\n",
            "video 1/1 (frame 1084/1670) /content/drive/My Drive/YOUR_FOLDER/VID-20250220-WA0006.mp4: 384x640 (no detections), 159.7ms\n",
            "video 1/1 (frame 1085/1670) /content/drive/My Drive/YOUR_FOLDER/VID-20250220-WA0006.mp4: 384x640 (no detections), 160.7ms\n",
            "video 1/1 (frame 1086/1670) /content/drive/My Drive/YOUR_FOLDER/VID-20250220-WA0006.mp4: 384x640 (no detections), 165.8ms\n",
            "video 1/1 (frame 1087/1670) /content/drive/My Drive/YOUR_FOLDER/VID-20250220-WA0006.mp4: 384x640 (no detections), 151.4ms\n",
            "video 1/1 (frame 1088/1670) /content/drive/My Drive/YOUR_FOLDER/VID-20250220-WA0006.mp4: 384x640 (no detections), 162.7ms\n",
            "video 1/1 (frame 1089/1670) /content/drive/My Drive/YOUR_FOLDER/VID-20250220-WA0006.mp4: 384x640 (no detections), 171.8ms\n",
            "video 1/1 (frame 1090/1670) /content/drive/My Drive/YOUR_FOLDER/VID-20250220-WA0006.mp4: 384x640 (no detections), 164.0ms\n",
            "video 1/1 (frame 1091/1670) /content/drive/My Drive/YOUR_FOLDER/VID-20250220-WA0006.mp4: 384x640 1 your_class_name, 161.1ms\n",
            "video 1/1 (frame 1092/1670) /content/drive/My Drive/YOUR_FOLDER/VID-20250220-WA0006.mp4: 384x640 1 your_class_name, 168.5ms\n",
            "video 1/1 (frame 1093/1670) /content/drive/My Drive/YOUR_FOLDER/VID-20250220-WA0006.mp4: 384x640 1 your_class_name, 156.6ms\n",
            "video 1/1 (frame 1094/1670) /content/drive/My Drive/YOUR_FOLDER/VID-20250220-WA0006.mp4: 384x640 1 your_class_name, 158.7ms\n",
            "video 1/1 (frame 1095/1670) /content/drive/My Drive/YOUR_FOLDER/VID-20250220-WA0006.mp4: 384x640 1 your_class_name, 161.3ms\n",
            "video 1/1 (frame 1096/1670) /content/drive/My Drive/YOUR_FOLDER/VID-20250220-WA0006.mp4: 384x640 1 your_class_name, 159.4ms\n",
            "video 1/1 (frame 1097/1670) /content/drive/My Drive/YOUR_FOLDER/VID-20250220-WA0006.mp4: 384x640 1 your_class_name, 165.5ms\n",
            "video 1/1 (frame 1098/1670) /content/drive/My Drive/YOUR_FOLDER/VID-20250220-WA0006.mp4: 384x640 1 your_class_name, 161.2ms\n",
            "video 1/1 (frame 1099/1670) /content/drive/My Drive/YOUR_FOLDER/VID-20250220-WA0006.mp4: 384x640 1 your_class_name, 158.2ms\n",
            "video 1/1 (frame 1100/1670) /content/drive/My Drive/YOUR_FOLDER/VID-20250220-WA0006.mp4: 384x640 1 your_class_name, 158.2ms\n",
            "video 1/1 (frame 1101/1670) /content/drive/My Drive/YOUR_FOLDER/VID-20250220-WA0006.mp4: 384x640 1 your_class_name, 161.2ms\n",
            "video 1/1 (frame 1102/1670) /content/drive/My Drive/YOUR_FOLDER/VID-20250220-WA0006.mp4: 384x640 1 your_class_name, 151.3ms\n",
            "video 1/1 (frame 1103/1670) /content/drive/My Drive/YOUR_FOLDER/VID-20250220-WA0006.mp4: 384x640 1 your_class_name, 163.6ms\n",
            "video 1/1 (frame 1104/1670) /content/drive/My Drive/YOUR_FOLDER/VID-20250220-WA0006.mp4: 384x640 1 your_class_name, 156.5ms\n",
            "video 1/1 (frame 1105/1670) /content/drive/My Drive/YOUR_FOLDER/VID-20250220-WA0006.mp4: 384x640 1 your_class_name, 164.4ms\n",
            "video 1/1 (frame 1106/1670) /content/drive/My Drive/YOUR_FOLDER/VID-20250220-WA0006.mp4: 384x640 (no detections), 156.2ms\n",
            "video 1/1 (frame 1107/1670) /content/drive/My Drive/YOUR_FOLDER/VID-20250220-WA0006.mp4: 384x640 1 your_class_name, 158.1ms\n",
            "video 1/1 (frame 1108/1670) /content/drive/My Drive/YOUR_FOLDER/VID-20250220-WA0006.mp4: 384x640 1 your_class_name, 170.0ms\n",
            "video 1/1 (frame 1109/1670) /content/drive/My Drive/YOUR_FOLDER/VID-20250220-WA0006.mp4: 384x640 1 your_class_name, 218.7ms\n",
            "video 1/1 (frame 1110/1670) /content/drive/My Drive/YOUR_FOLDER/VID-20250220-WA0006.mp4: 384x640 1 your_class_name, 239.6ms\n",
            "video 1/1 (frame 1111/1670) /content/drive/My Drive/YOUR_FOLDER/VID-20250220-WA0006.mp4: 384x640 1 your_class_name, 236.3ms\n",
            "video 1/1 (frame 1112/1670) /content/drive/My Drive/YOUR_FOLDER/VID-20250220-WA0006.mp4: 384x640 1 your_class_name, 245.3ms\n",
            "video 1/1 (frame 1113/1670) /content/drive/My Drive/YOUR_FOLDER/VID-20250220-WA0006.mp4: 384x640 1 your_class_name, 244.1ms\n",
            "video 1/1 (frame 1114/1670) /content/drive/My Drive/YOUR_FOLDER/VID-20250220-WA0006.mp4: 384x640 1 your_class_name, 246.2ms\n",
            "video 1/1 (frame 1115/1670) /content/drive/My Drive/YOUR_FOLDER/VID-20250220-WA0006.mp4: 384x640 1 your_class_name, 240.9ms\n",
            "video 1/1 (frame 1116/1670) /content/drive/My Drive/YOUR_FOLDER/VID-20250220-WA0006.mp4: 384x640 1 your_class_name, 247.8ms\n",
            "video 1/1 (frame 1117/1670) /content/drive/My Drive/YOUR_FOLDER/VID-20250220-WA0006.mp4: 384x640 1 your_class_name, 243.1ms\n",
            "video 1/1 (frame 1118/1670) /content/drive/My Drive/YOUR_FOLDER/VID-20250220-WA0006.mp4: 384x640 1 your_class_name, 251.3ms\n",
            "video 1/1 (frame 1119/1670) /content/drive/My Drive/YOUR_FOLDER/VID-20250220-WA0006.mp4: 384x640 1 your_class_name, 224.8ms\n",
            "video 1/1 (frame 1120/1670) /content/drive/My Drive/YOUR_FOLDER/VID-20250220-WA0006.mp4: 384x640 1 your_class_name, 255.9ms\n",
            "video 1/1 (frame 1121/1670) /content/drive/My Drive/YOUR_FOLDER/VID-20250220-WA0006.mp4: 384x640 1 your_class_name, 254.4ms\n",
            "video 1/1 (frame 1122/1670) /content/drive/My Drive/YOUR_FOLDER/VID-20250220-WA0006.mp4: 384x640 1 your_class_name, 246.1ms\n",
            "video 1/1 (frame 1123/1670) /content/drive/My Drive/YOUR_FOLDER/VID-20250220-WA0006.mp4: 384x640 1 your_class_name, 245.9ms\n",
            "video 1/1 (frame 1124/1670) /content/drive/My Drive/YOUR_FOLDER/VID-20250220-WA0006.mp4: 384x640 1 your_class_name, 157.3ms\n",
            "video 1/1 (frame 1125/1670) /content/drive/My Drive/YOUR_FOLDER/VID-20250220-WA0006.mp4: 384x640 1 your_class_name, 162.1ms\n",
            "video 1/1 (frame 1126/1670) /content/drive/My Drive/YOUR_FOLDER/VID-20250220-WA0006.mp4: 384x640 1 your_class_name, 160.3ms\n",
            "video 1/1 (frame 1127/1670) /content/drive/My Drive/YOUR_FOLDER/VID-20250220-WA0006.mp4: 384x640 1 your_class_name, 158.3ms\n",
            "video 1/1 (frame 1128/1670) /content/drive/My Drive/YOUR_FOLDER/VID-20250220-WA0006.mp4: 384x640 1 your_class_name, 157.9ms\n",
            "video 1/1 (frame 1129/1670) /content/drive/My Drive/YOUR_FOLDER/VID-20250220-WA0006.mp4: 384x640 1 your_class_name, 168.3ms\n",
            "video 1/1 (frame 1130/1670) /content/drive/My Drive/YOUR_FOLDER/VID-20250220-WA0006.mp4: 384x640 1 your_class_name, 159.2ms\n",
            "video 1/1 (frame 1131/1670) /content/drive/My Drive/YOUR_FOLDER/VID-20250220-WA0006.mp4: 384x640 1 your_class_name, 158.0ms\n",
            "video 1/1 (frame 1132/1670) /content/drive/My Drive/YOUR_FOLDER/VID-20250220-WA0006.mp4: 384x640 1 your_class_name, 157.4ms\n",
            "video 1/1 (frame 1133/1670) /content/drive/My Drive/YOUR_FOLDER/VID-20250220-WA0006.mp4: 384x640 1 your_class_name, 164.7ms\n",
            "video 1/1 (frame 1134/1670) /content/drive/My Drive/YOUR_FOLDER/VID-20250220-WA0006.mp4: 384x640 1 your_class_name, 165.9ms\n",
            "video 1/1 (frame 1135/1670) /content/drive/My Drive/YOUR_FOLDER/VID-20250220-WA0006.mp4: 384x640 1 your_class_name, 170.4ms\n",
            "video 1/1 (frame 1136/1670) /content/drive/My Drive/YOUR_FOLDER/VID-20250220-WA0006.mp4: 384x640 1 your_class_name, 158.0ms\n",
            "video 1/1 (frame 1137/1670) /content/drive/My Drive/YOUR_FOLDER/VID-20250220-WA0006.mp4: 384x640 1 your_class_name, 160.6ms\n",
            "video 1/1 (frame 1138/1670) /content/drive/My Drive/YOUR_FOLDER/VID-20250220-WA0006.mp4: 384x640 1 your_class_name, 155.6ms\n",
            "video 1/1 (frame 1139/1670) /content/drive/My Drive/YOUR_FOLDER/VID-20250220-WA0006.mp4: 384x640 1 your_class_name, 160.7ms\n",
            "video 1/1 (frame 1140/1670) /content/drive/My Drive/YOUR_FOLDER/VID-20250220-WA0006.mp4: 384x640 1 your_class_name, 172.4ms\n",
            "video 1/1 (frame 1141/1670) /content/drive/My Drive/YOUR_FOLDER/VID-20250220-WA0006.mp4: 384x640 1 your_class_name, 168.9ms\n",
            "video 1/1 (frame 1142/1670) /content/drive/My Drive/YOUR_FOLDER/VID-20250220-WA0006.mp4: 384x640 1 your_class_name, 155.0ms\n",
            "video 1/1 (frame 1143/1670) /content/drive/My Drive/YOUR_FOLDER/VID-20250220-WA0006.mp4: 384x640 1 your_class_name, 156.5ms\n",
            "video 1/1 (frame 1144/1670) /content/drive/My Drive/YOUR_FOLDER/VID-20250220-WA0006.mp4: 384x640 1 your_class_name, 171.3ms\n",
            "video 1/1 (frame 1145/1670) /content/drive/My Drive/YOUR_FOLDER/VID-20250220-WA0006.mp4: 384x640 1 your_class_name, 184.1ms\n",
            "video 1/1 (frame 1146/1670) /content/drive/My Drive/YOUR_FOLDER/VID-20250220-WA0006.mp4: 384x640 1 your_class_name, 162.2ms\n",
            "video 1/1 (frame 1147/1670) /content/drive/My Drive/YOUR_FOLDER/VID-20250220-WA0006.mp4: 384x640 1 your_class_name, 166.1ms\n",
            "video 1/1 (frame 1148/1670) /content/drive/My Drive/YOUR_FOLDER/VID-20250220-WA0006.mp4: 384x640 1 your_class_name, 154.8ms\n",
            "video 1/1 (frame 1149/1670) /content/drive/My Drive/YOUR_FOLDER/VID-20250220-WA0006.mp4: 384x640 1 your_class_name, 156.6ms\n",
            "video 1/1 (frame 1150/1670) /content/drive/My Drive/YOUR_FOLDER/VID-20250220-WA0006.mp4: 384x640 1 your_class_name, 155.4ms\n",
            "video 1/1 (frame 1151/1670) /content/drive/My Drive/YOUR_FOLDER/VID-20250220-WA0006.mp4: 384x640 1 your_class_name, 172.7ms\n",
            "video 1/1 (frame 1152/1670) /content/drive/My Drive/YOUR_FOLDER/VID-20250220-WA0006.mp4: 384x640 1 your_class_name, 156.3ms\n",
            "video 1/1 (frame 1153/1670) /content/drive/My Drive/YOUR_FOLDER/VID-20250220-WA0006.mp4: 384x640 1 your_class_name, 148.6ms\n",
            "video 1/1 (frame 1154/1670) /content/drive/My Drive/YOUR_FOLDER/VID-20250220-WA0006.mp4: 384x640 1 your_class_name, 155.4ms\n",
            "video 1/1 (frame 1155/1670) /content/drive/My Drive/YOUR_FOLDER/VID-20250220-WA0006.mp4: 384x640 1 your_class_name, 161.8ms\n",
            "video 1/1 (frame 1156/1670) /content/drive/My Drive/YOUR_FOLDER/VID-20250220-WA0006.mp4: 384x640 1 your_class_name, 176.0ms\n",
            "video 1/1 (frame 1157/1670) /content/drive/My Drive/YOUR_FOLDER/VID-20250220-WA0006.mp4: 384x640 1 your_class_name, 167.1ms\n",
            "video 1/1 (frame 1158/1670) /content/drive/My Drive/YOUR_FOLDER/VID-20250220-WA0006.mp4: 384x640 1 your_class_name, 149.8ms\n",
            "video 1/1 (frame 1159/1670) /content/drive/My Drive/YOUR_FOLDER/VID-20250220-WA0006.mp4: 384x640 1 your_class_name, 151.6ms\n",
            "video 1/1 (frame 1160/1670) /content/drive/My Drive/YOUR_FOLDER/VID-20250220-WA0006.mp4: 384x640 1 your_class_name, 160.3ms\n",
            "video 1/1 (frame 1161/1670) /content/drive/My Drive/YOUR_FOLDER/VID-20250220-WA0006.mp4: 384x640 1 your_class_name, 160.6ms\n",
            "video 1/1 (frame 1162/1670) /content/drive/My Drive/YOUR_FOLDER/VID-20250220-WA0006.mp4: 384x640 1 your_class_name, 163.4ms\n",
            "video 1/1 (frame 1163/1670) /content/drive/My Drive/YOUR_FOLDER/VID-20250220-WA0006.mp4: 384x640 1 your_class_name, 160.0ms\n",
            "video 1/1 (frame 1164/1670) /content/drive/My Drive/YOUR_FOLDER/VID-20250220-WA0006.mp4: 384x640 1 your_class_name, 158.9ms\n",
            "video 1/1 (frame 1165/1670) /content/drive/My Drive/YOUR_FOLDER/VID-20250220-WA0006.mp4: 384x640 1 your_class_name, 158.6ms\n",
            "video 1/1 (frame 1166/1670) /content/drive/My Drive/YOUR_FOLDER/VID-20250220-WA0006.mp4: 384x640 1 your_class_name, 162.7ms\n",
            "video 1/1 (frame 1167/1670) /content/drive/My Drive/YOUR_FOLDER/VID-20250220-WA0006.mp4: 384x640 1 your_class_name, 168.4ms\n",
            "video 1/1 (frame 1168/1670) /content/drive/My Drive/YOUR_FOLDER/VID-20250220-WA0006.mp4: 384x640 1 your_class_name, 153.0ms\n",
            "video 1/1 (frame 1169/1670) /content/drive/My Drive/YOUR_FOLDER/VID-20250220-WA0006.mp4: 384x640 1 your_class_name, 168.9ms\n",
            "video 1/1 (frame 1170/1670) /content/drive/My Drive/YOUR_FOLDER/VID-20250220-WA0006.mp4: 384x640 1 your_class_name, 169.0ms\n",
            "video 1/1 (frame 1171/1670) /content/drive/My Drive/YOUR_FOLDER/VID-20250220-WA0006.mp4: 384x640 1 your_class_name, 158.4ms\n",
            "video 1/1 (frame 1172/1670) /content/drive/My Drive/YOUR_FOLDER/VID-20250220-WA0006.mp4: 384x640 1 your_class_name, 162.5ms\n",
            "video 1/1 (frame 1173/1670) /content/drive/My Drive/YOUR_FOLDER/VID-20250220-WA0006.mp4: 384x640 1 your_class_name, 180.7ms\n",
            "video 1/1 (frame 1174/1670) /content/drive/My Drive/YOUR_FOLDER/VID-20250220-WA0006.mp4: 384x640 2 your_class_names, 155.0ms\n",
            "video 1/1 (frame 1175/1670) /content/drive/My Drive/YOUR_FOLDER/VID-20250220-WA0006.mp4: 384x640 1 your_class_name, 162.6ms\n",
            "video 1/1 (frame 1176/1670) /content/drive/My Drive/YOUR_FOLDER/VID-20250220-WA0006.mp4: 384x640 1 your_class_name, 184.5ms\n",
            "video 1/1 (frame 1177/1670) /content/drive/My Drive/YOUR_FOLDER/VID-20250220-WA0006.mp4: 384x640 2 your_class_names, 249.9ms\n",
            "video 1/1 (frame 1178/1670) /content/drive/My Drive/YOUR_FOLDER/VID-20250220-WA0006.mp4: 384x640 2 your_class_names, 245.0ms\n",
            "video 1/1 (frame 1179/1670) /content/drive/My Drive/YOUR_FOLDER/VID-20250220-WA0006.mp4: 384x640 1 your_class_name, 232.4ms\n",
            "video 1/1 (frame 1180/1670) /content/drive/My Drive/YOUR_FOLDER/VID-20250220-WA0006.mp4: 384x640 2 your_class_names, 231.2ms\n",
            "video 1/1 (frame 1181/1670) /content/drive/My Drive/YOUR_FOLDER/VID-20250220-WA0006.mp4: 384x640 2 your_class_names, 241.9ms\n",
            "video 1/1 (frame 1182/1670) /content/drive/My Drive/YOUR_FOLDER/VID-20250220-WA0006.mp4: 384x640 1 your_class_name, 241.8ms\n",
            "video 1/1 (frame 1183/1670) /content/drive/My Drive/YOUR_FOLDER/VID-20250220-WA0006.mp4: 384x640 2 your_class_names, 235.4ms\n",
            "video 1/1 (frame 1184/1670) /content/drive/My Drive/YOUR_FOLDER/VID-20250220-WA0006.mp4: 384x640 3 your_class_names, 244.1ms\n",
            "video 1/1 (frame 1185/1670) /content/drive/My Drive/YOUR_FOLDER/VID-20250220-WA0006.mp4: 384x640 1 your_class_name, 251.4ms\n",
            "video 1/1 (frame 1186/1670) /content/drive/My Drive/YOUR_FOLDER/VID-20250220-WA0006.mp4: 384x640 1 your_class_name, 226.6ms\n",
            "video 1/1 (frame 1187/1670) /content/drive/My Drive/YOUR_FOLDER/VID-20250220-WA0006.mp4: 384x640 3 your_class_names, 225.2ms\n",
            "video 1/1 (frame 1188/1670) /content/drive/My Drive/YOUR_FOLDER/VID-20250220-WA0006.mp4: 384x640 2 your_class_names, 248.8ms\n",
            "video 1/1 (frame 1189/1670) /content/drive/My Drive/YOUR_FOLDER/VID-20250220-WA0006.mp4: 384x640 2 your_class_names, 265.8ms\n",
            "video 1/1 (frame 1190/1670) /content/drive/My Drive/YOUR_FOLDER/VID-20250220-WA0006.mp4: 384x640 2 your_class_names, 250.9ms\n",
            "video 1/1 (frame 1191/1670) /content/drive/My Drive/YOUR_FOLDER/VID-20250220-WA0006.mp4: 384x640 2 your_class_names, 197.7ms\n",
            "video 1/1 (frame 1192/1670) /content/drive/My Drive/YOUR_FOLDER/VID-20250220-WA0006.mp4: 384x640 2 your_class_names, 159.2ms\n",
            "video 1/1 (frame 1193/1670) /content/drive/My Drive/YOUR_FOLDER/VID-20250220-WA0006.mp4: 384x640 3 your_class_names, 167.1ms\n",
            "video 1/1 (frame 1194/1670) /content/drive/My Drive/YOUR_FOLDER/VID-20250220-WA0006.mp4: 384x640 2 your_class_names, 158.6ms\n",
            "video 1/1 (frame 1195/1670) /content/drive/My Drive/YOUR_FOLDER/VID-20250220-WA0006.mp4: 384x640 2 your_class_names, 158.9ms\n",
            "video 1/1 (frame 1196/1670) /content/drive/My Drive/YOUR_FOLDER/VID-20250220-WA0006.mp4: 384x640 2 your_class_names, 161.0ms\n",
            "video 1/1 (frame 1197/1670) /content/drive/My Drive/YOUR_FOLDER/VID-20250220-WA0006.mp4: 384x640 2 your_class_names, 160.7ms\n",
            "video 1/1 (frame 1198/1670) /content/drive/My Drive/YOUR_FOLDER/VID-20250220-WA0006.mp4: 384x640 3 your_class_names, 176.3ms\n",
            "video 1/1 (frame 1199/1670) /content/drive/My Drive/YOUR_FOLDER/VID-20250220-WA0006.mp4: 384x640 1 your_class_name, 173.0ms\n",
            "video 1/1 (frame 1200/1670) /content/drive/My Drive/YOUR_FOLDER/VID-20250220-WA0006.mp4: 384x640 3 your_class_names, 161.4ms\n",
            "video 1/1 (frame 1201/1670) /content/drive/My Drive/YOUR_FOLDER/VID-20250220-WA0006.mp4: 384x640 4 your_class_names, 159.0ms\n",
            "video 1/1 (frame 1202/1670) /content/drive/My Drive/YOUR_FOLDER/VID-20250220-WA0006.mp4: 384x640 4 your_class_names, 157.7ms\n",
            "video 1/1 (frame 1203/1670) /content/drive/My Drive/YOUR_FOLDER/VID-20250220-WA0006.mp4: 384x640 3 your_class_names, 165.8ms\n",
            "video 1/1 (frame 1204/1670) /content/drive/My Drive/YOUR_FOLDER/VID-20250220-WA0006.mp4: 384x640 2 your_class_names, 160.3ms\n",
            "video 1/1 (frame 1205/1670) /content/drive/My Drive/YOUR_FOLDER/VID-20250220-WA0006.mp4: 384x640 4 your_class_names, 157.0ms\n",
            "video 1/1 (frame 1206/1670) /content/drive/My Drive/YOUR_FOLDER/VID-20250220-WA0006.mp4: 384x640 3 your_class_names, 157.4ms\n",
            "video 1/1 (frame 1207/1670) /content/drive/My Drive/YOUR_FOLDER/VID-20250220-WA0006.mp4: 384x640 3 your_class_names, 167.1ms\n",
            "video 1/1 (frame 1208/1670) /content/drive/My Drive/YOUR_FOLDER/VID-20250220-WA0006.mp4: 384x640 3 your_class_names, 161.8ms\n",
            "video 1/1 (frame 1209/1670) /content/drive/My Drive/YOUR_FOLDER/VID-20250220-WA0006.mp4: 384x640 3 your_class_names, 162.4ms\n",
            "video 1/1 (frame 1210/1670) /content/drive/My Drive/YOUR_FOLDER/VID-20250220-WA0006.mp4: 384x640 3 your_class_names, 171.1ms\n",
            "video 1/1 (frame 1211/1670) /content/drive/My Drive/YOUR_FOLDER/VID-20250220-WA0006.mp4: 384x640 2 your_class_names, 162.3ms\n",
            "video 1/1 (frame 1212/1670) /content/drive/My Drive/YOUR_FOLDER/VID-20250220-WA0006.mp4: 384x640 2 your_class_names, 161.6ms\n",
            "video 1/1 (frame 1213/1670) /content/drive/My Drive/YOUR_FOLDER/VID-20250220-WA0006.mp4: 384x640 2 your_class_names, 159.5ms\n",
            "video 1/1 (frame 1214/1670) /content/drive/My Drive/YOUR_FOLDER/VID-20250220-WA0006.mp4: 384x640 2 your_class_names, 160.9ms\n",
            "video 1/1 (frame 1215/1670) /content/drive/My Drive/YOUR_FOLDER/VID-20250220-WA0006.mp4: 384x640 2 your_class_names, 183.1ms\n",
            "video 1/1 (frame 1216/1670) /content/drive/My Drive/YOUR_FOLDER/VID-20250220-WA0006.mp4: 384x640 2 your_class_names, 159.6ms\n",
            "video 1/1 (frame 1217/1670) /content/drive/My Drive/YOUR_FOLDER/VID-20250220-WA0006.mp4: 384x640 2 your_class_names, 157.6ms\n",
            "video 1/1 (frame 1218/1670) /content/drive/My Drive/YOUR_FOLDER/VID-20250220-WA0006.mp4: 384x640 2 your_class_names, 161.5ms\n",
            "video 1/1 (frame 1219/1670) /content/drive/My Drive/YOUR_FOLDER/VID-20250220-WA0006.mp4: 384x640 2 your_class_names, 175.5ms\n",
            "video 1/1 (frame 1220/1670) /content/drive/My Drive/YOUR_FOLDER/VID-20250220-WA0006.mp4: 384x640 2 your_class_names, 158.5ms\n",
            "video 1/1 (frame 1221/1670) /content/drive/My Drive/YOUR_FOLDER/VID-20250220-WA0006.mp4: 384x640 2 your_class_names, 151.8ms\n",
            "video 1/1 (frame 1222/1670) /content/drive/My Drive/YOUR_FOLDER/VID-20250220-WA0006.mp4: 384x640 1 your_class_name, 159.4ms\n",
            "video 1/1 (frame 1223/1670) /content/drive/My Drive/YOUR_FOLDER/VID-20250220-WA0006.mp4: 384x640 1 your_class_name, 156.7ms\n",
            "video 1/1 (frame 1224/1670) /content/drive/My Drive/YOUR_FOLDER/VID-20250220-WA0006.mp4: 384x640 1 your_class_name, 159.2ms\n",
            "video 1/1 (frame 1225/1670) /content/drive/My Drive/YOUR_FOLDER/VID-20250220-WA0006.mp4: 384x640 1 your_class_name, 160.5ms\n",
            "video 1/1 (frame 1226/1670) /content/drive/My Drive/YOUR_FOLDER/VID-20250220-WA0006.mp4: 384x640 2 your_class_names, 169.7ms\n",
            "video 1/1 (frame 1227/1670) /content/drive/My Drive/YOUR_FOLDER/VID-20250220-WA0006.mp4: 384x640 1 your_class_name, 163.6ms\n",
            "video 1/1 (frame 1228/1670) /content/drive/My Drive/YOUR_FOLDER/VID-20250220-WA0006.mp4: 384x640 1 your_class_name, 162.4ms\n",
            "video 1/1 (frame 1229/1670) /content/drive/My Drive/YOUR_FOLDER/VID-20250220-WA0006.mp4: 384x640 1 your_class_name, 168.9ms\n",
            "video 1/1 (frame 1230/1670) /content/drive/My Drive/YOUR_FOLDER/VID-20250220-WA0006.mp4: 384x640 1 your_class_name, 149.3ms\n",
            "video 1/1 (frame 1231/1670) /content/drive/My Drive/YOUR_FOLDER/VID-20250220-WA0006.mp4: 384x640 1 your_class_name, 170.1ms\n",
            "video 1/1 (frame 1232/1670) /content/drive/My Drive/YOUR_FOLDER/VID-20250220-WA0006.mp4: 384x640 1 your_class_name, 171.1ms\n",
            "video 1/1 (frame 1233/1670) /content/drive/My Drive/YOUR_FOLDER/VID-20250220-WA0006.mp4: 384x640 2 your_class_names, 156.1ms\n",
            "video 1/1 (frame 1234/1670) /content/drive/My Drive/YOUR_FOLDER/VID-20250220-WA0006.mp4: 384x640 1 your_class_name, 155.5ms\n",
            "video 1/1 (frame 1235/1670) /content/drive/My Drive/YOUR_FOLDER/VID-20250220-WA0006.mp4: 384x640 1 your_class_name, 165.6ms\n",
            "video 1/1 (frame 1236/1670) /content/drive/My Drive/YOUR_FOLDER/VID-20250220-WA0006.mp4: 384x640 3 your_class_names, 173.0ms\n",
            "video 1/1 (frame 1237/1670) /content/drive/My Drive/YOUR_FOLDER/VID-20250220-WA0006.mp4: 384x640 2 your_class_names, 167.9ms\n",
            "video 1/1 (frame 1238/1670) /content/drive/My Drive/YOUR_FOLDER/VID-20250220-WA0006.mp4: 384x640 1 your_class_name, 155.8ms\n",
            "video 1/1 (frame 1239/1670) /content/drive/My Drive/YOUR_FOLDER/VID-20250220-WA0006.mp4: 384x640 1 your_class_name, 153.7ms\n",
            "video 1/1 (frame 1240/1670) /content/drive/My Drive/YOUR_FOLDER/VID-20250220-WA0006.mp4: 384x640 1 your_class_name, 162.0ms\n",
            "video 1/1 (frame 1241/1670) /content/drive/My Drive/YOUR_FOLDER/VID-20250220-WA0006.mp4: 384x640 2 your_class_names, 168.4ms\n",
            "video 1/1 (frame 1242/1670) /content/drive/My Drive/YOUR_FOLDER/VID-20250220-WA0006.mp4: 384x640 1 your_class_name, 172.1ms\n",
            "video 1/1 (frame 1243/1670) /content/drive/My Drive/YOUR_FOLDER/VID-20250220-WA0006.mp4: 384x640 1 your_class_name, 205.7ms\n",
            "video 1/1 (frame 1244/1670) /content/drive/My Drive/YOUR_FOLDER/VID-20250220-WA0006.mp4: 384x640 1 your_class_name, 247.3ms\n",
            "video 1/1 (frame 1245/1670) /content/drive/My Drive/YOUR_FOLDER/VID-20250220-WA0006.mp4: 384x640 2 your_class_names, 238.1ms\n",
            "video 1/1 (frame 1246/1670) /content/drive/My Drive/YOUR_FOLDER/VID-20250220-WA0006.mp4: 384x640 2 your_class_names, 255.6ms\n",
            "video 1/1 (frame 1247/1670) /content/drive/My Drive/YOUR_FOLDER/VID-20250220-WA0006.mp4: 384x640 1 your_class_name, 233.0ms\n",
            "video 1/1 (frame 1248/1670) /content/drive/My Drive/YOUR_FOLDER/VID-20250220-WA0006.mp4: 384x640 1 your_class_name, 238.1ms\n",
            "video 1/1 (frame 1249/1670) /content/drive/My Drive/YOUR_FOLDER/VID-20250220-WA0006.mp4: 384x640 3 your_class_names, 270.1ms\n",
            "video 1/1 (frame 1250/1670) /content/drive/My Drive/YOUR_FOLDER/VID-20250220-WA0006.mp4: 384x640 2 your_class_names, 248.7ms\n",
            "video 1/1 (frame 1251/1670) /content/drive/My Drive/YOUR_FOLDER/VID-20250220-WA0006.mp4: 384x640 1 your_class_name, 247.4ms\n",
            "video 1/1 (frame 1252/1670) /content/drive/My Drive/YOUR_FOLDER/VID-20250220-WA0006.mp4: 384x640 3 your_class_names, 234.8ms\n",
            "video 1/1 (frame 1253/1670) /content/drive/My Drive/YOUR_FOLDER/VID-20250220-WA0006.mp4: 384x640 2 your_class_names, 241.6ms\n",
            "video 1/1 (frame 1254/1670) /content/drive/My Drive/YOUR_FOLDER/VID-20250220-WA0006.mp4: 384x640 2 your_class_names, 261.4ms\n",
            "video 1/1 (frame 1255/1670) /content/drive/My Drive/YOUR_FOLDER/VID-20250220-WA0006.mp4: 384x640 1 your_class_name, 253.2ms\n",
            "video 1/1 (frame 1256/1670) /content/drive/My Drive/YOUR_FOLDER/VID-20250220-WA0006.mp4: 384x640 2 your_class_names, 252.3ms\n",
            "video 1/1 (frame 1257/1670) /content/drive/My Drive/YOUR_FOLDER/VID-20250220-WA0006.mp4: 384x640 2 your_class_names, 242.9ms\n",
            "video 1/1 (frame 1258/1670) /content/drive/My Drive/YOUR_FOLDER/VID-20250220-WA0006.mp4: 384x640 1 your_class_name, 154.9ms\n",
            "video 1/1 (frame 1259/1670) /content/drive/My Drive/YOUR_FOLDER/VID-20250220-WA0006.mp4: 384x640 2 your_class_names, 174.6ms\n",
            "video 1/1 (frame 1260/1670) /content/drive/My Drive/YOUR_FOLDER/VID-20250220-WA0006.mp4: 384x640 3 your_class_names, 162.7ms\n",
            "video 1/1 (frame 1261/1670) /content/drive/My Drive/YOUR_FOLDER/VID-20250220-WA0006.mp4: 384x640 3 your_class_names, 167.5ms\n",
            "video 1/1 (frame 1262/1670) /content/drive/My Drive/YOUR_FOLDER/VID-20250220-WA0006.mp4: 384x640 3 your_class_names, 164.0ms\n",
            "video 1/1 (frame 1263/1670) /content/drive/My Drive/YOUR_FOLDER/VID-20250220-WA0006.mp4: 384x640 2 your_class_names, 161.5ms\n",
            "video 1/1 (frame 1264/1670) /content/drive/My Drive/YOUR_FOLDER/VID-20250220-WA0006.mp4: 384x640 2 your_class_names, 163.4ms\n",
            "video 1/1 (frame 1265/1670) /content/drive/My Drive/YOUR_FOLDER/VID-20250220-WA0006.mp4: 384x640 2 your_class_names, 159.8ms\n",
            "video 1/1 (frame 1266/1670) /content/drive/My Drive/YOUR_FOLDER/VID-20250220-WA0006.mp4: 384x640 2 your_class_names, 163.3ms\n",
            "video 1/1 (frame 1267/1670) /content/drive/My Drive/YOUR_FOLDER/VID-20250220-WA0006.mp4: 384x640 2 your_class_names, 167.4ms\n",
            "video 1/1 (frame 1268/1670) /content/drive/My Drive/YOUR_FOLDER/VID-20250220-WA0006.mp4: 384x640 4 your_class_names, 180.5ms\n",
            "video 1/1 (frame 1269/1670) /content/drive/My Drive/YOUR_FOLDER/VID-20250220-WA0006.mp4: 384x640 2 your_class_names, 167.2ms\n",
            "video 1/1 (frame 1270/1670) /content/drive/My Drive/YOUR_FOLDER/VID-20250220-WA0006.mp4: 384x640 2 your_class_names, 149.2ms\n",
            "video 1/1 (frame 1271/1670) /content/drive/My Drive/YOUR_FOLDER/VID-20250220-WA0006.mp4: 384x640 3 your_class_names, 171.4ms\n",
            "video 1/1 (frame 1272/1670) /content/drive/My Drive/YOUR_FOLDER/VID-20250220-WA0006.mp4: 384x640 3 your_class_names, 158.8ms\n",
            "video 1/1 (frame 1273/1670) /content/drive/My Drive/YOUR_FOLDER/VID-20250220-WA0006.mp4: 384x640 2 your_class_names, 178.8ms\n",
            "video 1/1 (frame 1274/1670) /content/drive/My Drive/YOUR_FOLDER/VID-20250220-WA0006.mp4: 384x640 2 your_class_names, 158.6ms\n",
            "video 1/1 (frame 1275/1670) /content/drive/My Drive/YOUR_FOLDER/VID-20250220-WA0006.mp4: 384x640 2 your_class_names, 160.3ms\n",
            "video 1/1 (frame 1276/1670) /content/drive/My Drive/YOUR_FOLDER/VID-20250220-WA0006.mp4: 384x640 3 your_class_names, 169.8ms\n",
            "video 1/1 (frame 1277/1670) /content/drive/My Drive/YOUR_FOLDER/VID-20250220-WA0006.mp4: 384x640 2 your_class_names, 164.9ms\n",
            "video 1/1 (frame 1278/1670) /content/drive/My Drive/YOUR_FOLDER/VID-20250220-WA0006.mp4: 384x640 2 your_class_names, 165.6ms\n",
            "video 1/1 (frame 1279/1670) /content/drive/My Drive/YOUR_FOLDER/VID-20250220-WA0006.mp4: 384x640 2 your_class_names, 172.9ms\n",
            "video 1/1 (frame 1280/1670) /content/drive/My Drive/YOUR_FOLDER/VID-20250220-WA0006.mp4: 384x640 2 your_class_names, 160.7ms\n",
            "video 1/1 (frame 1281/1670) /content/drive/My Drive/YOUR_FOLDER/VID-20250220-WA0006.mp4: 384x640 2 your_class_names, 165.5ms\n",
            "video 1/1 (frame 1282/1670) /content/drive/My Drive/YOUR_FOLDER/VID-20250220-WA0006.mp4: 384x640 2 your_class_names, 162.5ms\n",
            "video 1/1 (frame 1283/1670) /content/drive/My Drive/YOUR_FOLDER/VID-20250220-WA0006.mp4: 384x640 2 your_class_names, 176.9ms\n",
            "video 1/1 (frame 1284/1670) /content/drive/My Drive/YOUR_FOLDER/VID-20250220-WA0006.mp4: 384x640 1 your_class_name, 169.4ms\n",
            "video 1/1 (frame 1285/1670) /content/drive/My Drive/YOUR_FOLDER/VID-20250220-WA0006.mp4: 384x640 1 your_class_name, 168.4ms\n",
            "video 1/1 (frame 1286/1670) /content/drive/My Drive/YOUR_FOLDER/VID-20250220-WA0006.mp4: 384x640 2 your_class_names, 163.5ms\n",
            "video 1/1 (frame 1287/1670) /content/drive/My Drive/YOUR_FOLDER/VID-20250220-WA0006.mp4: 384x640 1 your_class_name, 164.6ms\n",
            "video 1/1 (frame 1288/1670) /content/drive/My Drive/YOUR_FOLDER/VID-20250220-WA0006.mp4: 384x640 (no detections), 167.6ms\n",
            "video 1/1 (frame 1289/1670) /content/drive/My Drive/YOUR_FOLDER/VID-20250220-WA0006.mp4: 384x640 (no detections), 166.8ms\n",
            "video 1/1 (frame 1290/1670) /content/drive/My Drive/YOUR_FOLDER/VID-20250220-WA0006.mp4: 384x640 (no detections), 168.7ms\n",
            "video 1/1 (frame 1291/1670) /content/drive/My Drive/YOUR_FOLDER/VID-20250220-WA0006.mp4: 384x640 (no detections), 161.0ms\n",
            "video 1/1 (frame 1292/1670) /content/drive/My Drive/YOUR_FOLDER/VID-20250220-WA0006.mp4: 384x640 (no detections), 162.2ms\n",
            "video 1/1 (frame 1293/1670) /content/drive/My Drive/YOUR_FOLDER/VID-20250220-WA0006.mp4: 384x640 (no detections), 158.4ms\n",
            "video 1/1 (frame 1294/1670) /content/drive/My Drive/YOUR_FOLDER/VID-20250220-WA0006.mp4: 384x640 (no detections), 167.9ms\n",
            "video 1/1 (frame 1295/1670) /content/drive/My Drive/YOUR_FOLDER/VID-20250220-WA0006.mp4: 384x640 (no detections), 167.7ms\n",
            "video 1/1 (frame 1296/1670) /content/drive/My Drive/YOUR_FOLDER/VID-20250220-WA0006.mp4: 384x640 (no detections), 162.3ms\n",
            "video 1/1 (frame 1297/1670) /content/drive/My Drive/YOUR_FOLDER/VID-20250220-WA0006.mp4: 384x640 (no detections), 161.3ms\n",
            "video 1/1 (frame 1298/1670) /content/drive/My Drive/YOUR_FOLDER/VID-20250220-WA0006.mp4: 384x640 (no detections), 161.6ms\n",
            "video 1/1 (frame 1299/1670) /content/drive/My Drive/YOUR_FOLDER/VID-20250220-WA0006.mp4: 384x640 (no detections), 162.7ms\n",
            "video 1/1 (frame 1300/1670) /content/drive/My Drive/YOUR_FOLDER/VID-20250220-WA0006.mp4: 384x640 (no detections), 158.6ms\n",
            "video 1/1 (frame 1301/1670) /content/drive/My Drive/YOUR_FOLDER/VID-20250220-WA0006.mp4: 384x640 (no detections), 160.3ms\n",
            "video 1/1 (frame 1302/1670) /content/drive/My Drive/YOUR_FOLDER/VID-20250220-WA0006.mp4: 384x640 (no detections), 164.3ms\n",
            "video 1/1 (frame 1303/1670) /content/drive/My Drive/YOUR_FOLDER/VID-20250220-WA0006.mp4: 384x640 (no detections), 166.4ms\n",
            "video 1/1 (frame 1304/1670) /content/drive/My Drive/YOUR_FOLDER/VID-20250220-WA0006.mp4: 384x640 (no detections), 152.9ms\n",
            "video 1/1 (frame 1305/1670) /content/drive/My Drive/YOUR_FOLDER/VID-20250220-WA0006.mp4: 384x640 (no detections), 157.4ms\n",
            "video 1/1 (frame 1306/1670) /content/drive/My Drive/YOUR_FOLDER/VID-20250220-WA0006.mp4: 384x640 (no detections), 166.7ms\n",
            "video 1/1 (frame 1307/1670) /content/drive/My Drive/YOUR_FOLDER/VID-20250220-WA0006.mp4: 384x640 (no detections), 154.3ms\n",
            "video 1/1 (frame 1308/1670) /content/drive/My Drive/YOUR_FOLDER/VID-20250220-WA0006.mp4: 384x640 (no detections), 161.0ms\n",
            "video 1/1 (frame 1309/1670) /content/drive/My Drive/YOUR_FOLDER/VID-20250220-WA0006.mp4: 384x640 (no detections), 168.9ms\n",
            "video 1/1 (frame 1310/1670) /content/drive/My Drive/YOUR_FOLDER/VID-20250220-WA0006.mp4: 384x640 (no detections), 219.3ms\n",
            "video 1/1 (frame 1311/1670) /content/drive/My Drive/YOUR_FOLDER/VID-20250220-WA0006.mp4: 384x640 (no detections), 258.4ms\n",
            "video 1/1 (frame 1312/1670) /content/drive/My Drive/YOUR_FOLDER/VID-20250220-WA0006.mp4: 384x640 (no detections), 231.1ms\n",
            "video 1/1 (frame 1313/1670) /content/drive/My Drive/YOUR_FOLDER/VID-20250220-WA0006.mp4: 384x640 (no detections), 250.1ms\n",
            "video 1/1 (frame 1314/1670) /content/drive/My Drive/YOUR_FOLDER/VID-20250220-WA0006.mp4: 384x640 (no detections), 229.7ms\n",
            "video 1/1 (frame 1315/1670) /content/drive/My Drive/YOUR_FOLDER/VID-20250220-WA0006.mp4: 384x640 (no detections), 254.8ms\n",
            "video 1/1 (frame 1316/1670) /content/drive/My Drive/YOUR_FOLDER/VID-20250220-WA0006.mp4: 384x640 (no detections), 250.9ms\n",
            "video 1/1 (frame 1317/1670) /content/drive/My Drive/YOUR_FOLDER/VID-20250220-WA0006.mp4: 384x640 (no detections), 247.9ms\n",
            "video 1/1 (frame 1318/1670) /content/drive/My Drive/YOUR_FOLDER/VID-20250220-WA0006.mp4: 384x640 (no detections), 234.1ms\n",
            "video 1/1 (frame 1319/1670) /content/drive/My Drive/YOUR_FOLDER/VID-20250220-WA0006.mp4: 384x640 (no detections), 273.2ms\n",
            "video 1/1 (frame 1320/1670) /content/drive/My Drive/YOUR_FOLDER/VID-20250220-WA0006.mp4: 384x640 (no detections), 237.8ms\n",
            "video 1/1 (frame 1321/1670) /content/drive/My Drive/YOUR_FOLDER/VID-20250220-WA0006.mp4: 384x640 (no detections), 247.8ms\n",
            "video 1/1 (frame 1322/1670) /content/drive/My Drive/YOUR_FOLDER/VID-20250220-WA0006.mp4: 384x640 (no detections), 263.7ms\n",
            "video 1/1 (frame 1323/1670) /content/drive/My Drive/YOUR_FOLDER/VID-20250220-WA0006.mp4: 384x640 (no detections), 239.1ms\n",
            "video 1/1 (frame 1324/1670) /content/drive/My Drive/YOUR_FOLDER/VID-20250220-WA0006.mp4: 384x640 (no detections), 216.6ms\n",
            "video 1/1 (frame 1325/1670) /content/drive/My Drive/YOUR_FOLDER/VID-20250220-WA0006.mp4: 384x640 (no detections), 159.4ms\n",
            "video 1/1 (frame 1326/1670) /content/drive/My Drive/YOUR_FOLDER/VID-20250220-WA0006.mp4: 384x640 (no detections), 151.9ms\n",
            "video 1/1 (frame 1327/1670) /content/drive/My Drive/YOUR_FOLDER/VID-20250220-WA0006.mp4: 384x640 (no detections), 169.1ms\n",
            "video 1/1 (frame 1328/1670) /content/drive/My Drive/YOUR_FOLDER/VID-20250220-WA0006.mp4: 384x640 (no detections), 158.8ms\n",
            "video 1/1 (frame 1329/1670) /content/drive/My Drive/YOUR_FOLDER/VID-20250220-WA0006.mp4: 384x640 (no detections), 157.9ms\n",
            "video 1/1 (frame 1330/1670) /content/drive/My Drive/YOUR_FOLDER/VID-20250220-WA0006.mp4: 384x640 (no detections), 156.3ms\n",
            "video 1/1 (frame 1331/1670) /content/drive/My Drive/YOUR_FOLDER/VID-20250220-WA0006.mp4: 384x640 (no detections), 158.3ms\n",
            "video 1/1 (frame 1332/1670) /content/drive/My Drive/YOUR_FOLDER/VID-20250220-WA0006.mp4: 384x640 (no detections), 165.0ms\n",
            "video 1/1 (frame 1333/1670) /content/drive/My Drive/YOUR_FOLDER/VID-20250220-WA0006.mp4: 384x640 (no detections), 176.3ms\n",
            "video 1/1 (frame 1334/1670) /content/drive/My Drive/YOUR_FOLDER/VID-20250220-WA0006.mp4: 384x640 (no detections), 161.4ms\n",
            "video 1/1 (frame 1335/1670) /content/drive/My Drive/YOUR_FOLDER/VID-20250220-WA0006.mp4: 384x640 (no detections), 153.9ms\n",
            "video 1/1 (frame 1336/1670) /content/drive/My Drive/YOUR_FOLDER/VID-20250220-WA0006.mp4: 384x640 (no detections), 160.5ms\n",
            "video 1/1 (frame 1337/1670) /content/drive/My Drive/YOUR_FOLDER/VID-20250220-WA0006.mp4: 384x640 (no detections), 154.6ms\n",
            "video 1/1 (frame 1338/1670) /content/drive/My Drive/YOUR_FOLDER/VID-20250220-WA0006.mp4: 384x640 (no detections), 169.9ms\n",
            "video 1/1 (frame 1339/1670) /content/drive/My Drive/YOUR_FOLDER/VID-20250220-WA0006.mp4: 384x640 (no detections), 162.3ms\n",
            "video 1/1 (frame 1340/1670) /content/drive/My Drive/YOUR_FOLDER/VID-20250220-WA0006.mp4: 384x640 (no detections), 161.0ms\n",
            "video 1/1 (frame 1341/1670) /content/drive/My Drive/YOUR_FOLDER/VID-20250220-WA0006.mp4: 384x640 (no detections), 165.3ms\n",
            "video 1/1 (frame 1342/1670) /content/drive/My Drive/YOUR_FOLDER/VID-20250220-WA0006.mp4: 384x640 (no detections), 151.4ms\n",
            "video 1/1 (frame 1343/1670) /content/drive/My Drive/YOUR_FOLDER/VID-20250220-WA0006.mp4: 384x640 (no detections), 158.8ms\n",
            "video 1/1 (frame 1344/1670) /content/drive/My Drive/YOUR_FOLDER/VID-20250220-WA0006.mp4: 384x640 (no detections), 173.5ms\n",
            "video 1/1 (frame 1345/1670) /content/drive/My Drive/YOUR_FOLDER/VID-20250220-WA0006.mp4: 384x640 (no detections), 155.9ms\n",
            "video 1/1 (frame 1346/1670) /content/drive/My Drive/YOUR_FOLDER/VID-20250220-WA0006.mp4: 384x640 (no detections), 164.0ms\n",
            "video 1/1 (frame 1347/1670) /content/drive/My Drive/YOUR_FOLDER/VID-20250220-WA0006.mp4: 384x640 (no detections), 158.2ms\n",
            "video 1/1 (frame 1348/1670) /content/drive/My Drive/YOUR_FOLDER/VID-20250220-WA0006.mp4: 384x640 (no detections), 165.1ms\n",
            "video 1/1 (frame 1349/1670) /content/drive/My Drive/YOUR_FOLDER/VID-20250220-WA0006.mp4: 384x640 (no detections), 160.5ms\n",
            "video 1/1 (frame 1350/1670) /content/drive/My Drive/YOUR_FOLDER/VID-20250220-WA0006.mp4: 384x640 (no detections), 158.0ms\n",
            "video 1/1 (frame 1351/1670) /content/drive/My Drive/YOUR_FOLDER/VID-20250220-WA0006.mp4: 384x640 (no detections), 166.0ms\n",
            "video 1/1 (frame 1352/1670) /content/drive/My Drive/YOUR_FOLDER/VID-20250220-WA0006.mp4: 384x640 (no detections), 162.2ms\n",
            "video 1/1 (frame 1353/1670) /content/drive/My Drive/YOUR_FOLDER/VID-20250220-WA0006.mp4: 384x640 (no detections), 162.0ms\n",
            "video 1/1 (frame 1354/1670) /content/drive/My Drive/YOUR_FOLDER/VID-20250220-WA0006.mp4: 384x640 (no detections), 161.2ms\n",
            "video 1/1 (frame 1355/1670) /content/drive/My Drive/YOUR_FOLDER/VID-20250220-WA0006.mp4: 384x640 (no detections), 167.7ms\n",
            "video 1/1 (frame 1356/1670) /content/drive/My Drive/YOUR_FOLDER/VID-20250220-WA0006.mp4: 384x640 (no detections), 162.9ms\n",
            "video 1/1 (frame 1357/1670) /content/drive/My Drive/YOUR_FOLDER/VID-20250220-WA0006.mp4: 384x640 (no detections), 150.8ms\n",
            "video 1/1 (frame 1358/1670) /content/drive/My Drive/YOUR_FOLDER/VID-20250220-WA0006.mp4: 384x640 (no detections), 153.7ms\n",
            "video 1/1 (frame 1359/1670) /content/drive/My Drive/YOUR_FOLDER/VID-20250220-WA0006.mp4: 384x640 (no detections), 160.2ms\n",
            "video 1/1 (frame 1360/1670) /content/drive/My Drive/YOUR_FOLDER/VID-20250220-WA0006.mp4: 384x640 (no detections), 166.3ms\n",
            "video 1/1 (frame 1361/1670) /content/drive/My Drive/YOUR_FOLDER/VID-20250220-WA0006.mp4: 384x640 (no detections), 178.2ms\n",
            "video 1/1 (frame 1362/1670) /content/drive/My Drive/YOUR_FOLDER/VID-20250220-WA0006.mp4: 384x640 (no detections), 155.9ms\n",
            "video 1/1 (frame 1363/1670) /content/drive/My Drive/YOUR_FOLDER/VID-20250220-WA0006.mp4: 384x640 (no detections), 160.2ms\n",
            "video 1/1 (frame 1364/1670) /content/drive/My Drive/YOUR_FOLDER/VID-20250220-WA0006.mp4: 384x640 (no detections), 164.8ms\n",
            "video 1/1 (frame 1365/1670) /content/drive/My Drive/YOUR_FOLDER/VID-20250220-WA0006.mp4: 384x640 (no detections), 165.7ms\n",
            "video 1/1 (frame 1366/1670) /content/drive/My Drive/YOUR_FOLDER/VID-20250220-WA0006.mp4: 384x640 (no detections), 164.5ms\n",
            "video 1/1 (frame 1367/1670) /content/drive/My Drive/YOUR_FOLDER/VID-20250220-WA0006.mp4: 384x640 (no detections), 168.6ms\n",
            "video 1/1 (frame 1368/1670) /content/drive/My Drive/YOUR_FOLDER/VID-20250220-WA0006.mp4: 384x640 (no detections), 163.7ms\n",
            "video 1/1 (frame 1369/1670) /content/drive/My Drive/YOUR_FOLDER/VID-20250220-WA0006.mp4: 384x640 (no detections), 155.9ms\n",
            "video 1/1 (frame 1370/1670) /content/drive/My Drive/YOUR_FOLDER/VID-20250220-WA0006.mp4: 384x640 (no detections), 166.6ms\n",
            "video 1/1 (frame 1371/1670) /content/drive/My Drive/YOUR_FOLDER/VID-20250220-WA0006.mp4: 384x640 (no detections), 156.8ms\n",
            "video 1/1 (frame 1372/1670) /content/drive/My Drive/YOUR_FOLDER/VID-20250220-WA0006.mp4: 384x640 (no detections), 166.6ms\n",
            "video 1/1 (frame 1373/1670) /content/drive/My Drive/YOUR_FOLDER/VID-20250220-WA0006.mp4: 384x640 (no detections), 160.6ms\n",
            "video 1/1 (frame 1374/1670) /content/drive/My Drive/YOUR_FOLDER/VID-20250220-WA0006.mp4: 384x640 1 your_class_name, 156.9ms\n",
            "video 1/1 (frame 1375/1670) /content/drive/My Drive/YOUR_FOLDER/VID-20250220-WA0006.mp4: 384x640 (no detections), 165.6ms\n",
            "video 1/1 (frame 1376/1670) /content/drive/My Drive/YOUR_FOLDER/VID-20250220-WA0006.mp4: 384x640 (no detections), 161.1ms\n",
            "video 1/1 (frame 1377/1670) /content/drive/My Drive/YOUR_FOLDER/VID-20250220-WA0006.mp4: 384x640 (no detections), 171.8ms\n",
            "video 1/1 (frame 1378/1670) /content/drive/My Drive/YOUR_FOLDER/VID-20250220-WA0006.mp4: 384x640 (no detections), 245.9ms\n",
            "video 1/1 (frame 1379/1670) /content/drive/My Drive/YOUR_FOLDER/VID-20250220-WA0006.mp4: 384x640 1 your_class_name, 251.6ms\n",
            "video 1/1 (frame 1380/1670) /content/drive/My Drive/YOUR_FOLDER/VID-20250220-WA0006.mp4: 384x640 (no detections), 243.9ms\n",
            "video 1/1 (frame 1381/1670) /content/drive/My Drive/YOUR_FOLDER/VID-20250220-WA0006.mp4: 384x640 (no detections), 260.1ms\n",
            "video 1/1 (frame 1382/1670) /content/drive/My Drive/YOUR_FOLDER/VID-20250220-WA0006.mp4: 384x640 1 your_class_name, 226.7ms\n",
            "video 1/1 (frame 1383/1670) /content/drive/My Drive/YOUR_FOLDER/VID-20250220-WA0006.mp4: 384x640 (no detections), 250.0ms\n",
            "video 1/1 (frame 1384/1670) /content/drive/My Drive/YOUR_FOLDER/VID-20250220-WA0006.mp4: 384x640 (no detections), 239.1ms\n",
            "video 1/1 (frame 1385/1670) /content/drive/My Drive/YOUR_FOLDER/VID-20250220-WA0006.mp4: 384x640 (no detections), 247.3ms\n",
            "video 1/1 (frame 1386/1670) /content/drive/My Drive/YOUR_FOLDER/VID-20250220-WA0006.mp4: 384x640 1 your_class_name, 228.9ms\n",
            "video 1/1 (frame 1387/1670) /content/drive/My Drive/YOUR_FOLDER/VID-20250220-WA0006.mp4: 384x640 (no detections), 234.8ms\n",
            "video 1/1 (frame 1388/1670) /content/drive/My Drive/YOUR_FOLDER/VID-20250220-WA0006.mp4: 384x640 (no detections), 239.8ms\n",
            "video 1/1 (frame 1389/1670) /content/drive/My Drive/YOUR_FOLDER/VID-20250220-WA0006.mp4: 384x640 1 your_class_name, 263.5ms\n",
            "video 1/1 (frame 1390/1670) /content/drive/My Drive/YOUR_FOLDER/VID-20250220-WA0006.mp4: 384x640 (no detections), 253.3ms\n",
            "video 1/1 (frame 1391/1670) /content/drive/My Drive/YOUR_FOLDER/VID-20250220-WA0006.mp4: 384x640 1 your_class_name, 251.1ms\n",
            "video 1/1 (frame 1392/1670) /content/drive/My Drive/YOUR_FOLDER/VID-20250220-WA0006.mp4: 384x640 (no detections), 250.2ms\n",
            "video 1/1 (frame 1393/1670) /content/drive/My Drive/YOUR_FOLDER/VID-20250220-WA0006.mp4: 384x640 1 your_class_name, 164.5ms\n",
            "video 1/1 (frame 1394/1670) /content/drive/My Drive/YOUR_FOLDER/VID-20250220-WA0006.mp4: 384x640 (no detections), 164.7ms\n",
            "video 1/1 (frame 1395/1670) /content/drive/My Drive/YOUR_FOLDER/VID-20250220-WA0006.mp4: 384x640 (no detections), 161.4ms\n",
            "video 1/1 (frame 1396/1670) /content/drive/My Drive/YOUR_FOLDER/VID-20250220-WA0006.mp4: 384x640 (no detections), 155.2ms\n",
            "video 1/1 (frame 1397/1670) /content/drive/My Drive/YOUR_FOLDER/VID-20250220-WA0006.mp4: 384x640 (no detections), 163.9ms\n",
            "video 1/1 (frame 1398/1670) /content/drive/My Drive/YOUR_FOLDER/VID-20250220-WA0006.mp4: 384x640 (no detections), 171.3ms\n",
            "video 1/1 (frame 1399/1670) /content/drive/My Drive/YOUR_FOLDER/VID-20250220-WA0006.mp4: 384x640 (no detections), 167.2ms\n",
            "video 1/1 (frame 1400/1670) /content/drive/My Drive/YOUR_FOLDER/VID-20250220-WA0006.mp4: 384x640 (no detections), 162.4ms\n",
            "video 1/1 (frame 1401/1670) /content/drive/My Drive/YOUR_FOLDER/VID-20250220-WA0006.mp4: 384x640 (no detections), 164.0ms\n",
            "video 1/1 (frame 1402/1670) /content/drive/My Drive/YOUR_FOLDER/VID-20250220-WA0006.mp4: 384x640 (no detections), 164.2ms\n",
            "video 1/1 (frame 1403/1670) /content/drive/My Drive/YOUR_FOLDER/VID-20250220-WA0006.mp4: 384x640 (no detections), 172.9ms\n",
            "video 1/1 (frame 1404/1670) /content/drive/My Drive/YOUR_FOLDER/VID-20250220-WA0006.mp4: 384x640 (no detections), 208.5ms\n",
            "video 1/1 (frame 1405/1670) /content/drive/My Drive/YOUR_FOLDER/VID-20250220-WA0006.mp4: 384x640 (no detections), 168.7ms\n",
            "video 1/1 (frame 1406/1670) /content/drive/My Drive/YOUR_FOLDER/VID-20250220-WA0006.mp4: 384x640 (no detections), 157.7ms\n",
            "video 1/1 (frame 1407/1670) /content/drive/My Drive/YOUR_FOLDER/VID-20250220-WA0006.mp4: 384x640 (no detections), 157.9ms\n",
            "video 1/1 (frame 1408/1670) /content/drive/My Drive/YOUR_FOLDER/VID-20250220-WA0006.mp4: 384x640 (no detections), 156.4ms\n",
            "video 1/1 (frame 1409/1670) /content/drive/My Drive/YOUR_FOLDER/VID-20250220-WA0006.mp4: 384x640 (no detections), 165.1ms\n",
            "video 1/1 (frame 1410/1670) /content/drive/My Drive/YOUR_FOLDER/VID-20250220-WA0006.mp4: 384x640 (no detections), 172.3ms\n",
            "video 1/1 (frame 1411/1670) /content/drive/My Drive/YOUR_FOLDER/VID-20250220-WA0006.mp4: 384x640 (no detections), 163.8ms\n",
            "video 1/1 (frame 1412/1670) /content/drive/My Drive/YOUR_FOLDER/VID-20250220-WA0006.mp4: 384x640 (no detections), 157.1ms\n",
            "video 1/1 (frame 1413/1670) /content/drive/My Drive/YOUR_FOLDER/VID-20250220-WA0006.mp4: 384x640 (no detections), 163.4ms\n",
            "video 1/1 (frame 1414/1670) /content/drive/My Drive/YOUR_FOLDER/VID-20250220-WA0006.mp4: 384x640 (no detections), 168.6ms\n",
            "video 1/1 (frame 1415/1670) /content/drive/My Drive/YOUR_FOLDER/VID-20250220-WA0006.mp4: 384x640 (no detections), 164.3ms\n",
            "video 1/1 (frame 1416/1670) /content/drive/My Drive/YOUR_FOLDER/VID-20250220-WA0006.mp4: 384x640 1 your_class_name, 161.7ms\n",
            "video 1/1 (frame 1417/1670) /content/drive/My Drive/YOUR_FOLDER/VID-20250220-WA0006.mp4: 384x640 1 your_class_name, 166.7ms\n",
            "video 1/1 (frame 1418/1670) /content/drive/My Drive/YOUR_FOLDER/VID-20250220-WA0006.mp4: 384x640 1 your_class_name, 155.6ms\n",
            "video 1/1 (frame 1419/1670) /content/drive/My Drive/YOUR_FOLDER/VID-20250220-WA0006.mp4: 384x640 1 your_class_name, 168.5ms\n",
            "video 1/1 (frame 1420/1670) /content/drive/My Drive/YOUR_FOLDER/VID-20250220-WA0006.mp4: 384x640 1 your_class_name, 167.2ms\n",
            "video 1/1 (frame 1421/1670) /content/drive/My Drive/YOUR_FOLDER/VID-20250220-WA0006.mp4: 384x640 1 your_class_name, 161.0ms\n",
            "video 1/1 (frame 1422/1670) /content/drive/My Drive/YOUR_FOLDER/VID-20250220-WA0006.mp4: 384x640 1 your_class_name, 158.8ms\n",
            "video 1/1 (frame 1423/1670) /content/drive/My Drive/YOUR_FOLDER/VID-20250220-WA0006.mp4: 384x640 1 your_class_name, 161.2ms\n",
            "video 1/1 (frame 1424/1670) /content/drive/My Drive/YOUR_FOLDER/VID-20250220-WA0006.mp4: 384x640 1 your_class_name, 159.3ms\n",
            "video 1/1 (frame 1425/1670) /content/drive/My Drive/YOUR_FOLDER/VID-20250220-WA0006.mp4: 384x640 1 your_class_name, 164.5ms\n",
            "video 1/1 (frame 1426/1670) /content/drive/My Drive/YOUR_FOLDER/VID-20250220-WA0006.mp4: 384x640 1 your_class_name, 163.0ms\n",
            "video 1/1 (frame 1427/1670) /content/drive/My Drive/YOUR_FOLDER/VID-20250220-WA0006.mp4: 384x640 1 your_class_name, 156.1ms\n",
            "video 1/1 (frame 1428/1670) /content/drive/My Drive/YOUR_FOLDER/VID-20250220-WA0006.mp4: 384x640 1 your_class_name, 160.4ms\n",
            "video 1/1 (frame 1429/1670) /content/drive/My Drive/YOUR_FOLDER/VID-20250220-WA0006.mp4: 384x640 1 your_class_name, 164.1ms\n",
            "video 1/1 (frame 1430/1670) /content/drive/My Drive/YOUR_FOLDER/VID-20250220-WA0006.mp4: 384x640 1 your_class_name, 157.7ms\n",
            "video 1/1 (frame 1431/1670) /content/drive/My Drive/YOUR_FOLDER/VID-20250220-WA0006.mp4: 384x640 1 your_class_name, 179.4ms\n",
            "video 1/1 (frame 1432/1670) /content/drive/My Drive/YOUR_FOLDER/VID-20250220-WA0006.mp4: 384x640 1 your_class_name, 164.6ms\n",
            "video 1/1 (frame 1433/1670) /content/drive/My Drive/YOUR_FOLDER/VID-20250220-WA0006.mp4: 384x640 1 your_class_name, 166.5ms\n",
            "video 1/1 (frame 1434/1670) /content/drive/My Drive/YOUR_FOLDER/VID-20250220-WA0006.mp4: 384x640 1 your_class_name, 160.1ms\n",
            "video 1/1 (frame 1435/1670) /content/drive/My Drive/YOUR_FOLDER/VID-20250220-WA0006.mp4: 384x640 1 your_class_name, 159.7ms\n",
            "video 1/1 (frame 1436/1670) /content/drive/My Drive/YOUR_FOLDER/VID-20250220-WA0006.mp4: 384x640 1 your_class_name, 168.3ms\n",
            "video 1/1 (frame 1437/1670) /content/drive/My Drive/YOUR_FOLDER/VID-20250220-WA0006.mp4: 384x640 1 your_class_name, 159.5ms\n",
            "video 1/1 (frame 1438/1670) /content/drive/My Drive/YOUR_FOLDER/VID-20250220-WA0006.mp4: 384x640 1 your_class_name, 167.5ms\n",
            "video 1/1 (frame 1439/1670) /content/drive/My Drive/YOUR_FOLDER/VID-20250220-WA0006.mp4: 384x640 1 your_class_name, 150.4ms\n",
            "video 1/1 (frame 1440/1670) /content/drive/My Drive/YOUR_FOLDER/VID-20250220-WA0006.mp4: 384x640 1 your_class_name, 159.3ms\n",
            "video 1/1 (frame 1441/1670) /content/drive/My Drive/YOUR_FOLDER/VID-20250220-WA0006.mp4: 384x640 1 your_class_name, 166.6ms\n",
            "video 1/1 (frame 1442/1670) /content/drive/My Drive/YOUR_FOLDER/VID-20250220-WA0006.mp4: 384x640 1 your_class_name, 173.4ms\n",
            "video 1/1 (frame 1443/1670) /content/drive/My Drive/YOUR_FOLDER/VID-20250220-WA0006.mp4: 384x640 1 your_class_name, 157.6ms\n",
            "video 1/1 (frame 1444/1670) /content/drive/My Drive/YOUR_FOLDER/VID-20250220-WA0006.mp4: 384x640 1 your_class_name, 166.5ms\n",
            "video 1/1 (frame 1445/1670) /content/drive/My Drive/YOUR_FOLDER/VID-20250220-WA0006.mp4: 384x640 1 your_class_name, 219.2ms\n",
            "video 1/1 (frame 1446/1670) /content/drive/My Drive/YOUR_FOLDER/VID-20250220-WA0006.mp4: 384x640 1 your_class_name, 254.8ms\n",
            "video 1/1 (frame 1447/1670) /content/drive/My Drive/YOUR_FOLDER/VID-20250220-WA0006.mp4: 384x640 1 your_class_name, 237.7ms\n",
            "video 1/1 (frame 1448/1670) /content/drive/My Drive/YOUR_FOLDER/VID-20250220-WA0006.mp4: 384x640 1 your_class_name, 240.8ms\n",
            "video 1/1 (frame 1449/1670) /content/drive/My Drive/YOUR_FOLDER/VID-20250220-WA0006.mp4: 384x640 1 your_class_name, 243.4ms\n",
            "video 1/1 (frame 1450/1670) /content/drive/My Drive/YOUR_FOLDER/VID-20250220-WA0006.mp4: 384x640 1 your_class_name, 252.9ms\n",
            "video 1/1 (frame 1451/1670) /content/drive/My Drive/YOUR_FOLDER/VID-20250220-WA0006.mp4: 384x640 1 your_class_name, 236.2ms\n",
            "video 1/1 (frame 1452/1670) /content/drive/My Drive/YOUR_FOLDER/VID-20250220-WA0006.mp4: 384x640 1 your_class_name, 237.6ms\n",
            "video 1/1 (frame 1453/1670) /content/drive/My Drive/YOUR_FOLDER/VID-20250220-WA0006.mp4: 384x640 1 your_class_name, 235.8ms\n",
            "video 1/1 (frame 1454/1670) /content/drive/My Drive/YOUR_FOLDER/VID-20250220-WA0006.mp4: 384x640 1 your_class_name, 239.8ms\n",
            "video 1/1 (frame 1455/1670) /content/drive/My Drive/YOUR_FOLDER/VID-20250220-WA0006.mp4: 384x640 1 your_class_name, 232.6ms\n",
            "video 1/1 (frame 1456/1670) /content/drive/My Drive/YOUR_FOLDER/VID-20250220-WA0006.mp4: 384x640 1 your_class_name, 240.3ms\n",
            "video 1/1 (frame 1457/1670) /content/drive/My Drive/YOUR_FOLDER/VID-20250220-WA0006.mp4: 384x640 1 your_class_name, 250.9ms\n",
            "video 1/1 (frame 1458/1670) /content/drive/My Drive/YOUR_FOLDER/VID-20250220-WA0006.mp4: 384x640 1 your_class_name, 264.7ms\n",
            "video 1/1 (frame 1459/1670) /content/drive/My Drive/YOUR_FOLDER/VID-20250220-WA0006.mp4: 384x640 1 your_class_name, 235.6ms\n",
            "video 1/1 (frame 1460/1670) /content/drive/My Drive/YOUR_FOLDER/VID-20250220-WA0006.mp4: 384x640 1 your_class_name, 166.8ms\n",
            "video 1/1 (frame 1461/1670) /content/drive/My Drive/YOUR_FOLDER/VID-20250220-WA0006.mp4: 384x640 2 your_class_names, 167.6ms\n",
            "video 1/1 (frame 1462/1670) /content/drive/My Drive/YOUR_FOLDER/VID-20250220-WA0006.mp4: 384x640 1 your_class_name, 180.4ms\n",
            "video 1/1 (frame 1463/1670) /content/drive/My Drive/YOUR_FOLDER/VID-20250220-WA0006.mp4: 384x640 1 your_class_name, 163.9ms\n",
            "video 1/1 (frame 1464/1670) /content/drive/My Drive/YOUR_FOLDER/VID-20250220-WA0006.mp4: 384x640 1 your_class_name, 165.7ms\n",
            "video 1/1 (frame 1465/1670) /content/drive/My Drive/YOUR_FOLDER/VID-20250220-WA0006.mp4: 384x640 1 your_class_name, 160.1ms\n",
            "video 1/1 (frame 1466/1670) /content/drive/My Drive/YOUR_FOLDER/VID-20250220-WA0006.mp4: 384x640 1 your_class_name, 181.4ms\n",
            "video 1/1 (frame 1467/1670) /content/drive/My Drive/YOUR_FOLDER/VID-20250220-WA0006.mp4: 384x640 1 your_class_name, 162.8ms\n",
            "video 1/1 (frame 1468/1670) /content/drive/My Drive/YOUR_FOLDER/VID-20250220-WA0006.mp4: 384x640 1 your_class_name, 173.9ms\n",
            "video 1/1 (frame 1469/1670) /content/drive/My Drive/YOUR_FOLDER/VID-20250220-WA0006.mp4: 384x640 1 your_class_name, 159.9ms\n",
            "video 1/1 (frame 1470/1670) /content/drive/My Drive/YOUR_FOLDER/VID-20250220-WA0006.mp4: 384x640 (no detections), 163.9ms\n",
            "video 1/1 (frame 1471/1670) /content/drive/My Drive/YOUR_FOLDER/VID-20250220-WA0006.mp4: 384x640 (no detections), 170.8ms\n",
            "video 1/1 (frame 1472/1670) /content/drive/My Drive/YOUR_FOLDER/VID-20250220-WA0006.mp4: 384x640 (no detections), 162.2ms\n",
            "video 1/1 (frame 1473/1670) /content/drive/My Drive/YOUR_FOLDER/VID-20250220-WA0006.mp4: 384x640 (no detections), 180.3ms\n",
            "video 1/1 (frame 1474/1670) /content/drive/My Drive/YOUR_FOLDER/VID-20250220-WA0006.mp4: 384x640 (no detections), 150.5ms\n",
            "video 1/1 (frame 1475/1670) /content/drive/My Drive/YOUR_FOLDER/VID-20250220-WA0006.mp4: 384x640 (no detections), 163.8ms\n",
            "video 1/1 (frame 1476/1670) /content/drive/My Drive/YOUR_FOLDER/VID-20250220-WA0006.mp4: 384x640 (no detections), 165.2ms\n",
            "video 1/1 (frame 1477/1670) /content/drive/My Drive/YOUR_FOLDER/VID-20250220-WA0006.mp4: 384x640 (no detections), 168.6ms\n",
            "video 1/1 (frame 1478/1670) /content/drive/My Drive/YOUR_FOLDER/VID-20250220-WA0006.mp4: 384x640 (no detections), 167.1ms\n",
            "video 1/1 (frame 1479/1670) /content/drive/My Drive/YOUR_FOLDER/VID-20250220-WA0006.mp4: 384x640 (no detections), 161.4ms\n",
            "video 1/1 (frame 1480/1670) /content/drive/My Drive/YOUR_FOLDER/VID-20250220-WA0006.mp4: 384x640 (no detections), 159.1ms\n",
            "video 1/1 (frame 1481/1670) /content/drive/My Drive/YOUR_FOLDER/VID-20250220-WA0006.mp4: 384x640 (no detections), 163.9ms\n",
            "video 1/1 (frame 1482/1670) /content/drive/My Drive/YOUR_FOLDER/VID-20250220-WA0006.mp4: 384x640 (no detections), 165.3ms\n",
            "video 1/1 (frame 1483/1670) /content/drive/My Drive/YOUR_FOLDER/VID-20250220-WA0006.mp4: 384x640 (no detections), 163.8ms\n",
            "video 1/1 (frame 1484/1670) /content/drive/My Drive/YOUR_FOLDER/VID-20250220-WA0006.mp4: 384x640 (no detections), 181.5ms\n",
            "video 1/1 (frame 1485/1670) /content/drive/My Drive/YOUR_FOLDER/VID-20250220-WA0006.mp4: 384x640 (no detections), 174.4ms\n",
            "video 1/1 (frame 1486/1670) /content/drive/My Drive/YOUR_FOLDER/VID-20250220-WA0006.mp4: 384x640 (no detections), 169.6ms\n",
            "video 1/1 (frame 1487/1670) /content/drive/My Drive/YOUR_FOLDER/VID-20250220-WA0006.mp4: 384x640 (no detections), 171.1ms\n",
            "video 1/1 (frame 1488/1670) /content/drive/My Drive/YOUR_FOLDER/VID-20250220-WA0006.mp4: 384x640 (no detections), 159.0ms\n",
            "video 1/1 (frame 1489/1670) /content/drive/My Drive/YOUR_FOLDER/VID-20250220-WA0006.mp4: 384x640 (no detections), 175.0ms\n",
            "video 1/1 (frame 1490/1670) /content/drive/My Drive/YOUR_FOLDER/VID-20250220-WA0006.mp4: 384x640 (no detections), 165.3ms\n",
            "video 1/1 (frame 1491/1670) /content/drive/My Drive/YOUR_FOLDER/VID-20250220-WA0006.mp4: 384x640 (no detections), 161.6ms\n",
            "video 1/1 (frame 1492/1670) /content/drive/My Drive/YOUR_FOLDER/VID-20250220-WA0006.mp4: 384x640 (no detections), 167.5ms\n",
            "video 1/1 (frame 1493/1670) /content/drive/My Drive/YOUR_FOLDER/VID-20250220-WA0006.mp4: 384x640 (no detections), 166.2ms\n",
            "video 1/1 (frame 1494/1670) /content/drive/My Drive/YOUR_FOLDER/VID-20250220-WA0006.mp4: 384x640 (no detections), 156.9ms\n",
            "video 1/1 (frame 1495/1670) /content/drive/My Drive/YOUR_FOLDER/VID-20250220-WA0006.mp4: 384x640 (no detections), 164.1ms\n",
            "video 1/1 (frame 1496/1670) /content/drive/My Drive/YOUR_FOLDER/VID-20250220-WA0006.mp4: 384x640 (no detections), 157.3ms\n",
            "video 1/1 (frame 1497/1670) /content/drive/My Drive/YOUR_FOLDER/VID-20250220-WA0006.mp4: 384x640 (no detections), 166.3ms\n",
            "video 1/1 (frame 1498/1670) /content/drive/My Drive/YOUR_FOLDER/VID-20250220-WA0006.mp4: 384x640 (no detections), 159.5ms\n",
            "video 1/1 (frame 1499/1670) /content/drive/My Drive/YOUR_FOLDER/VID-20250220-WA0006.mp4: 384x640 (no detections), 153.9ms\n",
            "video 1/1 (frame 1500/1670) /content/drive/My Drive/YOUR_FOLDER/VID-20250220-WA0006.mp4: 384x640 (no detections), 170.8ms\n",
            "video 1/1 (frame 1501/1670) /content/drive/My Drive/YOUR_FOLDER/VID-20250220-WA0006.mp4: 384x640 (no detections), 164.0ms\n",
            "video 1/1 (frame 1502/1670) /content/drive/My Drive/YOUR_FOLDER/VID-20250220-WA0006.mp4: 384x640 (no detections), 157.0ms\n",
            "video 1/1 (frame 1503/1670) /content/drive/My Drive/YOUR_FOLDER/VID-20250220-WA0006.mp4: 384x640 (no detections), 165.6ms\n",
            "video 1/1 (frame 1504/1670) /content/drive/My Drive/YOUR_FOLDER/VID-20250220-WA0006.mp4: 384x640 (no detections), 165.9ms\n",
            "video 1/1 (frame 1505/1670) /content/drive/My Drive/YOUR_FOLDER/VID-20250220-WA0006.mp4: 384x640 (no detections), 157.6ms\n",
            "video 1/1 (frame 1506/1670) /content/drive/My Drive/YOUR_FOLDER/VID-20250220-WA0006.mp4: 384x640 (no detections), 161.5ms\n",
            "video 1/1 (frame 1507/1670) /content/drive/My Drive/YOUR_FOLDER/VID-20250220-WA0006.mp4: 384x640 (no detections), 157.7ms\n",
            "video 1/1 (frame 1508/1670) /content/drive/My Drive/YOUR_FOLDER/VID-20250220-WA0006.mp4: 384x640 (no detections), 161.7ms\n",
            "video 1/1 (frame 1509/1670) /content/drive/My Drive/YOUR_FOLDER/VID-20250220-WA0006.mp4: 384x640 (no detections), 167.3ms\n",
            "video 1/1 (frame 1510/1670) /content/drive/My Drive/YOUR_FOLDER/VID-20250220-WA0006.mp4: 384x640 (no detections), 154.4ms\n",
            "video 1/1 (frame 1511/1670) /content/drive/My Drive/YOUR_FOLDER/VID-20250220-WA0006.mp4: 384x640 (no detections), 166.4ms\n",
            "video 1/1 (frame 1512/1670) /content/drive/My Drive/YOUR_FOLDER/VID-20250220-WA0006.mp4: 384x640 (no detections), 197.9ms\n",
            "video 1/1 (frame 1513/1670) /content/drive/My Drive/YOUR_FOLDER/VID-20250220-WA0006.mp4: 384x640 (no detections), 258.2ms\n",
            "video 1/1 (frame 1514/1670) /content/drive/My Drive/YOUR_FOLDER/VID-20250220-WA0006.mp4: 384x640 (no detections), 238.2ms\n",
            "video 1/1 (frame 1515/1670) /content/drive/My Drive/YOUR_FOLDER/VID-20250220-WA0006.mp4: 384x640 (no detections), 243.0ms\n",
            "video 1/1 (frame 1516/1670) /content/drive/My Drive/YOUR_FOLDER/VID-20250220-WA0006.mp4: 384x640 (no detections), 240.2ms\n",
            "video 1/1 (frame 1517/1670) /content/drive/My Drive/YOUR_FOLDER/VID-20250220-WA0006.mp4: 384x640 (no detections), 242.5ms\n",
            "video 1/1 (frame 1518/1670) /content/drive/My Drive/YOUR_FOLDER/VID-20250220-WA0006.mp4: 384x640 (no detections), 252.7ms\n",
            "video 1/1 (frame 1519/1670) /content/drive/My Drive/YOUR_FOLDER/VID-20250220-WA0006.mp4: 384x640 (no detections), 246.3ms\n",
            "video 1/1 (frame 1520/1670) /content/drive/My Drive/YOUR_FOLDER/VID-20250220-WA0006.mp4: 384x640 (no detections), 241.7ms\n",
            "video 1/1 (frame 1521/1670) /content/drive/My Drive/YOUR_FOLDER/VID-20250220-WA0006.mp4: 384x640 (no detections), 262.1ms\n",
            "video 1/1 (frame 1522/1670) /content/drive/My Drive/YOUR_FOLDER/VID-20250220-WA0006.mp4: 384x640 (no detections), 239.5ms\n",
            "video 1/1 (frame 1523/1670) /content/drive/My Drive/YOUR_FOLDER/VID-20250220-WA0006.mp4: 384x640 (no detections), 250.7ms\n",
            "video 1/1 (frame 1524/1670) /content/drive/My Drive/YOUR_FOLDER/VID-20250220-WA0006.mp4: 384x640 (no detections), 252.8ms\n",
            "video 1/1 (frame 1525/1670) /content/drive/My Drive/YOUR_FOLDER/VID-20250220-WA0006.mp4: 384x640 (no detections), 257.2ms\n",
            "video 1/1 (frame 1526/1670) /content/drive/My Drive/YOUR_FOLDER/VID-20250220-WA0006.mp4: 384x640 (no detections), 251.4ms\n",
            "video 1/1 (frame 1527/1670) /content/drive/My Drive/YOUR_FOLDER/VID-20250220-WA0006.mp4: 384x640 (no detections), 177.6ms\n",
            "video 1/1 (frame 1528/1670) /content/drive/My Drive/YOUR_FOLDER/VID-20250220-WA0006.mp4: 384x640 (no detections), 160.4ms\n",
            "video 1/1 (frame 1529/1670) /content/drive/My Drive/YOUR_FOLDER/VID-20250220-WA0006.mp4: 384x640 (no detections), 156.9ms\n",
            "video 1/1 (frame 1530/1670) /content/drive/My Drive/YOUR_FOLDER/VID-20250220-WA0006.mp4: 384x640 (no detections), 162.4ms\n",
            "video 1/1 (frame 1531/1670) /content/drive/My Drive/YOUR_FOLDER/VID-20250220-WA0006.mp4: 384x640 (no detections), 158.5ms\n",
            "video 1/1 (frame 1532/1670) /content/drive/My Drive/YOUR_FOLDER/VID-20250220-WA0006.mp4: 384x640 (no detections), 179.3ms\n",
            "video 1/1 (frame 1533/1670) /content/drive/My Drive/YOUR_FOLDER/VID-20250220-WA0006.mp4: 384x640 (no detections), 179.4ms\n",
            "video 1/1 (frame 1534/1670) /content/drive/My Drive/YOUR_FOLDER/VID-20250220-WA0006.mp4: 384x640 (no detections), 159.9ms\n",
            "video 1/1 (frame 1535/1670) /content/drive/My Drive/YOUR_FOLDER/VID-20250220-WA0006.mp4: 384x640 (no detections), 158.1ms\n",
            "video 1/1 (frame 1536/1670) /content/drive/My Drive/YOUR_FOLDER/VID-20250220-WA0006.mp4: 384x640 (no detections), 158.5ms\n",
            "video 1/1 (frame 1537/1670) /content/drive/My Drive/YOUR_FOLDER/VID-20250220-WA0006.mp4: 384x640 (no detections), 179.1ms\n",
            "video 1/1 (frame 1538/1670) /content/drive/My Drive/YOUR_FOLDER/VID-20250220-WA0006.mp4: 384x640 (no detections), 169.8ms\n",
            "video 1/1 (frame 1539/1670) /content/drive/My Drive/YOUR_FOLDER/VID-20250220-WA0006.mp4: 384x640 (no detections), 162.0ms\n",
            "video 1/1 (frame 1540/1670) /content/drive/My Drive/YOUR_FOLDER/VID-20250220-WA0006.mp4: 384x640 (no detections), 170.1ms\n",
            "video 1/1 (frame 1541/1670) /content/drive/My Drive/YOUR_FOLDER/VID-20250220-WA0006.mp4: 384x640 (no detections), 158.6ms\n",
            "video 1/1 (frame 1542/1670) /content/drive/My Drive/YOUR_FOLDER/VID-20250220-WA0006.mp4: 384x640 (no detections), 164.9ms\n",
            "video 1/1 (frame 1543/1670) /content/drive/My Drive/YOUR_FOLDER/VID-20250220-WA0006.mp4: 384x640 (no detections), 171.8ms\n",
            "video 1/1 (frame 1544/1670) /content/drive/My Drive/YOUR_FOLDER/VID-20250220-WA0006.mp4: 384x640 (no detections), 155.7ms\n",
            "video 1/1 (frame 1545/1670) /content/drive/My Drive/YOUR_FOLDER/VID-20250220-WA0006.mp4: 384x640 (no detections), 158.7ms\n",
            "video 1/1 (frame 1546/1670) /content/drive/My Drive/YOUR_FOLDER/VID-20250220-WA0006.mp4: 384x640 (no detections), 158.7ms\n",
            "video 1/1 (frame 1547/1670) /content/drive/My Drive/YOUR_FOLDER/VID-20250220-WA0006.mp4: 384x640 (no detections), 171.8ms\n",
            "video 1/1 (frame 1548/1670) /content/drive/My Drive/YOUR_FOLDER/VID-20250220-WA0006.mp4: 384x640 (no detections), 206.6ms\n",
            "video 1/1 (frame 1549/1670) /content/drive/My Drive/YOUR_FOLDER/VID-20250220-WA0006.mp4: 384x640 (no detections), 169.9ms\n",
            "video 1/1 (frame 1550/1670) /content/drive/My Drive/YOUR_FOLDER/VID-20250220-WA0006.mp4: 384x640 (no detections), 162.6ms\n",
            "video 1/1 (frame 1551/1670) /content/drive/My Drive/YOUR_FOLDER/VID-20250220-WA0006.mp4: 384x640 (no detections), 162.2ms\n",
            "video 1/1 (frame 1552/1670) /content/drive/My Drive/YOUR_FOLDER/VID-20250220-WA0006.mp4: 384x640 (no detections), 168.8ms\n",
            "video 1/1 (frame 1553/1670) /content/drive/My Drive/YOUR_FOLDER/VID-20250220-WA0006.mp4: 384x640 (no detections), 175.7ms\n",
            "video 1/1 (frame 1554/1670) /content/drive/My Drive/YOUR_FOLDER/VID-20250220-WA0006.mp4: 384x640 (no detections), 162.2ms\n",
            "video 1/1 (frame 1555/1670) /content/drive/My Drive/YOUR_FOLDER/VID-20250220-WA0006.mp4: 384x640 (no detections), 169.2ms\n",
            "video 1/1 (frame 1556/1670) /content/drive/My Drive/YOUR_FOLDER/VID-20250220-WA0006.mp4: 384x640 (no detections), 158.4ms\n",
            "video 1/1 (frame 1557/1670) /content/drive/My Drive/YOUR_FOLDER/VID-20250220-WA0006.mp4: 384x640 (no detections), 156.7ms\n",
            "video 1/1 (frame 1558/1670) /content/drive/My Drive/YOUR_FOLDER/VID-20250220-WA0006.mp4: 384x640 (no detections), 166.1ms\n",
            "video 1/1 (frame 1559/1670) /content/drive/My Drive/YOUR_FOLDER/VID-20250220-WA0006.mp4: 384x640 (no detections), 164.0ms\n",
            "video 1/1 (frame 1560/1670) /content/drive/My Drive/YOUR_FOLDER/VID-20250220-WA0006.mp4: 384x640 (no detections), 160.8ms\n",
            "video 1/1 (frame 1561/1670) /content/drive/My Drive/YOUR_FOLDER/VID-20250220-WA0006.mp4: 384x640 (no detections), 156.6ms\n",
            "video 1/1 (frame 1562/1670) /content/drive/My Drive/YOUR_FOLDER/VID-20250220-WA0006.mp4: 384x640 (no detections), 157.0ms\n",
            "video 1/1 (frame 1563/1670) /content/drive/My Drive/YOUR_FOLDER/VID-20250220-WA0006.mp4: 384x640 (no detections), 169.3ms\n",
            "video 1/1 (frame 1564/1670) /content/drive/My Drive/YOUR_FOLDER/VID-20250220-WA0006.mp4: 384x640 (no detections), 180.1ms\n",
            "video 1/1 (frame 1565/1670) /content/drive/My Drive/YOUR_FOLDER/VID-20250220-WA0006.mp4: 384x640 (no detections), 160.3ms\n",
            "video 1/1 (frame 1566/1670) /content/drive/My Drive/YOUR_FOLDER/VID-20250220-WA0006.mp4: 384x640 (no detections), 159.1ms\n",
            "video 1/1 (frame 1567/1670) /content/drive/My Drive/YOUR_FOLDER/VID-20250220-WA0006.mp4: 384x640 (no detections), 159.3ms\n",
            "video 1/1 (frame 1568/1670) /content/drive/My Drive/YOUR_FOLDER/VID-20250220-WA0006.mp4: 384x640 (no detections), 164.1ms\n",
            "video 1/1 (frame 1569/1670) /content/drive/My Drive/YOUR_FOLDER/VID-20250220-WA0006.mp4: 384x640 (no detections), 177.8ms\n",
            "video 1/1 (frame 1570/1670) /content/drive/My Drive/YOUR_FOLDER/VID-20250220-WA0006.mp4: 384x640 (no detections), 159.8ms\n",
            "video 1/1 (frame 1571/1670) /content/drive/My Drive/YOUR_FOLDER/VID-20250220-WA0006.mp4: 384x640 (no detections), 156.7ms\n",
            "video 1/1 (frame 1572/1670) /content/drive/My Drive/YOUR_FOLDER/VID-20250220-WA0006.mp4: 384x640 (no detections), 165.5ms\n",
            "video 1/1 (frame 1573/1670) /content/drive/My Drive/YOUR_FOLDER/VID-20250220-WA0006.mp4: 384x640 (no detections), 154.0ms\n",
            "video 1/1 (frame 1574/1670) /content/drive/My Drive/YOUR_FOLDER/VID-20250220-WA0006.mp4: 384x640 (no detections), 167.6ms\n",
            "video 1/1 (frame 1575/1670) /content/drive/My Drive/YOUR_FOLDER/VID-20250220-WA0006.mp4: 384x640 (no detections), 173.1ms\n",
            "video 1/1 (frame 1576/1670) /content/drive/My Drive/YOUR_FOLDER/VID-20250220-WA0006.mp4: 384x640 (no detections), 161.3ms\n",
            "video 1/1 (frame 1577/1670) /content/drive/My Drive/YOUR_FOLDER/VID-20250220-WA0006.mp4: 384x640 (no detections), 168.7ms\n",
            "video 1/1 (frame 1578/1670) /content/drive/My Drive/YOUR_FOLDER/VID-20250220-WA0006.mp4: 384x640 (no detections), 149.9ms\n",
            "video 1/1 (frame 1579/1670) /content/drive/My Drive/YOUR_FOLDER/VID-20250220-WA0006.mp4: 384x640 (no detections), 223.0ms\n",
            "video 1/1 (frame 1580/1670) /content/drive/My Drive/YOUR_FOLDER/VID-20250220-WA0006.mp4: 384x640 (no detections), 267.2ms\n",
            "video 1/1 (frame 1581/1670) /content/drive/My Drive/YOUR_FOLDER/VID-20250220-WA0006.mp4: 384x640 (no detections), 233.3ms\n",
            "video 1/1 (frame 1582/1670) /content/drive/My Drive/YOUR_FOLDER/VID-20250220-WA0006.mp4: 384x640 (no detections), 238.5ms\n",
            "video 1/1 (frame 1583/1670) /content/drive/My Drive/YOUR_FOLDER/VID-20250220-WA0006.mp4: 384x640 (no detections), 244.7ms\n",
            "video 1/1 (frame 1584/1670) /content/drive/My Drive/YOUR_FOLDER/VID-20250220-WA0006.mp4: 384x640 (no detections), 255.6ms\n",
            "video 1/1 (frame 1585/1670) /content/drive/My Drive/YOUR_FOLDER/VID-20250220-WA0006.mp4: 384x640 (no detections), 246.2ms\n",
            "video 1/1 (frame 1586/1670) /content/drive/My Drive/YOUR_FOLDER/VID-20250220-WA0006.mp4: 384x640 (no detections), 237.7ms\n",
            "video 1/1 (frame 1587/1670) /content/drive/My Drive/YOUR_FOLDER/VID-20250220-WA0006.mp4: 384x640 (no detections), 243.7ms\n",
            "video 1/1 (frame 1588/1670) /content/drive/My Drive/YOUR_FOLDER/VID-20250220-WA0006.mp4: 384x640 (no detections), 238.5ms\n",
            "video 1/1 (frame 1589/1670) /content/drive/My Drive/YOUR_FOLDER/VID-20250220-WA0006.mp4: 384x640 (no detections), 249.7ms\n",
            "video 1/1 (frame 1590/1670) /content/drive/My Drive/YOUR_FOLDER/VID-20250220-WA0006.mp4: 384x640 (no detections), 232.1ms\n",
            "video 1/1 (frame 1591/1670) /content/drive/My Drive/YOUR_FOLDER/VID-20250220-WA0006.mp4: 384x640 (no detections), 247.3ms\n",
            "video 1/1 (frame 1592/1670) /content/drive/My Drive/YOUR_FOLDER/VID-20250220-WA0006.mp4: 384x640 (no detections), 254.2ms\n",
            "video 1/1 (frame 1593/1670) /content/drive/My Drive/YOUR_FOLDER/VID-20250220-WA0006.mp4: 384x640 (no detections), 247.4ms\n",
            "video 1/1 (frame 1594/1670) /content/drive/My Drive/YOUR_FOLDER/VID-20250220-WA0006.mp4: 384x640 (no detections), 162.3ms\n",
            "video 1/1 (frame 1595/1670) /content/drive/My Drive/YOUR_FOLDER/VID-20250220-WA0006.mp4: 384x640 (no detections), 163.4ms\n",
            "video 1/1 (frame 1596/1670) /content/drive/My Drive/YOUR_FOLDER/VID-20250220-WA0006.mp4: 384x640 (no detections), 170.1ms\n",
            "video 1/1 (frame 1597/1670) /content/drive/My Drive/YOUR_FOLDER/VID-20250220-WA0006.mp4: 384x640 (no detections), 154.3ms\n",
            "video 1/1 (frame 1598/1670) /content/drive/My Drive/YOUR_FOLDER/VID-20250220-WA0006.mp4: 384x640 (no detections), 166.7ms\n",
            "video 1/1 (frame 1599/1670) /content/drive/My Drive/YOUR_FOLDER/VID-20250220-WA0006.mp4: 384x640 (no detections), 159.8ms\n",
            "video 1/1 (frame 1600/1670) /content/drive/My Drive/YOUR_FOLDER/VID-20250220-WA0006.mp4: 384x640 (no detections), 164.6ms\n",
            "video 1/1 (frame 1601/1670) /content/drive/My Drive/YOUR_FOLDER/VID-20250220-WA0006.mp4: 384x640 (no detections), 180.8ms\n",
            "video 1/1 (frame 1602/1670) /content/drive/My Drive/YOUR_FOLDER/VID-20250220-WA0006.mp4: 384x640 (no detections), 156.6ms\n",
            "video 1/1 (frame 1603/1670) /content/drive/My Drive/YOUR_FOLDER/VID-20250220-WA0006.mp4: 384x640 (no detections), 169.6ms\n",
            "video 1/1 (frame 1604/1670) /content/drive/My Drive/YOUR_FOLDER/VID-20250220-WA0006.mp4: 384x640 (no detections), 162.0ms\n",
            "video 1/1 (frame 1605/1670) /content/drive/My Drive/YOUR_FOLDER/VID-20250220-WA0006.mp4: 384x640 (no detections), 165.9ms\n",
            "video 1/1 (frame 1606/1670) /content/drive/My Drive/YOUR_FOLDER/VID-20250220-WA0006.mp4: 384x640 (no detections), 183.3ms\n",
            "video 1/1 (frame 1607/1670) /content/drive/My Drive/YOUR_FOLDER/VID-20250220-WA0006.mp4: 384x640 (no detections), 162.6ms\n",
            "video 1/1 (frame 1608/1670) /content/drive/My Drive/YOUR_FOLDER/VID-20250220-WA0006.mp4: 384x640 1 your_class_name, 162.2ms\n",
            "video 1/1 (frame 1609/1670) /content/drive/My Drive/YOUR_FOLDER/VID-20250220-WA0006.mp4: 384x640 1 your_class_name, 162.3ms\n",
            "video 1/1 (frame 1610/1670) /content/drive/My Drive/YOUR_FOLDER/VID-20250220-WA0006.mp4: 384x640 1 your_class_name, 162.4ms\n",
            "video 1/1 (frame 1611/1670) /content/drive/My Drive/YOUR_FOLDER/VID-20250220-WA0006.mp4: 384x640 1 your_class_name, 158.9ms\n",
            "video 1/1 (frame 1612/1670) /content/drive/My Drive/YOUR_FOLDER/VID-20250220-WA0006.mp4: 384x640 (no detections), 172.8ms\n",
            "video 1/1 (frame 1613/1670) /content/drive/My Drive/YOUR_FOLDER/VID-20250220-WA0006.mp4: 384x640 (no detections), 158.6ms\n",
            "video 1/1 (frame 1614/1670) /content/drive/My Drive/YOUR_FOLDER/VID-20250220-WA0006.mp4: 384x640 (no detections), 163.1ms\n",
            "video 1/1 (frame 1615/1670) /content/drive/My Drive/YOUR_FOLDER/VID-20250220-WA0006.mp4: 384x640 (no detections), 156.6ms\n",
            "video 1/1 (frame 1616/1670) /content/drive/My Drive/YOUR_FOLDER/VID-20250220-WA0006.mp4: 384x640 (no detections), 162.4ms\n",
            "video 1/1 (frame 1617/1670) /content/drive/My Drive/YOUR_FOLDER/VID-20250220-WA0006.mp4: 384x640 (no detections), 158.8ms\n",
            "video 1/1 (frame 1618/1670) /content/drive/My Drive/YOUR_FOLDER/VID-20250220-WA0006.mp4: 384x640 (no detections), 170.7ms\n",
            "video 1/1 (frame 1619/1670) /content/drive/My Drive/YOUR_FOLDER/VID-20250220-WA0006.mp4: 384x640 (no detections), 161.8ms\n",
            "video 1/1 (frame 1620/1670) /content/drive/My Drive/YOUR_FOLDER/VID-20250220-WA0006.mp4: 384x640 (no detections), 164.3ms\n",
            "video 1/1 (frame 1621/1670) /content/drive/My Drive/YOUR_FOLDER/VID-20250220-WA0006.mp4: 384x640 (no detections), 165.6ms\n",
            "video 1/1 (frame 1622/1670) /content/drive/My Drive/YOUR_FOLDER/VID-20250220-WA0006.mp4: 384x640 (no detections), 155.9ms\n",
            "video 1/1 (frame 1623/1670) /content/drive/My Drive/YOUR_FOLDER/VID-20250220-WA0006.mp4: 384x640 (no detections), 183.4ms\n",
            "video 1/1 (frame 1624/1670) /content/drive/My Drive/YOUR_FOLDER/VID-20250220-WA0006.mp4: 384x640 (no detections), 158.1ms\n",
            "video 1/1 (frame 1625/1670) /content/drive/My Drive/YOUR_FOLDER/VID-20250220-WA0006.mp4: 384x640 (no detections), 159.3ms\n",
            "video 1/1 (frame 1626/1670) /content/drive/My Drive/YOUR_FOLDER/VID-20250220-WA0006.mp4: 384x640 (no detections), 161.9ms\n",
            "video 1/1 (frame 1627/1670) /content/drive/My Drive/YOUR_FOLDER/VID-20250220-WA0006.mp4: 384x640 (no detections), 162.5ms\n",
            "video 1/1 (frame 1628/1670) /content/drive/My Drive/YOUR_FOLDER/VID-20250220-WA0006.mp4: 384x640 (no detections), 166.6ms\n",
            "video 1/1 (frame 1629/1670) /content/drive/My Drive/YOUR_FOLDER/VID-20250220-WA0006.mp4: 384x640 (no detections), 168.3ms\n",
            "video 1/1 (frame 1630/1670) /content/drive/My Drive/YOUR_FOLDER/VID-20250220-WA0006.mp4: 384x640 (no detections), 160.1ms\n",
            "video 1/1 (frame 1631/1670) /content/drive/My Drive/YOUR_FOLDER/VID-20250220-WA0006.mp4: 384x640 (no detections), 160.0ms\n",
            "video 1/1 (frame 1632/1670) /content/drive/My Drive/YOUR_FOLDER/VID-20250220-WA0006.mp4: 384x640 (no detections), 164.2ms\n",
            "video 1/1 (frame 1633/1670) /content/drive/My Drive/YOUR_FOLDER/VID-20250220-WA0006.mp4: 384x640 (no detections), 173.8ms\n",
            "video 1/1 (frame 1634/1670) /content/drive/My Drive/YOUR_FOLDER/VID-20250220-WA0006.mp4: 384x640 (no detections), 167.0ms\n",
            "video 1/1 (frame 1635/1670) /content/drive/My Drive/YOUR_FOLDER/VID-20250220-WA0006.mp4: 384x640 (no detections), 164.6ms\n",
            "video 1/1 (frame 1636/1670) /content/drive/My Drive/YOUR_FOLDER/VID-20250220-WA0006.mp4: 384x640 (no detections), 161.9ms\n",
            "video 1/1 (frame 1637/1670) /content/drive/My Drive/YOUR_FOLDER/VID-20250220-WA0006.mp4: 384x640 (no detections), 168.9ms\n",
            "video 1/1 (frame 1638/1670) /content/drive/My Drive/YOUR_FOLDER/VID-20250220-WA0006.mp4: 384x640 (no detections), 155.4ms\n",
            "video 1/1 (frame 1639/1670) /content/drive/My Drive/YOUR_FOLDER/VID-20250220-WA0006.mp4: 384x640 (no detections), 161.5ms\n",
            "video 1/1 (frame 1640/1670) /content/drive/My Drive/YOUR_FOLDER/VID-20250220-WA0006.mp4: 384x640 (no detections), 172.5ms\n",
            "video 1/1 (frame 1641/1670) /content/drive/My Drive/YOUR_FOLDER/VID-20250220-WA0006.mp4: 384x640 (no detections), 163.4ms\n",
            "video 1/1 (frame 1642/1670) /content/drive/My Drive/YOUR_FOLDER/VID-20250220-WA0006.mp4: 384x640 (no detections), 156.5ms\n",
            "video 1/1 (frame 1643/1670) /content/drive/My Drive/YOUR_FOLDER/VID-20250220-WA0006.mp4: 384x640 (no detections), 156.6ms\n",
            "video 1/1 (frame 1644/1670) /content/drive/My Drive/YOUR_FOLDER/VID-20250220-WA0006.mp4: 384x640 (no detections), 164.5ms\n",
            "video 1/1 (frame 1645/1670) /content/drive/My Drive/YOUR_FOLDER/VID-20250220-WA0006.mp4: 384x640 (no detections), 171.3ms\n",
            "video 1/1 (frame 1646/1670) /content/drive/My Drive/YOUR_FOLDER/VID-20250220-WA0006.mp4: 384x640 (no detections), 161.4ms\n",
            "video 1/1 (frame 1647/1670) /content/drive/My Drive/YOUR_FOLDER/VID-20250220-WA0006.mp4: 384x640 (no detections), 253.4ms\n",
            "video 1/1 (frame 1648/1670) /content/drive/My Drive/YOUR_FOLDER/VID-20250220-WA0006.mp4: 384x640 (no detections), 242.2ms\n",
            "video 1/1 (frame 1649/1670) /content/drive/My Drive/YOUR_FOLDER/VID-20250220-WA0006.mp4: 384x640 (no detections), 242.9ms\n",
            "video 1/1 (frame 1650/1670) /content/drive/My Drive/YOUR_FOLDER/VID-20250220-WA0006.mp4: 384x640 (no detections), 235.8ms\n",
            "video 1/1 (frame 1651/1670) /content/drive/My Drive/YOUR_FOLDER/VID-20250220-WA0006.mp4: 384x640 (no detections), 236.5ms\n",
            "video 1/1 (frame 1652/1670) /content/drive/My Drive/YOUR_FOLDER/VID-20250220-WA0006.mp4: 384x640 (no detections), 254.1ms\n",
            "video 1/1 (frame 1653/1670) /content/drive/My Drive/YOUR_FOLDER/VID-20250220-WA0006.mp4: 384x640 (no detections), 245.4ms\n",
            "video 1/1 (frame 1654/1670) /content/drive/My Drive/YOUR_FOLDER/VID-20250220-WA0006.mp4: 384x640 (no detections), 251.5ms\n",
            "video 1/1 (frame 1655/1670) /content/drive/My Drive/YOUR_FOLDER/VID-20250220-WA0006.mp4: 384x640 (no detections), 235.3ms\n",
            "video 1/1 (frame 1656/1670) /content/drive/My Drive/YOUR_FOLDER/VID-20250220-WA0006.mp4: 384x640 (no detections), 230.5ms\n",
            "video 1/1 (frame 1657/1670) /content/drive/My Drive/YOUR_FOLDER/VID-20250220-WA0006.mp4: 384x640 (no detections), 269.7ms\n",
            "video 1/1 (frame 1658/1670) /content/drive/My Drive/YOUR_FOLDER/VID-20250220-WA0006.mp4: 384x640 (no detections), 259.0ms\n",
            "video 1/1 (frame 1659/1670) /content/drive/My Drive/YOUR_FOLDER/VID-20250220-WA0006.mp4: 384x640 (no detections), 257.4ms\n",
            "video 1/1 (frame 1660/1670) /content/drive/My Drive/YOUR_FOLDER/VID-20250220-WA0006.mp4: 384x640 (no detections), 245.9ms\n",
            "video 1/1 (frame 1661/1670) /content/drive/My Drive/YOUR_FOLDER/VID-20250220-WA0006.mp4: 384x640 (no detections), 220.2ms\n",
            "video 1/1 (frame 1662/1670) /content/drive/My Drive/YOUR_FOLDER/VID-20250220-WA0006.mp4: 384x640 (no detections), 157.6ms\n",
            "video 1/1 (frame 1663/1670) /content/drive/My Drive/YOUR_FOLDER/VID-20250220-WA0006.mp4: 384x640 (no detections), 157.0ms\n",
            "video 1/1 (frame 1664/1670) /content/drive/My Drive/YOUR_FOLDER/VID-20250220-WA0006.mp4: 384x640 (no detections), 159.1ms\n",
            "video 1/1 (frame 1665/1670) /content/drive/My Drive/YOUR_FOLDER/VID-20250220-WA0006.mp4: 384x640 (no detections), 156.8ms\n",
            "video 1/1 (frame 1666/1670) /content/drive/My Drive/YOUR_FOLDER/VID-20250220-WA0006.mp4: 384x640 (no detections), 170.9ms\n",
            "video 1/1 (frame 1667/1670) /content/drive/My Drive/YOUR_FOLDER/VID-20250220-WA0006.mp4: 384x640 (no detections), 166.9ms\n",
            "video 1/1 (frame 1668/1670) /content/drive/My Drive/YOUR_FOLDER/VID-20250220-WA0006.mp4: 384x640 (no detections), 157.5ms\n",
            "video 1/1 (frame 1669/1670) /content/drive/My Drive/YOUR_FOLDER/VID-20250220-WA0006.mp4: 384x640 (no detections), 160.2ms\n",
            "video 1/1 (frame 1670/1670) /content/drive/My Drive/YOUR_FOLDER/VID-20250220-WA0006.mp4: 384x640 (no detections), 159.2ms\n",
            "Speed: 3.8ms preprocess, 178.2ms inference, 1.0ms postprocess per image at shape (1, 3, 384, 640)\n",
            "Results saved to \u001b[1mruns/detect/predict\u001b[0m\n",
            "Processed video saved in: runs/detect/predict\n"
          ]
        }
      ]
    }
  ]
}